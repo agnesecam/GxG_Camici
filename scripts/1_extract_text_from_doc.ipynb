{
 "cells": [
  {
   "cell_type": "code",
   "execution_count": 2,
   "id": "2c6ed6a9-e499-4aa4-9ecb-c0718ab6d799",
   "metadata": {},
   "outputs": [
    {
     "name": "stderr",
     "output_type": "stream",
     "text": [
      "Processing training: 100%|███████████████████████████████████████████████████████████████████████████████████████████| 5/5 [00:20<00:00,  4.05s/it]\n",
      "Processing test: 100%|███████████████████████████████████████████████████████████████████████████████████████████████| 5/5 [00:24<00:00,  4.97s/it]"
     ]
    },
    {
     "name": "stdout",
     "output_type": "stream",
     "text": [
      "✅ Testi estratti e salvati in ../data/texts/\n"
     ]
    },
    {
     "name": "stderr",
     "output_type": "stream",
     "text": [
      "\n"
     ]
    }
   ],
   "source": [
    "import os\n",
    "import re\n",
    "from tqdm import tqdm\n",
    "\n",
    "# Percorsi input\n",
    "train_folder = \"../data/dataset_originale/training/\"\n",
    "test_folder = \"../data/dataset_originale/test/\"\n",
    "\n",
    "# Percorso output\n",
    "base_output_dir = \"../data/texts/\"\n",
    "train_output = os.path.join(base_output_dir, \"training_texts\")\n",
    "test_output = os.path.join(base_output_dir, \"test_texts\")\n",
    "\n",
    "# Generi previsti\n",
    "genres = [\"children\", \"diary\", \"journalism\", \"twitter\", \"youtube\"]\n",
    "\n",
    "# Crea directory di output\n",
    "for output_dir in [train_output, test_output]:\n",
    "    for genre in genres:\n",
    "        os.makedirs(os.path.join(output_dir, genre), exist_ok=True)\n",
    "\n",
    "# Regex per i blocchi <doc>\n",
    "doc_pattern = re.compile(r'<doc id=\"(\\d+)\" genre=\"(.*?)\" gender=\"(.*?)\">(.*?)</doc>', re.DOTALL)\n",
    "\n",
    "def extract_and_save_texts(input_folder, output_folder, dataset_type):\n",
    "    files = [f for f in os.listdir(input_folder) if f.endswith(\".txt\")]\n",
    "\n",
    "    for file_name in tqdm(files, desc=f\"Processing {dataset_type}\"):\n",
    "        file_path = os.path.join(input_folder, file_name)\n",
    "\n",
    "        with open(file_path, \"r\", encoding=\"utf-8\") as f:\n",
    "            content = f.read()\n",
    "\n",
    "        for match in doc_pattern.finditer(content):\n",
    "            doc_id, genre, gender, text = match.groups()\n",
    "            text = text.strip().replace(\"\\n\", \" \")\n",
    "\n",
    "            if genre not in genres:\n",
    "                continue  # Salta generi non previsti\n",
    "\n",
    "            # Costruzione percorso output\n",
    "            gender_label = gender if gender in [\"M\", \"F\"] else \"unknown\"\n",
    "            output_path = os.path.join(output_folder, genre)\n",
    "            filename = f\"{dataset_type}#{doc_id}#{genre}#{gender_label}.txt\"\n",
    "\n",
    "            with open(os.path.join(output_path, filename), \"w\", encoding=\"utf-8\") as out_file:\n",
    "                out_file.write(text)\n",
    "\n",
    "# Avvio estrazione\n",
    "if __name__ == \"__main__\":\n",
    "    extract_and_save_texts(train_folder, train_output, \"training\")\n",
    "    extract_and_save_texts(test_folder, test_output, \"test\")\n",
    "    print(\"✅ Testi estratti e salvati in ../data/texts_from_docs/\")"
   ]
  }
 ],
 "metadata": {
  "kernelspec": {
   "display_name": "Python 3 (ipykernel)",
   "language": "python",
   "name": "python3"
  },
  "language_info": {
   "codemirror_mode": {
    "name": "ipython",
    "version": 3
   },
   "file_extension": ".py",
   "mimetype": "text/x-python",
   "name": "python",
   "nbconvert_exporter": "python",
   "pygments_lexer": "ipython3",
   "version": "3.13.1"
  }
 },
 "nbformat": 4,
 "nbformat_minor": 5
}
