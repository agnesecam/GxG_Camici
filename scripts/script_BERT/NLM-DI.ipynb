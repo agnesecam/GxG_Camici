{
 "cells": [
  {
   "cell_type": "markdown",
   "id": "211b3008-182e-4603-b393-cc3237862a25",
   "metadata": {},
   "source": [
    "# Fase 4 - NLM (in-genre classification)\n",
    "\n",
    "Dopo aver scelto un Neural Language Model tra quelli visti a lezione, condurre un processo di fine-tuning per 5 epoche. Riportare i seguenti risultati:\n",
    "- riportare le curve di loss di training e di validation;\n",
    "- per ogni epoca valutare il sistema sul validation set;\n",
    "- alla fine dell’ultima epoca, riportare la valutazione del sistema sul test set ufficiale."
   ]
  },
  {
   "cell_type": "markdown",
   "id": "5f202beb-5550-4af3-82ec-ca2252727425",
   "metadata": {},
   "source": [
    "Dal task GxG Evalita 2018:\n",
    "\n",
    "\"Given a (collection of) text(s) from a specific genre, the gender of the author has to be predicted. The task is cast as a binary classification task, with gender represented as F (female) or M (male). Gender prediction will be done in two ways: \n",
    "\n",
    "1. **using a model which has been trained on the same genre**\n",
    "2. using a model which has been trained on anything but that genre.\"\n",
    "\n",
    "In questo file utilizzeremo un modello allenato sullo stesso genere su cui poi verrà testato."
   ]
  },
  {
   "cell_type": "markdown",
   "id": "cb016f4d-b91a-43ed-b7ec-acd004130e28",
   "metadata": {},
   "source": [
    "## Installazione e importazione librerie NLP"
   ]
  },
  {
   "cell_type": "code",
   "execution_count": 1,
   "id": "f469164b-6aef-4414-9cbf-81a1d2b4b687",
   "metadata": {},
   "outputs": [
    {
     "name": "stdout",
     "output_type": "stream",
     "text": [
      "Requirement already satisfied: datasets in c:\\users\\agnes\\appdata\\local\\programs\\python\\python313\\lib\\site-packages (3.5.0)\n",
      "Requirement already satisfied: filelock in c:\\users\\agnes\\appdata\\local\\programs\\python\\python313\\lib\\site-packages (from datasets) (3.17.0)\n",
      "Requirement already satisfied: numpy>=1.17 in c:\\users\\agnes\\appdata\\local\\programs\\python\\python313\\lib\\site-packages (from datasets) (2.2.2)\n",
      "Requirement already satisfied: pyarrow>=15.0.0 in c:\\users\\agnes\\appdata\\local\\programs\\python\\python313\\lib\\site-packages (from datasets) (19.0.1)\n",
      "Requirement already satisfied: dill<0.3.9,>=0.3.0 in c:\\users\\agnes\\appdata\\local\\programs\\python\\python313\\lib\\site-packages (from datasets) (0.3.8)\n",
      "Requirement already satisfied: pandas in c:\\users\\agnes\\appdata\\local\\programs\\python\\python313\\lib\\site-packages (from datasets) (2.2.3)\n",
      "Requirement already satisfied: requests>=2.32.2 in c:\\users\\agnes\\appdata\\local\\programs\\python\\python313\\lib\\site-packages (from datasets) (2.32.3)\n",
      "Requirement already satisfied: tqdm>=4.66.3 in c:\\users\\agnes\\appdata\\local\\programs\\python\\python313\\lib\\site-packages (from datasets) (4.67.1)\n",
      "Requirement already satisfied: xxhash in c:\\users\\agnes\\appdata\\local\\programs\\python\\python313\\lib\\site-packages (from datasets) (3.5.0)\n",
      "Requirement already satisfied: multiprocess<0.70.17 in c:\\users\\agnes\\appdata\\local\\programs\\python\\python313\\lib\\site-packages (from datasets) (0.70.16)\n",
      "Requirement already satisfied: fsspec<=2024.12.0,>=2023.1.0 in c:\\users\\agnes\\appdata\\local\\programs\\python\\python313\\lib\\site-packages (from fsspec[http]<=2024.12.0,>=2023.1.0->datasets) (2024.12.0)\n",
      "Requirement already satisfied: aiohttp in c:\\users\\agnes\\appdata\\local\\programs\\python\\python313\\lib\\site-packages (from datasets) (3.11.16)\n",
      "Requirement already satisfied: huggingface-hub>=0.24.0 in c:\\users\\agnes\\appdata\\local\\programs\\python\\python313\\lib\\site-packages (from datasets) (0.30.1)\n",
      "Requirement already satisfied: packaging in c:\\users\\agnes\\appdata\\roaming\\python\\python313\\site-packages (from datasets) (24.2)\n",
      "Requirement already satisfied: pyyaml>=5.1 in c:\\users\\agnes\\appdata\\local\\programs\\python\\python313\\lib\\site-packages (from datasets) (6.0.2)\n",
      "Requirement already satisfied: aiohappyeyeballs>=2.3.0 in c:\\users\\agnes\\appdata\\local\\programs\\python\\python313\\lib\\site-packages (from aiohttp->datasets) (2.6.1)\n",
      "Requirement already satisfied: aiosignal>=1.1.2 in c:\\users\\agnes\\appdata\\local\\programs\\python\\python313\\lib\\site-packages (from aiohttp->datasets) (1.3.2)\n",
      "Requirement already satisfied: attrs>=17.3.0 in c:\\users\\agnes\\appdata\\local\\programs\\python\\python313\\lib\\site-packages (from aiohttp->datasets) (24.3.0)\n",
      "Requirement already satisfied: frozenlist>=1.1.1 in c:\\users\\agnes\\appdata\\local\\programs\\python\\python313\\lib\\site-packages (from aiohttp->datasets) (1.5.0)\n",
      "Requirement already satisfied: multidict<7.0,>=4.5 in c:\\users\\agnes\\appdata\\local\\programs\\python\\python313\\lib\\site-packages (from aiohttp->datasets) (6.3.1)\n",
      "Requirement already satisfied: propcache>=0.2.0 in c:\\users\\agnes\\appdata\\local\\programs\\python\\python313\\lib\\site-packages (from aiohttp->datasets) (0.3.1)\n",
      "Requirement already satisfied: yarl<2.0,>=1.17.0 in c:\\users\\agnes\\appdata\\local\\programs\\python\\python313\\lib\\site-packages (from aiohttp->datasets) (1.18.3)\n",
      "Requirement already satisfied: typing-extensions>=3.7.4.3 in c:\\users\\agnes\\appdata\\local\\programs\\python\\python313\\lib\\site-packages (from huggingface-hub>=0.24.0->datasets) (4.12.2)\n",
      "Requirement already satisfied: charset-normalizer<4,>=2 in c:\\users\\agnes\\appdata\\local\\programs\\python\\python313\\lib\\site-packages (from requests>=2.32.2->datasets) (3.4.1)\n",
      "Requirement already satisfied: idna<4,>=2.5 in c:\\users\\agnes\\appdata\\local\\programs\\python\\python313\\lib\\site-packages (from requests>=2.32.2->datasets) (3.10)\n",
      "Requirement already satisfied: urllib3<3,>=1.21.1 in c:\\users\\agnes\\appdata\\local\\programs\\python\\python313\\lib\\site-packages (from requests>=2.32.2->datasets) (2.3.0)\n",
      "Requirement already satisfied: certifi>=2017.4.17 in c:\\users\\agnes\\appdata\\local\\programs\\python\\python313\\lib\\site-packages (from requests>=2.32.2->datasets) (2024.12.14)\n",
      "Requirement already satisfied: colorama in c:\\users\\agnes\\appdata\\roaming\\python\\python313\\site-packages (from tqdm>=4.66.3->datasets) (0.4.6)\n",
      "Requirement already satisfied: python-dateutil>=2.8.2 in c:\\users\\agnes\\appdata\\roaming\\python\\python313\\site-packages (from pandas->datasets) (2.9.0.post0)\n",
      "Requirement already satisfied: pytz>=2020.1 in c:\\users\\agnes\\appdata\\local\\programs\\python\\python313\\lib\\site-packages (from pandas->datasets) (2024.2)\n",
      "Requirement already satisfied: tzdata>=2022.7 in c:\\users\\agnes\\appdata\\local\\programs\\python\\python313\\lib\\site-packages (from pandas->datasets) (2025.1)\n",
      "Requirement already satisfied: six>=1.5 in c:\\users\\agnes\\appdata\\roaming\\python\\python313\\site-packages (from python-dateutil>=2.8.2->pandas->datasets) (1.17.0)\n"
     ]
    },
    {
     "name": "stderr",
     "output_type": "stream",
     "text": [
      "\n",
      "[notice] A new release of pip is available: 24.3.1 -> 25.1.1\n",
      "[notice] To update, run: python.exe -m pip install --upgrade pip\n"
     ]
    },
    {
     "name": "stdout",
     "output_type": "stream",
     "text": [
      "Requirement already satisfied: evaluate in c:\\users\\agnes\\appdata\\local\\programs\\python\\python313\\lib\\site-packages (0.4.3)\n",
      "Requirement already satisfied: datasets>=2.0.0 in c:\\users\\agnes\\appdata\\local\\programs\\python\\python313\\lib\\site-packages (from evaluate) (3.5.0)\n",
      "Requirement already satisfied: numpy>=1.17 in c:\\users\\agnes\\appdata\\local\\programs\\python\\python313\\lib\\site-packages (from evaluate) (2.2.2)\n",
      "Requirement already satisfied: dill in c:\\users\\agnes\\appdata\\local\\programs\\python\\python313\\lib\\site-packages (from evaluate) (0.3.8)\n",
      "Requirement already satisfied: pandas in c:\\users\\agnes\\appdata\\local\\programs\\python\\python313\\lib\\site-packages (from evaluate) (2.2.3)\n",
      "Requirement already satisfied: requests>=2.19.0 in c:\\users\\agnes\\appdata\\local\\programs\\python\\python313\\lib\\site-packages (from evaluate) (2.32.3)\n",
      "Requirement already satisfied: tqdm>=4.62.1 in c:\\users\\agnes\\appdata\\local\\programs\\python\\python313\\lib\\site-packages (from evaluate) (4.67.1)\n",
      "Requirement already satisfied: xxhash in c:\\users\\agnes\\appdata\\local\\programs\\python\\python313\\lib\\site-packages (from evaluate) (3.5.0)\n",
      "Requirement already satisfied: multiprocess in c:\\users\\agnes\\appdata\\local\\programs\\python\\python313\\lib\\site-packages (from evaluate) (0.70.16)\n",
      "Requirement already satisfied: fsspec>=2021.05.0 in c:\\users\\agnes\\appdata\\local\\programs\\python\\python313\\lib\\site-packages (from fsspec[http]>=2021.05.0->evaluate) (2024.12.0)\n",
      "Requirement already satisfied: huggingface-hub>=0.7.0 in c:\\users\\agnes\\appdata\\local\\programs\\python\\python313\\lib\\site-packages (from evaluate) (0.30.1)\n",
      "Requirement already satisfied: packaging in c:\\users\\agnes\\appdata\\roaming\\python\\python313\\site-packages (from evaluate) (24.2)\n",
      "Requirement already satisfied: filelock in c:\\users\\agnes\\appdata\\local\\programs\\python\\python313\\lib\\site-packages (from datasets>=2.0.0->evaluate) (3.17.0)\n",
      "Requirement already satisfied: pyarrow>=15.0.0 in c:\\users\\agnes\\appdata\\local\\programs\\python\\python313\\lib\\site-packages (from datasets>=2.0.0->evaluate) (19.0.1)\n",
      "Requirement already satisfied: aiohttp in c:\\users\\agnes\\appdata\\local\\programs\\python\\python313\\lib\\site-packages (from datasets>=2.0.0->evaluate) (3.11.16)\n",
      "Requirement already satisfied: pyyaml>=5.1 in c:\\users\\agnes\\appdata\\local\\programs\\python\\python313\\lib\\site-packages (from datasets>=2.0.0->evaluate) (6.0.2)\n",
      "Requirement already satisfied: typing-extensions>=3.7.4.3 in c:\\users\\agnes\\appdata\\local\\programs\\python\\python313\\lib\\site-packages (from huggingface-hub>=0.7.0->evaluate) (4.12.2)\n",
      "Requirement already satisfied: charset-normalizer<4,>=2 in c:\\users\\agnes\\appdata\\local\\programs\\python\\python313\\lib\\site-packages (from requests>=2.19.0->evaluate) (3.4.1)\n",
      "Requirement already satisfied: idna<4,>=2.5 in c:\\users\\agnes\\appdata\\local\\programs\\python\\python313\\lib\\site-packages (from requests>=2.19.0->evaluate) (3.10)\n",
      "Requirement already satisfied: urllib3<3,>=1.21.1 in c:\\users\\agnes\\appdata\\local\\programs\\python\\python313\\lib\\site-packages (from requests>=2.19.0->evaluate) (2.3.0)\n",
      "Requirement already satisfied: certifi>=2017.4.17 in c:\\users\\agnes\\appdata\\local\\programs\\python\\python313\\lib\\site-packages (from requests>=2.19.0->evaluate) (2024.12.14)\n",
      "Requirement already satisfied: colorama in c:\\users\\agnes\\appdata\\roaming\\python\\python313\\site-packages (from tqdm>=4.62.1->evaluate) (0.4.6)\n",
      "Requirement already satisfied: python-dateutil>=2.8.2 in c:\\users\\agnes\\appdata\\roaming\\python\\python313\\site-packages (from pandas->evaluate) (2.9.0.post0)\n",
      "Requirement already satisfied: pytz>=2020.1 in c:\\users\\agnes\\appdata\\local\\programs\\python\\python313\\lib\\site-packages (from pandas->evaluate) (2024.2)\n",
      "Requirement already satisfied: tzdata>=2022.7 in c:\\users\\agnes\\appdata\\local\\programs\\python\\python313\\lib\\site-packages (from pandas->evaluate) (2025.1)\n",
      "Requirement already satisfied: aiohappyeyeballs>=2.3.0 in c:\\users\\agnes\\appdata\\local\\programs\\python\\python313\\lib\\site-packages (from aiohttp->datasets>=2.0.0->evaluate) (2.6.1)\n",
      "Requirement already satisfied: aiosignal>=1.1.2 in c:\\users\\agnes\\appdata\\local\\programs\\python\\python313\\lib\\site-packages (from aiohttp->datasets>=2.0.0->evaluate) (1.3.2)\n",
      "Requirement already satisfied: attrs>=17.3.0 in c:\\users\\agnes\\appdata\\local\\programs\\python\\python313\\lib\\site-packages (from aiohttp->datasets>=2.0.0->evaluate) (24.3.0)\n",
      "Requirement already satisfied: frozenlist>=1.1.1 in c:\\users\\agnes\\appdata\\local\\programs\\python\\python313\\lib\\site-packages (from aiohttp->datasets>=2.0.0->evaluate) (1.5.0)\n",
      "Requirement already satisfied: multidict<7.0,>=4.5 in c:\\users\\agnes\\appdata\\local\\programs\\python\\python313\\lib\\site-packages (from aiohttp->datasets>=2.0.0->evaluate) (6.3.1)\n",
      "Requirement already satisfied: propcache>=0.2.0 in c:\\users\\agnes\\appdata\\local\\programs\\python\\python313\\lib\\site-packages (from aiohttp->datasets>=2.0.0->evaluate) (0.3.1)\n",
      "Requirement already satisfied: yarl<2.0,>=1.17.0 in c:\\users\\agnes\\appdata\\local\\programs\\python\\python313\\lib\\site-packages (from aiohttp->datasets>=2.0.0->evaluate) (1.18.3)\n",
      "Requirement already satisfied: six>=1.5 in c:\\users\\agnes\\appdata\\roaming\\python\\python313\\site-packages (from python-dateutil>=2.8.2->pandas->evaluate) (1.17.0)\n"
     ]
    },
    {
     "name": "stderr",
     "output_type": "stream",
     "text": [
      "\n",
      "[notice] A new release of pip is available: 24.3.1 -> 25.1.1\n",
      "[notice] To update, run: python.exe -m pip install --upgrade pip\n"
     ]
    },
    {
     "name": "stdout",
     "output_type": "stream",
     "text": [
      "Requirement already satisfied: transformers in c:\\users\\agnes\\appdata\\local\\programs\\python\\python313\\lib\\site-packages (4.50.3)\n",
      "Requirement already satisfied: filelock in c:\\users\\agnes\\appdata\\local\\programs\\python\\python313\\lib\\site-packages (from transformers) (3.17.0)\n",
      "Requirement already satisfied: huggingface-hub<1.0,>=0.26.0 in c:\\users\\agnes\\appdata\\local\\programs\\python\\python313\\lib\\site-packages (from transformers) (0.30.1)\n",
      "Requirement already satisfied: numpy>=1.17 in c:\\users\\agnes\\appdata\\local\\programs\\python\\python313\\lib\\site-packages (from transformers) (2.2.2)\n",
      "Requirement already satisfied: packaging>=20.0 in c:\\users\\agnes\\appdata\\roaming\\python\\python313\\site-packages (from transformers) (24.2)\n",
      "Requirement already satisfied: pyyaml>=5.1 in c:\\users\\agnes\\appdata\\local\\programs\\python\\python313\\lib\\site-packages (from transformers) (6.0.2)\n",
      "Requirement already satisfied: regex!=2019.12.17 in c:\\users\\agnes\\appdata\\local\\programs\\python\\python313\\lib\\site-packages (from transformers) (2024.11.6)\n",
      "Requirement already satisfied: requests in c:\\users\\agnes\\appdata\\local\\programs\\python\\python313\\lib\\site-packages (from transformers) (2.32.3)\n",
      "Requirement already satisfied: tokenizers<0.22,>=0.21 in c:\\users\\agnes\\appdata\\local\\programs\\python\\python313\\lib\\site-packages (from transformers) (0.21.1)\n",
      "Requirement already satisfied: safetensors>=0.4.3 in c:\\users\\agnes\\appdata\\local\\programs\\python\\python313\\lib\\site-packages (from transformers) (0.5.3)\n",
      "Requirement already satisfied: tqdm>=4.27 in c:\\users\\agnes\\appdata\\local\\programs\\python\\python313\\lib\\site-packages (from transformers) (4.67.1)\n",
      "Requirement already satisfied: fsspec>=2023.5.0 in c:\\users\\agnes\\appdata\\local\\programs\\python\\python313\\lib\\site-packages (from huggingface-hub<1.0,>=0.26.0->transformers) (2024.12.0)\n",
      "Requirement already satisfied: typing-extensions>=3.7.4.3 in c:\\users\\agnes\\appdata\\local\\programs\\python\\python313\\lib\\site-packages (from huggingface-hub<1.0,>=0.26.0->transformers) (4.12.2)\n",
      "Requirement already satisfied: colorama in c:\\users\\agnes\\appdata\\roaming\\python\\python313\\site-packages (from tqdm>=4.27->transformers) (0.4.6)\n",
      "Requirement already satisfied: charset-normalizer<4,>=2 in c:\\users\\agnes\\appdata\\local\\programs\\python\\python313\\lib\\site-packages (from requests->transformers) (3.4.1)\n",
      "Requirement already satisfied: idna<4,>=2.5 in c:\\users\\agnes\\appdata\\local\\programs\\python\\python313\\lib\\site-packages (from requests->transformers) (3.10)\n",
      "Requirement already satisfied: urllib3<3,>=1.21.1 in c:\\users\\agnes\\appdata\\local\\programs\\python\\python313\\lib\\site-packages (from requests->transformers) (2.3.0)\n",
      "Requirement already satisfied: certifi>=2017.4.17 in c:\\users\\agnes\\appdata\\local\\programs\\python\\python313\\lib\\site-packages (from requests->transformers) (2024.12.14)\n"
     ]
    },
    {
     "name": "stderr",
     "output_type": "stream",
     "text": [
      "\n",
      "[notice] A new release of pip is available: 24.3.1 -> 25.1.1\n",
      "[notice] To update, run: python.exe -m pip install --upgrade pip\n"
     ]
    },
    {
     "name": "stdout",
     "output_type": "stream",
     "text": [
      "Requirement already satisfied: accelerate in c:\\users\\agnes\\appdata\\local\\programs\\python\\python313\\lib\\site-packages (1.6.0)\n",
      "Requirement already satisfied: numpy<3.0.0,>=1.17 in c:\\users\\agnes\\appdata\\local\\programs\\python\\python313\\lib\\site-packages (from accelerate) (2.2.2)\n",
      "Requirement already satisfied: packaging>=20.0 in c:\\users\\agnes\\appdata\\roaming\\python\\python313\\site-packages (from accelerate) (24.2)\n",
      "Requirement already satisfied: psutil in c:\\users\\agnes\\appdata\\roaming\\python\\python313\\site-packages (from accelerate) (6.1.1)\n",
      "Requirement already satisfied: pyyaml in c:\\users\\agnes\\appdata\\local\\programs\\python\\python313\\lib\\site-packages (from accelerate) (6.0.2)\n",
      "Requirement already satisfied: torch>=2.0.0 in c:\\users\\agnes\\appdata\\local\\programs\\python\\python313\\lib\\site-packages (from accelerate) (2.6.0)\n",
      "Requirement already satisfied: huggingface-hub>=0.21.0 in c:\\users\\agnes\\appdata\\local\\programs\\python\\python313\\lib\\site-packages (from accelerate) (0.30.1)\n",
      "Requirement already satisfied: safetensors>=0.4.3 in c:\\users\\agnes\\appdata\\local\\programs\\python\\python313\\lib\\site-packages (from accelerate) (0.5.3)\n",
      "Requirement already satisfied: filelock in c:\\users\\agnes\\appdata\\local\\programs\\python\\python313\\lib\\site-packages (from huggingface-hub>=0.21.0->accelerate) (3.17.0)\n",
      "Requirement already satisfied: fsspec>=2023.5.0 in c:\\users\\agnes\\appdata\\local\\programs\\python\\python313\\lib\\site-packages (from huggingface-hub>=0.21.0->accelerate) (2024.12.0)\n",
      "Requirement already satisfied: requests in c:\\users\\agnes\\appdata\\local\\programs\\python\\python313\\lib\\site-packages (from huggingface-hub>=0.21.0->accelerate) (2.32.3)\n",
      "Requirement already satisfied: tqdm>=4.42.1 in c:\\users\\agnes\\appdata\\local\\programs\\python\\python313\\lib\\site-packages (from huggingface-hub>=0.21.0->accelerate) (4.67.1)\n",
      "Requirement already satisfied: typing-extensions>=3.7.4.3 in c:\\users\\agnes\\appdata\\local\\programs\\python\\python313\\lib\\site-packages (from huggingface-hub>=0.21.0->accelerate) (4.12.2)\n",
      "Requirement already satisfied: networkx in c:\\users\\agnes\\appdata\\local\\programs\\python\\python313\\lib\\site-packages (from torch>=2.0.0->accelerate) (3.4.2)\n",
      "Requirement already satisfied: jinja2 in c:\\users\\agnes\\appdata\\local\\programs\\python\\python313\\lib\\site-packages (from torch>=2.0.0->accelerate) (3.1.5)\n",
      "Requirement already satisfied: setuptools in c:\\users\\agnes\\appdata\\local\\programs\\python\\python313\\lib\\site-packages (from torch>=2.0.0->accelerate) (75.8.0)\n",
      "Requirement already satisfied: sympy==1.13.1 in c:\\users\\agnes\\appdata\\local\\programs\\python\\python313\\lib\\site-packages (from torch>=2.0.0->accelerate) (1.13.1)\n",
      "Requirement already satisfied: mpmath<1.4,>=1.1.0 in c:\\users\\agnes\\appdata\\local\\programs\\python\\python313\\lib\\site-packages (from sympy==1.13.1->torch>=2.0.0->accelerate) (1.3.0)\n",
      "Requirement already satisfied: colorama in c:\\users\\agnes\\appdata\\roaming\\python\\python313\\site-packages (from tqdm>=4.42.1->huggingface-hub>=0.21.0->accelerate) (0.4.6)\n",
      "Requirement already satisfied: MarkupSafe>=2.0 in c:\\users\\agnes\\appdata\\local\\programs\\python\\python313\\lib\\site-packages (from jinja2->torch>=2.0.0->accelerate) (3.0.2)\n",
      "Requirement already satisfied: charset-normalizer<4,>=2 in c:\\users\\agnes\\appdata\\local\\programs\\python\\python313\\lib\\site-packages (from requests->huggingface-hub>=0.21.0->accelerate) (3.4.1)\n",
      "Requirement already satisfied: idna<4,>=2.5 in c:\\users\\agnes\\appdata\\local\\programs\\python\\python313\\lib\\site-packages (from requests->huggingface-hub>=0.21.0->accelerate) (3.10)\n",
      "Requirement already satisfied: urllib3<3,>=1.21.1 in c:\\users\\agnes\\appdata\\local\\programs\\python\\python313\\lib\\site-packages (from requests->huggingface-hub>=0.21.0->accelerate) (2.3.0)\n",
      "Requirement already satisfied: certifi>=2017.4.17 in c:\\users\\agnes\\appdata\\local\\programs\\python\\python313\\lib\\site-packages (from requests->huggingface-hub>=0.21.0->accelerate) (2024.12.14)\n"
     ]
    },
    {
     "name": "stderr",
     "output_type": "stream",
     "text": [
      "\n",
      "[notice] A new release of pip is available: 24.3.1 -> 25.1.1\n",
      "[notice] To update, run: python.exe -m pip install --upgrade pip\n"
     ]
    },
    {
     "name": "stdout",
     "output_type": "stream",
     "text": [
      "Requirement already satisfied: seaborn in c:\\users\\agnes\\appdata\\local\\programs\\python\\python313\\lib\\site-packages (0.13.2)\n",
      "Requirement already satisfied: numpy!=1.24.0,>=1.20 in c:\\users\\agnes\\appdata\\local\\programs\\python\\python313\\lib\\site-packages (from seaborn) (2.2.2)\n",
      "Requirement already satisfied: pandas>=1.2 in c:\\users\\agnes\\appdata\\local\\programs\\python\\python313\\lib\\site-packages (from seaborn) (2.2.3)\n",
      "Requirement already satisfied: matplotlib!=3.6.1,>=3.4 in c:\\users\\agnes\\appdata\\local\\programs\\python\\python313\\lib\\site-packages (from seaborn) (3.10.0)\n",
      "Requirement already satisfied: contourpy>=1.0.1 in c:\\users\\agnes\\appdata\\local\\programs\\python\\python313\\lib\\site-packages (from matplotlib!=3.6.1,>=3.4->seaborn) (1.3.1)\n",
      "Requirement already satisfied: cycler>=0.10 in c:\\users\\agnes\\appdata\\local\\programs\\python\\python313\\lib\\site-packages (from matplotlib!=3.6.1,>=3.4->seaborn) (0.12.1)\n",
      "Requirement already satisfied: fonttools>=4.22.0 in c:\\users\\agnes\\appdata\\local\\programs\\python\\python313\\lib\\site-packages (from matplotlib!=3.6.1,>=3.4->seaborn) (4.55.5)\n",
      "Requirement already satisfied: kiwisolver>=1.3.1 in c:\\users\\agnes\\appdata\\local\\programs\\python\\python313\\lib\\site-packages (from matplotlib!=3.6.1,>=3.4->seaborn) (1.4.8)\n",
      "Requirement already satisfied: packaging>=20.0 in c:\\users\\agnes\\appdata\\roaming\\python\\python313\\site-packages (from matplotlib!=3.6.1,>=3.4->seaborn) (24.2)\n",
      "Requirement already satisfied: pillow>=8 in c:\\users\\agnes\\appdata\\local\\programs\\python\\python313\\lib\\site-packages (from matplotlib!=3.6.1,>=3.4->seaborn) (11.1.0)\n",
      "Requirement already satisfied: pyparsing>=2.3.1 in c:\\users\\agnes\\appdata\\local\\programs\\python\\python313\\lib\\site-packages (from matplotlib!=3.6.1,>=3.4->seaborn) (3.2.1)\n",
      "Requirement already satisfied: python-dateutil>=2.7 in c:\\users\\agnes\\appdata\\roaming\\python\\python313\\site-packages (from matplotlib!=3.6.1,>=3.4->seaborn) (2.9.0.post0)\n",
      "Requirement already satisfied: pytz>=2020.1 in c:\\users\\agnes\\appdata\\local\\programs\\python\\python313\\lib\\site-packages (from pandas>=1.2->seaborn) (2024.2)\n",
      "Requirement already satisfied: tzdata>=2022.7 in c:\\users\\agnes\\appdata\\local\\programs\\python\\python313\\lib\\site-packages (from pandas>=1.2->seaborn) (2025.1)\n",
      "Requirement already satisfied: six>=1.5 in c:\\users\\agnes\\appdata\\roaming\\python\\python313\\site-packages (from python-dateutil>=2.7->matplotlib!=3.6.1,>=3.4->seaborn) (1.17.0)\n"
     ]
    },
    {
     "name": "stderr",
     "output_type": "stream",
     "text": [
      "\n",
      "[notice] A new release of pip is available: 24.3.1 -> 25.1.1\n",
      "[notice] To update, run: python.exe -m pip install --upgrade pip\n"
     ]
    }
   ],
   "source": [
    "!pip install datasets\n",
    "! pip install evaluate\n",
    "! pip install transformers\n",
    "! pip install accelerate\n",
    "\n",
    "!pip install seaborn"
   ]
  },
  {
   "cell_type": "code",
   "execution_count": 2,
   "id": "7417b899-0b72-41e7-b948-bf125bc43d21",
   "metadata": {},
   "outputs": [],
   "source": [
    "import os\n",
    "import numpy as np\n",
    "import pandas as pd\n",
    "import datasets\n",
    "import evaluate\n",
    "import seaborn as sns\n",
    "from sklearn.metrics import classification_report\n",
    "from sklearn.metrics import ConfusionMatrixDisplay\n",
    "from transformers import AutoTokenizer\n",
    "from transformers import AutoModelForSequenceClassification, TrainingArguments, Trainer"
   ]
  },
  {
   "cell_type": "markdown",
   "id": "1946131c-da16-48d1-933a-15374bc41b34",
   "metadata": {},
   "source": [
    "## Caricamento dei dati"
   ]
  },
  {
   "cell_type": "code",
   "execution_count": 5,
   "id": "3c900580-084b-4bdb-a88b-e290f45e9de9",
   "metadata": {},
   "outputs": [],
   "source": [
    "train_data = []\n",
    "test_data = []\n",
    "labels = []\n",
    "genres = ['diary']"
   ]
  },
  {
   "cell_type": "code",
   "execution_count": 6,
   "id": "3dbdc876-dad8-4ef6-a64a-50a56fc322cc",
   "metadata": {},
   "outputs": [],
   "source": [
    "genre_to_gold = {\n",
    "    'diary': 'test_DI.gold',\n",
    "}"
   ]
  },
  {
   "cell_type": "code",
   "execution_count": 7,
   "id": "2e52fe7d-cdba-40ce-9ca0-5cacbf18c48f",
   "metadata": {},
   "outputs": [],
   "source": [
    "# Carico i file .gold in un dizionario {genre: {id: label}}\n",
    "gold_labels = {}\n",
    "for genre, gold_file in genre_to_gold.items():\n",
    "    gold_path = f\"../../data/dataset_originale/gold/{gold_file}\"\n",
    "    gold_dict = {}\n",
    "\n",
    "    with open(gold_path, 'r', encoding='utf-8') as f:\n",
    "        for line in f:\n",
    "            parts = line.strip().split()\n",
    "            if len(parts) == 2:\n",
    "                doc_id, gender = parts\n",
    "                gold_dict[doc_id] = gender\n",
    "\n",
    "    gold_labels[genre] = gold_dict"
   ]
  },
  {
   "cell_type": "code",
   "execution_count": 8,
   "id": "52437400-7e4e-42db-b59e-131b40905096",
   "metadata": {},
   "outputs": [],
   "source": [
    "# Parsing dei file txt\n",
    "for genre in genres:\n",
    "    data_folder = f\"../../data/profiling_input/{genre}/\"\n",
    "    documents = os.listdir(data_folder)\n",
    "    \n",
    "    for document in documents:\n",
    "        parts = document.rstrip('.txt').split('#')\n",
    "        \n",
    "        if len(parts) != 4: continue # Salta file con nome non conforme al formato usato\n",
    "        \n",
    "        type_document = parts[0] # training o test\n",
    "        doc_id = parts[1]        # ID doc\n",
    "        genre_check = parts[2]   # genere doc (per debug)\n",
    "        gender = None            # sesso autore\n",
    "\n",
    "        if type_document == \"training\":\n",
    "            gender = parts[3]\n",
    "        else: \n",
    "            gender = gold_labels[genre].get(doc_id)\n",
    "\n",
    "        if gender is None or gender == 'unknown':\n",
    "            continue  # ignora test senza etichetta valida\n",
    "\n",
    "        if gender not in labels:\n",
    "            labels.append(gender)\n",
    "\n",
    "        # training: etichetta nota (da filename)\n",
    "        # test: etichetta assegnata solo per valutare le prestazioni, non per l'addestramento!\n",
    "        # se è un file di test (test#112#genre#unknown.txt), il gender non è presente nel nome del file, quindi lo prendi dalla corrispondenza tramite la chiave ID con il gold set\n",
    "\n",
    "        with open(os.path.join(data_folder, document), 'r', encoding='utf-8') as file:\n",
    "            text = file.read()\n",
    "\n",
    "        input_instance = {}\n",
    "        input_instance[\"id\"] = document\n",
    "        input_instance[\"sentence\"] = text\n",
    "        input_instance[\"label\"] = gender  # predizione del genere M/F\n",
    "\n",
    "        if type_document == \"training\":\n",
    "            train_data.append(input_instance)\n",
    "        else:\n",
    "            test_data.append(input_instance)\n",
    "\n",
    "str_to_int = {label: idx for idx, label in enumerate(labels)}"
   ]
  },
  {
   "cell_type": "code",
   "execution_count": 9,
   "id": "e62a6797-af27-4158-a3ea-dedce20e8975",
   "metadata": {},
   "outputs": [
    {
     "name": "stdout",
     "output_type": "stream",
     "text": [
      "FILE CARICATI CORRETTAMENTE!\n",
      "Totale file in train: 200\n",
      "Totale file in test: 74\n",
      "Label da predirre: ['F', 'M']\n",
      "\n",
      "Primi 10 file nel training set:\n",
      " - ../data/profiling_input/diary/training#1#diary#M.txt\n",
      " - ../data/profiling_input/diary/training#1#diary#M.txt\n",
      " - ../data/profiling_input/diary/training#10#diary#M.txt\n",
      " - ../data/profiling_input/diary/training#10#diary#M.txt\n",
      " - ../data/profiling_input/diary/training#100#diary#M.txt\n",
      " - ../data/profiling_input/diary/training#100#diary#M.txt\n",
      " - ../data/profiling_input/diary/training#101#diary#F.txt\n",
      " - ../data/profiling_input/diary/training#101#diary#F.txt\n",
      " - ../data/profiling_input/diary/training#102#diary#F.txt\n",
      " - ../data/profiling_input/diary/training#102#diary#F.txt\n",
      " - ../data/profiling_input/diary/training#103#diary#F.txt\n",
      " - ../data/profiling_input/diary/training#103#diary#F.txt\n",
      " - ../data/profiling_input/diary/training#104#diary#F.txt\n",
      " - ../data/profiling_input/diary/training#104#diary#F.txt\n",
      " - ../data/profiling_input/diary/training#105#diary#F.txt\n",
      " - ../data/profiling_input/diary/training#105#diary#F.txt\n",
      " - ../data/profiling_input/diary/training#106#diary#F.txt\n",
      " - ../data/profiling_input/diary/training#106#diary#F.txt\n",
      " - ../data/profiling_input/diary/training#107#diary#F.txt\n",
      " - ../data/profiling_input/diary/training#107#diary#F.txt\n",
      "\n",
      "Primi 10 file nel test set:\n",
      " - ../data/profiling_input/diary/test#1#diary#unknown.txt\n",
      " - ../data/clean/diary/test#1#diary#unknown.txt\n",
      " - ../data/profiling_input/diary/test#10#diary#unknown.txt\n",
      " - ../data/clean/diary/test#10#diary#unknown.txt\n",
      " - ../data/profiling_input/diary/test#11#diary#unknown.txt\n",
      " - ../data/clean/diary/test#11#diary#unknown.txt\n",
      " - ../data/profiling_input/diary/test#12#diary#unknown.txt\n",
      " - ../data/clean/diary/test#12#diary#unknown.txt\n",
      " - ../data/profiling_input/diary/test#13#diary#unknown.txt\n",
      " - ../data/clean/diary/test#13#diary#unknown.txt\n",
      " - ../data/profiling_input/diary/test#14#diary#unknown.txt\n",
      " - ../data/clean/diary/test#14#diary#unknown.txt\n",
      " - ../data/profiling_input/diary/test#15#diary#unknown.txt\n",
      " - ../data/clean/diary/test#15#diary#unknown.txt\n",
      " - ../data/profiling_input/diary/test#16#diary#unknown.txt\n",
      " - ../data/clean/diary/test#16#diary#unknown.txt\n",
      " - ../data/profiling_input/diary/test#17#diary#unknown.txt\n",
      " - ../data/clean/diary/test#17#diary#unknown.txt\n",
      " - ../data/profiling_input/diary/test#18#diary#unknown.txt\n",
      " - ../data/clean/diary/test#18#diary#unknown.txt\n"
     ]
    }
   ],
   "source": [
    "# Stampa di controllo\n",
    "print(\"FILE CARICATI CORRETTAMENTE!\")\n",
    "print(f\"Totale file in train: {len(train_data)}\")\n",
    "print(f\"Totale file in test: {len(test_data)}\")\n",
    "print(\"Label da predirre:\", labels)\n",
    "\n",
    "\n",
    "print(\"\\nPrimi 10 file nel training set:\")\n",
    "for item in train_data[:10]:\n",
    "    print(\" -\", os.path.join(data_folder, item[\"id\"]))\n",
    "    print(\" -\", f\"../../data/profiling_input/{genre}/\" + item[\"id\"])\n",
    "\n",
    "\n",
    "print(\"\\nPrimi 10 file nel test set:\")\n",
    "for item in test_data[:10]:\n",
    "    print(\" -\", os.path.join(data_folder, item[\"id\"]))\n",
    "    print(\" -\", f\"../../data/clean/{genre}/\" + item[\"id\"])"
   ]
  },
  {
   "cell_type": "markdown",
   "id": "0d500580-db82-47ac-887b-3faaf03daf12",
   "metadata": {},
   "source": [
    "## Conversione e split dei dataset in formato HuggingFace"
   ]
  },
  {
   "cell_type": "code",
   "execution_count": 10,
   "id": "f2307b04-c908-4b3a-a0e1-e1c99336c49c",
   "metadata": {},
   "outputs": [
    {
     "name": "stdout",
     "output_type": "stream",
     "text": [
      "Dataset({\n",
      "    features: ['id', 'sentence', 'label'],\n",
      "    num_rows: 160\n",
      "})\n",
      "\n",
      "Esempio di testo: E poi, secome tutte li famiglie recona di Ferenze, con questo movemento revolozionario che c'era, tenevino paura che di ummomento all'altro entravino queste Quardie Rosse nelle suoi palazze per devastarece tutto e robarece tutto, per paura, antavino alla caserma San Ciorcie e precavino al colonello per darece 4 o 5 soldate bene armate e macare una mitragliatrice per defesa del palazzo. Il colonello ci le dava, però a pagamento, e poi a queste 5 soldate ci dovevano dare ammanciare e tutto quello che ci atocava a uno soldato. Quinte, uno di queste, per fortuna, era io.  E così, in quello palazzo, abiammo trovato il paradiso. Che, facento servizio in quella famiglia, si manciava a tavola, si beveva bene, si fomavino sicarette di lusso, se dormeva bene. E abiammo fatto 40 ciorne di buona e felicissema vita. Poi c'era la cammiriera che aveva 8 anne più di me, che se avesse stato di 21 anne, quanto ni aveva io, di quanto era amorosa e bella, mi l'avesse sposato.  E così, io fece queste 40 ciorne di buona vita e non ni ho fatto più, e in queste 40 ciorne mi aveva dementecato a Francesca che ci scriviammo, e non ci ho scritto più.  Poi, ci hanno mantato a un altre 4 soldate, e mi ha parso molto brutto allasciare quello bello servizio e quella bella cammeriera. E ci hanno fatto antare in caserma e, doppo tanto servizio che avemmo fatto, amme e a li 2 soldate e il caporale ci hanno dato per recompenzo 24 ore di permesso. E quente, doppo che unsciemmo alla matina, con quello permesso potiemmo rientrare alla sera alle ore 24 e magare all'una. Quinte per me fu una rechezza, perché questo permesso lo avevino fatto cominciare dalla mezzanotte e finire alla menzanotte, e ci avevino dato magare per piremio un beglietto franco per il teatro, magare. E recordo che il teatro era il Teatro La Percola, che era lo più meglio teatro di Ferenze. E io disse: «Che bella sodisfacione antare nel più bello teatro di Ferenze».\n",
      "\n",
      "Esempio di label: M\n",
      "\n",
      "Dimensione del training set: (160, 3)\n",
      "Dimensione del development set: (40, 3)\n",
      "Dimensione del test set: (74, 3)\n"
     ]
    }
   ],
   "source": [
    "# 1. Conversione da lista dizionari a dataset HuggingFace\n",
    "train = datasets.Dataset.from_pandas(pd.DataFrame(data=train_data))\n",
    "test = datasets.Dataset.from_pandas(pd.DataFrame(data=test_data))\n",
    "\n",
    "# 2. Split del training set in train/dev\n",
    "train_dev = train.train_test_split(test_size=0.2) # Io ho scelto 80/20 invece che 0.1 come il prof\n",
    "train = train_dev[\"train\"]\n",
    "dev = train_dev[\"test\"]\n",
    "\n",
    "# 3. Stampa di controllo\n",
    "print(train)\n",
    "print()\n",
    "print(\"Esempio di testo:\", train['sentence'][2])\n",
    "print()\n",
    "print(\"Esempio di label:\", train['label'][2])\n",
    "print()\n",
    "\n",
    "# Shape dei dati\n",
    "print(\"Dimensione del training set:\", train.shape)\n",
    "print(\"Dimensione del development set:\", dev.shape)\n",
    "print(\"Dimensione del test set:\", test.shape)\n",
    "\n",
    "# In diary ci sono 274 file, 200 training e 74 test, verranno divisi 160 training, 40 dev e 74 test"
   ]
  },
  {
   "cell_type": "markdown",
   "id": "f0c64a33-e172-4792-a9e4-d51a201c5426",
   "metadata": {},
   "source": [
    "## Caricamento del NLM"
   ]
  },
  {
   "cell_type": "code",
   "execution_count": 11,
   "id": "8cdbb0c7-c02b-4370-bde5-94bb9571105f",
   "metadata": {},
   "outputs": [
    {
     "name": "stderr",
     "output_type": "stream",
     "text": [
      "Some weights of BertForSequenceClassification were not initialized from the model checkpoint at dbmdz/bert-base-italian-cased and are newly initialized: ['classifier.bias', 'classifier.weight']\n",
      "You should probably TRAIN this model on a down-stream task to be able to use it for predictions and inference.\n"
     ]
    }
   ],
   "source": [
    "# Scelgo il modello di BERT addestrato sull'italiano con distinzione maiuscole/minuscole (ok perché è sensibile allo stile linguistico e devo fare author profiling)\n",
    "model_name = 'dbmdz/bert-base-italian-cased'\n",
    "\n",
    "# Carico il modello\n",
    "model = AutoModelForSequenceClassification.from_pretrained(model_name, num_labels=len(labels))\n",
    "\n",
    "# Carico il tokenizzatore\n",
    "tokenizer = AutoTokenizer.from_pretrained(model_name)"
   ]
  },
  {
   "cell_type": "markdown",
   "id": "c83f96f8-d13a-4fb1-a48c-c7a4399f3a01",
   "metadata": {},
   "source": [
    "## Preprocessing dei dati"
   ]
  },
  {
   "cell_type": "code",
   "execution_count": 12,
   "id": "1769c578-9812-4dd0-be23-95a4fdf943b2",
   "metadata": {},
   "outputs": [
    {
     "data": {
      "text/plain": [
       "{'input_ids': [102, 4363, 9487, 4313, 1942, 131, 179, 8553, 2217, 30876, 329, 619, 2895, 9487, 5881, 2217, 30876, 10899, 153, 141, 4468, 120, 2725, 697, 329, 12220, 697, 650, 712, 1270, 1156, 23943, 162, 830, 120, 2670, 1307, 156, 146, 2212, 693, 181, 1553, 6103, 136, 16132, 697, 313, 4123, 2017, 710, 181, 1553, 29477, 213, 5017, 672, 223, 21166, 169, 199, 8169, 1307, 1656, 937, 972, 111, 11975, 2304, 461, 12868, 2304, 697, 9653, 2756, 1817, 24923, 697, 1566, 134, 4251, 12428, 123, 105, 1553, 3040, 126, 146, 6130, 136, 994, 28410, 1307, 302, 2483, 1191, 1307, 461, 642, 1307, 693, 224, 7133, 461, 141, 2999, 3460, 1307, 8214, 30877, 5495, 146, 7613, 697, 8317, 13846, 203, 10196, 162, 650, 712, 1270, 697, 10769, 1307, 212, 5488, 191, 3716, 3558, 136, 1045, 1307, 2787, 1235, 203, 7059, 1307, 2787, 11725, 203, 4945, 1307, 21351, 30877, 382, 8229, 120, 8624, 678, 158, 1493, 19292, 406, 4923, 1316, 1287, 213, 1223, 1307, 1905, 146, 504, 3926, 126, 3761, 1307, 3509, 478, 217, 203, 8221, 578, 697, 1049, 25528, 2131, 13915, 13978, 1307, 8328, 411, 191, 2546, 248, 126, 2657, 15654, 697, 2165, 141, 6264, 223, 14744, 30940, 162, 12220, 697, 1594, 667, 131, 1307, 162, 353, 18729, 1307, 126, 318, 819, 271, 224, 2410, 5495, 697, 309, 6761, 126, 146, 9540, 210, 5193, 529, 224, 2410, 120, 16119, 203, 13704, 697, 1566, 223, 8250, 141, 1037, 1307, 162, 12220, 697, 10190, 3212, 6941, 126, 290, 308, 11609, 141, 1553, 5241, 5193, 529, 1075, 972, 11110, 1587, 16119, 697, 6904, 368, 711, 538, 212, 223, 16455, 131, 1307, 21351, 30877, 157, 1594, 667, 131, 162, 2675, 324, 1373, 16119, 697, 401, 28130, 30879, 126, 27312, 17562, 1307, 411, 194, 187, 1307, 220, 642, 18509, 238, 461, 1608, 318, 15135, 1587, 1529, 162, 12220, 697, 10190, 3212, 6941, 318, 278, 1693, 1075, 7592, 2692, 5935, 210, 381, 1553, 1080, 2193, 166, 7109, 11979, 162, 415, 2675, 1307, 15135, 158, 162, 12220, 697, 1594, 667, 131, 181, 1553, 1156, 881, 2456, 19315, 142, 2951, 136, 5544, 10321, 112, 5390, 697, 5935, 210, 157, 12220, 697, 1594, 667, 131, 1587, 839, 278, 1693, 2590, 1075, 7592, 3098, 179, 396, 179, 839, 278, 3648, 22129, 3098, 179, 468, 2692, 179, 839, 278, 15501, 374, 139, 2036, 3098, 468, 1307, 220, 206, 223, 1516, 4898, 2692, 725, 2221, 578, 6234, 439, 213, 3344, 3098, 725, 1523, 5193, 212, 4748, 4457, 697, 2287, 4420, 1307, 510, 2495, 26770, 139, 570, 764, 578, 1338, 1553, 14754, 298, 1553, 20661, 30879, 3098, 211, 12946, 226, 157, 10190, 3212, 6941, 368, 20789, 171, 156, 6717, 199, 4546, 3682, 697, 1736, 937, 529, 141, 3665, 2120, 213, 1223, 1307, 177, 1677, 1307, 342, 146, 13392, 169, 697, 1557, 1307, 139, 2819, 120, 3487, 1553, 16497, 30880, 186, 9876, 1307, 197, 321, 1893, 1006, 2245, 697, 211, 212, 320, 15665, 124, 120, 8643, 217, 5903, 1307, 461, 20661, 391, 3098, 211, 2747, 908, 136, 830, 1307, 156, 13560, 3098, 2438, 1307, 158, 602, 9460, 198, 482, 30635, 1307, 6028, 12343, 292, 1717, 12316, 1307, 126, 103], 'token_type_ids': [0, 0, 0, 0, 0, 0, 0, 0, 0, 0, 0, 0, 0, 0, 0, 0, 0, 0, 0, 0, 0, 0, 0, 0, 0, 0, 0, 0, 0, 0, 0, 0, 0, 0, 0, 0, 0, 0, 0, 0, 0, 0, 0, 0, 0, 0, 0, 0, 0, 0, 0, 0, 0, 0, 0, 0, 0, 0, 0, 0, 0, 0, 0, 0, 0, 0, 0, 0, 0, 0, 0, 0, 0, 0, 0, 0, 0, 0, 0, 0, 0, 0, 0, 0, 0, 0, 0, 0, 0, 0, 0, 0, 0, 0, 0, 0, 0, 0, 0, 0, 0, 0, 0, 0, 0, 0, 0, 0, 0, 0, 0, 0, 0, 0, 0, 0, 0, 0, 0, 0, 0, 0, 0, 0, 0, 0, 0, 0, 0, 0, 0, 0, 0, 0, 0, 0, 0, 0, 0, 0, 0, 0, 0, 0, 0, 0, 0, 0, 0, 0, 0, 0, 0, 0, 0, 0, 0, 0, 0, 0, 0, 0, 0, 0, 0, 0, 0, 0, 0, 0, 0, 0, 0, 0, 0, 0, 0, 0, 0, 0, 0, 0, 0, 0, 0, 0, 0, 0, 0, 0, 0, 0, 0, 0, 0, 0, 0, 0, 0, 0, 0, 0, 0, 0, 0, 0, 0, 0, 0, 0, 0, 0, 0, 0, 0, 0, 0, 0, 0, 0, 0, 0, 0, 0, 0, 0, 0, 0, 0, 0, 0, 0, 0, 0, 0, 0, 0, 0, 0, 0, 0, 0, 0, 0, 0, 0, 0, 0, 0, 0, 0, 0, 0, 0, 0, 0, 0, 0, 0, 0, 0, 0, 0, 0, 0, 0, 0, 0, 0, 0, 0, 0, 0, 0, 0, 0, 0, 0, 0, 0, 0, 0, 0, 0, 0, 0, 0, 0, 0, 0, 0, 0, 0, 0, 0, 0, 0, 0, 0, 0, 0, 0, 0, 0, 0, 0, 0, 0, 0, 0, 0, 0, 0, 0, 0, 0, 0, 0, 0, 0, 0, 0, 0, 0, 0, 0, 0, 0, 0, 0, 0, 0, 0, 0, 0, 0, 0, 0, 0, 0, 0, 0, 0, 0, 0, 0, 0, 0, 0, 0, 0, 0, 0, 0, 0, 0, 0, 0, 0, 0, 0, 0, 0, 0, 0, 0, 0, 0, 0, 0, 0, 0, 0, 0, 0, 0, 0, 0, 0, 0, 0, 0, 0, 0, 0, 0, 0, 0, 0, 0, 0, 0, 0, 0, 0, 0, 0, 0, 0, 0, 0, 0, 0, 0, 0, 0, 0, 0, 0, 0, 0, 0, 0, 0, 0, 0, 0, 0, 0, 0, 0, 0, 0, 0, 0, 0, 0, 0, 0, 0, 0, 0, 0, 0, 0, 0, 0, 0, 0, 0, 0, 0, 0, 0, 0, 0, 0, 0, 0, 0, 0, 0, 0, 0, 0, 0, 0, 0, 0, 0, 0, 0, 0, 0, 0, 0, 0, 0, 0, 0, 0, 0, 0, 0, 0, 0, 0, 0, 0, 0, 0, 0, 0, 0, 0, 0, 0, 0, 0, 0, 0, 0, 0, 0, 0, 0, 0, 0, 0, 0, 0, 0, 0, 0, 0, 0, 0, 0, 0, 0, 0, 0], 'attention_mask': [1, 1, 1, 1, 1, 1, 1, 1, 1, 1, 1, 1, 1, 1, 1, 1, 1, 1, 1, 1, 1, 1, 1, 1, 1, 1, 1, 1, 1, 1, 1, 1, 1, 1, 1, 1, 1, 1, 1, 1, 1, 1, 1, 1, 1, 1, 1, 1, 1, 1, 1, 1, 1, 1, 1, 1, 1, 1, 1, 1, 1, 1, 1, 1, 1, 1, 1, 1, 1, 1, 1, 1, 1, 1, 1, 1, 1, 1, 1, 1, 1, 1, 1, 1, 1, 1, 1, 1, 1, 1, 1, 1, 1, 1, 1, 1, 1, 1, 1, 1, 1, 1, 1, 1, 1, 1, 1, 1, 1, 1, 1, 1, 1, 1, 1, 1, 1, 1, 1, 1, 1, 1, 1, 1, 1, 1, 1, 1, 1, 1, 1, 1, 1, 1, 1, 1, 1, 1, 1, 1, 1, 1, 1, 1, 1, 1, 1, 1, 1, 1, 1, 1, 1, 1, 1, 1, 1, 1, 1, 1, 1, 1, 1, 1, 1, 1, 1, 1, 1, 1, 1, 1, 1, 1, 1, 1, 1, 1, 1, 1, 1, 1, 1, 1, 1, 1, 1, 1, 1, 1, 1, 1, 1, 1, 1, 1, 1, 1, 1, 1, 1, 1, 1, 1, 1, 1, 1, 1, 1, 1, 1, 1, 1, 1, 1, 1, 1, 1, 1, 1, 1, 1, 1, 1, 1, 1, 1, 1, 1, 1, 1, 1, 1, 1, 1, 1, 1, 1, 1, 1, 1, 1, 1, 1, 1, 1, 1, 1, 1, 1, 1, 1, 1, 1, 1, 1, 1, 1, 1, 1, 1, 1, 1, 1, 1, 1, 1, 1, 1, 1, 1, 1, 1, 1, 1, 1, 1, 1, 1, 1, 1, 1, 1, 1, 1, 1, 1, 1, 1, 1, 1, 1, 1, 1, 1, 1, 1, 1, 1, 1, 1, 1, 1, 1, 1, 1, 1, 1, 1, 1, 1, 1, 1, 1, 1, 1, 1, 1, 1, 1, 1, 1, 1, 1, 1, 1, 1, 1, 1, 1, 1, 1, 1, 1, 1, 1, 1, 1, 1, 1, 1, 1, 1, 1, 1, 1, 1, 1, 1, 1, 1, 1, 1, 1, 1, 1, 1, 1, 1, 1, 1, 1, 1, 1, 1, 1, 1, 1, 1, 1, 1, 1, 1, 1, 1, 1, 1, 1, 1, 1, 1, 1, 1, 1, 1, 1, 1, 1, 1, 1, 1, 1, 1, 1, 1, 1, 1, 1, 1, 1, 1, 1, 1, 1, 1, 1, 1, 1, 1, 1, 1, 1, 1, 1, 1, 1, 1, 1, 1, 1, 1, 1, 1, 1, 1, 1, 1, 1, 1, 1, 1, 1, 1, 1, 1, 1, 1, 1, 1, 1, 1, 1, 1, 1, 1, 1, 1, 1, 1, 1, 1, 1, 1, 1, 1, 1, 1, 1, 1, 1, 1, 1, 1, 1, 1, 1, 1, 1, 1, 1, 1, 1, 1, 1, 1, 1, 1, 1, 1, 1, 1, 1, 1, 1, 1, 1, 1, 1, 1, 1, 1, 1, 1, 1, 1, 1, 1, 1, 1, 1, 1, 1, 1, 1, 1, 1, 1, 1, 1, 1, 1, 1]}"
      ]
     },
     "execution_count": 12,
     "metadata": {},
     "output_type": "execute_result"
    }
   ],
   "source": [
    "tokenizer(train[\"sentence\"][0], padding=True, truncation=True, max_length=512)\n",
    "\n",
    "# Avrò un dizionario di questo tipo:\n",
    "# {\n",
    "#   'input_ids': [102, 4759, 543, ..., 103], # ogni numero corrisponde a un token del vocabolario di BERT, 102 inizio 103 fine del testo\n",
    "#   'token_type_ids': [0, 0, 0, ..., 0],     # serve solo per i task con due frasi, non è il nostro caso quindi tutti 0\n",
    "#   'attention_mask': [1, 1, 1, ..., 1]      # indica quali sono i padding con 0\n",
    "# }"
   ]
  },
  {
   "cell_type": "markdown",
   "id": "987d46e6-5614-4edc-8a72-1dbbf5fb982d",
   "metadata": {},
   "source": [
    "### Tokenizzazione dei dati"
   ]
  },
  {
   "cell_type": "code",
   "execution_count": 13,
   "id": "443ee761-a0c2-4ea7-8d3b-e3031e2c27bc",
   "metadata": {},
   "outputs": [
    {
     "data": {
      "application/vnd.jupyter.widget-view+json": {
       "model_id": "ea1e7919949e4ed1a22ca87232075563",
       "version_major": 2,
       "version_minor": 0
      },
      "text/plain": [
       "Map:   0%|          | 0/160 [00:00<?, ? examples/s]"
      ]
     },
     "metadata": {},
     "output_type": "display_data"
    },
    {
     "data": {
      "application/vnd.jupyter.widget-view+json": {
       "model_id": "8ddfb9ca1ef547458e6231168c05ddcc",
       "version_major": 2,
       "version_minor": 0
      },
      "text/plain": [
       "Map:   0%|          | 0/40 [00:00<?, ? examples/s]"
      ]
     },
     "metadata": {},
     "output_type": "display_data"
    },
    {
     "data": {
      "application/vnd.jupyter.widget-view+json": {
       "model_id": "28732909927b4f2e950a7bc27300c849",
       "version_major": 2,
       "version_minor": 0
      },
      "text/plain": [
       "Map:   0%|          | 0/74 [00:00<?, ? examples/s]"
      ]
     },
     "metadata": {},
     "output_type": "display_data"
    }
   ],
   "source": [
    "# Funzione che applica la tokenizzazione ai dati di training, dev e test\n",
    "# Tokenizza i testi (sentence) -> input_ids e attention_mask\n",
    "# Converte le etichette 'M' / 'F' in numeri usando str_to_int, es. {'M': 0, 'F': 1}\n",
    "\n",
    "def tokenize(batch):\n",
    "    tokens = tokenizer(batch['sentence'], padding=True, truncation=True, max_length=512)\n",
    "    tokens['label'] = [str_to_int[label] for label in batch[\"label\"]]\n",
    "    return tokens\n",
    "\n",
    "train = train.map(tokenize, batched=True) # Elabora più esempi alla volta <- batched=True\n",
    "dev = dev.map(tokenize, batched=True)\n",
    "test = test.map(tokenize, batched=True)\n",
    "\n",
    "# Conversione dei dataset in tensori PyTorch (serve per usarli con Trainer o modelli HuggingFace)\n",
    "train.set_format('torch', columns=['input_ids', 'attention_mask', 'label'])\n",
    "dev.set_format('torch', columns=['input_ids', 'attention_mask', 'label'])\n",
    "test.set_format('torch', columns=['input_ids', 'attention_mask', 'label'])"
   ]
  },
  {
   "cell_type": "markdown",
   "id": "fd8a8ecf-ea47-4da3-99a7-7e88b5a0b1e2",
   "metadata": {},
   "source": [
    "## Addestramento del modello BERT\n",
    "Per procedere con l'addestramento definiamo:\n",
    "\n",
    "- **Training arguments**: gli argomenti di addestramento (e.g. *numero di epoche/step, learning rate, batch_size, logging/saving strategy*, etc.);\n",
    "- **Metrica**: metrica di addestramento, per valutare le performance del modello in fase di evaluation;\n",
    "- **Trainer**: oggetto della libreria Transformers che processa tutti gli argomenti e, tramite il metodo .train() fa partire l'addestramento."
   ]
  },
  {
   "cell_type": "markdown",
   "id": "2f46c621-d476-4c83-9b33-f5bbaec4f1aa",
   "metadata": {},
   "source": [
    "### Training arguments"
   ]
  },
  {
   "cell_type": "code",
   "execution_count": 14,
   "id": "a98e492e-e691-4fe0-88d9-0a57d9c7f45d",
   "metadata": {},
   "outputs": [
    {
     "name": "stderr",
     "output_type": "stream",
     "text": [
      "C:\\Users\\agnes\\AppData\\Local\\Programs\\Python\\Python313\\Lib\\site-packages\\transformers\\training_args.py:1611: FutureWarning: `evaluation_strategy` is deprecated and will be removed in version 4.46 of 🤗 Transformers. Use `eval_strategy` instead\n",
      "  warnings.warn(\n"
     ]
    }
   ],
   "source": [
    "# Trainer\n",
    "\n",
    "num_epochs = 5\n",
    "\n",
    "training_args = TrainingArguments(\n",
    "    f\"output_BERT-cased/{genre}\",       \n",
    "    evaluation_strategy = \"epoch\",         \n",
    "    logging_strategy = \"epoch\",           \n",
    "    save_strategy = \"epoch\",               \n",
    "    logging_steps=10,                      \n",
    "    learning_rate=2e-5,                   \n",
    "    per_device_train_batch_size=8,        \n",
    "    per_device_eval_batch_size=8,\n",
    "    num_train_epochs=num_epochs,           \n",
    "    weight_decay=0.01,                     \n",
    "    load_best_model_at_end=True            \n",
    ")"
   ]
  },
  {
   "cell_type": "markdown",
   "id": "c13cc851-73a9-44e2-b3aa-6eec9582e75d",
   "metadata": {},
   "source": [
    "### Metrica\n",
    "Definiamo una funzione compute_metrics che prende input le predictions del modello e:\n",
    "- applica un argmax alle predictions;\n",
    "- calcola l'F-Score fra le predictions e le true labels."
   ]
  },
  {
   "cell_type": "code",
   "execution_count": 15,
   "id": "a4a33865-f3bd-49b0-8467-feb564490cdf",
   "metadata": {},
   "outputs": [],
   "source": [
    "def compute_metrics(eval_pred):\n",
    "  f1_metric = evaluate.load(\"f1\") # carico la metrica evaluate di HuggingFace\n",
    "  predictions, labels = eval_pred  # è una tupla (logits, labels), fornita automaticamente dal Trainer.\n",
    "  predictions = np.argmax(predictions, axis=1) # prende la classe più probabile (0 o 1) per ogni esempio\n",
    "\n",
    "  return f1_metric.compute(predictions=predictions, references=labels, average=\"weighted\") # calcola l'F1-score pesato, adatto anche a classi sbilanciate\n",
    "    \n",
    "# average=\"weighted\" perché...\n",
    "# - Classi meno frequenti (es. M o F) contano proporzionalmente nel calcolo dell'F1\n",
    "# - È più robusto di macro o micro se hai uno sbilanciamento."
   ]
  },
  {
   "cell_type": "markdown",
   "id": "cc9a9321-b1a3-41c1-8d0d-1bdb52581995",
   "metadata": {},
   "source": [
    "### Trainer\n",
    "A seguito della fase di training, con trainer.save_model() specifichiamo dover voler salvare il modello."
   ]
  },
  {
   "cell_type": "code",
   "execution_count": 16,
   "id": "0f4764b5-2a22-417b-8619-7eea7106a834",
   "metadata": {},
   "outputs": [
    {
     "name": "stderr",
     "output_type": "stream",
     "text": [
      "C:\\Users\\agnes\\AppData\\Local\\Temp\\ipykernel_21120\\1283563509.py:1: FutureWarning: `tokenizer` is deprecated and will be removed in version 5.0.0 for `Trainer.__init__`. Use `processing_class` instead.\n",
      "  trainer = Trainer(\n"
     ]
    },
    {
     "data": {
      "text/html": [
       "\n",
       "    <div>\n",
       "      \n",
       "      <progress value='100' max='100' style='width:300px; height:20px; vertical-align: middle;'></progress>\n",
       "      [100/100 45:52, Epoch 5/5]\n",
       "    </div>\n",
       "    <table border=\"1\" class=\"dataframe\">\n",
       "  <thead>\n",
       " <tr style=\"text-align: left;\">\n",
       "      <th>Epoch</th>\n",
       "      <th>Training Loss</th>\n",
       "      <th>Validation Loss</th>\n",
       "      <th>F1</th>\n",
       "    </tr>\n",
       "  </thead>\n",
       "  <tbody>\n",
       "    <tr>\n",
       "      <td>1</td>\n",
       "      <td>0.668600</td>\n",
       "      <td>0.779911</td>\n",
       "      <td>0.171698</td>\n",
       "    </tr>\n",
       "    <tr>\n",
       "      <td>2</td>\n",
       "      <td>0.584300</td>\n",
       "      <td>0.592498</td>\n",
       "      <td>0.731111</td>\n",
       "    </tr>\n",
       "    <tr>\n",
       "      <td>3</td>\n",
       "      <td>0.333800</td>\n",
       "      <td>0.513956</td>\n",
       "      <td>0.778999</td>\n",
       "    </tr>\n",
       "    <tr>\n",
       "      <td>4</td>\n",
       "      <td>0.195200</td>\n",
       "      <td>0.430207</td>\n",
       "      <td>0.826302</td>\n",
       "    </tr>\n",
       "    <tr>\n",
       "      <td>5</td>\n",
       "      <td>0.118700</td>\n",
       "      <td>0.461366</td>\n",
       "      <td>0.826302</td>\n",
       "    </tr>\n",
       "  </tbody>\n",
       "</table><p>"
      ],
      "text/plain": [
       "<IPython.core.display.HTML object>"
      ]
     },
     "metadata": {},
     "output_type": "display_data"
    }
   ],
   "source": [
    "trainer = Trainer(\n",
    "    model,\n",
    "    training_args,\n",
    "    train_dataset=train,\n",
    "    eval_dataset=dev,\n",
    "    tokenizer=tokenizer,\n",
    "    compute_metrics=compute_metrics\n",
    ")\n",
    "\n",
    "trainer.train()\n",
    "trainer.save_model(f\"/output_BERT-cased/{genre}/\")"
   ]
  },
  {
   "cell_type": "markdown",
   "id": "255be22c-579e-4bd4-b294-6d82c48ef771",
   "metadata": {},
   "source": [
    "## Evaluation del modello\n",
    "\n",
    "Dopo aver addestrato il modello, si passa alla fase di evaluation. Nello specifico, vogliamo:\n",
    "- visualizzare l'andamento della loss sul dataset di training e di evaluation;\n",
    "- calcolare le performance del modello sul dataset di test."
   ]
  },
  {
   "cell_type": "markdown",
   "id": "37e5b186-3e56-4c59-a8b7-eb6651a33eec",
   "metadata": {},
   "source": [
    "### Monitoraggio della loss"
   ]
  },
  {
   "cell_type": "code",
   "execution_count": 17,
   "id": "dac0a349-ca2d-4a36-a146-b6db4bc3d253",
   "metadata": {},
   "outputs": [
    {
     "name": "stderr",
     "output_type": "stream",
     "text": [
      "C:\\Users\\agnes\\AppData\\Local\\Temp\\ipykernel_21120\\3703003683.py:12: FutureWarning: The behavior of DataFrame concatenation with empty or all-NA entries is deprecated. In a future version, this will no longer exclude empty or all-NA columns when determining the result dtypes. To retain the old behavior, exclude the relevant entries before the concat operation.\n",
      "  df = pd.concat([df, log_df], ignore_index=True)\n"
     ]
    },
    {
     "data": {
      "text/plain": [
       "<Axes: xlabel='Epoch', ylabel='Loss'>"
      ]
     },
     "execution_count": 17,
     "metadata": {},
     "output_type": "execute_result"
    },
    {
     "data": {
      "image/png": "[encoded data removed]",
      "text/plain": [
       "<Figure size 640x480 with 1 Axes>"
      ]
     },
     "metadata": {},
     "output_type": "display_data"
    }
   ],
   "source": [
    "log_history = trainer.state.log_history\n",
    "\n",
    "# Creo dataframe pandas per memorizzare le loss di training/evaluation e poi mostrare graficamente le curve\n",
    "df = pd.DataFrame(columns=[\"Epoch\", \"Loss\", \"Training/Validation\"])\n",
    "\n",
    "for log_data in log_history:\n",
    "  epoch = int(log_data[\"epoch\"])\n",
    "  if \"loss\" in log_data.keys():\n",
    "    loss = log_data[\"loss\"]\n",
    "\n",
    "    log_df = pd.DataFrame({\"Epoch\": [epoch], \"Loss\": [loss], \"Training/Validation\": [\"Training\"]})\n",
    "    df = pd.concat([df, log_df], ignore_index=True)\n",
    "  if \"eval_loss\" in log_data.keys():\n",
    "    loss = log_data[\"eval_loss\"]\n",
    "    log_df = pd.DataFrame({\"Epoch\": [epoch], \"Loss\": [loss], \"Training/Validation\": [\"Validation\"]})\n",
    "    df = pd.concat([df, log_df], ignore_index=True)\n",
    "\n",
    "# Lineplot della loss\n",
    "sns.lineplot(data=df, x=\"Epoch\", y=\"Loss\", hue=\"Training/Validation\")"
   ]
  },
  {
   "cell_type": "markdown",
   "id": "a3c67649-f125-420d-a000-eb7abc5da012",
   "metadata": {},
   "source": [
    "### Considerazioni sul training\n",
    "Positive:\n",
    "- La training loss scende molto bene quindi il modello impara dai dati...\n",
    "- Ha raggiunto un picco di F1 nella seconda epoca (0.5958), che è accettabile su un dataset piccolo e rumoroso\n",
    "\n",
    "Negative:\n",
    "- Validation loss cresce dopo Epoca 2\n",
    "- F1-score si abbassa dopo la seconda epoca → il modello continua a imparare i training data ma peggiora sulla generalizzazione\n",
    "\n",
    "In conclusione: il modello ha raggiunto la sua performance ottimale all’Epoca 2, dopo di quella inizia a sovraddestrarsi (**overfitting**)\n",
    "\n",
    "Date le indicazioni (5 epoche) non implemento early-stopping, però potrebbe essere una soluzione da provare in futuro."
   ]
  },
  {
   "cell_type": "markdown",
   "id": "d9cb60a8-8069-4640-aa2e-438b6803d2a6",
   "metadata": {},
   "source": [
    "## Calcolo performance sul test set\n",
    "Applicando il metodo .predict() sul nostro test set, otteniamo come output le prediction del modello, assieme alle metriche di valutazione (e.g. weighted F1)"
   ]
  },
  {
   "cell_type": "code",
   "execution_count": 18,
   "id": "6a249088-675a-44a4-b07b-89b63116a85e",
   "metadata": {},
   "outputs": [
    {
     "data": {
      "text/html": [],
      "text/plain": [
       "<IPython.core.display.HTML object>"
      ]
     },
     "metadata": {},
     "output_type": "display_data"
    },
    {
     "name": "stdout",
     "output_type": "stream",
     "text": [
      "PredictionOutput(predictions=array([[ 0.90456456, -1.1168956 ],\n",
      "       [-0.8993584 ,  0.6604865 ],\n",
      "       [-0.79227227,  0.5341334 ],\n",
      "       [-1.2055854 ,  1.298051  ],\n",
      "       [-0.97220165,  0.82204574],\n",
      "       [ 0.74452555, -1.0252649 ],\n",
      "       [ 0.2825235 , -0.40834683],\n",
      "       [ 0.5069203 , -0.828481  ],\n",
      "       [-0.9877777 ,  0.80505204],\n",
      "       [-0.8664983 ,  1.047623  ],\n",
      "       [-0.21020018, -0.00220975],\n",
      "       [-0.92289364,  1.1596712 ],\n",
      "       [ 0.76627666, -0.85145056],\n",
      "       [ 0.4733007 , -0.7553745 ],\n",
      "       [-0.9909597 ,  0.73266953],\n",
      "       [ 1.1007513 , -1.3843387 ],\n",
      "       [-0.49624264,  0.26742053],\n",
      "       [-0.50166833,  0.548491  ],\n",
      "       [-0.43930063,  0.35296503],\n",
      "       [-0.51285887,  0.38484377],\n",
      "       [-1.0329609 ,  1.0404333 ],\n",
      "       [-0.86258304,  0.6485124 ],\n",
      "       [-1.5406317 ,  1.6213973 ],\n",
      "       [-0.88997906,  0.81963164],\n",
      "       [ 0.08776463, -0.33117062],\n",
      "       [-1.0237222 ,  0.9006416 ],\n",
      "       [-0.45781827,  0.15008019],\n",
      "       [-0.8215508 ,  0.97752607],\n",
      "       [ 0.02700117, -0.28669587],\n",
      "       [-1.5200447 ,  1.5255376 ],\n",
      "       [ 0.35259205, -0.61449564],\n",
      "       [-0.40827665,  0.3146908 ],\n",
      "       [-0.8806793 ,  0.8911503 ],\n",
      "       [-0.44763175,  0.26480246],\n",
      "       [ 0.44976974, -0.59143835],\n",
      "       [-1.2622541 ,  1.1783915 ],\n",
      "       [-1.4102508 ,  1.2166127 ],\n",
      "       [ 1.3217014 , -1.4424373 ],\n",
      "       [-1.6197852 ,  1.6194919 ],\n",
      "       [-0.94440633,  1.0391712 ],\n",
      "       [-1.0021222 ,  1.0954705 ],\n",
      "       [-0.7093796 ,  0.8011417 ],\n",
      "       [-1.7517995 ,  1.6616371 ],\n",
      "       [-0.73334867,  0.894297  ],\n",
      "       [ 0.07388604, -0.29684842],\n",
      "       [-0.60325694,  0.41866887],\n",
      "       [-1.3164854 ,  1.3346962 ],\n",
      "       [ 1.2169529 , -1.416098  ],\n",
      "       [-1.1184173 ,  1.2535444 ],\n",
      "       [ 0.27444622, -0.50182945],\n",
      "       [-1.0730602 ,  0.884026  ],\n",
      "       [-1.3910496 ,  1.3819453 ],\n",
      "       [-1.1864734 ,  1.1525918 ],\n",
      "       [-1.3070911 ,  1.0307263 ],\n",
      "       [ 0.7748219 , -0.9034038 ],\n",
      "       [ 0.17287529, -0.4155354 ],\n",
      "       [-0.69288385,  0.42410386],\n",
      "       [ 1.1064544 , -1.276538  ],\n",
      "       [-1.0447183 ,  1.0028439 ],\n",
      "       [ 0.82093245, -0.9478932 ],\n",
      "       [-0.20126723,  0.17524783],\n",
      "       [-0.9080708 ,  1.003654  ],\n",
      "       [-0.40626568,  0.24124925],\n",
      "       [-0.5251042 ,  0.40592074],\n",
      "       [-0.06648291, -0.1427288 ],\n",
      "       [ 0.09283639, -0.14322846],\n",
      "       [ 0.45649248, -0.54700696],\n",
      "       [ 1.2261233 , -1.4597849 ],\n",
      "       [-1.2656792 ,  1.3788532 ],\n",
      "       [-0.9592805 ,  1.1332166 ],\n",
      "       [ 1.1345767 , -1.2909118 ],\n",
      "       [ 0.99781674, -1.1440991 ],\n",
      "       [ 0.08814652, -0.28905237],\n",
      "       [-0.47752678,  0.43641585]], dtype=float32), label_ids=array([0, 1, 1, 0, 1, 0, 0, 0, 0, 0, 0, 1, 0, 0, 1, 0, 0, 0, 1, 1, 0, 0,\n",
      "       0, 0, 1, 1, 1, 1, 1, 1, 0, 0, 1, 0, 0, 1, 1, 0, 0, 1, 1, 1, 1, 1,\n",
      "       0, 1, 1, 0, 1, 0, 0, 0, 1, 1, 0, 1, 0, 0, 0, 0, 1, 1, 1, 1, 1, 1,\n",
      "       0, 0, 1, 1, 0, 0, 1, 1]), metrics={'test_loss': 0.6501922607421875, 'test_f1': 0.6821661998132587, 'test_runtime': 69.1903, 'test_samples_per_second': 1.07, 'test_steps_per_second': 0.145})\n"
     ]
    }
   ],
   "source": [
    "output_predictions = trainer.predict(test)\n",
    "print(output_predictions)"
   ]
  },
  {
   "cell_type": "code",
   "execution_count": 19,
   "id": "5ef2206b-0345-48b6-8f09-e3d37f1b4e11",
   "metadata": {},
   "outputs": [
    {
     "name": "stdout",
     "output_type": "stream",
     "text": [
      "Classification Report:\n",
      "              precision    recall  f1-score   support\n",
      "\n",
      "           0       0.77      0.54      0.63        37\n",
      "           1       0.65      0.84      0.73        37\n",
      "\n",
      "    accuracy                           0.69        74\n",
      "   macro avg       0.71      0.69      0.68        74\n",
      "weighted avg       0.71      0.69      0.68        74\n",
      "\n",
      "\n",
      "Confusion Matrix:\n",
      "<sklearn.metrics._plot.confusion_matrix.ConfusionMatrixDisplay object at 0x000001D26CE778C0>\n"
     ]
    },
    {
     "data": {
      "image/png": "[encoded data removed]",
      "text/plain": [
       "<Figure size 640x480 with 2 Axes>"
      ]
     },
     "metadata": {},
     "output_type": "display_data"
    }
   ],
   "source": [
    "y_test = test[\"label\"].tolist()\n",
    "y_pred = np.argmax(output_predictions.predictions, axis=1)\n",
    "\n",
    "report = classification_report(y_test, y_pred)\n",
    "cm = ConfusionMatrixDisplay.from_predictions(y_test, y_pred, xticks_rotation='vertical', cmap='Blues')\n",
    "\n",
    "print(\"Classification Report:\")\n",
    "print(report)\n",
    "print()\n",
    "\n",
    "print(\"Confusion Matrix:\")\n",
    "print(cm)"
   ]
  }
 ],
 "metadata": {
  "kernelspec": {
   "display_name": "Python 3 (ipykernel)",
   "language": "python",
   "name": "python3"
  },
  "language_info": {
   "codemirror_mode": {
    "name": "ipython",
    "version": 3
   },
   "file_extension": ".py",
   "mimetype": "text/x-python",
   "name": "python",
   "nbconvert_exporter": "python",
   "pygments_lexer": "ipython3",
   "version": "3.13.1"
  }
 },
 "nbformat": 4,
 "nbformat_minor": 5
}
