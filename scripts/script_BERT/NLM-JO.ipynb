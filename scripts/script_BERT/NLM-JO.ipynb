{
 "cells": [
  {
   "cell_type": "markdown",
   "id": "211b3008-182e-4603-b393-cc3237862a25",
   "metadata": {},
   "source": [
    "# Fase 4 - NLM (in-genre classification)\n",
    "\n",
    "Dopo aver scelto un Neural Language Model tra quelli visti a lezione, condurre un processo di fine-tuning per 5 epoche. Riportare i seguenti risultati:\n",
    "- riportare le curve di loss di training e di validation;\n",
    "- per ogni epoca valutare il sistema sul validation set;\n",
    "- alla fine dell’ultima epoca, riportare la valutazione del sistema sul test set ufficiale."
   ]
  },
  {
   "cell_type": "markdown",
   "id": "19ceba7e-142b-4e21-81c9-28ce1f339250",
   "metadata": {},
   "source": [
    "Dal task GxG Evalita 2018:\n",
    "\n",
    "\"Given a (collection of) text(s) from a specific genre, the gender of the author has to be predicted. The task is cast as a binary classification task, with gender represented as F (female) or M (male). Gender prediction will be done in two ways: \n",
    "\n",
    "1. **using a model which has been trained on the same genre**\n",
    "2. using a model which has been trained on anything but that genre.\"\n",
    "\n",
    "In questo file utilizzeremo un modello allenato sullo stesso genere su cui poi verrà testato."
   ]
  },
  {
   "cell_type": "markdown",
   "id": "cb016f4d-b91a-43ed-b7ec-acd004130e28",
   "metadata": {},
   "source": [
    "## Installazione e importazione librerie NLP"
   ]
  },
  {
   "cell_type": "code",
   "execution_count": 1,
   "id": "f469164b-6aef-4414-9cbf-81a1d2b4b687",
   "metadata": {},
   "outputs": [
    {
     "name": "stdout",
     "output_type": "stream",
     "text": [
      "Requirement already satisfied: datasets in c:\\users\\agnes\\appdata\\local\\programs\\python\\python313\\lib\\site-packages (3.5.0)\n",
      "Requirement already satisfied: filelock in c:\\users\\agnes\\appdata\\local\\programs\\python\\python313\\lib\\site-packages (from datasets) (3.17.0)\n",
      "Requirement already satisfied: numpy>=1.17 in c:\\users\\agnes\\appdata\\local\\programs\\python\\python313\\lib\\site-packages (from datasets) (2.2.2)\n",
      "Requirement already satisfied: pyarrow>=15.0.0 in c:\\users\\agnes\\appdata\\local\\programs\\python\\python313\\lib\\site-packages (from datasets) (19.0.1)\n",
      "Requirement already satisfied: dill<0.3.9,>=0.3.0 in c:\\users\\agnes\\appdata\\local\\programs\\python\\python313\\lib\\site-packages (from datasets) (0.3.8)\n",
      "Requirement already satisfied: pandas in c:\\users\\agnes\\appdata\\local\\programs\\python\\python313\\lib\\site-packages (from datasets) (2.2.3)\n",
      "Requirement already satisfied: requests>=2.32.2 in c:\\users\\agnes\\appdata\\local\\programs\\python\\python313\\lib\\site-packages (from datasets) (2.32.3)\n",
      "Requirement already satisfied: tqdm>=4.66.3 in c:\\users\\agnes\\appdata\\local\\programs\\python\\python313\\lib\\site-packages (from datasets) (4.67.1)\n",
      "Requirement already satisfied: xxhash in c:\\users\\agnes\\appdata\\local\\programs\\python\\python313\\lib\\site-packages (from datasets) (3.5.0)\n",
      "Requirement already satisfied: multiprocess<0.70.17 in c:\\users\\agnes\\appdata\\local\\programs\\python\\python313\\lib\\site-packages (from datasets) (0.70.16)\n",
      "Requirement already satisfied: fsspec<=2024.12.0,>=2023.1.0 in c:\\users\\agnes\\appdata\\local\\programs\\python\\python313\\lib\\site-packages (from fsspec[http]<=2024.12.0,>=2023.1.0->datasets) (2024.12.0)\n",
      "Requirement already satisfied: aiohttp in c:\\users\\agnes\\appdata\\local\\programs\\python\\python313\\lib\\site-packages (from datasets) (3.11.16)\n",
      "Requirement already satisfied: huggingface-hub>=0.24.0 in c:\\users\\agnes\\appdata\\local\\programs\\python\\python313\\lib\\site-packages (from datasets) (0.30.1)\n",
      "Requirement already satisfied: packaging in c:\\users\\agnes\\appdata\\roaming\\python\\python313\\site-packages (from datasets) (24.2)\n",
      "Requirement already satisfied: pyyaml>=5.1 in c:\\users\\agnes\\appdata\\local\\programs\\python\\python313\\lib\\site-packages (from datasets) (6.0.2)\n",
      "Requirement already satisfied: aiohappyeyeballs>=2.3.0 in c:\\users\\agnes\\appdata\\local\\programs\\python\\python313\\lib\\site-packages (from aiohttp->datasets) (2.6.1)\n",
      "Requirement already satisfied: aiosignal>=1.1.2 in c:\\users\\agnes\\appdata\\local\\programs\\python\\python313\\lib\\site-packages (from aiohttp->datasets) (1.3.2)\n",
      "Requirement already satisfied: attrs>=17.3.0 in c:\\users\\agnes\\appdata\\local\\programs\\python\\python313\\lib\\site-packages (from aiohttp->datasets) (24.3.0)\n",
      "Requirement already satisfied: frozenlist>=1.1.1 in c:\\users\\agnes\\appdata\\local\\programs\\python\\python313\\lib\\site-packages (from aiohttp->datasets) (1.5.0)\n",
      "Requirement already satisfied: multidict<7.0,>=4.5 in c:\\users\\agnes\\appdata\\local\\programs\\python\\python313\\lib\\site-packages (from aiohttp->datasets) (6.3.1)\n",
      "Requirement already satisfied: propcache>=0.2.0 in c:\\users\\agnes\\appdata\\local\\programs\\python\\python313\\lib\\site-packages (from aiohttp->datasets) (0.3.1)\n",
      "Requirement already satisfied: yarl<2.0,>=1.17.0 in c:\\users\\agnes\\appdata\\local\\programs\\python\\python313\\lib\\site-packages (from aiohttp->datasets) (1.18.3)\n",
      "Requirement already satisfied: typing-extensions>=3.7.4.3 in c:\\users\\agnes\\appdata\\local\\programs\\python\\python313\\lib\\site-packages (from huggingface-hub>=0.24.0->datasets) (4.12.2)\n",
      "Requirement already satisfied: charset-normalizer<4,>=2 in c:\\users\\agnes\\appdata\\local\\programs\\python\\python313\\lib\\site-packages (from requests>=2.32.2->datasets) (3.4.1)\n",
      "Requirement already satisfied: idna<4,>=2.5 in c:\\users\\agnes\\appdata\\local\\programs\\python\\python313\\lib\\site-packages (from requests>=2.32.2->datasets) (3.10)\n",
      "Requirement already satisfied: urllib3<3,>=1.21.1 in c:\\users\\agnes\\appdata\\local\\programs\\python\\python313\\lib\\site-packages (from requests>=2.32.2->datasets) (2.3.0)\n",
      "Requirement already satisfied: certifi>=2017.4.17 in c:\\users\\agnes\\appdata\\local\\programs\\python\\python313\\lib\\site-packages (from requests>=2.32.2->datasets) (2024.12.14)\n",
      "Requirement already satisfied: colorama in c:\\users\\agnes\\appdata\\roaming\\python\\python313\\site-packages (from tqdm>=4.66.3->datasets) (0.4.6)\n",
      "Requirement already satisfied: python-dateutil>=2.8.2 in c:\\users\\agnes\\appdata\\roaming\\python\\python313\\site-packages (from pandas->datasets) (2.9.0.post0)\n",
      "Requirement already satisfied: pytz>=2020.1 in c:\\users\\agnes\\appdata\\local\\programs\\python\\python313\\lib\\site-packages (from pandas->datasets) (2024.2)\n",
      "Requirement already satisfied: tzdata>=2022.7 in c:\\users\\agnes\\appdata\\local\\programs\\python\\python313\\lib\\site-packages (from pandas->datasets) (2025.1)\n",
      "Requirement already satisfied: six>=1.5 in c:\\users\\agnes\\appdata\\roaming\\python\\python313\\site-packages (from python-dateutil>=2.8.2->pandas->datasets) (1.17.0)\n"
     ]
    },
    {
     "name": "stderr",
     "output_type": "stream",
     "text": [
      "\n",
      "[notice] A new release of pip is available: 24.3.1 -> 25.1.1\n",
      "[notice] To update, run: python.exe -m pip install --upgrade pip\n"
     ]
    },
    {
     "name": "stdout",
     "output_type": "stream",
     "text": [
      "Requirement already satisfied: evaluate in c:\\users\\agnes\\appdata\\local\\programs\\python\\python313\\lib\\site-packages (0.4.3)\n",
      "Requirement already satisfied: datasets>=2.0.0 in c:\\users\\agnes\\appdata\\local\\programs\\python\\python313\\lib\\site-packages (from evaluate) (3.5.0)\n",
      "Requirement already satisfied: numpy>=1.17 in c:\\users\\agnes\\appdata\\local\\programs\\python\\python313\\lib\\site-packages (from evaluate) (2.2.2)\n",
      "Requirement already satisfied: dill in c:\\users\\agnes\\appdata\\local\\programs\\python\\python313\\lib\\site-packages (from evaluate) (0.3.8)\n",
      "Requirement already satisfied: pandas in c:\\users\\agnes\\appdata\\local\\programs\\python\\python313\\lib\\site-packages (from evaluate) (2.2.3)\n",
      "Requirement already satisfied: requests>=2.19.0 in c:\\users\\agnes\\appdata\\local\\programs\\python\\python313\\lib\\site-packages (from evaluate) (2.32.3)\n",
      "Requirement already satisfied: tqdm>=4.62.1 in c:\\users\\agnes\\appdata\\local\\programs\\python\\python313\\lib\\site-packages (from evaluate) (4.67.1)\n",
      "Requirement already satisfied: xxhash in c:\\users\\agnes\\appdata\\local\\programs\\python\\python313\\lib\\site-packages (from evaluate) (3.5.0)\n",
      "Requirement already satisfied: multiprocess in c:\\users\\agnes\\appdata\\local\\programs\\python\\python313\\lib\\site-packages (from evaluate) (0.70.16)\n",
      "Requirement already satisfied: fsspec>=2021.05.0 in c:\\users\\agnes\\appdata\\local\\programs\\python\\python313\\lib\\site-packages (from fsspec[http]>=2021.05.0->evaluate) (2024.12.0)\n",
      "Requirement already satisfied: huggingface-hub>=0.7.0 in c:\\users\\agnes\\appdata\\local\\programs\\python\\python313\\lib\\site-packages (from evaluate) (0.30.1)\n",
      "Requirement already satisfied: packaging in c:\\users\\agnes\\appdata\\roaming\\python\\python313\\site-packages (from evaluate) (24.2)\n",
      "Requirement already satisfied: filelock in c:\\users\\agnes\\appdata\\local\\programs\\python\\python313\\lib\\site-packages (from datasets>=2.0.0->evaluate) (3.17.0)\n",
      "Requirement already satisfied: pyarrow>=15.0.0 in c:\\users\\agnes\\appdata\\local\\programs\\python\\python313\\lib\\site-packages (from datasets>=2.0.0->evaluate) (19.0.1)\n",
      "Requirement already satisfied: aiohttp in c:\\users\\agnes\\appdata\\local\\programs\\python\\python313\\lib\\site-packages (from datasets>=2.0.0->evaluate) (3.11.16)\n",
      "Requirement already satisfied: pyyaml>=5.1 in c:\\users\\agnes\\appdata\\local\\programs\\python\\python313\\lib\\site-packages (from datasets>=2.0.0->evaluate) (6.0.2)\n",
      "Requirement already satisfied: typing-extensions>=3.7.4.3 in c:\\users\\agnes\\appdata\\local\\programs\\python\\python313\\lib\\site-packages (from huggingface-hub>=0.7.0->evaluate) (4.12.2)\n",
      "Requirement already satisfied: charset-normalizer<4,>=2 in c:\\users\\agnes\\appdata\\local\\programs\\python\\python313\\lib\\site-packages (from requests>=2.19.0->evaluate) (3.4.1)\n",
      "Requirement already satisfied: idna<4,>=2.5 in c:\\users\\agnes\\appdata\\local\\programs\\python\\python313\\lib\\site-packages (from requests>=2.19.0->evaluate) (3.10)\n",
      "Requirement already satisfied: urllib3<3,>=1.21.1 in c:\\users\\agnes\\appdata\\local\\programs\\python\\python313\\lib\\site-packages (from requests>=2.19.0->evaluate) (2.3.0)\n",
      "Requirement already satisfied: certifi>=2017.4.17 in c:\\users\\agnes\\appdata\\local\\programs\\python\\python313\\lib\\site-packages (from requests>=2.19.0->evaluate) (2024.12.14)\n",
      "Requirement already satisfied: colorama in c:\\users\\agnes\\appdata\\roaming\\python\\python313\\site-packages (from tqdm>=4.62.1->evaluate) (0.4.6)\n",
      "Requirement already satisfied: python-dateutil>=2.8.2 in c:\\users\\agnes\\appdata\\roaming\\python\\python313\\site-packages (from pandas->evaluate) (2.9.0.post0)\n",
      "Requirement already satisfied: pytz>=2020.1 in c:\\users\\agnes\\appdata\\local\\programs\\python\\python313\\lib\\site-packages (from pandas->evaluate) (2024.2)\n",
      "Requirement already satisfied: tzdata>=2022.7 in c:\\users\\agnes\\appdata\\local\\programs\\python\\python313\\lib\\site-packages (from pandas->evaluate) (2025.1)\n",
      "Requirement already satisfied: aiohappyeyeballs>=2.3.0 in c:\\users\\agnes\\appdata\\local\\programs\\python\\python313\\lib\\site-packages (from aiohttp->datasets>=2.0.0->evaluate) (2.6.1)\n",
      "Requirement already satisfied: aiosignal>=1.1.2 in c:\\users\\agnes\\appdata\\local\\programs\\python\\python313\\lib\\site-packages (from aiohttp->datasets>=2.0.0->evaluate) (1.3.2)\n",
      "Requirement already satisfied: attrs>=17.3.0 in c:\\users\\agnes\\appdata\\local\\programs\\python\\python313\\lib\\site-packages (from aiohttp->datasets>=2.0.0->evaluate) (24.3.0)\n",
      "Requirement already satisfied: frozenlist>=1.1.1 in c:\\users\\agnes\\appdata\\local\\programs\\python\\python313\\lib\\site-packages (from aiohttp->datasets>=2.0.0->evaluate) (1.5.0)\n",
      "Requirement already satisfied: multidict<7.0,>=4.5 in c:\\users\\agnes\\appdata\\local\\programs\\python\\python313\\lib\\site-packages (from aiohttp->datasets>=2.0.0->evaluate) (6.3.1)\n",
      "Requirement already satisfied: propcache>=0.2.0 in c:\\users\\agnes\\appdata\\local\\programs\\python\\python313\\lib\\site-packages (from aiohttp->datasets>=2.0.0->evaluate) (0.3.1)\n",
      "Requirement already satisfied: yarl<2.0,>=1.17.0 in c:\\users\\agnes\\appdata\\local\\programs\\python\\python313\\lib\\site-packages (from aiohttp->datasets>=2.0.0->evaluate) (1.18.3)\n",
      "Requirement already satisfied: six>=1.5 in c:\\users\\agnes\\appdata\\roaming\\python\\python313\\site-packages (from python-dateutil>=2.8.2->pandas->evaluate) (1.17.0)\n"
     ]
    },
    {
     "name": "stderr",
     "output_type": "stream",
     "text": [
      "\n",
      "[notice] A new release of pip is available: 24.3.1 -> 25.1.1\n",
      "[notice] To update, run: python.exe -m pip install --upgrade pip\n"
     ]
    },
    {
     "name": "stdout",
     "output_type": "stream",
     "text": [
      "Requirement already satisfied: transformers in c:\\users\\agnes\\appdata\\local\\programs\\python\\python313\\lib\\site-packages (4.50.3)\n",
      "Requirement already satisfied: filelock in c:\\users\\agnes\\appdata\\local\\programs\\python\\python313\\lib\\site-packages (from transformers) (3.17.0)\n",
      "Requirement already satisfied: huggingface-hub<1.0,>=0.26.0 in c:\\users\\agnes\\appdata\\local\\programs\\python\\python313\\lib\\site-packages (from transformers) (0.30.1)\n",
      "Requirement already satisfied: numpy>=1.17 in c:\\users\\agnes\\appdata\\local\\programs\\python\\python313\\lib\\site-packages (from transformers) (2.2.2)\n",
      "Requirement already satisfied: packaging>=20.0 in c:\\users\\agnes\\appdata\\roaming\\python\\python313\\site-packages (from transformers) (24.2)\n",
      "Requirement already satisfied: pyyaml>=5.1 in c:\\users\\agnes\\appdata\\local\\programs\\python\\python313\\lib\\site-packages (from transformers) (6.0.2)\n",
      "Requirement already satisfied: regex!=2019.12.17 in c:\\users\\agnes\\appdata\\local\\programs\\python\\python313\\lib\\site-packages (from transformers) (2024.11.6)\n",
      "Requirement already satisfied: requests in c:\\users\\agnes\\appdata\\local\\programs\\python\\python313\\lib\\site-packages (from transformers) (2.32.3)\n",
      "Requirement already satisfied: tokenizers<0.22,>=0.21 in c:\\users\\agnes\\appdata\\local\\programs\\python\\python313\\lib\\site-packages (from transformers) (0.21.1)\n",
      "Requirement already satisfied: safetensors>=0.4.3 in c:\\users\\agnes\\appdata\\local\\programs\\python\\python313\\lib\\site-packages (from transformers) (0.5.3)\n",
      "Requirement already satisfied: tqdm>=4.27 in c:\\users\\agnes\\appdata\\local\\programs\\python\\python313\\lib\\site-packages (from transformers) (4.67.1)\n",
      "Requirement already satisfied: fsspec>=2023.5.0 in c:\\users\\agnes\\appdata\\local\\programs\\python\\python313\\lib\\site-packages (from huggingface-hub<1.0,>=0.26.0->transformers) (2024.12.0)\n",
      "Requirement already satisfied: typing-extensions>=3.7.4.3 in c:\\users\\agnes\\appdata\\local\\programs\\python\\python313\\lib\\site-packages (from huggingface-hub<1.0,>=0.26.0->transformers) (4.12.2)\n",
      "Requirement already satisfied: colorama in c:\\users\\agnes\\appdata\\roaming\\python\\python313\\site-packages (from tqdm>=4.27->transformers) (0.4.6)\n",
      "Requirement already satisfied: charset-normalizer<4,>=2 in c:\\users\\agnes\\appdata\\local\\programs\\python\\python313\\lib\\site-packages (from requests->transformers) (3.4.1)\n",
      "Requirement already satisfied: idna<4,>=2.5 in c:\\users\\agnes\\appdata\\local\\programs\\python\\python313\\lib\\site-packages (from requests->transformers) (3.10)\n",
      "Requirement already satisfied: urllib3<3,>=1.21.1 in c:\\users\\agnes\\appdata\\local\\programs\\python\\python313\\lib\\site-packages (from requests->transformers) (2.3.0)\n",
      "Requirement already satisfied: certifi>=2017.4.17 in c:\\users\\agnes\\appdata\\local\\programs\\python\\python313\\lib\\site-packages (from requests->transformers) (2024.12.14)\n"
     ]
    },
    {
     "name": "stderr",
     "output_type": "stream",
     "text": [
      "\n",
      "[notice] A new release of pip is available: 24.3.1 -> 25.1.1\n",
      "[notice] To update, run: python.exe -m pip install --upgrade pip\n"
     ]
    },
    {
     "name": "stdout",
     "output_type": "stream",
     "text": [
      "Requirement already satisfied: accelerate in c:\\users\\agnes\\appdata\\local\\programs\\python\\python313\\lib\\site-packages (1.6.0)\n",
      "Requirement already satisfied: numpy<3.0.0,>=1.17 in c:\\users\\agnes\\appdata\\local\\programs\\python\\python313\\lib\\site-packages (from accelerate) (2.2.2)\n",
      "Requirement already satisfied: packaging>=20.0 in c:\\users\\agnes\\appdata\\roaming\\python\\python313\\site-packages (from accelerate) (24.2)\n",
      "Requirement already satisfied: psutil in c:\\users\\agnes\\appdata\\roaming\\python\\python313\\site-packages (from accelerate) (6.1.1)\n",
      "Requirement already satisfied: pyyaml in c:\\users\\agnes\\appdata\\local\\programs\\python\\python313\\lib\\site-packages (from accelerate) (6.0.2)\n",
      "Requirement already satisfied: torch>=2.0.0 in c:\\users\\agnes\\appdata\\local\\programs\\python\\python313\\lib\\site-packages (from accelerate) (2.6.0)\n",
      "Requirement already satisfied: huggingface-hub>=0.21.0 in c:\\users\\agnes\\appdata\\local\\programs\\python\\python313\\lib\\site-packages (from accelerate) (0.30.1)\n",
      "Requirement already satisfied: safetensors>=0.4.3 in c:\\users\\agnes\\appdata\\local\\programs\\python\\python313\\lib\\site-packages (from accelerate) (0.5.3)\n",
      "Requirement already satisfied: filelock in c:\\users\\agnes\\appdata\\local\\programs\\python\\python313\\lib\\site-packages (from huggingface-hub>=0.21.0->accelerate) (3.17.0)\n",
      "Requirement already satisfied: fsspec>=2023.5.0 in c:\\users\\agnes\\appdata\\local\\programs\\python\\python313\\lib\\site-packages (from huggingface-hub>=0.21.0->accelerate) (2024.12.0)\n",
      "Requirement already satisfied: requests in c:\\users\\agnes\\appdata\\local\\programs\\python\\python313\\lib\\site-packages (from huggingface-hub>=0.21.0->accelerate) (2.32.3)\n",
      "Requirement already satisfied: tqdm>=4.42.1 in c:\\users\\agnes\\appdata\\local\\programs\\python\\python313\\lib\\site-packages (from huggingface-hub>=0.21.0->accelerate) (4.67.1)\n",
      "Requirement already satisfied: typing-extensions>=3.7.4.3 in c:\\users\\agnes\\appdata\\local\\programs\\python\\python313\\lib\\site-packages (from huggingface-hub>=0.21.0->accelerate) (4.12.2)\n",
      "Requirement already satisfied: networkx in c:\\users\\agnes\\appdata\\local\\programs\\python\\python313\\lib\\site-packages (from torch>=2.0.0->accelerate) (3.4.2)\n",
      "Requirement already satisfied: jinja2 in c:\\users\\agnes\\appdata\\local\\programs\\python\\python313\\lib\\site-packages (from torch>=2.0.0->accelerate) (3.1.5)\n",
      "Requirement already satisfied: setuptools in c:\\users\\agnes\\appdata\\local\\programs\\python\\python313\\lib\\site-packages (from torch>=2.0.0->accelerate) (75.8.0)\n",
      "Requirement already satisfied: sympy==1.13.1 in c:\\users\\agnes\\appdata\\local\\programs\\python\\python313\\lib\\site-packages (from torch>=2.0.0->accelerate) (1.13.1)\n",
      "Requirement already satisfied: mpmath<1.4,>=1.1.0 in c:\\users\\agnes\\appdata\\local\\programs\\python\\python313\\lib\\site-packages (from sympy==1.13.1->torch>=2.0.0->accelerate) (1.3.0)\n",
      "Requirement already satisfied: colorama in c:\\users\\agnes\\appdata\\roaming\\python\\python313\\site-packages (from tqdm>=4.42.1->huggingface-hub>=0.21.0->accelerate) (0.4.6)\n",
      "Requirement already satisfied: MarkupSafe>=2.0 in c:\\users\\agnes\\appdata\\local\\programs\\python\\python313\\lib\\site-packages (from jinja2->torch>=2.0.0->accelerate) (3.0.2)\n",
      "Requirement already satisfied: charset-normalizer<4,>=2 in c:\\users\\agnes\\appdata\\local\\programs\\python\\python313\\lib\\site-packages (from requests->huggingface-hub>=0.21.0->accelerate) (3.4.1)\n",
      "Requirement already satisfied: idna<4,>=2.5 in c:\\users\\agnes\\appdata\\local\\programs\\python\\python313\\lib\\site-packages (from requests->huggingface-hub>=0.21.0->accelerate) (3.10)\n",
      "Requirement already satisfied: urllib3<3,>=1.21.1 in c:\\users\\agnes\\appdata\\local\\programs\\python\\python313\\lib\\site-packages (from requests->huggingface-hub>=0.21.0->accelerate) (2.3.0)\n",
      "Requirement already satisfied: certifi>=2017.4.17 in c:\\users\\agnes\\appdata\\local\\programs\\python\\python313\\lib\\site-packages (from requests->huggingface-hub>=0.21.0->accelerate) (2024.12.14)\n"
     ]
    },
    {
     "name": "stderr",
     "output_type": "stream",
     "text": [
      "\n",
      "[notice] A new release of pip is available: 24.3.1 -> 25.1.1\n",
      "[notice] To update, run: python.exe -m pip install --upgrade pip\n"
     ]
    },
    {
     "name": "stdout",
     "output_type": "stream",
     "text": [
      "Requirement already satisfied: seaborn in c:\\users\\agnes\\appdata\\local\\programs\\python\\python313\\lib\\site-packages (0.13.2)\n",
      "Requirement already satisfied: numpy!=1.24.0,>=1.20 in c:\\users\\agnes\\appdata\\local\\programs\\python\\python313\\lib\\site-packages (from seaborn) (2.2.2)\n",
      "Requirement already satisfied: pandas>=1.2 in c:\\users\\agnes\\appdata\\local\\programs\\python\\python313\\lib\\site-packages (from seaborn) (2.2.3)\n",
      "Requirement already satisfied: matplotlib!=3.6.1,>=3.4 in c:\\users\\agnes\\appdata\\local\\programs\\python\\python313\\lib\\site-packages (from seaborn) (3.10.0)\n",
      "Requirement already satisfied: contourpy>=1.0.1 in c:\\users\\agnes\\appdata\\local\\programs\\python\\python313\\lib\\site-packages (from matplotlib!=3.6.1,>=3.4->seaborn) (1.3.1)\n",
      "Requirement already satisfied: cycler>=0.10 in c:\\users\\agnes\\appdata\\local\\programs\\python\\python313\\lib\\site-packages (from matplotlib!=3.6.1,>=3.4->seaborn) (0.12.1)\n",
      "Requirement already satisfied: fonttools>=4.22.0 in c:\\users\\agnes\\appdata\\local\\programs\\python\\python313\\lib\\site-packages (from matplotlib!=3.6.1,>=3.4->seaborn) (4.55.5)\n",
      "Requirement already satisfied: kiwisolver>=1.3.1 in c:\\users\\agnes\\appdata\\local\\programs\\python\\python313\\lib\\site-packages (from matplotlib!=3.6.1,>=3.4->seaborn) (1.4.8)\n",
      "Requirement already satisfied: packaging>=20.0 in c:\\users\\agnes\\appdata\\roaming\\python\\python313\\site-packages (from matplotlib!=3.6.1,>=3.4->seaborn) (24.2)\n",
      "Requirement already satisfied: pillow>=8 in c:\\users\\agnes\\appdata\\local\\programs\\python\\python313\\lib\\site-packages (from matplotlib!=3.6.1,>=3.4->seaborn) (11.1.0)\n",
      "Requirement already satisfied: pyparsing>=2.3.1 in c:\\users\\agnes\\appdata\\local\\programs\\python\\python313\\lib\\site-packages (from matplotlib!=3.6.1,>=3.4->seaborn) (3.2.1)\n",
      "Requirement already satisfied: python-dateutil>=2.7 in c:\\users\\agnes\\appdata\\roaming\\python\\python313\\site-packages (from matplotlib!=3.6.1,>=3.4->seaborn) (2.9.0.post0)\n",
      "Requirement already satisfied: pytz>=2020.1 in c:\\users\\agnes\\appdata\\local\\programs\\python\\python313\\lib\\site-packages (from pandas>=1.2->seaborn) (2024.2)\n",
      "Requirement already satisfied: tzdata>=2022.7 in c:\\users\\agnes\\appdata\\local\\programs\\python\\python313\\lib\\site-packages (from pandas>=1.2->seaborn) (2025.1)\n",
      "Requirement already satisfied: six>=1.5 in c:\\users\\agnes\\appdata\\roaming\\python\\python313\\site-packages (from python-dateutil>=2.7->matplotlib!=3.6.1,>=3.4->seaborn) (1.17.0)\n"
     ]
    },
    {
     "name": "stderr",
     "output_type": "stream",
     "text": [
      "\n",
      "[notice] A new release of pip is available: 24.3.1 -> 25.1.1\n",
      "[notice] To update, run: python.exe -m pip install --upgrade pip\n"
     ]
    }
   ],
   "source": [
    "# Accesso dataset NLP standard (es. GLUE, IMDb, ecc.)\n",
    "!pip install datasets\n",
    "# Metriche valutazione\n",
    "! pip install evaluate\n",
    "# Libreria di HuggingFace per usare modelli preaddestrati (es. BERT, GPT)\n",
    "! pip install transformers\n",
    "# Ottimizzo l'uso di GPU/CPU nel training\n",
    "! pip install accelerate\n",
    "\n",
    "!pip install seaborn"
   ]
  },
  {
   "cell_type": "code",
   "execution_count": 2,
   "id": "7417b899-0b72-41e7-b948-bf125bc43d21",
   "metadata": {},
   "outputs": [],
   "source": [
    "import os\n",
    "import numpy as np\n",
    "import pandas as pd\n",
    "import datasets\n",
    "import evaluate\n",
    "import seaborn as sns\n",
    "from sklearn.metrics import classification_report\n",
    "from sklearn.metrics import ConfusionMatrixDisplay\n",
    "from transformers import AutoTokenizer\n",
    "from transformers import AutoModelForSequenceClassification, TrainingArguments, Trainer"
   ]
  },
  {
   "cell_type": "markdown",
   "id": "1946131c-da16-48d1-933a-15374bc41b34",
   "metadata": {},
   "source": [
    "## Caricamento dei dati"
   ]
  },
  {
   "cell_type": "code",
   "execution_count": 3,
   "id": "48aaf815-423c-4868-bc88-44e6eb99479d",
   "metadata": {},
   "outputs": [],
   "source": [
    "train_data = []\n",
    "test_data = []\n",
    "labels = []\n",
    "genres = ['journalism']\n",
    "\n",
    "\n",
    "# Mappa genre → nome file .gold\n",
    "genre_to_gold = {\n",
    "    #'children': 'test_CH.gold',\n",
    "    #'diary': 'test_DI.gold',\n",
    "    'journalism': 'test_JO.gold',\n",
    "    #'twitter': 'test_TW.gold'\n",
    "}\n",
    "\n",
    "# Carico i file .gold in un dizionario {genre: {id: label}}\n",
    "gold_labels = {}\n",
    "for genre, gold_file in genre_to_gold.items():\n",
    "    gold_path = f\"../../data/dataset_originale/gold/{gold_file}\"\n",
    "    gold_dict = {}\n",
    "\n",
    "    with open(gold_path, 'r', encoding='utf-8') as f:\n",
    "        for line in f:\n",
    "            parts = line.strip().split()\n",
    "            if len(parts) == 2:\n",
    "                doc_id, gender = parts\n",
    "                gold_dict[doc_id] = gender\n",
    "\n",
    "    gold_labels[genre] = gold_dict\n",
    "\n",
    "# Parsing dei file txt\n",
    "for genre in genres:\n",
    "    data_folder = f\"../../data/profiling_input/{genre}/\"\n",
    "    documents = os.listdir(data_folder)\n",
    "    \n",
    "    for document in documents:\n",
    "        parts = document.rstrip('.txt').split('#')\n",
    "        \n",
    "        if len(parts) != 4: continue # Salta file con nome non conforme al formato usato\n",
    "        \n",
    "        type_document = parts[0] # training o test\n",
    "        doc_id = parts[1]        # ID doc\n",
    "        genre_check = parts[2]   # genere doc (per debug)\n",
    "        gender = None            # sesso autore\n",
    "\n",
    "        if type_document == \"training\":\n",
    "            gender = parts[3]\n",
    "        else: \n",
    "            gender = gold_labels[genre].get(doc_id)\n",
    "\n",
    "        if gender is None or gender == 'unknown':\n",
    "            continue  # ignora test senza etichetta valida\n",
    "\n",
    "        if gender not in labels:\n",
    "            labels.append(gender)\n",
    "\n",
    "        # training: etichetta nota (da filename)\n",
    "        # test: etichetta assegnata solo per valutare le prestazioni, non per l'addestramento!\n",
    "        # se è un file di test (test#112#genre#unknown.txt), il gender non è presente nel nome del file, quindi lo prendi dalla corrispondenza tramite la chiave ID con il gold set\n",
    "\n",
    "        with open(os.path.join(data_folder, document), 'r', encoding='utf-8') as file:\n",
    "            text = file.read()\n",
    "\n",
    "        input_instance = {}\n",
    "        input_instance[\"id\"] = document\n",
    "        input_instance[\"sentence\"] = text\n",
    "        input_instance[\"label\"] = gender  # predizione del genere M/F\n",
    "\n",
    "        if type_document == \"training\":\n",
    "            train_data.append(input_instance)\n",
    "        else:\n",
    "            test_data.append(input_instance)\n",
    "\n",
    "str_to_int = {label: idx for idx, label in enumerate(labels)}"
   ]
  },
  {
   "cell_type": "code",
   "execution_count": 4,
   "id": "e62a6797-af27-4158-a3ea-dedce20e8975",
   "metadata": {},
   "outputs": [
    {
     "name": "stdout",
     "output_type": "stream",
     "text": [
      "FILE CARICATI CORRETTAMENTE!\n",
      "Totale file in train: 200\n",
      "Totale file in test: 200\n",
      "Label da predirre: ['F', 'M']\n",
      "\n",
      "Primi 10 file nel training set:\n",
      " - ../data/profiling_input/journalism/training#1#journalism#M.txt\n",
      " - ../data/profiling_input/journalism/training#1#journalism#M.txt\n",
      " - ../data/profiling_input/journalism/training#10#journalism#M.txt\n",
      " - ../data/profiling_input/journalism/training#10#journalism#M.txt\n",
      " - ../data/profiling_input/journalism/training#100#journalism#M.txt\n",
      " - ../data/profiling_input/journalism/training#100#journalism#M.txt\n",
      " - ../data/profiling_input/journalism/training#101#journalism#F.txt\n",
      " - ../data/profiling_input/journalism/training#101#journalism#F.txt\n",
      " - ../data/profiling_input/journalism/training#102#journalism#F.txt\n",
      " - ../data/profiling_input/journalism/training#102#journalism#F.txt\n",
      " - ../data/profiling_input/journalism/training#103#journalism#F.txt\n",
      " - ../data/profiling_input/journalism/training#103#journalism#F.txt\n",
      " - ../data/profiling_input/journalism/training#104#journalism#F.txt\n",
      " - ../data/profiling_input/journalism/training#104#journalism#F.txt\n",
      " - ../data/profiling_input/journalism/training#105#journalism#F.txt\n",
      " - ../data/profiling_input/journalism/training#105#journalism#F.txt\n",
      " - ../data/profiling_input/journalism/training#106#journalism#F.txt\n",
      " - ../data/profiling_input/journalism/training#106#journalism#F.txt\n",
      " - ../data/profiling_input/journalism/training#107#journalism#F.txt\n",
      " - ../data/profiling_input/journalism/training#107#journalism#F.txt\n",
      "\n",
      "Primi 10 file nel test set:\n",
      " - ../data/profiling_input/journalism/test#1#journalism#unknown.txt\n",
      " - ../data/profiling_input/journalism/test#1#journalism#unknown.txt\n",
      " - ../data/profiling_input/journalism/test#10#journalism#unknown.txt\n",
      " - ../data/profiling_input/journalism/test#10#journalism#unknown.txt\n",
      " - ../data/profiling_input/journalism/test#100#journalism#unknown.txt\n",
      " - ../data/profiling_input/journalism/test#100#journalism#unknown.txt\n",
      " - ../data/profiling_input/journalism/test#101#journalism#unknown.txt\n",
      " - ../data/profiling_input/journalism/test#101#journalism#unknown.txt\n",
      " - ../data/profiling_input/journalism/test#102#journalism#unknown.txt\n",
      " - ../data/profiling_input/journalism/test#102#journalism#unknown.txt\n",
      " - ../data/profiling_input/journalism/test#103#journalism#unknown.txt\n",
      " - ../data/profiling_input/journalism/test#103#journalism#unknown.txt\n",
      " - ../data/profiling_input/journalism/test#104#journalism#unknown.txt\n",
      " - ../data/profiling_input/journalism/test#104#journalism#unknown.txt\n",
      " - ../data/profiling_input/journalism/test#105#journalism#unknown.txt\n",
      " - ../data/profiling_input/journalism/test#105#journalism#unknown.txt\n",
      " - ../data/profiling_input/journalism/test#106#journalism#unknown.txt\n",
      " - ../data/profiling_input/journalism/test#106#journalism#unknown.txt\n",
      " - ../data/profiling_input/journalism/test#107#journalism#unknown.txt\n",
      " - ../data/profiling_input/journalism/test#107#journalism#unknown.txt\n"
     ]
    }
   ],
   "source": [
    "# Stampa di controllo\n",
    "print(\"FILE CARICATI CORRETTAMENTE!\")\n",
    "print(f\"Totale file in train: {len(train_data)}\")\n",
    "print(f\"Totale file in test: {len(test_data)}\")\n",
    "print(\"Label da predirre:\", labels)\n",
    "\n",
    "\n",
    "print(\"\\nPrimi 10 file nel training set:\")\n",
    "for item in train_data[:10]:\n",
    "    print(\" -\", os.path.join(data_folder, item[\"id\"]))\n",
    "    print(\" -\", f\"../../data/profiling_input/{genre}/\" + item[\"id\"])\n",
    "\n",
    "\n",
    "print(\"\\nPrimi 10 file nel test set:\")\n",
    "for item in test_data[:10]:\n",
    "    print(\" -\", os.path.join(data_folder, item[\"id\"]))\n",
    "    print(\" -\", f\"../../data/profiling_input/{genre}/\" + item[\"id\"])"
   ]
  },
  {
   "cell_type": "markdown",
   "id": "0d500580-db82-47ac-887b-3faaf03daf12",
   "metadata": {},
   "source": [
    "## Conversione e split dei dataset in formato HuggingFace"
   ]
  },
  {
   "cell_type": "code",
   "execution_count": 5,
   "id": "f2307b04-c908-4b3a-a0e1-e1c99336c49c",
   "metadata": {},
   "outputs": [
    {
     "name": "stdout",
     "output_type": "stream",
     "text": [
      "Dataset({\n",
      "    features: ['id', 'sentence', 'label'],\n",
      "    num_rows: 160\n",
      "})\n",
      "\n",
      "Esempio di testo: Primo giorno di scuola, prima protesta i bidelli precari salgono sul tetto ILARIA VENTURI «CI HANNO dato questo unico lavoro: morire di fame». Gridano, e sono disperati. Bidelli rimasti senza lavoro hanno fatto la scelta estrema del tetto delle scuole elementari Bottego, occupato sino al tardo pomeriggio, per far sentire la loro voce. Rimarrà l' immagine del primo giorno di scuola a Bologna. La più forte. Poi, tante piccole segnalazioni delle cose che non vanno nelle classi, raccolte a cura dell' Assemblea delle scuole, i discorsi ufficiali (in collegamento via web il governatore Vasco Errani), il taglio del nastro al Mattei di San Lazzaro, dove la Provincia ricorda i 19 milioni spesi per l' edilizia scolastica. Ma c' è anche l' emozione dei \"primini\" e la protesta degli studenti medi dei collettivi. La scuola che accoglie tutti, con il record al Pilastro: alla materna Panzini, 55 bambini stranieri su 67. E le emergenze: i bidelli che dovevano pulire la scuola alle medie di Monterenzio non sono arrivati, nonostante le segnalazioni della preside, anche alla Prefettura, cosicchè la dirigente ha dovuto fare un contratto con una cooperativa, pescando dai fondi destinati a progetti didattici per garantire il regolare funzionamento della scuola almeno nella prima settimana. Infine, tre degli scuolabus Atc che portano i bambini alle elementari Longhena patiscono un' «avaria», vengono sostituiti all' ultimo e arrivano in ritardo, e pare l' ennesima immagine simbolica di una scuola pubblica che arranca. Fa sorridere, forse. La realtà invece è duramente imposta dai bidelli precari che quest' anno, causa tagli, sono rimasti a casa: 163 a Bologna, fra tecnici, amministrativi e collaboratori. In una ventina si sono presentati ieri alle otto alla primaria dell' istituto comprensivo 3, in via della Beverara, chiedendo di partecipare alla diretta web promossa dalla Regione con l' Ufficio scolastico regionale. Il collegamento, in realtà, è alle medie. Ma la preside Amneris Vigarani, che prima chiede all' ufficio scolastico provinciale e riceve l' invito ad avvertire le forze dell' ordine, nega la variazione di programma. «E' una diretta dai contenuti didattici - spiega lei -. Capisco la crisi e le loro ragioni, ma non è questo il modo di manifestare il proprio disagio». «Parlano gli studenti, non è il luogo adatto», fanno sapere dall' ufficio scolastico regionale, che tace nel dare risposte sui posti tagliati. I bidelli salgono allora sul tetto, passando dal retro della scuola. In quattordici, poi rimasti in otto nel pomeriggio: «Siamo disoccupati, ci hanno buttato come scarpe vecchie». Donne di cinquant' anni, padri di famiglia con figli da mantenere, con contratti rinnovati da cinque, sette anni. Con loro i sindacalisti Usb. «Sono lavoratori indispensabili nelle scuole, dove molti piani non sono più sorvegliati per mancanza di personale, e li hanno lasciati a casa, uno scandalo», tuona Francesco Bonfini, voce Usb. «Chiediamo che la Regione intervenga con un piano straordinario per questi lavoratori, questa è un' emergenza sociale». La Regione non è la loro controparte, ma lo Stato. E sono i tagli della Gelmini ad averli mandati a casa. Ma alla fine, dopo una lunga e dura giornata (all' una sale sul tetto una tenda, qualche genitore si ferma e applaude, alcune maestre allungano un po' di pane e qualche mela per pranzo), i lavoratori scendono, incassata la promessa di un incontro oggi e di un tavolo tecnico con l' assessore Bianchi, che pure li avrebbe fatti parlare nella diretta. «Riceveremo ancora questi lavoratori promette Bianchi -. E' grave la riduzione degli organici, il ministero deve dare risposte ai lavoratori della scuola». Certo è, dicono i bidelli, che «non ci arrenderemo».\n",
      "\n",
      "Esempio di label: F\n",
      "\n",
      "Dimensione del training set: (160, 3)\n",
      "Dimensione del development set: (40, 3)\n",
      "Dimensione del test set: (200, 3)\n"
     ]
    }
   ],
   "source": [
    "# 1. Conversione da lista dizionari a dataset HuggingFace\n",
    "train = datasets.Dataset.from_pandas(pd.DataFrame(data=train_data))\n",
    "test = datasets.Dataset.from_pandas(pd.DataFrame(data=test_data))\n",
    "\n",
    "# 2. Split del training set in train/dev\n",
    "train_dev = train.train_test_split(test_size=0.2) # Io ho scelto 80/20 invece che 0.1 come il prof\n",
    "train = train_dev[\"train\"]\n",
    "dev = train_dev[\"test\"]\n",
    "\n",
    "# 3. Stampa di controllo\n",
    "print(train)\n",
    "print()\n",
    "print(\"Esempio di testo:\", train['sentence'][2])\n",
    "print()\n",
    "print(\"Esempio di label:\", train['label'][2])\n",
    "print()\n",
    "\n",
    "# Shape dei dati\n",
    "print(\"Dimensione del training set:\", train.shape)\n",
    "print(\"Dimensione del development set:\", dev.shape)\n",
    "print(\"Dimensione del test set:\", test.shape)\n",
    "\n",
    "# In journalism ci sono 400 file, *** training e *** test, verranno divisi *** training, *** dev e *** test"
   ]
  },
  {
   "cell_type": "markdown",
   "id": "f0c64a33-e172-4792-a9e4-d51a201c5426",
   "metadata": {},
   "source": [
    "## Caricamento del NLM"
   ]
  },
  {
   "cell_type": "code",
   "execution_count": 6,
   "id": "8cdbb0c7-c02b-4370-bde5-94bb9571105f",
   "metadata": {},
   "outputs": [
    {
     "name": "stderr",
     "output_type": "stream",
     "text": [
      "Some weights of BertForSequenceClassification were not initialized from the model checkpoint at dbmdz/bert-base-italian-cased and are newly initialized: ['classifier.bias', 'classifier.weight']\n",
      "You should probably TRAIN this model on a down-stream task to be able to use it for predictions and inference.\n"
     ]
    }
   ],
   "source": [
    "# Scelgo il modello di BERT addestrato sull'italiano con distinzione maiuscole/minuscole (ok perché è sensibile allo stile linguistico e devo fare author profiling)\n",
    "model_name = 'dbmdz/bert-base-italian-cased'\n",
    "\n",
    "# Carico il modello\n",
    "model = AutoModelForSequenceClassification.from_pretrained(model_name, num_labels=len(labels))\n",
    "\n",
    "# Carico il tokenizzatore\n",
    "tokenizer = AutoTokenizer.from_pretrained(model_name)"
   ]
  },
  {
   "cell_type": "markdown",
   "id": "c83f96f8-d13a-4fb1-a48c-c7a4399f3a01",
   "metadata": {},
   "source": [
    "## Preprocessing dei dati"
   ]
  },
  {
   "cell_type": "code",
   "execution_count": 7,
   "id": "1769c578-9812-4dd0-be23-95a4fdf943b2",
   "metadata": {},
   "outputs": [
    {
     "data": {
      "text/plain": [
       "{'input_ids': [102, 13569, 131, 9475, 639, 1553, 4876, 13990, 14395, 15460, 29512, 5871, 162, 9475, 6176, 639, 1553, 4876, 13990, 136, 3868, 1307, 2998, 6666, 181, 1553, 27235, 13449, 298, 1553, 11408, 23672, 3052, 26302, 1307, 158, 3473, 134, 3685, 120, 1676, 1989, 171, 1131, 19762, 697, 184, 2290, 298, 1553, 15741, 1307, 7621, 1211, 8244, 120, 3524, 21131, 210, 461, 20963, 203, 19344, 9433, 14409, 1307, 288, 1030, 8749, 203, 26258, 16337, 30879, 126, 9980, 25793, 8418, 1307, 9530, 136, 3442, 2472, 1307, 158, 586, 22415, 181, 1553, 27235, 6666, 324, 2229, 213, 1354, 2273, 1587, 153, 224, 3235, 171, 1131, 19762, 136, 560, 1307, 761, 2957, 1307, 23519, 134, 3685, 120, 1676, 1989, 697, 1209, 8384, 158, 1307, 1037, 141, 1553, 15741, 120, 701, 988, 1643, 30878, 1307, 1714, 2015, 406, 19637, 1381, 207, 4228, 1922, 11342, 1587, 181, 1553, 1560, 223, 17381, 1423, 111, 141, 1198, 25553, 1008, 111, 1302, 2242, 126, 2262, 957, 199, 3167, 136, 3773, 11020, 111, 17420, 224, 244, 210, 353, 20748, 2014, 1527, 518, 1058, 3657, 22132, 697, 400, 2927, 417, 1484, 340, 3868, 1307, 199, 2229, 21131, 210, 1307, 693, 1019, 5153, 181, 1553, 26167, 194, 111, 3247, 1481, 249, 2765, 729, 1307, 729, 2957, 4567, 1307, 586, 6176, 141, 9475, 639, 1553, 4876, 5124, 785, 105, 1553, 1481, 1307, 207, 1675, 136, 1040, 302, 223, 198, 24222, 116, 6428, 157, 2765, 405, 1307, 761, 2957, 697, 696, 141, 1693, 158, 18238, 30878, 224, 1928, 18176, 1696, 126, 120, 27229, 8192, 2469, 1307, 206, 223, 1498, 181, 1553, 12539, 1527, 1316, 972, 1459, 298, 1553, 1481, 2865, 697, 442, 2634, 4937, 8671, 134, 2993, 13646, 5700, 1307, 17799, 461, 8421, 1307, 16472, 126, 9436, 1307, 1105, 162, 27875, 4234, 120, 2808, 1307, 223, 13343, 244, 8529, 697, 6031, 21433, 478, 134, 1484, 156, 1676, 15541, 162, 955, 1108, 2788, 382, 19165, 249, 2765, 729, 2957, 4567, 1307, 11454, 203, 1759, 714, 1307, 6694, 1307, 25764, 1307, 1912, 8590, 1307, 1912, 20376, 1307, 4288, 4077, 1307, 14001, 146, 3612, 29841, 249, 2765, 202, 1307, 651, 4567, 697, 966, 4543, 120, 1676, 18238, 30878, 409, 141, 2858, 27235, 136, 1376, 1307, 1977, 2017, 141, 12539, 483, 6102, 340, 1474, 2242, 136, 1375, 1307, 729, 2957, 5193, 1693, 9360, 511, 2316, 1385, 1307, 158, 2406, 141, 2765, 807, 1307, 202, 2957, 697, 369, 3235, 409, 368, 4189, 1307, 21618, 185, 158, 146, 1928, 2415, 28427, 8192, 2469, 697, 3541, 5703, 2099, 139, 4695, 484, 181, 1553, 807, 2957, 278, 6100, 120, 212, 1019, 8542, 3716, 9871, 1307, 1105, 162, 26077, 6131, 2957, 223, 198, 14093, 139, 4137, 12549, 249, 162, 2526, 2957, 153, 21260, 6299, 157, 22297, 4567, 697, 442, 10689, 156, 162, 955, 15336, 4863, 288, 18176, 9696, 1307, 570, 368, 12292, 2672, 11455, 836, 195, 10880, 153, 162, 8198, 2957, 324, 2229, 158, 288, 29933, 1116, 139, 141, 4543, 120, 1676, 126, 162, 8589, 2957, 207, 10217, 292, 3685, 120, 2039, 1553, 1481, 697, 28287, 5506, 409, 146, 12549, 7746, 1307, 18784, 8192, 347, 12076, 12519, 347, 2765, 729, 1307, 729, 2957, 697, 1188, 103], 'token_type_ids': [0, 0, 0, 0, 0, 0, 0, 0, 0, 0, 0, 0, 0, 0, 0, 0, 0, 0, 0, 0, 0, 0, 0, 0, 0, 0, 0, 0, 0, 0, 0, 0, 0, 0, 0, 0, 0, 0, 0, 0, 0, 0, 0, 0, 0, 0, 0, 0, 0, 0, 0, 0, 0, 0, 0, 0, 0, 0, 0, 0, 0, 0, 0, 0, 0, 0, 0, 0, 0, 0, 0, 0, 0, 0, 0, 0, 0, 0, 0, 0, 0, 0, 0, 0, 0, 0, 0, 0, 0, 0, 0, 0, 0, 0, 0, 0, 0, 0, 0, 0, 0, 0, 0, 0, 0, 0, 0, 0, 0, 0, 0, 0, 0, 0, 0, 0, 0, 0, 0, 0, 0, 0, 0, 0, 0, 0, 0, 0, 0, 0, 0, 0, 0, 0, 0, 0, 0, 0, 0, 0, 0, 0, 0, 0, 0, 0, 0, 0, 0, 0, 0, 0, 0, 0, 0, 0, 0, 0, 0, 0, 0, 0, 0, 0, 0, 0, 0, 0, 0, 0, 0, 0, 0, 0, 0, 0, 0, 0, 0, 0, 0, 0, 0, 0, 0, 0, 0, 0, 0, 0, 0, 0, 0, 0, 0, 0, 0, 0, 0, 0, 0, 0, 0, 0, 0, 0, 0, 0, 0, 0, 0, 0, 0, 0, 0, 0, 0, 0, 0, 0, 0, 0, 0, 0, 0, 0, 0, 0, 0, 0, 0, 0, 0, 0, 0, 0, 0, 0, 0, 0, 0, 0, 0, 0, 0, 0, 0, 0, 0, 0, 0, 0, 0, 0, 0, 0, 0, 0, 0, 0, 0, 0, 0, 0, 0, 0, 0, 0, 0, 0, 0, 0, 0, 0, 0, 0, 0, 0, 0, 0, 0, 0, 0, 0, 0, 0, 0, 0, 0, 0, 0, 0, 0, 0, 0, 0, 0, 0, 0, 0, 0, 0, 0, 0, 0, 0, 0, 0, 0, 0, 0, 0, 0, 0, 0, 0, 0, 0, 0, 0, 0, 0, 0, 0, 0, 0, 0, 0, 0, 0, 0, 0, 0, 0, 0, 0, 0, 0, 0, 0, 0, 0, 0, 0, 0, 0, 0, 0, 0, 0, 0, 0, 0, 0, 0, 0, 0, 0, 0, 0, 0, 0, 0, 0, 0, 0, 0, 0, 0, 0, 0, 0, 0, 0, 0, 0, 0, 0, 0, 0, 0, 0, 0, 0, 0, 0, 0, 0, 0, 0, 0, 0, 0, 0, 0, 0, 0, 0, 0, 0, 0, 0, 0, 0, 0, 0, 0, 0, 0, 0, 0, 0, 0, 0, 0, 0, 0, 0, 0, 0, 0, 0, 0, 0, 0, 0, 0, 0, 0, 0, 0, 0, 0, 0, 0, 0, 0, 0, 0, 0, 0, 0, 0, 0, 0, 0, 0, 0, 0, 0, 0, 0, 0, 0, 0, 0, 0, 0, 0, 0, 0, 0, 0, 0, 0, 0, 0, 0, 0, 0, 0, 0, 0, 0, 0, 0, 0, 0, 0, 0, 0, 0, 0, 0, 0, 0, 0, 0, 0, 0, 0, 0, 0, 0, 0, 0, 0, 0, 0, 0, 0, 0, 0, 0, 0, 0, 0, 0, 0, 0, 0, 0], 'attention_mask': [1, 1, 1, 1, 1, 1, 1, 1, 1, 1, 1, 1, 1, 1, 1, 1, 1, 1, 1, 1, 1, 1, 1, 1, 1, 1, 1, 1, 1, 1, 1, 1, 1, 1, 1, 1, 1, 1, 1, 1, 1, 1, 1, 1, 1, 1, 1, 1, 1, 1, 1, 1, 1, 1, 1, 1, 1, 1, 1, 1, 1, 1, 1, 1, 1, 1, 1, 1, 1, 1, 1, 1, 1, 1, 1, 1, 1, 1, 1, 1, 1, 1, 1, 1, 1, 1, 1, 1, 1, 1, 1, 1, 1, 1, 1, 1, 1, 1, 1, 1, 1, 1, 1, 1, 1, 1, 1, 1, 1, 1, 1, 1, 1, 1, 1, 1, 1, 1, 1, 1, 1, 1, 1, 1, 1, 1, 1, 1, 1, 1, 1, 1, 1, 1, 1, 1, 1, 1, 1, 1, 1, 1, 1, 1, 1, 1, 1, 1, 1, 1, 1, 1, 1, 1, 1, 1, 1, 1, 1, 1, 1, 1, 1, 1, 1, 1, 1, 1, 1, 1, 1, 1, 1, 1, 1, 1, 1, 1, 1, 1, 1, 1, 1, 1, 1, 1, 1, 1, 1, 1, 1, 1, 1, 1, 1, 1, 1, 1, 1, 1, 1, 1, 1, 1, 1, 1, 1, 1, 1, 1, 1, 1, 1, 1, 1, 1, 1, 1, 1, 1, 1, 1, 1, 1, 1, 1, 1, 1, 1, 1, 1, 1, 1, 1, 1, 1, 1, 1, 1, 1, 1, 1, 1, 1, 1, 1, 1, 1, 1, 1, 1, 1, 1, 1, 1, 1, 1, 1, 1, 1, 1, 1, 1, 1, 1, 1, 1, 1, 1, 1, 1, 1, 1, 1, 1, 1, 1, 1, 1, 1, 1, 1, 1, 1, 1, 1, 1, 1, 1, 1, 1, 1, 1, 1, 1, 1, 1, 1, 1, 1, 1, 1, 1, 1, 1, 1, 1, 1, 1, 1, 1, 1, 1, 1, 1, 1, 1, 1, 1, 1, 1, 1, 1, 1, 1, 1, 1, 1, 1, 1, 1, 1, 1, 1, 1, 1, 1, 1, 1, 1, 1, 1, 1, 1, 1, 1, 1, 1, 1, 1, 1, 1, 1, 1, 1, 1, 1, 1, 1, 1, 1, 1, 1, 1, 1, 1, 1, 1, 1, 1, 1, 1, 1, 1, 1, 1, 1, 1, 1, 1, 1, 1, 1, 1, 1, 1, 1, 1, 1, 1, 1, 1, 1, 1, 1, 1, 1, 1, 1, 1, 1, 1, 1, 1, 1, 1, 1, 1, 1, 1, 1, 1, 1, 1, 1, 1, 1, 1, 1, 1, 1, 1, 1, 1, 1, 1, 1, 1, 1, 1, 1, 1, 1, 1, 1, 1, 1, 1, 1, 1, 1, 1, 1, 1, 1, 1, 1, 1, 1, 1, 1, 1, 1, 1, 1, 1, 1, 1, 1, 1, 1, 1, 1, 1, 1, 1, 1, 1, 1, 1, 1, 1, 1, 1, 1, 1, 1, 1, 1, 1, 1, 1, 1, 1, 1, 1, 1, 1, 1, 1, 1, 1, 1, 1, 1, 1, 1, 1, 1, 1, 1, 1, 1, 1, 1, 1, 1, 1, 1, 1, 1, 1]}"
      ]
     },
     "execution_count": 7,
     "metadata": {},
     "output_type": "execute_result"
    }
   ],
   "source": [
    "tokenizer(train[\"sentence\"][0], padding=True, truncation=True, max_length=512)\n",
    "\n",
    "# Avrò un dizionario di questo tipo:\n",
    "# {\n",
    "#   'input_ids': [102, 4759, 543, ..., 103], # ogni numero corrisponde a un token del vocabolario di BERT, 102 inizio 103 fine del testo\n",
    "#   'token_type_ids': [0, 0, 0, ..., 0],     # serve solo per i task con due frasi, non è il nostro caso quindi tutti 0\n",
    "#   'attention_mask': [1, 1, 1, ..., 1]      # indica quali sono i padding con 0\n",
    "# }"
   ]
  },
  {
   "cell_type": "markdown",
   "id": "987d46e6-5614-4edc-8a72-1dbbf5fb982d",
   "metadata": {},
   "source": [
    "### Tokenizzazione dei dati"
   ]
  },
  {
   "cell_type": "code",
   "execution_count": 8,
   "id": "443ee761-a0c2-4ea7-8d3b-e3031e2c27bc",
   "metadata": {},
   "outputs": [
    {
     "data": {
      "application/vnd.jupyter.widget-view+json": {
       "model_id": "4978a2ffb6094741b74471fbc2f1d1db",
       "version_major": 2,
       "version_minor": 0
      },
      "text/plain": [
       "Map:   0%|          | 0/160 [00:00<?, ? examples/s]"
      ]
     },
     "metadata": {},
     "output_type": "display_data"
    },
    {
     "data": {
      "application/vnd.jupyter.widget-view+json": {
       "model_id": "dc39f47606444f0288ed1390649c6a17",
       "version_major": 2,
       "version_minor": 0
      },
      "text/plain": [
       "Map:   0%|          | 0/40 [00:00<?, ? examples/s]"
      ]
     },
     "metadata": {},
     "output_type": "display_data"
    },
    {
     "data": {
      "application/vnd.jupyter.widget-view+json": {
       "model_id": "6437ad6c15524623ba78cf1df258e74f",
       "version_major": 2,
       "version_minor": 0
      },
      "text/plain": [
       "Map:   0%|          | 0/200 [00:00<?, ? examples/s]"
      ]
     },
     "metadata": {},
     "output_type": "display_data"
    }
   ],
   "source": [
    "# Funzione che applica la tokenizzazione ai dati di training, dev e test\n",
    "# Tokenizza i testi (sentence) -> input_ids e attention_mask\n",
    "# Converte le etichette 'M' / 'F' in numeri usando str_to_int, es. {'M': 0, 'F': 1}\n",
    "\n",
    "def tokenize(batch):\n",
    "    tokens = tokenizer(batch['sentence'], padding=True, truncation=True, max_length=512)\n",
    "    tokens['label'] = [str_to_int[label] for label in batch[\"label\"]]\n",
    "    return tokens\n",
    "\n",
    "train = train.map(tokenize, batched=True) # Elabora più esempi alla volta <- batched=True\n",
    "dev = dev.map(tokenize, batched=True)\n",
    "test = test.map(tokenize, batched=True)\n",
    "\n",
    "# Conversione dei dataset in tensori PyTorch (serve per usarli con Trainer o modelli HuggingFace)\n",
    "train.set_format('torch', columns=['input_ids', 'attention_mask', 'label'])\n",
    "dev.set_format('torch', columns=['input_ids', 'attention_mask', 'label'])\n",
    "test.set_format('torch', columns=['input_ids', 'attention_mask', 'label'])"
   ]
  },
  {
   "cell_type": "markdown",
   "id": "fd8a8ecf-ea47-4da3-99a7-7e88b5a0b1e2",
   "metadata": {},
   "source": [
    "## Addestramento del modello BERT\n",
    "Per procedere con l'addestramento definiamo:\n",
    "\n",
    "- **Training arguments**: gli argomenti di addestramento (e.g. *numero di epoche/step, learning rate, batch_size, logging/saving strategy*, etc.);\n",
    "- **Metrica**: metrica di addestramento, per valutare le performance del modello in fase di evaluation;\n",
    "- **Trainer**: oggetto della libreria Transformers che processa tutti gli argomenti e, tramite il metodo .train() fa partire l'addestramento."
   ]
  },
  {
   "cell_type": "markdown",
   "id": "2f46c621-d476-4c83-9b33-f5bbaec4f1aa",
   "metadata": {},
   "source": [
    "### Training arguments"
   ]
  },
  {
   "cell_type": "code",
   "execution_count": 9,
   "id": "a98e492e-e691-4fe0-88d9-0a57d9c7f45d",
   "metadata": {},
   "outputs": [
    {
     "name": "stderr",
     "output_type": "stream",
     "text": [
      "C:\\Users\\agnes\\AppData\\Local\\Programs\\Python\\Python313\\Lib\\site-packages\\transformers\\training_args.py:1611: FutureWarning: `evaluation_strategy` is deprecated and will be removed in version 4.46 of 🤗 Transformers. Use `eval_strategy` instead\n",
      "  warnings.warn(\n"
     ]
    }
   ],
   "source": [
    "# Trainer\n",
    "\n",
    "num_epochs = 5\n",
    "\n",
    "training_args = TrainingArguments(\n",
    "    f\"output_BERT-cased/{genre}\",          # directory per salvare il modello\n",
    "    evaluation_strategy = \"epoch\",         # valuta su dev ad ogni epoca\n",
    "    logging_strategy = \"epoch\",            # log automatico a fine epoca\n",
    "    save_strategy = \"epoch\",               # salva modello a ogni epoca\n",
    "    logging_steps=10,                      # log ogni 10 batch (utile solo se logging=\"steps\")\n",
    "    learning_rate=2e-5,                    # learning rate standard per BERT\n",
    "    per_device_train_batch_size=8,         # batch size per GPU/CPU\n",
    "    per_device_eval_batch_size=8,\n",
    "    num_train_epochs=num_epochs,           # numero di epoche\n",
    "    weight_decay=0.01,                     # regolarizzazione\n",
    "    load_best_model_at_end=True            # carica il miglior modello (valutato su dev)\n",
    ")"
   ]
  },
  {
   "cell_type": "markdown",
   "id": "c13cc851-73a9-44e2-b3aa-6eec9582e75d",
   "metadata": {},
   "source": [
    "### Metrica\n",
    "Definiamo una funzione compute_metrics che prende input le predictions del modello e:\n",
    "- applica un argmax alle predictions;\n",
    "- calcola l'F-Score fra le predictions e le true labels."
   ]
  },
  {
   "cell_type": "code",
   "execution_count": 10,
   "id": "a4a33865-f3bd-49b0-8467-feb564490cdf",
   "metadata": {},
   "outputs": [],
   "source": [
    "def compute_metrics(eval_pred):\n",
    "  f1_metric = evaluate.load(\"f1\") # carico la metrica evaluate di HuggingFace\n",
    "  predictions, labels = eval_pred  # è una tupla (logits, labels), fornita automaticamente dal Trainer.\n",
    "  predictions = np.argmax(predictions, axis=1) # prende la classe più probabile (0 o 1) per ogni esempio\n",
    "\n",
    "  return f1_metric.compute(predictions=predictions, references=labels, average=\"weighted\") # calcola l'F1-score pesato, adatto anche a classi sbilanciate\n",
    "    \n",
    "# average=\"weighted\" perché...\n",
    "# - Classi meno frequenti (es. M o F) contano proporzionalmente nel calcolo dell'F1\n",
    "# - È più robusto di macro o micro se hai uno sbilanciamento."
   ]
  },
  {
   "cell_type": "markdown",
   "id": "cc9a9321-b1a3-41c1-8d0d-1bdb52581995",
   "metadata": {},
   "source": [
    "### Trainer\n",
    "A seguito della fase di training, con trainer.save_model() specifichiamo dover voler salvare il modello."
   ]
  },
  {
   "cell_type": "code",
   "execution_count": 11,
   "id": "0f4764b5-2a22-417b-8619-7eea7106a834",
   "metadata": {},
   "outputs": [
    {
     "name": "stderr",
     "output_type": "stream",
     "text": [
      "C:\\Users\\agnes\\AppData\\Local\\Temp\\ipykernel_3372\\1283563509.py:1: FutureWarning: `tokenizer` is deprecated and will be removed in version 5.0.0 for `Trainer.__init__`. Use `processing_class` instead.\n",
      "  trainer = Trainer(\n"
     ]
    },
    {
     "data": {
      "text/html": [
       "\n",
       "    <div>\n",
       "      \n",
       "      <progress value='100' max='100' style='width:300px; height:20px; vertical-align: middle;'></progress>\n",
       "      [100/100 46:02, Epoch 5/5]\n",
       "    </div>\n",
       "    <table border=\"1\" class=\"dataframe\">\n",
       "  <thead>\n",
       " <tr style=\"text-align: left;\">\n",
       "      <th>Epoch</th>\n",
       "      <th>Training Loss</th>\n",
       "      <th>Validation Loss</th>\n",
       "      <th>F1</th>\n",
       "    </tr>\n",
       "  </thead>\n",
       "  <tbody>\n",
       "    <tr>\n",
       "      <td>1</td>\n",
       "      <td>0.695800</td>\n",
       "      <td>0.731222</td>\n",
       "      <td>0.218182</td>\n",
       "    </tr>\n",
       "    <tr>\n",
       "      <td>2</td>\n",
       "      <td>0.619500</td>\n",
       "      <td>0.666098</td>\n",
       "      <td>0.600000</td>\n",
       "    </tr>\n",
       "    <tr>\n",
       "      <td>3</td>\n",
       "      <td>0.555300</td>\n",
       "      <td>0.676119</td>\n",
       "      <td>0.557460</td>\n",
       "    </tr>\n",
       "    <tr>\n",
       "      <td>4</td>\n",
       "      <td>0.465100</td>\n",
       "      <td>0.679120</td>\n",
       "      <td>0.617222</td>\n",
       "    </tr>\n",
       "    <tr>\n",
       "      <td>5</td>\n",
       "      <td>0.401300</td>\n",
       "      <td>0.663613</td>\n",
       "      <td>0.645614</td>\n",
       "    </tr>\n",
       "  </tbody>\n",
       "</table><p>"
      ],
      "text/plain": [
       "<IPython.core.display.HTML object>"
      ]
     },
     "metadata": {},
     "output_type": "display_data"
    }
   ],
   "source": [
    "trainer = Trainer(\n",
    "    model,\n",
    "    training_args,\n",
    "    train_dataset=train,\n",
    "    eval_dataset=dev,\n",
    "    tokenizer=tokenizer,\n",
    "    compute_metrics=compute_metrics\n",
    ")\n",
    "\n",
    "trainer.train()\n",
    "trainer.save_model(f\"/output_BERT-cased/{genre}/\")"
   ]
  },
  {
   "cell_type": "markdown",
   "id": "255be22c-579e-4bd4-b294-6d82c48ef771",
   "metadata": {},
   "source": [
    "## Evaluation del modello\n",
    "\n",
    "Dopo aver addestrato il modello, si passa alla fase di evaluation. Nello specifico, vogliamo:\n",
    "- visualizzare l'andamento della loss sul dataset di training e di evaluation;\n",
    "- calcolare le performance del modello sul dataset di test."
   ]
  },
  {
   "cell_type": "markdown",
   "id": "37e5b186-3e56-4c59-a8b7-eb6651a33eec",
   "metadata": {},
   "source": [
    "### Monitoraggio della loss"
   ]
  },
  {
   "cell_type": "code",
   "execution_count": 12,
   "id": "dac0a349-ca2d-4a36-a146-b6db4bc3d253",
   "metadata": {},
   "outputs": [
    {
     "name": "stderr",
     "output_type": "stream",
     "text": [
      "C:\\Users\\agnes\\AppData\\Local\\Temp\\ipykernel_3372\\3703003683.py:12: FutureWarning: The behavior of DataFrame concatenation with empty or all-NA entries is deprecated. In a future version, this will no longer exclude empty or all-NA columns when determining the result dtypes. To retain the old behavior, exclude the relevant entries before the concat operation.\n",
      "  df = pd.concat([df, log_df], ignore_index=True)\n"
     ]
    },
    {
     "data": {
      "text/plain": [
       "<Axes: xlabel='Epoch', ylabel='Loss'>"
      ]
     },
     "execution_count": 12,
     "metadata": {},
     "output_type": "execute_result"
    },
    {
     "data": {
      "image/png": "[encoded data removed]",
      "text/plain": [
       "<Figure size 640x480 with 1 Axes>"
      ]
     },
     "metadata": {},
     "output_type": "display_data"
    }
   ],
   "source": [
    "log_history = trainer.state.log_history\n",
    "\n",
    "# Creo dataframe pandas per memorizzare le loss di training/evaluation e poi mostrare graficamente le curve\n",
    "df = pd.DataFrame(columns=[\"Epoch\", \"Loss\", \"Training/Validation\"])\n",
    "\n",
    "for log_data in log_history:\n",
    "  epoch = int(log_data[\"epoch\"])\n",
    "  if \"loss\" in log_data.keys():\n",
    "    loss = log_data[\"loss\"]\n",
    "\n",
    "    log_df = pd.DataFrame({\"Epoch\": [epoch], \"Loss\": [loss], \"Training/Validation\": [\"Training\"]})\n",
    "    df = pd.concat([df, log_df], ignore_index=True)\n",
    "  if \"eval_loss\" in log_data.keys():\n",
    "    loss = log_data[\"eval_loss\"]\n",
    "    log_df = pd.DataFrame({\"Epoch\": [epoch], \"Loss\": [loss], \"Training/Validation\": [\"Validation\"]})\n",
    "    df = pd.concat([df, log_df], ignore_index=True)\n",
    "\n",
    "# Lineplot della loss\n",
    "sns.lineplot(data=df, x=\"Epoch\", y=\"Loss\", hue=\"Training/Validation\")"
   ]
  },
  {
   "cell_type": "markdown",
   "id": "d9cb60a8-8069-4640-aa2e-438b6803d2a6",
   "metadata": {},
   "source": [
    "## Calcolo performance sul test set\n",
    "Applicando il metodo .predict() sul nostro test set, otteniamo come output le prediction del modello, assieme alle metriche di valutazione (e.g. weighted F1)"
   ]
  },
  {
   "cell_type": "code",
   "execution_count": 13,
   "id": "6a249088-675a-44a4-b07b-89b63116a85e",
   "metadata": {},
   "outputs": [
    {
     "data": {
      "text/html": [],
      "text/plain": [
       "<IPython.core.display.HTML object>"
      ]
     },
     "metadata": {},
     "output_type": "display_data"
    },
    {
     "name": "stdout",
     "output_type": "stream",
     "text": [
      "PredictionOutput(predictions=array([[ 0.04405418,  0.17745332],\n",
      "       [ 0.23558211, -0.32577503],\n",
      "       [ 0.3017624 , -0.59677464],\n",
      "       [-0.36445713,  0.8453527 ],\n",
      "       [ 0.03235338, -0.40450212],\n",
      "       [-0.02732191, -0.576585  ],\n",
      "       [-0.06754375, -0.3743604 ],\n",
      "       [-0.10997964, -0.09067788],\n",
      "       [-0.3171909 ,  0.8778027 ],\n",
      "       [ 0.02979446, -0.5903415 ],\n",
      "       [-0.50896305,  1.2694625 ],\n",
      "       [ 0.22182082, -0.28943786],\n",
      "       [-0.08487082,  0.7841173 ],\n",
      "       [-0.01314329, -0.31414557],\n",
      "       [ 0.10849525, -0.48392364],\n",
      "       [ 0.0124417 , -0.48376492],\n",
      "       [ 0.36264   ,  0.6948797 ],\n",
      "       [ 0.21353818, -0.95716774],\n",
      "       [ 0.21574593, -0.35338184],\n",
      "       [ 0.21546496,  0.51806825],\n",
      "       [-0.14694692,  0.42199335],\n",
      "       [ 0.28065372, -0.4290876 ],\n",
      "       [-0.26990703,  0.44339207],\n",
      "       [ 0.24002162, -0.13819712],\n",
      "       [-0.5416207 ,  0.872592  ],\n",
      "       [ 0.24932043,  0.50836164],\n",
      "       [ 0.01248406, -0.6929603 ],\n",
      "       [-0.06373695,  0.44177786],\n",
      "       [ 0.31055433,  0.4899309 ],\n",
      "       [ 0.27626908, -0.7809605 ],\n",
      "       [-0.27060997,  0.5942097 ],\n",
      "       [ 0.24607758, -0.85760945],\n",
      "       [ 0.22365132, -0.4421524 ],\n",
      "       [ 0.23464404,  0.16392452],\n",
      "       [ 0.02760711,  0.6720939 ],\n",
      "       [ 0.07686104, -0.38507128],\n",
      "       [-0.00958275, -0.7581282 ],\n",
      "       [ 0.23685901,  0.5099666 ],\n",
      "       [ 0.04052754, -0.77162284],\n",
      "       [-0.17426434, -0.5344652 ],\n",
      "       [ 0.46632913,  0.5184862 ],\n",
      "       [-0.10718112,  0.7096452 ],\n",
      "       [-0.44249988,  1.1595178 ],\n",
      "       [ 0.07241645,  0.7028856 ],\n",
      "       [-0.49374247,  0.3094068 ],\n",
      "       [-0.32531747,  0.6175463 ],\n",
      "       [-0.05240734, -0.26533845],\n",
      "       [-0.31741047, -0.1883556 ],\n",
      "       [ 0.35611928,  0.38079235],\n",
      "       [-0.14140266,  0.35055318],\n",
      "       [-0.06563697,  0.5717027 ],\n",
      "       [-0.4950928 , -0.0689516 ],\n",
      "       [-0.15263131, -0.34513688],\n",
      "       [ 0.11783649, -0.5618784 ],\n",
      "       [-0.49957675,  1.2450023 ],\n",
      "       [ 0.18282586, -0.52952427],\n",
      "       [ 0.30100924, -0.8289769 ],\n",
      "       [-0.14855434,  0.27771896],\n",
      "       [ 0.21929967, -0.4412588 ],\n",
      "       [ 0.15466954, -0.5730249 ],\n",
      "       [-0.24618413,  0.17178933],\n",
      "       [-0.01582419,  0.38683784],\n",
      "       [-0.24493292, -0.26836237],\n",
      "       [ 0.11362606,  0.2991565 ],\n",
      "       [ 0.04781835,  0.23508823],\n",
      "       [ 0.42297575,  0.19395733],\n",
      "       [ 0.19407009, -0.6572775 ],\n",
      "       [-0.07495389,  0.8146592 ],\n",
      "       [ 0.12116966, -0.68502694],\n",
      "       [ 0.31631827,  0.46135005],\n",
      "       [ 0.19347599, -0.6111096 ],\n",
      "       [ 0.38402507,  0.42651656],\n",
      "       [ 0.13213728,  0.6007361 ],\n",
      "       [-0.3681214 ,  0.43135056],\n",
      "       [ 0.14268036, -0.6429145 ],\n",
      "       [ 0.4173089 ,  0.5515391 ],\n",
      "       [ 0.15744793, -0.6282873 ],\n",
      "       [-0.1978871 ,  1.0632336 ],\n",
      "       [ 0.1474122 , -0.5875827 ],\n",
      "       [-0.24773721,  0.05846957],\n",
      "       [ 0.4544116 ,  0.43904763],\n",
      "       [-0.42258546,  0.7825057 ],\n",
      "       [ 0.06821958,  0.6569251 ],\n",
      "       [ 0.19165637, -0.28414747],\n",
      "       [ 0.16652854, -0.18397412],\n",
      "       [ 0.39077702, -0.74786305],\n",
      "       [-0.319017  , -0.22279508],\n",
      "       [ 0.2888455 , -0.8580821 ],\n",
      "       [ 0.07110003, -0.42519614],\n",
      "       [-0.41360348,  1.0341837 ],\n",
      "       [ 0.32835835,  0.00210234],\n",
      "       [ 0.13462177,  0.69687283],\n",
      "       [-0.23974012,  0.973236  ],\n",
      "       [ 0.26470056, -0.7266975 ],\n",
      "       [-0.609867  ,  0.5549807 ],\n",
      "       [-0.21213187,  1.1153227 ],\n",
      "       [-0.5564795 ,  0.36318713],\n",
      "       [ 0.13458775, -0.7563073 ],\n",
      "       [ 0.1893806 , -0.6656035 ],\n",
      "       [ 0.09161978,  0.51232713],\n",
      "       [-0.03339969, -0.12408739],\n",
      "       [ 0.22244003, -0.4382126 ],\n",
      "       [ 0.0578684 , -0.2714585 ],\n",
      "       [ 0.36545292,  0.33373144],\n",
      "       [ 0.07665096,  0.3156762 ],\n",
      "       [-0.03606983,  0.737635  ],\n",
      "       [-0.528108  ,  0.68985933],\n",
      "       [ 0.05368456, -0.41390935],\n",
      "       [-0.33307135,  1.0834663 ],\n",
      "       [ 0.44098184, -0.5098983 ],\n",
      "       [ 0.3139292 , -0.39545232],\n",
      "       [ 0.5337147 , -0.13600329],\n",
      "       [-0.7303671 ,  1.0065806 ],\n",
      "       [ 0.06903083,  0.7001081 ],\n",
      "       [ 0.2540441 ,  0.01310887],\n",
      "       [-0.22886421, -0.18383034],\n",
      "       [-0.10365891,  0.91026336],\n",
      "       [-0.03654607,  0.5907065 ],\n",
      "       [ 0.40267363,  0.5052801 ],\n",
      "       [-0.13095912,  0.2027185 ],\n",
      "       [ 0.18302403, -0.39254513],\n",
      "       [-0.0579225 ,  0.814013  ],\n",
      "       [ 0.4257159 ,  0.47715423],\n",
      "       [-0.04192768,  0.83403254],\n",
      "       [-0.06013568, -0.01050278],\n",
      "       [ 0.3060257 ,  0.56399924],\n",
      "       [ 0.30165046,  0.51008266],\n",
      "       [ 0.17112885, -0.49596235],\n",
      "       [ 0.00166483, -0.6993672 ],\n",
      "       [-0.14989543, -0.5696481 ],\n",
      "       [ 0.06810897,  0.52666855],\n",
      "       [-0.33759198,  1.0629634 ],\n",
      "       [-0.5505764 ,  0.7202857 ],\n",
      "       [-0.08444029,  0.4205031 ],\n",
      "       [ 0.30876014, -0.82258844],\n",
      "       [-0.3160847 ,  0.23163408],\n",
      "       [ 0.21300933, -0.811768  ],\n",
      "       [-0.0943234 ,  0.04926262],\n",
      "       [ 0.04348424, -0.7756833 ],\n",
      "       [-0.2781084 ,  1.0615631 ],\n",
      "       [-0.30048957,  0.80080193],\n",
      "       [ 0.44132143, -0.669928  ],\n",
      "       [ 0.08933037,  0.8513604 ],\n",
      "       [ 0.31585434,  0.40473554],\n",
      "       [-0.10915725,  0.42089877],\n",
      "       [ 0.02660814,  0.8321496 ],\n",
      "       [-0.1401925 ,  0.04672546],\n",
      "       [ 0.25907755, -0.55100936],\n",
      "       [-0.35026014,  0.5598679 ],\n",
      "       [ 0.35764965,  0.44580543],\n",
      "       [-0.22997074,  0.9112484 ],\n",
      "       [ 0.23349655,  0.14935715],\n",
      "       [ 0.16667867,  0.11243729],\n",
      "       [ 0.02613296,  0.7844967 ],\n",
      "       [ 0.15409435, -0.04044307],\n",
      "       [-0.06507129,  0.28862682],\n",
      "       [ 0.18167125, -0.5213395 ],\n",
      "       [ 0.27801454, -0.70186645],\n",
      "       [-0.17955305,  0.56255865],\n",
      "       [ 0.14490952,  0.033046  ],\n",
      "       [ 0.38138446,  0.4370136 ],\n",
      "       [ 0.23258093, -0.68367237],\n",
      "       [-0.28876907,  0.573361  ],\n",
      "       [ 0.3523391 , -0.33911976],\n",
      "       [ 0.02398975,  0.7364896 ],\n",
      "       [-0.50235194,  0.06618497],\n",
      "       [ 0.11120539,  0.07694897],\n",
      "       [-0.01068545, -0.3546342 ],\n",
      "       [-0.02412775,  0.16012941],\n",
      "       [ 0.22488633, -0.48501348],\n",
      "       [-0.34865275,  1.0416449 ],\n",
      "       [-0.07804049,  0.4791125 ],\n",
      "       [ 0.24482538, -0.4594667 ],\n",
      "       [-0.27871588,  0.18008432],\n",
      "       [ 0.31189725,  0.46360043],\n",
      "       [-0.11920721, -0.04933873],\n",
      "       [-0.63239855,  0.56377155],\n",
      "       [-0.4178913 ,  0.72742516],\n",
      "       [-0.07612881, -0.54890937],\n",
      "       [ 0.34302685,  0.28961492],\n",
      "       [ 0.13577019, -0.7308151 ],\n",
      "       [-0.07970376, -0.23994711],\n",
      "       [-0.11995801,  0.18849982],\n",
      "       [ 0.03024606,  0.66962177],\n",
      "       [-0.19545998,  0.59639007],\n",
      "       [ 0.01411728, -0.33378845],\n",
      "       [-0.5559651 ,  1.229378  ],\n",
      "       [-0.24131943, -0.5262693 ],\n",
      "       [ 0.34371832, -0.5325445 ],\n",
      "       [-0.05892147,  0.36404163],\n",
      "       [-0.03969279, -0.05210855],\n",
      "       [-0.3894972 ,  0.7185884 ],\n",
      "       [ 0.10627414, -0.47750136],\n",
      "       [-0.3395329 , -0.01223864],\n",
      "       [ 0.3636302 , -0.56599665],\n",
      "       [ 0.10343324,  0.221157  ],\n",
      "       [-0.14835252, -0.23993121],\n",
      "       [-0.19039437,  0.7668151 ],\n",
      "       [ 0.06020297, -0.336987  ],\n",
      "       [ 0.43058214, -0.44644415]], dtype=float32), label_ids=array([0, 0, 1, 1, 0, 0, 0, 1, 1, 1, 1, 0, 0, 1, 1, 0, 0, 0, 1, 0, 0, 1,\n",
      "       1, 1, 0, 1, 1, 1, 0, 1, 1, 1, 1, 1, 0, 0, 1, 0, 0, 0, 1, 1, 1, 0,\n",
      "       0, 0, 0, 0, 0, 0, 0, 0, 0, 0, 1, 1, 0, 1, 0, 1, 1, 1, 0, 1, 1, 0,\n",
      "       0, 1, 0, 1, 0, 1, 1, 0, 0, 0, 0, 0, 1, 1, 0, 1, 1, 0, 0, 0, 0, 0,\n",
      "       0, 0, 0, 0, 1, 0, 0, 0, 1, 1, 0, 1, 0, 1, 0, 0, 1, 1, 1, 1, 1, 0,\n",
      "       1, 0, 1, 1, 0, 0, 1, 1, 0, 1, 1, 1, 0, 1, 0, 0, 0, 0, 1, 0, 0, 1,\n",
      "       0, 0, 0, 1, 0, 0, 1, 1, 1, 1, 0, 0, 0, 1, 0, 1, 0, 0, 1, 1, 0, 0,\n",
      "       0, 1, 0, 1, 1, 1, 1, 1, 1, 1, 1, 1, 0, 0, 0, 0, 1, 1, 1, 1, 1, 0,\n",
      "       0, 1, 1, 1, 0, 1, 1, 0, 1, 0, 1, 1, 1, 0, 0, 0, 1, 1, 1, 1, 1, 1,\n",
      "       0, 0]), metrics={'test_loss': 0.697509765625, 'test_f1': 0.5641173376086576, 'test_runtime': 176.5694, 'test_samples_per_second': 1.133, 'test_steps_per_second': 0.142})\n"
     ]
    }
   ],
   "source": [
    "output_predictions = trainer.predict(test)\n",
    "print(output_predictions)"
   ]
  },
  {
   "cell_type": "code",
   "execution_count": 14,
   "id": "5ef2206b-0345-48b6-8f09-e3d37f1b4e11",
   "metadata": {},
   "outputs": [
    {
     "name": "stdout",
     "output_type": "stream",
     "text": [
      "Classification Report:\n",
      "              precision    recall  f1-score   support\n",
      "\n",
      "           0       0.57      0.52      0.54       100\n",
      "           1       0.56      0.61      0.58       100\n",
      "\n",
      "    accuracy                           0.56       200\n",
      "   macro avg       0.57      0.56      0.56       200\n",
      "weighted avg       0.57      0.56      0.56       200\n",
      "\n",
      "\n",
      "Confusion Matrix:\n",
      "<sklearn.metrics._plot.confusion_matrix.ConfusionMatrixDisplay object at 0x0000021C8888ABA0>\n"
     ]
    },
    {
     "data": {
      "image/png": "[encoded data removed]",
      "text/plain": [
       "<Figure size 640x480 with 2 Axes>"
      ]
     },
     "metadata": {},
     "output_type": "display_data"
    }
   ],
   "source": [
    "y_test = test[\"label\"].tolist()\n",
    "y_pred = np.argmax(output_predictions.predictions, axis=1)\n",
    "\n",
    "report = classification_report(y_test, y_pred)\n",
    "cm = ConfusionMatrixDisplay.from_predictions(y_test, y_pred, xticks_rotation='vertical', cmap='Blues')\n",
    "\n",
    "print(\"Classification Report:\")\n",
    "print(report)\n",
    "print()\n",
    "\n",
    "print(\"Confusion Matrix:\")\n",
    "print(cm)"
   ]
  }
 ],
 "metadata": {
  "kernelspec": {
   "display_name": "Python 3 (ipykernel)",
   "language": "python",
   "name": "python3"
  },
  "language_info": {
   "codemirror_mode": {
    "name": "ipython",
    "version": 3
   },
   "file_extension": ".py",
   "mimetype": "text/x-python",
   "name": "python",
   "nbconvert_exporter": "python",
   "pygments_lexer": "ipython3",
   "version": "3.13.1"
  }
 },
 "nbformat": 4,
 "nbformat_minor": 5
}
