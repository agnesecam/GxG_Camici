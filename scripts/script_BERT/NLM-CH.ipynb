{
 "cells": [
  {
   "cell_type": "markdown",
   "id": "211b3008-182e-4603-b393-cc3237862a25",
   "metadata": {},
   "source": [
    "# Fase 4 - NLM (in-genre classification)\n",
    "\n",
    "Dopo aver scelto un Neural Language Model tra quelli visti a lezione, condurre un processo di fine-tuning per 5 epoche. Riportare i seguenti risultati:\n",
    "- riportare le curve di loss di training e di validation;\n",
    "- per ogni epoca valutare il sistema sul validation set;\n",
    "- alla fine dell’ultima epoca, riportare la valutazione del sistema sul test set ufficiale."
   ]
  },
  {
   "cell_type": "markdown",
   "id": "19ceba7e-142b-4e21-81c9-28ce1f339250",
   "metadata": {},
   "source": [
    "Dal task GxG Evalita 2018:\n",
    "\n",
    "\"Given a (collection of) text(s) from a specific genre, the gender of the author has to be predicted. The task is cast as a binary classification task, with gender represented as F (female) or M (male). Gender prediction will be done in two ways: \n",
    "\n",
    "1. **using a model which has been trained on the same genre**\n",
    "2. using a model which has been trained on anything but that genre.\"\n",
    "\n",
    "In questo file utilizzeremo un modello allenato sullo stesso genere su cui poi verrà testato."
   ]
  },
  {
   "cell_type": "markdown",
   "id": "cb016f4d-b91a-43ed-b7ec-acd004130e28",
   "metadata": {},
   "source": [
    "## Installazione e importazione librerie NLP"
   ]
  },
  {
   "cell_type": "code",
   "execution_count": 6,
   "id": "f469164b-6aef-4414-9cbf-81a1d2b4b687",
   "metadata": {},
   "outputs": [
    {
     "name": "stdout",
     "output_type": "stream",
     "text": [
      "Requirement already satisfied: datasets in c:\\users\\agnes\\appdata\\local\\programs\\python\\python313\\lib\\site-packages (3.5.0)\n",
      "Requirement already satisfied: filelock in c:\\users\\agnes\\appdata\\local\\programs\\python\\python313\\lib\\site-packages (from datasets) (3.17.0)\n",
      "Requirement already satisfied: numpy>=1.17 in c:\\users\\agnes\\appdata\\local\\programs\\python\\python313\\lib\\site-packages (from datasets) (2.2.2)\n",
      "Requirement already satisfied: pyarrow>=15.0.0 in c:\\users\\agnes\\appdata\\local\\programs\\python\\python313\\lib\\site-packages (from datasets) (19.0.1)\n",
      "Requirement already satisfied: dill<0.3.9,>=0.3.0 in c:\\users\\agnes\\appdata\\local\\programs\\python\\python313\\lib\\site-packages (from datasets) (0.3.8)\n",
      "Requirement already satisfied: pandas in c:\\users\\agnes\\appdata\\local\\programs\\python\\python313\\lib\\site-packages (from datasets) (2.2.3)\n",
      "Requirement already satisfied: requests>=2.32.2 in c:\\users\\agnes\\appdata\\local\\programs\\python\\python313\\lib\\site-packages (from datasets) (2.32.3)\n",
      "Requirement already satisfied: tqdm>=4.66.3 in c:\\users\\agnes\\appdata\\local\\programs\\python\\python313\\lib\\site-packages (from datasets) (4.67.1)\n",
      "Requirement already satisfied: xxhash in c:\\users\\agnes\\appdata\\local\\programs\\python\\python313\\lib\\site-packages (from datasets) (3.5.0)\n",
      "Requirement already satisfied: multiprocess<0.70.17 in c:\\users\\agnes\\appdata\\local\\programs\\python\\python313\\lib\\site-packages (from datasets) (0.70.16)\n",
      "Requirement already satisfied: fsspec<=2024.12.0,>=2023.1.0 in c:\\users\\agnes\\appdata\\local\\programs\\python\\python313\\lib\\site-packages (from fsspec[http]<=2024.12.0,>=2023.1.0->datasets) (2024.12.0)\n",
      "Requirement already satisfied: aiohttp in c:\\users\\agnes\\appdata\\local\\programs\\python\\python313\\lib\\site-packages (from datasets) (3.11.16)\n",
      "Requirement already satisfied: huggingface-hub>=0.24.0 in c:\\users\\agnes\\appdata\\local\\programs\\python\\python313\\lib\\site-packages (from datasets) (0.30.1)\n",
      "Requirement already satisfied: packaging in c:\\users\\agnes\\appdata\\roaming\\python\\python313\\site-packages (from datasets) (24.2)\n",
      "Requirement already satisfied: pyyaml>=5.1 in c:\\users\\agnes\\appdata\\local\\programs\\python\\python313\\lib\\site-packages (from datasets) (6.0.2)\n",
      "Requirement already satisfied: aiohappyeyeballs>=2.3.0 in c:\\users\\agnes\\appdata\\local\\programs\\python\\python313\\lib\\site-packages (from aiohttp->datasets) (2.6.1)\n",
      "Requirement already satisfied: aiosignal>=1.1.2 in c:\\users\\agnes\\appdata\\local\\programs\\python\\python313\\lib\\site-packages (from aiohttp->datasets) (1.3.2)\n",
      "Requirement already satisfied: attrs>=17.3.0 in c:\\users\\agnes\\appdata\\local\\programs\\python\\python313\\lib\\site-packages (from aiohttp->datasets) (24.3.0)\n",
      "Requirement already satisfied: frozenlist>=1.1.1 in c:\\users\\agnes\\appdata\\local\\programs\\python\\python313\\lib\\site-packages (from aiohttp->datasets) (1.5.0)\n",
      "Requirement already satisfied: multidict<7.0,>=4.5 in c:\\users\\agnes\\appdata\\local\\programs\\python\\python313\\lib\\site-packages (from aiohttp->datasets) (6.3.1)\n",
      "Requirement already satisfied: propcache>=0.2.0 in c:\\users\\agnes\\appdata\\local\\programs\\python\\python313\\lib\\site-packages (from aiohttp->datasets) (0.3.1)\n",
      "Requirement already satisfied: yarl<2.0,>=1.17.0 in c:\\users\\agnes\\appdata\\local\\programs\\python\\python313\\lib\\site-packages (from aiohttp->datasets) (1.18.3)\n",
      "Requirement already satisfied: typing-extensions>=3.7.4.3 in c:\\users\\agnes\\appdata\\local\\programs\\python\\python313\\lib\\site-packages (from huggingface-hub>=0.24.0->datasets) (4.12.2)\n",
      "Requirement already satisfied: charset-normalizer<4,>=2 in c:\\users\\agnes\\appdata\\local\\programs\\python\\python313\\lib\\site-packages (from requests>=2.32.2->datasets) (3.4.1)\n",
      "Requirement already satisfied: idna<4,>=2.5 in c:\\users\\agnes\\appdata\\local\\programs\\python\\python313\\lib\\site-packages (from requests>=2.32.2->datasets) (3.10)\n",
      "Requirement already satisfied: urllib3<3,>=1.21.1 in c:\\users\\agnes\\appdata\\local\\programs\\python\\python313\\lib\\site-packages (from requests>=2.32.2->datasets) (2.3.0)\n",
      "Requirement already satisfied: certifi>=2017.4.17 in c:\\users\\agnes\\appdata\\local\\programs\\python\\python313\\lib\\site-packages (from requests>=2.32.2->datasets) (2024.12.14)\n",
      "Requirement already satisfied: colorama in c:\\users\\agnes\\appdata\\roaming\\python\\python313\\site-packages (from tqdm>=4.66.3->datasets) (0.4.6)\n",
      "Requirement already satisfied: python-dateutil>=2.8.2 in c:\\users\\agnes\\appdata\\roaming\\python\\python313\\site-packages (from pandas->datasets) (2.9.0.post0)\n",
      "Requirement already satisfied: pytz>=2020.1 in c:\\users\\agnes\\appdata\\local\\programs\\python\\python313\\lib\\site-packages (from pandas->datasets) (2024.2)\n",
      "Requirement already satisfied: tzdata>=2022.7 in c:\\users\\agnes\\appdata\\local\\programs\\python\\python313\\lib\\site-packages (from pandas->datasets) (2025.1)\n",
      "Requirement already satisfied: six>=1.5 in c:\\users\\agnes\\appdata\\roaming\\python\\python313\\site-packages (from python-dateutil>=2.8.2->pandas->datasets) (1.17.0)\n"
     ]
    },
    {
     "name": "stderr",
     "output_type": "stream",
     "text": [
      "\n",
      "[notice] A new release of pip is available: 24.3.1 -> 25.1.1\n",
      "[notice] To update, run: python.exe -m pip install --upgrade pip\n"
     ]
    },
    {
     "name": "stdout",
     "output_type": "stream",
     "text": [
      "Requirement already satisfied: evaluate in c:\\users\\agnes\\appdata\\local\\programs\\python\\python313\\lib\\site-packages (0.4.3)\n",
      "Requirement already satisfied: datasets>=2.0.0 in c:\\users\\agnes\\appdata\\local\\programs\\python\\python313\\lib\\site-packages (from evaluate) (3.5.0)\n",
      "Requirement already satisfied: numpy>=1.17 in c:\\users\\agnes\\appdata\\local\\programs\\python\\python313\\lib\\site-packages (from evaluate) (2.2.2)\n",
      "Requirement already satisfied: dill in c:\\users\\agnes\\appdata\\local\\programs\\python\\python313\\lib\\site-packages (from evaluate) (0.3.8)\n",
      "Requirement already satisfied: pandas in c:\\users\\agnes\\appdata\\local\\programs\\python\\python313\\lib\\site-packages (from evaluate) (2.2.3)\n",
      "Requirement already satisfied: requests>=2.19.0 in c:\\users\\agnes\\appdata\\local\\programs\\python\\python313\\lib\\site-packages (from evaluate) (2.32.3)\n",
      "Requirement already satisfied: tqdm>=4.62.1 in c:\\users\\agnes\\appdata\\local\\programs\\python\\python313\\lib\\site-packages (from evaluate) (4.67.1)\n",
      "Requirement already satisfied: xxhash in c:\\users\\agnes\\appdata\\local\\programs\\python\\python313\\lib\\site-packages (from evaluate) (3.5.0)\n",
      "Requirement already satisfied: multiprocess in c:\\users\\agnes\\appdata\\local\\programs\\python\\python313\\lib\\site-packages (from evaluate) (0.70.16)\n",
      "Requirement already satisfied: fsspec>=2021.05.0 in c:\\users\\agnes\\appdata\\local\\programs\\python\\python313\\lib\\site-packages (from fsspec[http]>=2021.05.0->evaluate) (2024.12.0)\n",
      "Requirement already satisfied: huggingface-hub>=0.7.0 in c:\\users\\agnes\\appdata\\local\\programs\\python\\python313\\lib\\site-packages (from evaluate) (0.30.1)\n",
      "Requirement already satisfied: packaging in c:\\users\\agnes\\appdata\\roaming\\python\\python313\\site-packages (from evaluate) (24.2)\n",
      "Requirement already satisfied: filelock in c:\\users\\agnes\\appdata\\local\\programs\\python\\python313\\lib\\site-packages (from datasets>=2.0.0->evaluate) (3.17.0)\n",
      "Requirement already satisfied: pyarrow>=15.0.0 in c:\\users\\agnes\\appdata\\local\\programs\\python\\python313\\lib\\site-packages (from datasets>=2.0.0->evaluate) (19.0.1)\n",
      "Requirement already satisfied: aiohttp in c:\\users\\agnes\\appdata\\local\\programs\\python\\python313\\lib\\site-packages (from datasets>=2.0.0->evaluate) (3.11.16)\n",
      "Requirement already satisfied: pyyaml>=5.1 in c:\\users\\agnes\\appdata\\local\\programs\\python\\python313\\lib\\site-packages (from datasets>=2.0.0->evaluate) (6.0.2)\n",
      "Requirement already satisfied: typing-extensions>=3.7.4.3 in c:\\users\\agnes\\appdata\\local\\programs\\python\\python313\\lib\\site-packages (from huggingface-hub>=0.7.0->evaluate) (4.12.2)\n",
      "Requirement already satisfied: charset-normalizer<4,>=2 in c:\\users\\agnes\\appdata\\local\\programs\\python\\python313\\lib\\site-packages (from requests>=2.19.0->evaluate) (3.4.1)\n",
      "Requirement already satisfied: idna<4,>=2.5 in c:\\users\\agnes\\appdata\\local\\programs\\python\\python313\\lib\\site-packages (from requests>=2.19.0->evaluate) (3.10)\n",
      "Requirement already satisfied: urllib3<3,>=1.21.1 in c:\\users\\agnes\\appdata\\local\\programs\\python\\python313\\lib\\site-packages (from requests>=2.19.0->evaluate) (2.3.0)\n",
      "Requirement already satisfied: certifi>=2017.4.17 in c:\\users\\agnes\\appdata\\local\\programs\\python\\python313\\lib\\site-packages (from requests>=2.19.0->evaluate) (2024.12.14)\n",
      "Requirement already satisfied: colorama in c:\\users\\agnes\\appdata\\roaming\\python\\python313\\site-packages (from tqdm>=4.62.1->evaluate) (0.4.6)\n",
      "Requirement already satisfied: python-dateutil>=2.8.2 in c:\\users\\agnes\\appdata\\roaming\\python\\python313\\site-packages (from pandas->evaluate) (2.9.0.post0)\n",
      "Requirement already satisfied: pytz>=2020.1 in c:\\users\\agnes\\appdata\\local\\programs\\python\\python313\\lib\\site-packages (from pandas->evaluate) (2024.2)\n",
      "Requirement already satisfied: tzdata>=2022.7 in c:\\users\\agnes\\appdata\\local\\programs\\python\\python313\\lib\\site-packages (from pandas->evaluate) (2025.1)\n",
      "Requirement already satisfied: aiohappyeyeballs>=2.3.0 in c:\\users\\agnes\\appdata\\local\\programs\\python\\python313\\lib\\site-packages (from aiohttp->datasets>=2.0.0->evaluate) (2.6.1)\n",
      "Requirement already satisfied: aiosignal>=1.1.2 in c:\\users\\agnes\\appdata\\local\\programs\\python\\python313\\lib\\site-packages (from aiohttp->datasets>=2.0.0->evaluate) (1.3.2)\n",
      "Requirement already satisfied: attrs>=17.3.0 in c:\\users\\agnes\\appdata\\local\\programs\\python\\python313\\lib\\site-packages (from aiohttp->datasets>=2.0.0->evaluate) (24.3.0)\n",
      "Requirement already satisfied: frozenlist>=1.1.1 in c:\\users\\agnes\\appdata\\local\\programs\\python\\python313\\lib\\site-packages (from aiohttp->datasets>=2.0.0->evaluate) (1.5.0)\n",
      "Requirement already satisfied: multidict<7.0,>=4.5 in c:\\users\\agnes\\appdata\\local\\programs\\python\\python313\\lib\\site-packages (from aiohttp->datasets>=2.0.0->evaluate) (6.3.1)\n",
      "Requirement already satisfied: propcache>=0.2.0 in c:\\users\\agnes\\appdata\\local\\programs\\python\\python313\\lib\\site-packages (from aiohttp->datasets>=2.0.0->evaluate) (0.3.1)\n",
      "Requirement already satisfied: yarl<2.0,>=1.17.0 in c:\\users\\agnes\\appdata\\local\\programs\\python\\python313\\lib\\site-packages (from aiohttp->datasets>=2.0.0->evaluate) (1.18.3)\n",
      "Requirement already satisfied: six>=1.5 in c:\\users\\agnes\\appdata\\roaming\\python\\python313\\site-packages (from python-dateutil>=2.8.2->pandas->evaluate) (1.17.0)\n"
     ]
    },
    {
     "name": "stderr",
     "output_type": "stream",
     "text": [
      "\n",
      "[notice] A new release of pip is available: 24.3.1 -> 25.1.1\n",
      "[notice] To update, run: python.exe -m pip install --upgrade pip\n"
     ]
    },
    {
     "name": "stdout",
     "output_type": "stream",
     "text": [
      "Requirement already satisfied: transformers in c:\\users\\agnes\\appdata\\local\\programs\\python\\python313\\lib\\site-packages (4.50.3)\n",
      "Requirement already satisfied: filelock in c:\\users\\agnes\\appdata\\local\\programs\\python\\python313\\lib\\site-packages (from transformers) (3.17.0)\n",
      "Requirement already satisfied: huggingface-hub<1.0,>=0.26.0 in c:\\users\\agnes\\appdata\\local\\programs\\python\\python313\\lib\\site-packages (from transformers) (0.30.1)\n",
      "Requirement already satisfied: numpy>=1.17 in c:\\users\\agnes\\appdata\\local\\programs\\python\\python313\\lib\\site-packages (from transformers) (2.2.2)\n",
      "Requirement already satisfied: packaging>=20.0 in c:\\users\\agnes\\appdata\\roaming\\python\\python313\\site-packages (from transformers) (24.2)\n",
      "Requirement already satisfied: pyyaml>=5.1 in c:\\users\\agnes\\appdata\\local\\programs\\python\\python313\\lib\\site-packages (from transformers) (6.0.2)\n",
      "Requirement already satisfied: regex!=2019.12.17 in c:\\users\\agnes\\appdata\\local\\programs\\python\\python313\\lib\\site-packages (from transformers) (2024.11.6)\n",
      "Requirement already satisfied: requests in c:\\users\\agnes\\appdata\\local\\programs\\python\\python313\\lib\\site-packages (from transformers) (2.32.3)\n",
      "Requirement already satisfied: tokenizers<0.22,>=0.21 in c:\\users\\agnes\\appdata\\local\\programs\\python\\python313\\lib\\site-packages (from transformers) (0.21.1)\n",
      "Requirement already satisfied: safetensors>=0.4.3 in c:\\users\\agnes\\appdata\\local\\programs\\python\\python313\\lib\\site-packages (from transformers) (0.5.3)\n",
      "Requirement already satisfied: tqdm>=4.27 in c:\\users\\agnes\\appdata\\local\\programs\\python\\python313\\lib\\site-packages (from transformers) (4.67.1)\n",
      "Requirement already satisfied: fsspec>=2023.5.0 in c:\\users\\agnes\\appdata\\local\\programs\\python\\python313\\lib\\site-packages (from huggingface-hub<1.0,>=0.26.0->transformers) (2024.12.0)\n",
      "Requirement already satisfied: typing-extensions>=3.7.4.3 in c:\\users\\agnes\\appdata\\local\\programs\\python\\python313\\lib\\site-packages (from huggingface-hub<1.0,>=0.26.0->transformers) (4.12.2)\n",
      "Requirement already satisfied: colorama in c:\\users\\agnes\\appdata\\roaming\\python\\python313\\site-packages (from tqdm>=4.27->transformers) (0.4.6)\n",
      "Requirement already satisfied: charset-normalizer<4,>=2 in c:\\users\\agnes\\appdata\\local\\programs\\python\\python313\\lib\\site-packages (from requests->transformers) (3.4.1)\n",
      "Requirement already satisfied: idna<4,>=2.5 in c:\\users\\agnes\\appdata\\local\\programs\\python\\python313\\lib\\site-packages (from requests->transformers) (3.10)\n",
      "Requirement already satisfied: urllib3<3,>=1.21.1 in c:\\users\\agnes\\appdata\\local\\programs\\python\\python313\\lib\\site-packages (from requests->transformers) (2.3.0)\n",
      "Requirement already satisfied: certifi>=2017.4.17 in c:\\users\\agnes\\appdata\\local\\programs\\python\\python313\\lib\\site-packages (from requests->transformers) (2024.12.14)\n"
     ]
    },
    {
     "name": "stderr",
     "output_type": "stream",
     "text": [
      "\n",
      "[notice] A new release of pip is available: 24.3.1 -> 25.1.1\n",
      "[notice] To update, run: python.exe -m pip install --upgrade pip\n"
     ]
    },
    {
     "name": "stdout",
     "output_type": "stream",
     "text": [
      "Requirement already satisfied: accelerate in c:\\users\\agnes\\appdata\\local\\programs\\python\\python313\\lib\\site-packages (1.6.0)\n",
      "Requirement already satisfied: numpy<3.0.0,>=1.17 in c:\\users\\agnes\\appdata\\local\\programs\\python\\python313\\lib\\site-packages (from accelerate) (2.2.2)\n",
      "Requirement already satisfied: packaging>=20.0 in c:\\users\\agnes\\appdata\\roaming\\python\\python313\\site-packages (from accelerate) (24.2)\n",
      "Requirement already satisfied: psutil in c:\\users\\agnes\\appdata\\roaming\\python\\python313\\site-packages (from accelerate) (6.1.1)\n",
      "Requirement already satisfied: pyyaml in c:\\users\\agnes\\appdata\\local\\programs\\python\\python313\\lib\\site-packages (from accelerate) (6.0.2)\n",
      "Requirement already satisfied: torch>=2.0.0 in c:\\users\\agnes\\appdata\\local\\programs\\python\\python313\\lib\\site-packages (from accelerate) (2.6.0)\n",
      "Requirement already satisfied: huggingface-hub>=0.21.0 in c:\\users\\agnes\\appdata\\local\\programs\\python\\python313\\lib\\site-packages (from accelerate) (0.30.1)\n",
      "Requirement already satisfied: safetensors>=0.4.3 in c:\\users\\agnes\\appdata\\local\\programs\\python\\python313\\lib\\site-packages (from accelerate) (0.5.3)\n",
      "Requirement already satisfied: filelock in c:\\users\\agnes\\appdata\\local\\programs\\python\\python313\\lib\\site-packages (from huggingface-hub>=0.21.0->accelerate) (3.17.0)\n",
      "Requirement already satisfied: fsspec>=2023.5.0 in c:\\users\\agnes\\appdata\\local\\programs\\python\\python313\\lib\\site-packages (from huggingface-hub>=0.21.0->accelerate) (2024.12.0)\n",
      "Requirement already satisfied: requests in c:\\users\\agnes\\appdata\\local\\programs\\python\\python313\\lib\\site-packages (from huggingface-hub>=0.21.0->accelerate) (2.32.3)\n",
      "Requirement already satisfied: tqdm>=4.42.1 in c:\\users\\agnes\\appdata\\local\\programs\\python\\python313\\lib\\site-packages (from huggingface-hub>=0.21.0->accelerate) (4.67.1)\n",
      "Requirement already satisfied: typing-extensions>=3.7.4.3 in c:\\users\\agnes\\appdata\\local\\programs\\python\\python313\\lib\\site-packages (from huggingface-hub>=0.21.0->accelerate) (4.12.2)\n",
      "Requirement already satisfied: networkx in c:\\users\\agnes\\appdata\\local\\programs\\python\\python313\\lib\\site-packages (from torch>=2.0.0->accelerate) (3.4.2)\n",
      "Requirement already satisfied: jinja2 in c:\\users\\agnes\\appdata\\local\\programs\\python\\python313\\lib\\site-packages (from torch>=2.0.0->accelerate) (3.1.5)\n",
      "Requirement already satisfied: setuptools in c:\\users\\agnes\\appdata\\local\\programs\\python\\python313\\lib\\site-packages (from torch>=2.0.0->accelerate) (75.8.0)\n",
      "Requirement already satisfied: sympy==1.13.1 in c:\\users\\agnes\\appdata\\local\\programs\\python\\python313\\lib\\site-packages (from torch>=2.0.0->accelerate) (1.13.1)\n",
      "Requirement already satisfied: mpmath<1.4,>=1.1.0 in c:\\users\\agnes\\appdata\\local\\programs\\python\\python313\\lib\\site-packages (from sympy==1.13.1->torch>=2.0.0->accelerate) (1.3.0)\n",
      "Requirement already satisfied: colorama in c:\\users\\agnes\\appdata\\roaming\\python\\python313\\site-packages (from tqdm>=4.42.1->huggingface-hub>=0.21.0->accelerate) (0.4.6)\n",
      "Requirement already satisfied: MarkupSafe>=2.0 in c:\\users\\agnes\\appdata\\local\\programs\\python\\python313\\lib\\site-packages (from jinja2->torch>=2.0.0->accelerate) (3.0.2)\n",
      "Requirement already satisfied: charset-normalizer<4,>=2 in c:\\users\\agnes\\appdata\\local\\programs\\python\\python313\\lib\\site-packages (from requests->huggingface-hub>=0.21.0->accelerate) (3.4.1)\n",
      "Requirement already satisfied: idna<4,>=2.5 in c:\\users\\agnes\\appdata\\local\\programs\\python\\python313\\lib\\site-packages (from requests->huggingface-hub>=0.21.0->accelerate) (3.10)\n",
      "Requirement already satisfied: urllib3<3,>=1.21.1 in c:\\users\\agnes\\appdata\\local\\programs\\python\\python313\\lib\\site-packages (from requests->huggingface-hub>=0.21.0->accelerate) (2.3.0)\n",
      "Requirement already satisfied: certifi>=2017.4.17 in c:\\users\\agnes\\appdata\\local\\programs\\python\\python313\\lib\\site-packages (from requests->huggingface-hub>=0.21.0->accelerate) (2024.12.14)\n"
     ]
    },
    {
     "name": "stderr",
     "output_type": "stream",
     "text": [
      "\n",
      "[notice] A new release of pip is available: 24.3.1 -> 25.1.1\n",
      "[notice] To update, run: python.exe -m pip install --upgrade pip\n"
     ]
    },
    {
     "name": "stdout",
     "output_type": "stream",
     "text": [
      "Requirement already satisfied: seaborn in c:\\users\\agnes\\appdata\\local\\programs\\python\\python313\\lib\\site-packages (0.13.2)\n",
      "Requirement already satisfied: numpy!=1.24.0,>=1.20 in c:\\users\\agnes\\appdata\\local\\programs\\python\\python313\\lib\\site-packages (from seaborn) (2.2.2)\n",
      "Requirement already satisfied: pandas>=1.2 in c:\\users\\agnes\\appdata\\local\\programs\\python\\python313\\lib\\site-packages (from seaborn) (2.2.3)\n",
      "Requirement already satisfied: matplotlib!=3.6.1,>=3.4 in c:\\users\\agnes\\appdata\\local\\programs\\python\\python313\\lib\\site-packages (from seaborn) (3.10.0)\n",
      "Requirement already satisfied: contourpy>=1.0.1 in c:\\users\\agnes\\appdata\\local\\programs\\python\\python313\\lib\\site-packages (from matplotlib!=3.6.1,>=3.4->seaborn) (1.3.1)\n",
      "Requirement already satisfied: cycler>=0.10 in c:\\users\\agnes\\appdata\\local\\programs\\python\\python313\\lib\\site-packages (from matplotlib!=3.6.1,>=3.4->seaborn) (0.12.1)\n",
      "Requirement already satisfied: fonttools>=4.22.0 in c:\\users\\agnes\\appdata\\local\\programs\\python\\python313\\lib\\site-packages (from matplotlib!=3.6.1,>=3.4->seaborn) (4.55.5)\n",
      "Requirement already satisfied: kiwisolver>=1.3.1 in c:\\users\\agnes\\appdata\\local\\programs\\python\\python313\\lib\\site-packages (from matplotlib!=3.6.1,>=3.4->seaborn) (1.4.8)\n",
      "Requirement already satisfied: packaging>=20.0 in c:\\users\\agnes\\appdata\\roaming\\python\\python313\\site-packages (from matplotlib!=3.6.1,>=3.4->seaborn) (24.2)\n",
      "Requirement already satisfied: pillow>=8 in c:\\users\\agnes\\appdata\\local\\programs\\python\\python313\\lib\\site-packages (from matplotlib!=3.6.1,>=3.4->seaborn) (11.1.0)\n",
      "Requirement already satisfied: pyparsing>=2.3.1 in c:\\users\\agnes\\appdata\\local\\programs\\python\\python313\\lib\\site-packages (from matplotlib!=3.6.1,>=3.4->seaborn) (3.2.1)\n",
      "Requirement already satisfied: python-dateutil>=2.7 in c:\\users\\agnes\\appdata\\roaming\\python\\python313\\site-packages (from matplotlib!=3.6.1,>=3.4->seaborn) (2.9.0.post0)\n",
      "Requirement already satisfied: pytz>=2020.1 in c:\\users\\agnes\\appdata\\local\\programs\\python\\python313\\lib\\site-packages (from pandas>=1.2->seaborn) (2024.2)\n",
      "Requirement already satisfied: tzdata>=2022.7 in c:\\users\\agnes\\appdata\\local\\programs\\python\\python313\\lib\\site-packages (from pandas>=1.2->seaborn) (2025.1)\n",
      "Requirement already satisfied: six>=1.5 in c:\\users\\agnes\\appdata\\roaming\\python\\python313\\site-packages (from python-dateutil>=2.7->matplotlib!=3.6.1,>=3.4->seaborn) (1.17.0)\n"
     ]
    },
    {
     "name": "stderr",
     "output_type": "stream",
     "text": [
      "\n",
      "[notice] A new release of pip is available: 24.3.1 -> 25.1.1\n",
      "[notice] To update, run: python.exe -m pip install --upgrade pip\n"
     ]
    }
   ],
   "source": [
    "# Accesso dataset NLP standard (es. GLUE, IMDb, ecc.)\n",
    "!pip install datasets\n",
    "# Metriche valutazione\n",
    "! pip install evaluate\n",
    "# Libreria di HuggingFace per usare modelli preaddestrati (es. BERT, GPT)\n",
    "! pip install transformers\n",
    "# Ottimizzo l'uso di GPU/CPU nel training\n",
    "! pip install accelerate\n",
    "\n",
    "!pip install seaborn"
   ]
  },
  {
   "cell_type": "code",
   "execution_count": 7,
   "id": "7417b899-0b72-41e7-b948-bf125bc43d21",
   "metadata": {},
   "outputs": [],
   "source": [
    "import os\n",
    "import numpy as np\n",
    "import pandas as pd\n",
    "import datasets\n",
    "import evaluate\n",
    "import seaborn as sns\n",
    "from sklearn.metrics import classification_report\n",
    "from sklearn.metrics import ConfusionMatrixDisplay\n",
    "from transformers import AutoTokenizer\n",
    "from transformers import AutoModelForSequenceClassification, TrainingArguments, Trainer"
   ]
  },
  {
   "cell_type": "markdown",
   "id": "1946131c-da16-48d1-933a-15374bc41b34",
   "metadata": {},
   "source": [
    "## Caricamento dei dati"
   ]
  },
  {
   "cell_type": "code",
   "execution_count": 8,
   "id": "d001e79c-bb50-4bf6-acd8-505b17bee1c2",
   "metadata": {},
   "outputs": [],
   "source": [
    "train_data = []\n",
    "test_data = []\n",
    "labels = []\n",
    "genres = ['children']"
   ]
  },
  {
   "cell_type": "code",
   "execution_count": 9,
   "id": "b2bf5ef6-9718-41e1-8b79-4bc0821c48aa",
   "metadata": {},
   "outputs": [],
   "source": [
    "# Mappa genre → nome file .gold\n",
    "genre_to_gold = {\n",
    "    'children': 'test_CH.gold',\n",
    "    #'diary': 'test_DI.gold',\n",
    "    #'journalism': 'test_JO.gold',\n",
    "    #'twitter': 'test_TW.gold'\n",
    "}"
   ]
  },
  {
   "cell_type": "code",
   "execution_count": 10,
   "id": "579b5f19-b039-49d3-99fd-7313be164bf0",
   "metadata": {},
   "outputs": [],
   "source": [
    "# Carico i file .gold in un dizionario {genre: {id: label}}\n",
    "gold_labels = {}\n",
    "for genre, gold_file in genre_to_gold.items():\n",
    "    gold_path = f\"../../data/dataset_originale/gold/{gold_file}\"\n",
    "    gold_dict = {}\n",
    "\n",
    "    with open(gold_path, 'r', encoding='utf-8') as f:\n",
    "        for line in f:\n",
    "            parts = line.strip().split()\n",
    "            if len(parts) == 2:\n",
    "                doc_id, gender = parts\n",
    "                gold_dict[doc_id] = gender\n",
    "\n",
    "    gold_labels[genre] = gold_dict"
   ]
  },
  {
   "cell_type": "code",
   "execution_count": 11,
   "id": "5a4f0b96-944b-47a1-bd04-6cf8da2b48b1",
   "metadata": {},
   "outputs": [],
   "source": [
    "# Parsing dei file txt\n",
    "for genre in genres:\n",
    "    data_folder = f\"../../data/profiling_input/{genre}/\"\n",
    "    documents = os.listdir(data_folder)\n",
    "\n",
    "    # OBIETTIVO: ottenere il genre del documento\n",
    "    # stringa originale --> training#112#children#F.conllu\n",
    "    # rstrip('.txt') --> training#112#children#F.txt → training#112#children#F\n",
    "    # .split('#') --> training#112#children#F → ['training', '112', 'children', 'F']\n",
    "    # [2] --> ['training', '112', 'children', 'F'] → 'children'\n",
    "    # [3] --> ['training', '112', 'children', 'F'] → 'F'\n",
    "    # assegno alla variabile label il valore del sesso dell'autore\n",
    "    \n",
    "    for document in documents:\n",
    "        parts = document.rstrip('.txt').split('#')\n",
    "        \n",
    "        if len(parts) != 4: continue # Salta file con nome non conforme al formato usato\n",
    "        \n",
    "        type_document = parts[0] # training o test\n",
    "        doc_id = parts[1]        # ID doc\n",
    "        genre_check = parts[2]   # genere doc (per debug)\n",
    "        gender = None            # sesso autore\n",
    "\n",
    "        if type_document == \"training\":\n",
    "            gender = parts[3]\n",
    "        else: \n",
    "            gender = gold_labels[genre].get(doc_id)\n",
    "\n",
    "        if gender is None or gender == 'unknown':\n",
    "            continue  # ignora test senza etichetta valida\n",
    "\n",
    "        if gender not in labels:\n",
    "            labels.append(gender)\n",
    "\n",
    "        # training: etichetta nota (da filename)\n",
    "        # test: etichetta assegnata solo per valutare le prestazioni, non per l'addestramento!\n",
    "        # se è un file di test (test#112#genre#unknown.txt), il gender non è presente nel nome del file, quindi lo prendi dalla corrispondenza tramite la chiave ID con il gold set\n",
    "\n",
    "        with open(os.path.join(data_folder, document), 'r', encoding='utf-8') as file:\n",
    "            text = file.read()\n",
    "\n",
    "        input_instance = {}\n",
    "        input_instance[\"id\"] = document\n",
    "        input_instance[\"sentence\"] = text\n",
    "        input_instance[\"label\"] = gender  # predizione del genere M/F\n",
    "\n",
    "        if type_document == \"training\":\n",
    "            train_data.append(input_instance)\n",
    "        else:\n",
    "            test_data.append(input_instance)\n",
    "\n",
    "str_to_int = {label: idx for idx, label in enumerate(labels)}"
   ]
  },
  {
   "cell_type": "code",
   "execution_count": 13,
   "id": "e62a6797-af27-4158-a3ea-dedce20e8975",
   "metadata": {},
   "outputs": [
    {
     "name": "stdout",
     "output_type": "stream",
     "text": [
      "FILE CARICATI CORRETTAMENTE!\n",
      "Totale file in train: 200\n",
      "Totale file in test: 199\n",
      "Label da predirre: ['M', 'F']\n",
      "\n",
      "Primi 10 file nel training set:\n",
      " - ../../data/profiling_input/children/training#1#children#M.txt\n",
      " - ../../data/clean/children/training#1#children#M.txt\n",
      " - ../../data/profiling_input/children/training#10#children#M.txt\n",
      " - ../../data/clean/children/training#10#children#M.txt\n",
      " - ../../data/profiling_input/children/training#100#children#F.txt\n",
      " - ../../data/clean/children/training#100#children#F.txt\n",
      " - ../../data/profiling_input/children/training#101#children#F.txt\n",
      " - ../../data/clean/children/training#101#children#F.txt\n",
      " - ../../data/profiling_input/children/training#102#children#F.txt\n",
      " - ../../data/clean/children/training#102#children#F.txt\n",
      " - ../../data/profiling_input/children/training#103#children#F.txt\n",
      " - ../../data/clean/children/training#103#children#F.txt\n",
      " - ../../data/profiling_input/children/training#104#children#F.txt\n",
      " - ../../data/clean/children/training#104#children#F.txt\n",
      " - ../../data/profiling_input/children/training#105#children#F.txt\n",
      " - ../../data/clean/children/training#105#children#F.txt\n",
      " - ../../data/profiling_input/children/training#106#children#F.txt\n",
      " - ../../data/clean/children/training#106#children#F.txt\n",
      " - ../../data/profiling_input/children/training#107#children#F.txt\n",
      " - ../../data/clean/children/training#107#children#F.txt\n",
      "\n",
      "Primi 10 file nel test set:\n",
      " - ../../data/profiling_input/children/test#1#children#unknown.txt\n",
      " - ../../data/clean/children/test#1#children#unknown.txt\n",
      " - ../../data/profiling_input/children/test#10#children#unknown.txt\n",
      " - ../../data/clean/children/test#10#children#unknown.txt\n",
      " - ../../data/profiling_input/children/test#100#children#unknown.txt\n",
      " - ../../data/clean/children/test#100#children#unknown.txt\n",
      " - ../../data/profiling_input/children/test#101#children#unknown.txt\n",
      " - ../../data/clean/children/test#101#children#unknown.txt\n",
      " - ../../data/profiling_input/children/test#102#children#unknown.txt\n",
      " - ../../data/clean/children/test#102#children#unknown.txt\n",
      " - ../../data/profiling_input/children/test#103#children#unknown.txt\n",
      " - ../../data/clean/children/test#103#children#unknown.txt\n",
      " - ../../data/profiling_input/children/test#104#children#unknown.txt\n",
      " - ../../data/clean/children/test#104#children#unknown.txt\n",
      " - ../../data/profiling_input/children/test#105#children#unknown.txt\n",
      " - ../../data/clean/children/test#105#children#unknown.txt\n",
      " - ../../data/profiling_input/children/test#106#children#unknown.txt\n",
      " - ../../data/clean/children/test#106#children#unknown.txt\n",
      " - ../../data/profiling_input/children/test#107#children#unknown.txt\n",
      " - ../../data/clean/children/test#107#children#unknown.txt\n"
     ]
    }
   ],
   "source": [
    "# Stampa di controllo\n",
    "print(\"FILE CARICATI CORRETTAMENTE!\")\n",
    "print(f\"Totale file in train: {len(train_data)}\")\n",
    "print(f\"Totale file in test: {len(test_data)}\")\n",
    "print(\"Label da predirre:\", labels)\n",
    "\n",
    "\n",
    "print(\"\\nPrimi 10 file nel training set:\")\n",
    "for item in train_data[:10]:\n",
    "    print(\" -\", os.path.join(data_folder, item[\"id\"]))\n",
    "    print(\" -\", f\"../../data/clean/{genre}/\" + item[\"id\"])\n",
    "\n",
    "\n",
    "print(\"\\nPrimi 10 file nel test set:\")\n",
    "for item in test_data[:10]:\n",
    "    print(\" -\", os.path.join(data_folder, item[\"id\"]))\n",
    "    print(\" -\", f\"../../data/clean/{genre}/\" + item[\"id\"])"
   ]
  },
  {
   "cell_type": "markdown",
   "id": "0d500580-db82-47ac-887b-3faaf03daf12",
   "metadata": {},
   "source": [
    "## Conversione e split dei dataset in formato HuggingFace"
   ]
  },
  {
   "cell_type": "code",
   "execution_count": 13,
   "id": "f2307b04-c908-4b3a-a0e1-e1c99336c49c",
   "metadata": {},
   "outputs": [
    {
     "name": "stdout",
     "output_type": "stream",
     "text": [
      "Dataset({\n",
      "    features: ['id', 'sentence', 'label'],\n",
      "    num_rows: 160\n",
      "})\n",
      "\n",
      "Esempio di testo: Io vedo due rotaie nere con al centro delle stecche di legno. Da tutte le parti vedo alcuni sassolini. Alla fine di queste rotaie vedo, ma non molto bene, un treno arancione. Sia a destra sia a sinistra si estende un immenso campo di grano. Sullo sfondo si vedono degli alberi di tutti i colori: verdi, arancioni, rossi, gialli... Si vede anche una distesa immensa di azzurro con delle nuvole bianche-grigie. Questo paesaggio suscita in me una sensazione di libertà e tranquillità. Il cielo senza nessuno ostacolo si estende fino ai limiti del paesaggio. Grosse chiazze bianche e grigiastre lo oscurano. Mi fanno pensare ad un uomo con occhi e naso che sta gridando. Si capisce tanto che questo paesaggio è in autunno, perché si vede dalle nuvole che oscurano il cielo, e dagli alberi dipinti di verde, rosso, giallo e arancione. Questo paesaggio mi sembra un quadro immaginato dal pittore e non ricopiato da una fotografia, perché con tutti questi colori sembra proprio un dipinto che dà tanta gioia e felicità. Nel 1982, un treno arancione pieno di passeggeri rimase una traccia sul terreno.\n",
      "\n",
      "Esempio di label: F\n",
      "\n",
      "Dimensione del training set: (160, 3)\n",
      "Dimensione del development set: (40, 3)\n",
      "Dimensione del test set: (199, 3)\n"
     ]
    }
   ],
   "source": [
    "# 1. Conversione da lista dizionari a dataset HuggingFace\n",
    "train = datasets.Dataset.from_pandas(pd.DataFrame(data=train_data))\n",
    "test = datasets.Dataset.from_pandas(pd.DataFrame(data=test_data))\n",
    "\n",
    "# 2. Split del training set in train/dev\n",
    "train_dev = train.train_test_split(test_size=0.2) # Io ho scelto 80/20 invece che 0.1 come il prof\n",
    "train = train_dev[\"train\"]\n",
    "dev = train_dev[\"test\"]\n",
    "\n",
    "# 3. Stampa di controllo\n",
    "print(train)\n",
    "print()\n",
    "print(\"Esempio di testo:\", train['sentence'][2])\n",
    "print()\n",
    "print(\"Esempio di label:\", train['label'][2])\n",
    "print()\n",
    "\n",
    "# Shape dei dati\n",
    "print(\"Dimensione del training set:\", train.shape)\n",
    "print(\"Dimensione del development set:\", dev.shape)\n",
    "print(\"Dimensione del test set:\", test.shape)\n",
    "\n",
    "# In children ci sono 400 testi, 200 training e 200 test, verranno divisi 160 training, 40 dev e 200 test"
   ]
  },
  {
   "cell_type": "markdown",
   "id": "f0c64a33-e172-4792-a9e4-d51a201c5426",
   "metadata": {},
   "source": [
    "## Caricamento del NLM"
   ]
  },
  {
   "cell_type": "code",
   "execution_count": 14,
   "id": "8cdbb0c7-c02b-4370-bde5-94bb9571105f",
   "metadata": {},
   "outputs": [
    {
     "name": "stderr",
     "output_type": "stream",
     "text": [
      "Some weights of BertForSequenceClassification were not initialized from the model checkpoint at dbmdz/bert-base-italian-cased and are newly initialized: ['classifier.bias', 'classifier.weight']\n",
      "You should probably TRAIN this model on a down-stream task to be able to use it for predictions and inference.\n"
     ]
    }
   ],
   "source": [
    "# Scelgo il modello di BERT addestrato sull'italiano con distinzione maiuscole/minuscole (ok perché è sensibile allo stile linguistico e devo fare author profiling)\n",
    "model_name = 'dbmdz/bert-base-italian-cased'\n",
    "\n",
    "# Carico il modello\n",
    "model = AutoModelForSequenceClassification.from_pretrained(model_name, num_labels=len(labels))\n",
    "\n",
    "# Carico il tokenizzatore\n",
    "tokenizer = AutoTokenizer.from_pretrained(model_name)"
   ]
  },
  {
   "cell_type": "markdown",
   "id": "c83f96f8-d13a-4fb1-a48c-c7a4399f3a01",
   "metadata": {},
   "source": [
    "## Preprocessing dei dati"
   ]
  },
  {
   "cell_type": "code",
   "execution_count": 15,
   "id": "1769c578-9812-4dd0-be23-95a4fdf943b2",
   "metadata": {},
   "outputs": [
    {
     "data": {
      "text/plain": [
       "{'input_ids': [102, 722, 3460, 212, 8352, 481, 6458, 6913, 1465, 172, 1307, 318, 1886, 2518, 617, 153, 368, 2289, 697, 722, 1045, 5262, 111, 786, 1827, 134, 7679, 1307, 1828, 21538, 6761, 162, 7402, 126, 275, 3426, 210, 697, 1443, 223, 3426, 271, 318, 21560, 1523, 7928, 1307, 372, 550, 4650, 7875, 461, 1365, 570, 1900, 2289, 158, 318, 25052, 169, 206, 572, 2212, 2156, 265, 153, 504, 697, 1111, 302, 15023, 30877, 141, 228, 5817, 1307, 623, 21538, 120, 18675, 2379, 9008, 120, 223, 5193, 922, 134, 1900, 212, 1555, 643, 527, 120, 224, 5296, 831, 697, 9259, 410, 157, 3460, 3649, 158, 642, 2156, 209, 153, 504, 2015, 853, 4465, 697, 4910, 126, 6683, 11094, 1082, 126, 538, 1406, 382, 141, 22803, 2344, 111, 3355, 1779, 5728, 4270, 126, 120, 4456, 12111, 643, 156, 199, 355, 1587, 5236, 179, 1978, 1587, 5236, 5193, 156, 162, 5353, 126, 146, 11385, 30880, 186, 136, 5342, 697, 19657, 115, 181, 5817, 831, 156, 3550, 134, 1900, 2289, 318, 4778, 111, 1878, 1307, 755, 1191, 157, 5079, 156, 538, 1638, 17695, 1307, 30461, 120, 2518, 157, 5079, 755, 1191, 141, 228, 5817, 139, 2840, 207, 2490, 5294, 697, 13960, 199, 1978, 1587, 861, 318, 14730, 382, 3924, 7928, 111, 2127, 253, 1307, 2207, 30877, 1365, 134, 1900, 158, 8608, 643, 1307, 672, 700, 1307, 922, 212, 302, 738, 23401, 1307, 364, 19682, 185, 162, 4465, 2341, 275, 26879, 672, 11010, 126, 13647, 23973, 697, 1106, 1307, 223, 352, 199, 1437, 124, 1218, 158, 6302, 783, 134, 3638, 697, 1111, 3981, 199, 4855, 209, 2109, 9697, 1398, 120, 510, 302, 1516, 2629, 126, 3072, 209, 111, 2330, 13575, 417, 1900, 2289, 697, 2659, 158, 693, 480, 3391, 158, 3288, 552, 224, 10812, 4779, 126, 318, 17455, 617, 139, 3575, 697, 18252, 30877, 120, 2927, 111, 786, 1365, 199, 1978, 1587, 1663, 1307, 642, 318, 15665, 209, 120, 499, 417, 1900, 2289, 158, 134, 1900, 3638, 318, 14403, 111, 786, 1307, 3288, 3143, 158, 318, 3659, 1873, 139, 2840, 5193, 2759, 30877, 146, 4979, 158, 2109, 14408, 697, 1443, 4392, 30877, 111, 786, 134, 3638, 318, 22797, 1587, 1188, 11565, 2627, 1307, 220, 672, 364, 5110, 23466, 3098, 396, 673, 1946, 510, 700, 3360, 111, 585, 1243, 139, 572, 2064, 203, 21663, 3098, 2692, 3823, 697, 103], 'token_type_ids': [0, 0, 0, 0, 0, 0, 0, 0, 0, 0, 0, 0, 0, 0, 0, 0, 0, 0, 0, 0, 0, 0, 0, 0, 0, 0, 0, 0, 0, 0, 0, 0, 0, 0, 0, 0, 0, 0, 0, 0, 0, 0, 0, 0, 0, 0, 0, 0, 0, 0, 0, 0, 0, 0, 0, 0, 0, 0, 0, 0, 0, 0, 0, 0, 0, 0, 0, 0, 0, 0, 0, 0, 0, 0, 0, 0, 0, 0, 0, 0, 0, 0, 0, 0, 0, 0, 0, 0, 0, 0, 0, 0, 0, 0, 0, 0, 0, 0, 0, 0, 0, 0, 0, 0, 0, 0, 0, 0, 0, 0, 0, 0, 0, 0, 0, 0, 0, 0, 0, 0, 0, 0, 0, 0, 0, 0, 0, 0, 0, 0, 0, 0, 0, 0, 0, 0, 0, 0, 0, 0, 0, 0, 0, 0, 0, 0, 0, 0, 0, 0, 0, 0, 0, 0, 0, 0, 0, 0, 0, 0, 0, 0, 0, 0, 0, 0, 0, 0, 0, 0, 0, 0, 0, 0, 0, 0, 0, 0, 0, 0, 0, 0, 0, 0, 0, 0, 0, 0, 0, 0, 0, 0, 0, 0, 0, 0, 0, 0, 0, 0, 0, 0, 0, 0, 0, 0, 0, 0, 0, 0, 0, 0, 0, 0, 0, 0, 0, 0, 0, 0, 0, 0, 0, 0, 0, 0, 0, 0, 0, 0, 0, 0, 0, 0, 0, 0, 0, 0, 0, 0, 0, 0, 0, 0, 0, 0, 0, 0, 0, 0, 0, 0, 0, 0, 0, 0, 0, 0, 0, 0, 0, 0, 0, 0, 0, 0, 0, 0, 0, 0, 0, 0, 0, 0, 0, 0, 0, 0, 0, 0, 0, 0, 0, 0, 0, 0, 0, 0, 0, 0, 0, 0, 0, 0, 0, 0, 0, 0, 0, 0, 0, 0, 0, 0, 0, 0, 0, 0, 0, 0, 0, 0, 0, 0, 0, 0, 0, 0, 0, 0, 0, 0, 0, 0, 0, 0, 0, 0, 0, 0, 0, 0, 0, 0, 0, 0, 0, 0, 0, 0, 0, 0, 0, 0, 0, 0, 0, 0, 0, 0, 0, 0, 0, 0, 0, 0, 0, 0, 0, 0, 0, 0, 0, 0, 0, 0, 0, 0, 0, 0, 0, 0, 0, 0, 0, 0, 0, 0, 0, 0, 0, 0], 'attention_mask': [1, 1, 1, 1, 1, 1, 1, 1, 1, 1, 1, 1, 1, 1, 1, 1, 1, 1, 1, 1, 1, 1, 1, 1, 1, 1, 1, 1, 1, 1, 1, 1, 1, 1, 1, 1, 1, 1, 1, 1, 1, 1, 1, 1, 1, 1, 1, 1, 1, 1, 1, 1, 1, 1, 1, 1, 1, 1, 1, 1, 1, 1, 1, 1, 1, 1, 1, 1, 1, 1, 1, 1, 1, 1, 1, 1, 1, 1, 1, 1, 1, 1, 1, 1, 1, 1, 1, 1, 1, 1, 1, 1, 1, 1, 1, 1, 1, 1, 1, 1, 1, 1, 1, 1, 1, 1, 1, 1, 1, 1, 1, 1, 1, 1, 1, 1, 1, 1, 1, 1, 1, 1, 1, 1, 1, 1, 1, 1, 1, 1, 1, 1, 1, 1, 1, 1, 1, 1, 1, 1, 1, 1, 1, 1, 1, 1, 1, 1, 1, 1, 1, 1, 1, 1, 1, 1, 1, 1, 1, 1, 1, 1, 1, 1, 1, 1, 1, 1, 1, 1, 1, 1, 1, 1, 1, 1, 1, 1, 1, 1, 1, 1, 1, 1, 1, 1, 1, 1, 1, 1, 1, 1, 1, 1, 1, 1, 1, 1, 1, 1, 1, 1, 1, 1, 1, 1, 1, 1, 1, 1, 1, 1, 1, 1, 1, 1, 1, 1, 1, 1, 1, 1, 1, 1, 1, 1, 1, 1, 1, 1, 1, 1, 1, 1, 1, 1, 1, 1, 1, 1, 1, 1, 1, 1, 1, 1, 1, 1, 1, 1, 1, 1, 1, 1, 1, 1, 1, 1, 1, 1, 1, 1, 1, 1, 1, 1, 1, 1, 1, 1, 1, 1, 1, 1, 1, 1, 1, 1, 1, 1, 1, 1, 1, 1, 1, 1, 1, 1, 1, 1, 1, 1, 1, 1, 1, 1, 1, 1, 1, 1, 1, 1, 1, 1, 1, 1, 1, 1, 1, 1, 1, 1, 1, 1, 1, 1, 1, 1, 1, 1, 1, 1, 1, 1, 1, 1, 1, 1, 1, 1, 1, 1, 1, 1, 1, 1, 1, 1, 1, 1, 1, 1, 1, 1, 1, 1, 1, 1, 1, 1, 1, 1, 1, 1, 1, 1, 1, 1, 1, 1, 1, 1, 1, 1, 1, 1, 1, 1, 1, 1, 1, 1, 1, 1, 1, 1, 1, 1, 1, 1, 1, 1]}"
      ]
     },
     "execution_count": 15,
     "metadata": {},
     "output_type": "execute_result"
    }
   ],
   "source": [
    "tokenizer(train[\"sentence\"][0], padding=True, truncation=True, max_length=512)\n",
    "\n",
    "# Avrò un dizionario di questo tipo:\n",
    "# {\n",
    "#   'input_ids': [102, 4759, 543, ..., 103], # ogni numero corrisponde a un token del vocabolario di BERT, 102 inizio 103 fine del testo\n",
    "#   'token_type_ids': [0, 0, 0, ..., 0],     # serve solo per i task con due frasi, non è il nostro caso quindi tutti 0\n",
    "#   'attention_mask': [1, 1, 1, ..., 1]      # indica quali sono i padding con 0\n",
    "# }"
   ]
  },
  {
   "cell_type": "markdown",
   "id": "987d46e6-5614-4edc-8a72-1dbbf5fb982d",
   "metadata": {},
   "source": [
    "### Tokenizzazione dei dati"
   ]
  },
  {
   "cell_type": "code",
   "execution_count": 16,
   "id": "443ee761-a0c2-4ea7-8d3b-e3031e2c27bc",
   "metadata": {},
   "outputs": [
    {
     "data": {
      "application/vnd.jupyter.widget-view+json": {
       "model_id": "1a7c5194397c41a2ac9a2c514403707b",
       "version_major": 2,
       "version_minor": 0
      },
      "text/plain": [
       "Map:   0%|          | 0/160 [00:00<?, ? examples/s]"
      ]
     },
     "metadata": {},
     "output_type": "display_data"
    },
    {
     "data": {
      "application/vnd.jupyter.widget-view+json": {
       "model_id": "30a95da0d57341628bab81d3b07bbc33",
       "version_major": 2,
       "version_minor": 0
      },
      "text/plain": [
       "Map:   0%|          | 0/40 [00:00<?, ? examples/s]"
      ]
     },
     "metadata": {},
     "output_type": "display_data"
    },
    {
     "data": {
      "application/vnd.jupyter.widget-view+json": {
       "model_id": "5b03687e897248cdb7c58ef34a8600eb",
       "version_major": 2,
       "version_minor": 0
      },
      "text/plain": [
       "Map:   0%|          | 0/199 [00:00<?, ? examples/s]"
      ]
     },
     "metadata": {},
     "output_type": "display_data"
    }
   ],
   "source": [
    "# Funzione che applica la tokenizzazione ai dati di training, dev e test\n",
    "# Tokenizza i testi (sentence) -> input_ids e attention_mask\n",
    "# Converte le etichette 'M' / 'F' in numeri usando str_to_int, es. {'M': 0, 'F': 1}\n",
    "\n",
    "def tokenize(batch):\n",
    "    tokens = tokenizer(batch['sentence'], padding=True, truncation=True, max_length=512)\n",
    "    tokens['label'] = [str_to_int[label] for label in batch[\"label\"]]\n",
    "    return tokens\n",
    "\n",
    "train = train.map(tokenize, batched=True) # Elabora più esempi alla volta <- batched=True\n",
    "dev = dev.map(tokenize, batched=True)\n",
    "test = test.map(tokenize, batched=True)\n",
    "\n",
    "# Conversione dei dataset in tensori PyTorch (serve per usarli con Trainer o modelli HuggingFace)\n",
    "train.set_format('torch', columns=['input_ids', 'attention_mask', 'label'])\n",
    "dev.set_format('torch', columns=['input_ids', 'attention_mask', 'label'])\n",
    "test.set_format('torch', columns=['input_ids', 'attention_mask', 'label'])"
   ]
  },
  {
   "cell_type": "markdown",
   "id": "fd8a8ecf-ea47-4da3-99a7-7e88b5a0b1e2",
   "metadata": {},
   "source": [
    "## Addestramento del modello BERT\n",
    "Per procedere con l'addestramento definiamo:\n",
    "\n",
    "- **Training arguments**: gli argomenti di addestramento (e.g. *numero di epoche/step, learning rate, batch_size, logging/saving strategy*, etc.);\n",
    "- **Metrica**: metrica di addestramento, per valutare le performance del modello in fase di evaluation;\n",
    "- **Trainer**: oggetto della libreria Transformers che processa tutti gli argomenti e, tramite il metodo .train() fa partire l'addestramento."
   ]
  },
  {
   "cell_type": "markdown",
   "id": "2f46c621-d476-4c83-9b33-f5bbaec4f1aa",
   "metadata": {},
   "source": [
    "### Training arguments"
   ]
  },
  {
   "cell_type": "code",
   "execution_count": 17,
   "id": "a98e492e-e691-4fe0-88d9-0a57d9c7f45d",
   "metadata": {},
   "outputs": [
    {
     "name": "stderr",
     "output_type": "stream",
     "text": [
      "C:\\Users\\agnes\\AppData\\Local\\Programs\\Python\\Python313\\Lib\\site-packages\\transformers\\training_args.py:1611: FutureWarning: `evaluation_strategy` is deprecated and will be removed in version 4.46 of 🤗 Transformers. Use `eval_strategy` instead\n",
      "  warnings.warn(\n"
     ]
    }
   ],
   "source": [
    "# Trainer\n",
    "\n",
    "num_epochs = 5\n",
    "\n",
    "training_args = TrainingArguments(\n",
    "    f\"output_BERT-cased/{genre}\",          # directory per salvare il modello\n",
    "    evaluation_strategy = \"epoch\",         # valuta su dev ad ogni epoca\n",
    "    logging_strategy = \"epoch\",            # log automatico a fine epoca\n",
    "    save_strategy = \"epoch\",               # salva modello a ogni epoca\n",
    "    logging_steps=10,                      # log ogni 10 batch (utile solo se logging=\"steps\")\n",
    "    learning_rate=2e-5,                    # learning rate standard per BERT\n",
    "    per_device_train_batch_size=8,         # batch size per GPU/CPU\n",
    "    per_device_eval_batch_size=8,\n",
    "    num_train_epochs=num_epochs,           # numero di epoche\n",
    "    weight_decay=0.01,                     # regolarizzazione\n",
    "    load_best_model_at_end=True            # carica il miglior modello (valutato su dev)\n",
    ")"
   ]
  },
  {
   "cell_type": "markdown",
   "id": "c13cc851-73a9-44e2-b3aa-6eec9582e75d",
   "metadata": {},
   "source": [
    "### Metrica\n",
    "Definiamo una funzione compute_metrics che prende input le predictions del modello e:\n",
    "- applica un argmax alle predictions;\n",
    "- calcola l'F-Score fra le predictions e le true labels."
   ]
  },
  {
   "cell_type": "code",
   "execution_count": 18,
   "id": "a4a33865-f3bd-49b0-8467-feb564490cdf",
   "metadata": {},
   "outputs": [],
   "source": [
    "def compute_metrics(eval_pred):\n",
    "  f1_metric = evaluate.load(\"f1\") # carico la metrica evaluate di HuggingFace\n",
    "  predictions, labels = eval_pred  # è una tupla (logits, labels), fornita automaticamente dal Trainer.\n",
    "  predictions = np.argmax(predictions, axis=1) # prende la classe più probabile (0 o 1) per ogni esempio\n",
    "\n",
    "  return f1_metric.compute(predictions=predictions, references=labels, average=\"weighted\") # calcola l'F1-score pesato, adatto anche a classi sbilanciate\n",
    "    \n",
    "# average=\"weighted\" perché...\n",
    "# - Classi meno frequenti (es. M o F) contano proporzionalmente nel calcolo dell'F1\n",
    "# - È più robusto di macro o micro se hai uno sbilanciamento."
   ]
  },
  {
   "cell_type": "markdown",
   "id": "cc9a9321-b1a3-41c1-8d0d-1bdb52581995",
   "metadata": {},
   "source": [
    "### Trainer\n",
    "A seguito della fase di training, con trainer.save_model() specifichiamo dover voler salvare il modello."
   ]
  },
  {
   "cell_type": "code",
   "execution_count": 19,
   "id": "0f4764b5-2a22-417b-8619-7eea7106a834",
   "metadata": {},
   "outputs": [
    {
     "name": "stderr",
     "output_type": "stream",
     "text": [
      "C:\\Users\\agnes\\AppData\\Local\\Temp\\ipykernel_23328\\1283563509.py:1: FutureWarning: `tokenizer` is deprecated and will be removed in version 5.0.0 for `Trainer.__init__`. Use `processing_class` instead.\n",
      "  trainer = Trainer(\n"
     ]
    },
    {
     "data": {
      "text/html": [
       "\n",
       "    <div>\n",
       "      \n",
       "      <progress value='100' max='100' style='width:300px; height:20px; vertical-align: middle;'></progress>\n",
       "      [100/100 47:06, Epoch 5/5]\n",
       "    </div>\n",
       "    <table border=\"1\" class=\"dataframe\">\n",
       "  <thead>\n",
       " <tr style=\"text-align: left;\">\n",
       "      <th>Epoch</th>\n",
       "      <th>Training Loss</th>\n",
       "      <th>Validation Loss</th>\n",
       "      <th>F1</th>\n",
       "    </tr>\n",
       "  </thead>\n",
       "  <tbody>\n",
       "    <tr>\n",
       "      <td>1</td>\n",
       "      <td>0.707600</td>\n",
       "      <td>0.701953</td>\n",
       "      <td>0.333333</td>\n",
       "    </tr>\n",
       "    <tr>\n",
       "      <td>2</td>\n",
       "      <td>0.672800</td>\n",
       "      <td>0.667023</td>\n",
       "      <td>0.648411</td>\n",
       "    </tr>\n",
       "    <tr>\n",
       "      <td>3</td>\n",
       "      <td>0.653400</td>\n",
       "      <td>0.659546</td>\n",
       "      <td>0.664732</td>\n",
       "    </tr>\n",
       "    <tr>\n",
       "      <td>4</td>\n",
       "      <td>0.588600</td>\n",
       "      <td>0.593158</td>\n",
       "      <td>0.750000</td>\n",
       "    </tr>\n",
       "    <tr>\n",
       "      <td>5</td>\n",
       "      <td>0.541200</td>\n",
       "      <td>0.575374</td>\n",
       "      <td>0.750000</td>\n",
       "    </tr>\n",
       "  </tbody>\n",
       "</table><p>"
      ],
      "text/plain": [
       "<IPython.core.display.HTML object>"
      ]
     },
     "metadata": {},
     "output_type": "display_data"
    }
   ],
   "source": [
    "trainer = Trainer(\n",
    "    model,\n",
    "    training_args,\n",
    "    train_dataset=train,\n",
    "    eval_dataset=dev,\n",
    "    tokenizer=tokenizer,\n",
    "    compute_metrics=compute_metrics\n",
    ")\n",
    "\n",
    "trainer.train()\n",
    "trainer.save_model(f\"/output_BERT-cased/{genre}/\")"
   ]
  },
  {
   "cell_type": "markdown",
   "id": "255be22c-579e-4bd4-b294-6d82c48ef771",
   "metadata": {},
   "source": [
    "## Evaluation del modello\n",
    "\n",
    "Dopo aver addestrato il modello, si passa alla fase di evaluation. Nello specifico, vogliamo:\n",
    "- visualizzare l'andamento della loss sul dataset di training e di evaluation;\n",
    "- calcolare le performance del modello sul dataset di test."
   ]
  },
  {
   "cell_type": "markdown",
   "id": "37e5b186-3e56-4c59-a8b7-eb6651a33eec",
   "metadata": {},
   "source": [
    "### Monitoraggio della loss"
   ]
  },
  {
   "cell_type": "code",
   "execution_count": 20,
   "id": "dac0a349-ca2d-4a36-a146-b6db4bc3d253",
   "metadata": {},
   "outputs": [
    {
     "name": "stderr",
     "output_type": "stream",
     "text": [
      "C:\\Users\\agnes\\AppData\\Local\\Temp\\ipykernel_23328\\3703003683.py:12: FutureWarning: The behavior of DataFrame concatenation with empty or all-NA entries is deprecated. In a future version, this will no longer exclude empty or all-NA columns when determining the result dtypes. To retain the old behavior, exclude the relevant entries before the concat operation.\n",
      "  df = pd.concat([df, log_df], ignore_index=True)\n"
     ]
    },
    {
     "data": {
      "text/plain": [
       "<Axes: xlabel='Epoch', ylabel='Loss'>"
      ]
     },
     "execution_count": 20,
     "metadata": {},
     "output_type": "execute_result"
    },
    {
     "data": {
      "image/png": "[encoded data removed]",
      "text/plain": [
       "<Figure size 640x480 with 1 Axes>"
      ]
     },
     "metadata": {},
     "output_type": "display_data"
    }
   ],
   "source": [
    "log_history = trainer.state.log_history\n",
    "\n",
    "# Creo dataframe pandas per memorizzare le loss di training/evaluation e poi mostrare graficamente le curve\n",
    "df = pd.DataFrame(columns=[\"Epoch\", \"Loss\", \"Training/Validation\"])\n",
    "\n",
    "for log_data in log_history:\n",
    "  epoch = int(log_data[\"epoch\"])\n",
    "  if \"loss\" in log_data.keys():\n",
    "    loss = log_data[\"loss\"]\n",
    "\n",
    "    log_df = pd.DataFrame({\"Epoch\": [epoch], \"Loss\": [loss], \"Training/Validation\": [\"Training\"]})\n",
    "    df = pd.concat([df, log_df], ignore_index=True)\n",
    "  if \"eval_loss\" in log_data.keys():\n",
    "    loss = log_data[\"eval_loss\"]\n",
    "    log_df = pd.DataFrame({\"Epoch\": [epoch], \"Loss\": [loss], \"Training/Validation\": [\"Validation\"]})\n",
    "    df = pd.concat([df, log_df], ignore_index=True)\n",
    "\n",
    "# Lineplot della loss\n",
    "sns.lineplot(data=df, x=\"Epoch\", y=\"Loss\", hue=\"Training/Validation\")"
   ]
  },
  {
   "cell_type": "markdown",
   "id": "d9cb60a8-8069-4640-aa2e-438b6803d2a6",
   "metadata": {},
   "source": [
    "## Calcolo performance sul test set\n",
    "Applicando il metodo .predict() sul nostro test set, otteniamo come output le prediction del modello, assieme alle metriche di valutazione (e.g. weighted F1)"
   ]
  },
  {
   "cell_type": "code",
   "execution_count": 21,
   "id": "6a249088-675a-44a4-b07b-89b63116a85e",
   "metadata": {},
   "outputs": [
    {
     "data": {
      "text/html": [],
      "text/plain": [
       "<IPython.core.display.HTML object>"
      ]
     },
     "metadata": {},
     "output_type": "display_data"
    },
    {
     "name": "stdout",
     "output_type": "stream",
     "text": [
      "PredictionOutput(predictions=array([[ 4.31778014e-01, -8.61193165e-02],\n",
      "       [-7.58062527e-02,  2.00080872e-01],\n",
      "       [ 4.30574477e-01,  6.52962998e-02],\n",
      "       [ 1.64962068e-01,  1.84900522e-01],\n",
      "       [ 1.14252754e-01,  2.29587853e-02],\n",
      "       [-2.11087793e-01,  1.87790081e-01],\n",
      "       [-2.08452433e-01,  2.19154641e-01],\n",
      "       [-1.73684523e-01,  2.52322644e-01],\n",
      "       [-2.18591645e-01,  2.58561283e-01],\n",
      "       [-4.05533135e-01,  3.69056582e-01],\n",
      "       [-2.11682171e-02,  1.46507129e-01],\n",
      "       [-3.30362558e-01,  2.60659754e-01],\n",
      "       [-3.01646441e-01,  3.28454018e-01],\n",
      "       [-8.58269408e-02,  1.53227791e-01],\n",
      "       [ 6.50992155e-01, -1.12094767e-01],\n",
      "       [-9.44937393e-02,  4.76997569e-02],\n",
      "       [ 2.57496804e-01,  1.70962289e-02],\n",
      "       [ 2.99935043e-01, -8.06892440e-02],\n",
      "       [-2.97734082e-01,  3.70217234e-01],\n",
      "       [-6.97092861e-02,  1.18876301e-01],\n",
      "       [-2.43632808e-01,  2.32554719e-01],\n",
      "       [-2.61850893e-01,  2.21326724e-01],\n",
      "       [ 3.74109894e-01, -1.72241777e-02],\n",
      "       [-3.78286064e-01,  4.45631146e-01],\n",
      "       [-1.70041546e-01,  1.23040117e-01],\n",
      "       [ 3.57818604e-01, -8.15942511e-02],\n",
      "       [ 1.60705075e-01, -3.58860940e-02],\n",
      "       [-6.69554994e-02, -1.43555403e-02],\n",
      "       [-1.46817490e-01,  2.36497551e-01],\n",
      "       [ 2.98441112e-01, -1.17521949e-01],\n",
      "       [-6.48203790e-02,  1.55478358e-01],\n",
      "       [-6.17009327e-02,  4.74704318e-02],\n",
      "       [ 3.87809485e-01, -6.58504441e-02],\n",
      "       [ 1.16703801e-01, -1.67272165e-02],\n",
      "       [ 2.82890975e-01, -4.66768965e-02],\n",
      "       [-9.92461690e-04,  9.78094116e-02],\n",
      "       [ 4.31916356e-01, -7.92655721e-02],\n",
      "       [ 4.81787622e-01, -5.32141924e-02],\n",
      "       [-4.69278991e-02,  1.01801097e-01],\n",
      "       [-8.75973329e-02,  1.19176283e-02],\n",
      "       [-2.02665165e-01,  1.43059239e-01],\n",
      "       [ 2.02981070e-01, -2.57304087e-02],\n",
      "       [ 6.30853102e-02,  1.42008141e-02],\n",
      "       [-1.74192414e-01,  1.61759406e-01],\n",
      "       [-1.39168158e-01,  1.06644310e-01],\n",
      "       [-1.39367640e-01,  1.39067873e-01],\n",
      "       [ 5.69352694e-02,  3.47731560e-02],\n",
      "       [-3.92728448e-02,  4.86818701e-02],\n",
      "       [-1.24492697e-01,  1.54596642e-01],\n",
      "       [ 1.38984844e-01,  2.30424404e-02],\n",
      "       [-7.10062236e-02,  6.81154355e-02],\n",
      "       [ 7.21474886e-02,  2.87145823e-02],\n",
      "       [ 1.12412661e-01,  1.79203525e-02],\n",
      "       [-8.43477994e-02,  3.51602495e-01],\n",
      "       [-9.76981595e-02,  6.22112341e-02],\n",
      "       [-3.04432213e-01,  3.48504126e-01],\n",
      "       [-2.32131585e-01,  9.21357349e-02],\n",
      "       [-6.10233992e-02,  3.45843732e-02],\n",
      "       [ 5.65658957e-02,  1.48682743e-02],\n",
      "       [ 5.08840680e-02,  2.40069479e-02],\n",
      "       [-2.04935774e-01,  2.65944719e-01],\n",
      "       [ 1.04740642e-01, -6.14590244e-03],\n",
      "       [ 2.17737281e-03,  2.10992813e-01],\n",
      "       [ 7.88206309e-02,  7.11914524e-02],\n",
      "       [ 2.82124639e-01, -7.17263147e-02],\n",
      "       [-1.63455769e-01,  1.73489019e-01],\n",
      "       [-1.21673785e-01,  1.22920610e-01],\n",
      "       [-2.03504637e-01,  3.59096706e-01],\n",
      "       [ 7.07444772e-02, -2.05716386e-01],\n",
      "       [ 2.08524182e-01, -4.28101644e-02],\n",
      "       [ 1.42667696e-01,  1.75858364e-02],\n",
      "       [ 3.38084280e-01, -1.04658373e-01],\n",
      "       [ 1.13018841e-01,  2.75483318e-02],\n",
      "       [-2.71729112e-01,  1.91861123e-01],\n",
      "       [ 4.11238849e-01, -8.64127800e-02],\n",
      "       [-2.68983215e-01,  3.53874326e-01],\n",
      "       [-2.51252174e-01,  8.80586579e-02],\n",
      "       [-4.16873813e-01,  1.88586295e-01],\n",
      "       [-5.09913802e-01,  4.09996808e-01],\n",
      "       [ 4.53982651e-01, -1.55439362e-01],\n",
      "       [-4.98861633e-02,  1.09507822e-01],\n",
      "       [-1.31181613e-01,  8.72629508e-02],\n",
      "       [ 4.36727285e-01, -7.50415251e-02],\n",
      "       [ 2.02379018e-01,  3.43441516e-02],\n",
      "       [ 3.27632040e-01, -1.15516104e-01],\n",
      "       [ 3.38301778e-01, -6.20391890e-02],\n",
      "       [ 5.84155440e-01, -4.82982546e-02],\n",
      "       [ 8.08484033e-02,  1.11831501e-02],\n",
      "       [-2.53932178e-01,  2.76503682e-01],\n",
      "       [ 9.40871984e-03,  1.45900503e-01],\n",
      "       [-8.92229229e-02,  1.22189038e-01],\n",
      "       [-2.36497536e-01,  1.80964425e-01],\n",
      "       [ 4.86965954e-01,  7.14504300e-03],\n",
      "       [-8.53896663e-02,  7.78202489e-02],\n",
      "       [-3.39113653e-01,  1.94846749e-01],\n",
      "       [ 1.23062566e-01, -2.11704187e-02],\n",
      "       [ 8.14248800e-01, -3.14106375e-01],\n",
      "       [-4.92429249e-02,  2.14225769e-01],\n",
      "       [ 4.66338873e-01, -2.67177448e-02],\n",
      "       [ 1.23411641e-01,  1.03077270e-01],\n",
      "       [ 2.51927078e-01, -5.22297099e-02],\n",
      "       [ 1.62510231e-01,  8.45601410e-03],\n",
      "       [ 3.99640739e-01, -5.11766151e-02],\n",
      "       [ 2.76156783e-01, -3.24287638e-02],\n",
      "       [-7.49297217e-02,  2.18806773e-01],\n",
      "       [-7.28868023e-02, -6.99409172e-02],\n",
      "       [-3.03084493e-01,  1.34171829e-01],\n",
      "       [-4.76531029e-01,  5.03671110e-01],\n",
      "       [-1.12475693e-01,  1.80718705e-01],\n",
      "       [-1.63940638e-02,  9.47905928e-02],\n",
      "       [ 7.24554411e-04,  2.14804351e-01],\n",
      "       [-6.05381012e-01,  4.68016863e-01],\n",
      "       [ 1.66371837e-02,  2.59890556e-01],\n",
      "       [-3.20829868e-01,  1.87989563e-01],\n",
      "       [-3.51027578e-01,  4.49134886e-01],\n",
      "       [-2.15552807e-01,  1.02464177e-01],\n",
      "       [-3.26941013e-01,  3.62147391e-01],\n",
      "       [-3.64736676e-01,  2.89747000e-01],\n",
      "       [ 3.48498225e-01, -5.67467809e-02],\n",
      "       [-1.54859543e-01,  1.27358466e-01],\n",
      "       [-3.44560474e-01,  2.96588719e-01],\n",
      "       [-3.64170223e-01,  3.99927229e-01],\n",
      "       [-1.22023739e-01,  1.27148047e-01],\n",
      "       [-4.91238475e-01,  2.75803804e-01],\n",
      "       [ 2.67653972e-01,  9.21802148e-02],\n",
      "       [-2.72918135e-01,  2.13060573e-01],\n",
      "       [-4.21343781e-02,  1.32129356e-01],\n",
      "       [ 7.00001046e-02,  1.08333156e-02],\n",
      "       [ 9.39475298e-02,  1.14974737e-01],\n",
      "       [-3.86678100e-01,  2.58848548e-01],\n",
      "       [ 1.12672031e-01,  6.29255846e-02],\n",
      "       [-1.93765238e-01,  2.15105474e-01],\n",
      "       [ 2.73628831e-01, -2.49417648e-02],\n",
      "       [ 2.56445765e-01, -1.64157785e-02],\n",
      "       [ 9.82620344e-02, -1.61453679e-01],\n",
      "       [-1.88356072e-01,  1.26220018e-01],\n",
      "       [ 1.19700216e-01,  3.98667268e-02],\n",
      "       [-2.64221132e-01,  2.83480108e-01],\n",
      "       [ 3.58096480e-01, -9.03734863e-02],\n",
      "       [ 1.44036397e-01, -4.92731705e-02],\n",
      "       [-1.49899721e-01,  8.05838630e-02],\n",
      "       [ 7.84808844e-02,  2.75784612e-01],\n",
      "       [ 2.28440434e-01, -5.51197724e-03],\n",
      "       [-1.20314173e-01,  4.26501259e-02],\n",
      "       [-5.87012097e-02,  9.72389281e-02],\n",
      "       [-3.78732055e-01,  3.83533150e-01],\n",
      "       [-1.77420065e-01,  2.60014892e-01],\n",
      "       [ 7.33780116e-02,  1.25240237e-02],\n",
      "       [-2.80082136e-01,  1.99199215e-01],\n",
      "       [-2.01436520e-01,  1.28818408e-01],\n",
      "       [-1.41009107e-01,  2.13341355e-01],\n",
      "       [ 2.15622291e-01,  2.52583027e-02],\n",
      "       [ 1.02340974e-01,  8.55254829e-02],\n",
      "       [ 1.04978994e-01,  3.29307839e-02],\n",
      "       [ 2.34792545e-01, -1.90236941e-02],\n",
      "       [ 2.50225365e-01,  8.71066079e-02],\n",
      "       [-5.40137231e-01,  3.90755534e-01],\n",
      "       [-2.94310749e-01,  3.19832623e-01],\n",
      "       [ 7.64480308e-02,  4.54503819e-02],\n",
      "       [ 1.43975988e-01, -2.61171954e-03],\n",
      "       [-7.13579133e-02,  2.22307280e-01],\n",
      "       [ 2.51778513e-01, -2.37093791e-02],\n",
      "       [-6.16114810e-02,  2.46845171e-01],\n",
      "       [-4.80078310e-02,  1.73188344e-01],\n",
      "       [-5.90035645e-03,  5.90843037e-02],\n",
      "       [ 4.82827395e-01, -1.69641152e-01],\n",
      "       [-1.25438556e-01,  2.19002530e-01],\n",
      "       [ 4.94381599e-02,  3.51292593e-03],\n",
      "       [ 3.56742814e-02,  3.29482183e-02],\n",
      "       [-1.01918913e-02,  1.07042618e-01],\n",
      "       [ 1.72469899e-01,  8.91937688e-02],\n",
      "       [-1.71039179e-01,  1.37847289e-01],\n",
      "       [-1.02827393e-01, -1.32027045e-02],\n",
      "       [ 4.46492255e-01, -7.20772743e-02],\n",
      "       [-6.70352578e-02,  4.41875532e-02],\n",
      "       [-1.96975023e-01, -1.78892687e-02],\n",
      "       [ 3.15918356e-01,  1.01185814e-02],\n",
      "       [-3.70344043e-01,  2.35971868e-01],\n",
      "       [ 2.24711344e-01,  9.85120460e-02],\n",
      "       [-3.16304803e-01,  2.45004967e-01],\n",
      "       [ 3.06872167e-02,  9.09041017e-02],\n",
      "       [-1.37608275e-01,  3.02343130e-01],\n",
      "       [-3.20432842e-01,  2.99700439e-01],\n",
      "       [-1.87146947e-01,  2.48104662e-01],\n",
      "       [-1.49156645e-01,  5.24323583e-02],\n",
      "       [ 1.60809293e-01,  1.47499517e-02],\n",
      "       [ 2.96219029e-02,  4.80965897e-02],\n",
      "       [-2.29560882e-01,  1.00161470e-01],\n",
      "       [-3.49733829e-01,  1.46989465e-01],\n",
      "       [-1.52936652e-01,  2.08565801e-01],\n",
      "       [-1.69627473e-01,  1.67821050e-01],\n",
      "       [-9.80448499e-02,  1.27220258e-01],\n",
      "       [-1.22085668e-01,  1.52470544e-01],\n",
      "       [ 1.85517803e-01, -1.80694386e-02],\n",
      "       [ 7.11668581e-02,  7.48955086e-02],\n",
      "       [-2.34552011e-01,  1.75214261e-01],\n",
      "       [-2.75464952e-01,  3.05157125e-01],\n",
      "       [ 2.86890268e-01, -5.83749488e-02],\n",
      "       [ 1.13302127e-01,  3.44559290e-02]], dtype=float32), label_ids=array([0, 1, 0, 0, 0, 0, 0, 1, 1, 1, 0, 0, 1, 1, 0, 0, 0, 0, 1, 1, 0, 1,\n",
      "       0, 1, 0, 0, 0, 0, 1, 1, 0, 1, 0, 0, 1, 1, 0, 0, 0, 1, 0, 0, 1, 0,\n",
      "       1, 1, 1, 1, 0, 1, 1, 1, 0, 0, 0, 0, 0, 1, 0, 1, 0, 0, 0, 1, 0, 1,\n",
      "       1, 1, 0, 0, 1, 0, 1, 1, 1, 0, 1, 1, 1, 1, 1, 1, 1, 0, 0, 1, 0, 0,\n",
      "       1, 0, 0, 1, 0, 0, 0, 0, 0, 1, 0, 1, 1, 0, 1, 0, 0, 1, 1, 1, 1, 0,\n",
      "       1, 1, 1, 1, 1, 1, 1, 0, 1, 1, 1, 1, 1, 1, 1, 1, 1, 1, 1, 1, 1, 1,\n",
      "       0, 1, 0, 1, 0, 1, 0, 1, 1, 1, 0, 0, 1, 1, 0, 0, 0, 1, 0, 0, 0, 0,\n",
      "       0, 1, 1, 1, 0, 0, 0, 0, 1, 0, 1, 0, 0, 1, 0, 0, 0, 0, 1, 0, 0, 1,\n",
      "       0, 1, 1, 0, 0, 0, 1, 1, 0, 0, 0, 1, 1, 1, 1, 0, 1, 0, 0, 0, 1, 0,\n",
      "       0]), metrics={'test_loss': 0.645357072353363, 'test_f1': 0.6343104696105656, 'test_runtime': 311.2678, 'test_samples_per_second': 0.639, 'test_steps_per_second': 0.08})\n"
     ]
    }
   ],
   "source": [
    "output_predictions = trainer.predict(test)\n",
    "print(output_predictions)"
   ]
  },
  {
   "cell_type": "code",
   "execution_count": 22,
   "id": "5ef2206b-0345-48b6-8f09-e3d37f1b4e11",
   "metadata": {},
   "outputs": [
    {
     "name": "stdout",
     "output_type": "stream",
     "text": [
      "Classification Report:\n",
      "              precision    recall  f1-score   support\n",
      "\n",
      "           0       0.67      0.54      0.60        99\n",
      "           1       0.62      0.74      0.67       100\n",
      "\n",
      "    accuracy                           0.64       199\n",
      "   macro avg       0.64      0.64      0.63       199\n",
      "weighted avg       0.64      0.64      0.63       199\n",
      "\n",
      "\n",
      "Confusion Matrix:\n",
      "<sklearn.metrics._plot.confusion_matrix.ConfusionMatrixDisplay object at 0x00000288DB4DF620>\n"
     ]
    },
    {
     "data": {
      "image/png": "[encoded data removed]",
      "text/plain": [
       "<Figure size 640x480 with 2 Axes>"
      ]
     },
     "metadata": {},
     "output_type": "display_data"
    }
   ],
   "source": [
    "y_test = test[\"label\"].tolist()\n",
    "y_pred = np.argmax(output_predictions.predictions, axis=1)\n",
    "\n",
    "report = classification_report(y_test, y_pred)\n",
    "cm = ConfusionMatrixDisplay.from_predictions(y_test, y_pred, xticks_rotation='vertical', cmap='Blues')\n",
    "\n",
    "print(\"Classification Report:\")\n",
    "print(report)\n",
    "print()\n",
    "\n",
    "print(\"Confusion Matrix:\")\n",
    "print(cm)"
   ]
  }
 ],
 "metadata": {
  "kernelspec": {
   "display_name": "Python 3 (ipykernel)",
   "language": "python",
   "name": "python3"
  },
  "language_info": {
   "codemirror_mode": {
    "name": "ipython",
    "version": 3
   },
   "file_extension": ".py",
   "mimetype": "text/x-python",
   "name": "python",
   "nbconvert_exporter": "python",
   "pygments_lexer": "ipython3",
   "version": "3.13.1"
  }
 },
 "nbformat": 4,
 "nbformat_minor": 5
}
