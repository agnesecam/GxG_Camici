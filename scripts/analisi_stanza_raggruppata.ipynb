{
 "cells": [
  {
   "cell_type": "markdown",
   "id": "71786428",
   "metadata": {},
   "source": [
    "# Analisi Stanza: distribuzione di aggettivi e verbi con genere morfologico per autore (F/M) e genere testuale\n",
    "\n",
    "Questo notebook esegue un'analisi morfosintattica dei testi GxG (escluso YouTube) per confrontare l'uso di **aggettivi** e **verbi** con genere grammaticale (maschile o femminile) tra autori di genere **F** e **M**, per ciascun **genere testuale**.\n"
   ]
  },
  {
   "cell_type": "code",
   "execution_count": 1,
   "id": "85112f60",
   "metadata": {},
   "outputs": [
    {
     "data": {
      "application/vnd.jupyter.widget-view+json": {
       "model_id": "6042ddecde00436f8cedc75185ae078b",
       "version_major": 2,
       "version_minor": 0
      },
      "text/plain": [
       "Downloading https://raw.githubusercontent.com/stanfordnlp/stanza-resources/main/resources_1.10.0.json:   0%|  …"
      ]
     },
     "metadata": {},
     "output_type": "display_data"
    },
    {
     "name": "stderr",
     "output_type": "stream",
     "text": [
      "2025-06-01 23:17:35 INFO: Downloaded file to C:\\Users\\agnes\\stanza_resources\\resources.json\n",
      "2025-06-01 23:17:35 INFO: Downloading default packages for language: it (Italian) ...\n",
      "2025-06-01 23:17:37 INFO: File exists: C:\\Users\\agnes\\stanza_resources\\it\\default.zip\n",
      "2025-06-01 23:17:45 INFO: Finished downloading models and saved to C:\\Users\\agnes\\stanza_resources\n",
      "2025-06-01 23:17:45 INFO: Checking for updates to resources.json in case models have been updated.  Note: this behavior can be turned off with download_method=None or download_method=DownloadMethod.REUSE_RESOURCES\n"
     ]
    },
    {
     "data": {
      "application/vnd.jupyter.widget-view+json": {
       "model_id": "5e5c4b92ab634c0c8cb2c33f1c73c067",
       "version_major": 2,
       "version_minor": 0
      },
      "text/plain": [
       "Downloading https://raw.githubusercontent.com/stanfordnlp/stanza-resources/main/resources_1.10.0.json:   0%|  …"
      ]
     },
     "metadata": {},
     "output_type": "display_data"
    },
    {
     "name": "stderr",
     "output_type": "stream",
     "text": [
      "2025-06-01 23:17:45 INFO: Downloaded file to C:\\Users\\agnes\\stanza_resources\\resources.json\n",
      "2025-06-01 23:17:47 INFO: Loading these models for language: it (Italian):\n",
      "=================================\n",
      "| Processor | Package           |\n",
      "---------------------------------\n",
      "| tokenize  | combined          |\n",
      "| mwt       | combined          |\n",
      "| pos       | combined_charlm   |\n",
      "| lemma     | combined_nocharlm |\n",
      "| depparse  | combined_charlm   |\n",
      "=================================\n",
      "\n",
      "2025-06-01 23:17:47 INFO: Using device: cpu\n",
      "2025-06-01 23:17:47 INFO: Loading: tokenize\n",
      "2025-06-01 23:17:51 INFO: Loading: mwt\n",
      "2025-06-01 23:17:51 INFO: Loading: pos\n",
      "2025-06-01 23:17:55 INFO: Loading: lemma\n",
      "2025-06-01 23:17:57 INFO: Loading: depparse\n",
      "2025-06-01 23:17:57 INFO: Done loading processors!\n"
     ]
    }
   ],
   "source": [
    "import stanza\n",
    "import re\n",
    "import pandas as pd\n",
    "from collections import defaultdict\n",
    "from tqdm import tqdm\n",
    "\n",
    "# Inizializza la pipeline italiana\n",
    "stanza.download(\"it\")\n",
    "nlp = stanza.Pipeline(lang=\"it\", processors=\"tokenize,mwt,pos,lemma,depparse\", use_gpu=False)\n",
    "\n",
    "# File di input\n",
    "files = {\n",
    "    \"Children\": \"../data/dataset_originale/Training/GxG_Children.txt\",\n",
    "    \"Diary\": \"../data/dataset_originale/Training/GxG_Diary.txt\",\n",
    "    \"Journalism\": \"../data/dataset_originale/Training/GxG_Journalism.txt\",\n",
    "    \"Twitter\": \"../data/dataset_originale/Training/GxG_Twitter.txt\"\n",
    "}\n"
   ]
  },
  {
   "cell_type": "code",
   "execution_count": 2,
   "id": "8b2fd5e1",
   "metadata": {},
   "outputs": [
    {
     "name": "stderr",
     "output_type": "stream",
     "text": [
      "Children: 100%|██████████████████████████████████████████████████████████████████████| 200/200 [22:53<00:00,  6.87s/it]\n",
      "Diary: 100%|█████████████████████████████████████████████████████████████████████████| 200/200 [27:13<00:00,  8.17s/it]\n",
      "Journalism: 100%|████████████████████████████████████████████████████████████████████| 200/200 [34:57<00:00, 10.49s/it]\n",
      "Twitter: 100%|███████████████████████████████████████████████████████████████████| 6000/6000 [1:50:12<00:00,  1.10s/it]\n"
     ]
    },
    {
     "data": {
      "text/html": [
       "<div>\n",
       "<style scoped>\n",
       "    .dataframe tbody tr th:only-of-type {\n",
       "        vertical-align: middle;\n",
       "    }\n",
       "\n",
       "    .dataframe tbody tr th {\n",
       "        vertical-align: top;\n",
       "    }\n",
       "\n",
       "    .dataframe thead th {\n",
       "        text-align: right;\n",
       "    }\n",
       "</style>\n",
       "<table border=\"1\" class=\"dataframe\">\n",
       "  <thead>\n",
       "    <tr style=\"text-align: right;\">\n",
       "      <th></th>\n",
       "      <th>Genere testuale</th>\n",
       "      <th>Categoria</th>\n",
       "      <th>F</th>\n",
       "      <th>M</th>\n",
       "      <th>Totale</th>\n",
       "      <th>%F</th>\n",
       "      <th>%M</th>\n",
       "    </tr>\n",
       "  </thead>\n",
       "  <tbody>\n",
       "    <tr>\n",
       "      <th>0</th>\n",
       "      <td>Children</td>\n",
       "      <td>ADJ</td>\n",
       "      <td>1625</td>\n",
       "      <td>1210</td>\n",
       "      <td>2835</td>\n",
       "      <td>57.3</td>\n",
       "      <td>42.7</td>\n",
       "    </tr>\n",
       "    <tr>\n",
       "      <th>1</th>\n",
       "      <td>Children</td>\n",
       "      <td>VERB</td>\n",
       "      <td>1134</td>\n",
       "      <td>1022</td>\n",
       "      <td>2156</td>\n",
       "      <td>52.6</td>\n",
       "      <td>47.4</td>\n",
       "    </tr>\n",
       "    <tr>\n",
       "      <th>2</th>\n",
       "      <td>Diary</td>\n",
       "      <td>ADJ</td>\n",
       "      <td>1958</td>\n",
       "      <td>2153</td>\n",
       "      <td>4111</td>\n",
       "      <td>47.6</td>\n",
       "      <td>52.4</td>\n",
       "    </tr>\n",
       "    <tr>\n",
       "      <th>3</th>\n",
       "      <td>Diary</td>\n",
       "      <td>VERB</td>\n",
       "      <td>1261</td>\n",
       "      <td>1163</td>\n",
       "      <td>2424</td>\n",
       "      <td>52.0</td>\n",
       "      <td>48.0</td>\n",
       "    </tr>\n",
       "    <tr>\n",
       "      <th>4</th>\n",
       "      <td>Journalism</td>\n",
       "      <td>ADJ</td>\n",
       "      <td>2579</td>\n",
       "      <td>2911</td>\n",
       "      <td>5490</td>\n",
       "      <td>47.0</td>\n",
       "      <td>53.0</td>\n",
       "    </tr>\n",
       "    <tr>\n",
       "      <th>5</th>\n",
       "      <td>Journalism</td>\n",
       "      <td>VERB</td>\n",
       "      <td>1831</td>\n",
       "      <td>1967</td>\n",
       "      <td>3798</td>\n",
       "      <td>48.2</td>\n",
       "      <td>51.8</td>\n",
       "    </tr>\n",
       "    <tr>\n",
       "      <th>6</th>\n",
       "      <td>Twitter</td>\n",
       "      <td>ADJ</td>\n",
       "      <td>1721</td>\n",
       "      <td>1803</td>\n",
       "      <td>3524</td>\n",
       "      <td>48.8</td>\n",
       "      <td>51.2</td>\n",
       "    </tr>\n",
       "    <tr>\n",
       "      <th>7</th>\n",
       "      <td>Twitter</td>\n",
       "      <td>VERB</td>\n",
       "      <td>1015</td>\n",
       "      <td>1230</td>\n",
       "      <td>2245</td>\n",
       "      <td>45.2</td>\n",
       "      <td>54.8</td>\n",
       "    </tr>\n",
       "  </tbody>\n",
       "</table>\n",
       "</div>"
      ],
      "text/plain": [
       "  Genere testuale Categoria     F     M  Totale    %F    %M\n",
       "0        Children       ADJ  1625  1210    2835  57.3  42.7\n",
       "1        Children      VERB  1134  1022    2156  52.6  47.4\n",
       "2           Diary       ADJ  1958  2153    4111  47.6  52.4\n",
       "3           Diary      VERB  1261  1163    2424  52.0  48.0\n",
       "4      Journalism       ADJ  2579  2911    5490  47.0  53.0\n",
       "5      Journalism      VERB  1831  1967    3798  48.2  51.8\n",
       "6         Twitter       ADJ  1721  1803    3524  48.8  51.2\n",
       "7         Twitter      VERB  1015  1230    2245  45.2  54.8"
      ]
     },
     "execution_count": 2,
     "metadata": {},
     "output_type": "execute_result"
    }
   ],
   "source": [
    "# Analizza tutti i testi e raccoglie conteggi ADJ/VERB con Gender per autori F e M\n",
    "counts = defaultdict(lambda: {\"F\": 0, \"M\": 0})\n",
    "\n",
    "for genre, path in files.items():\n",
    "    with open(path, \"r\", encoding=\"utf-8\") as f:\n",
    "        content = f.read()\n",
    "        matches = re.findall(r'<doc id=\"\\d+\" genre=\"\\w+\" gender=\"(F|M)\">([\\s\\S]*?)</doc>', content)\n",
    "\n",
    "    for gender, text in tqdm(matches, desc=genre):\n",
    "        doc = nlp(text.strip())\n",
    "        for sent in doc.sentences:\n",
    "            for word in sent.words:\n",
    "                feats = word.feats if word.feats else \"\"\n",
    "                if word.upos in [\"ADJ\", \"VERB\"] and (\"Gender=Fem\" in feats or \"Gender=Masc\" in feats):\n",
    "                    key = (genre, word.upos)\n",
    "                    counts[key][gender] += 1\n",
    "\n",
    "# Trasforma in DataFrame\n",
    "rows = []\n",
    "for (genre, pos), d in counts.items():\n",
    "    F = d[\"F\"]\n",
    "    M = d[\"M\"]\n",
    "    tot = F + M\n",
    "    rows.append({\n",
    "        \"Genere testuale\": genre,\n",
    "        \"Categoria\": pos,\n",
    "        \"F\": F,\n",
    "        \"M\": M,\n",
    "        \"Totale\": tot,\n",
    "        \"%F\": round(F / tot * 100, 1) if tot > 0 else 0.0,\n",
    "        \"%M\": round(M / tot * 100, 1) if tot > 0 else 0.0\n",
    "    })\n",
    "\n",
    "df = pd.DataFrame(rows).sort_values([\"Genere testuale\", \"Categoria\"]).reset_index(drop=True)\n",
    "df\n"
   ]
  },
  {
   "cell_type": "markdown",
   "id": "d82e798a",
   "metadata": {},
   "source": [
    "La tabella mostra il numero di aggettivi (ADJ) e verbi (VERB) con marcatura di genere morfologico, prodotti da autori F e M in ciascun genere testuale. Le colonne %F e %M indicano la distribuzione relativa.\n"
   ]
  }
 ],
 "metadata": {
  "kernelspec": {
   "display_name": "Python 3 (ipykernel)",
   "language": "python",
   "name": "python3"
  },
  "language_info": {
   "codemirror_mode": {
    "name": "ipython",
    "version": 3
   },
   "file_extension": ".py",
   "mimetype": "text/x-python",
   "name": "python",
   "nbconvert_exporter": "python",
   "pygments_lexer": "ipython3",
   "version": "3.13.1"
  }
 },
 "nbformat": 4,
 "nbformat_minor": 5
}
