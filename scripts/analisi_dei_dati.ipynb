{
 "cells": [
  {
   "cell_type": "markdown",
   "id": "46ed6764",
   "metadata": {},
   "source": [
    "## Analisi della distribuzione M/F nei dataset per genere testuale\n",
    "\n",
    "In questo notebook analizziamo:\n",
    "1. la distribuzione dei generi (F/M) nei testi contenuti nei file originali, per i generi testuali: **Children**, **Diary**, **Journalism** e **Twitter**.\n",
    "2. la lunghezza dei testi, misurata in **numero di parole** e **numero di caratteri**, per ciascun genere testuale\n",
    "\n"
   ]
  },
  {
   "cell_type": "markdown",
   "id": "7f24c4a7-1315-4691-ac5c-3d7bd29685ed",
   "metadata": {},
   "source": [
    "### Distribuzione dei generi (F/M)"
   ]
  },
  {
   "cell_type": "code",
   "execution_count": 1,
   "id": "0cd2dadc-96fc-4a8b-addc-d007f2468b98",
   "metadata": {},
   "outputs": [],
   "source": [
    "import re\n",
    "from collections import Counter\n",
    "import pandas as pd"
   ]
  },
  {
   "cell_type": "code",
   "execution_count": 2,
   "id": "24b36bdb-d846-4a7c-8e51-7dd2b5a24417",
   "metadata": {},
   "outputs": [],
   "source": [
    "# File originali\n",
    "files = {\n",
    "    \"Children\": \"../data/dataset_originale/Training/GxG_Children.txt\",\n",
    "    \"Diary\": \"../data/dataset_originale/Training/GxG_Diary.txt\",\n",
    "    \"Journalism\": \"../data/dataset_originale/Training/GxG_Journalism.txt\",\n",
    "    \"Twitter\": \"../data/dataset_originale/Training/GxG_Twitter.txt\"\n",
    "}"
   ]
  },
  {
   "cell_type": "code",
   "execution_count": 3,
   "id": "b576762b-8cd9-44fe-97b4-71c9871cac59",
   "metadata": {},
   "outputs": [],
   "source": [
    "# Funzione per contare M/F\n",
    "def extract_gender_counts(file_path):\n",
    "    with open(file_path, \"r\", encoding=\"utf-8\") as f:\n",
    "        content = f.read()\n",
    "        genders = re.findall(r'gender=\"(F|M)\"', content)\n",
    "        return Counter(genders)"
   ]
  },
  {
   "cell_type": "code",
   "execution_count": 4,
   "id": "c74cdda8-0712-4709-925a-2681c705e22c",
   "metadata": {},
   "outputs": [],
   "source": [
    "# Raccolta dati\n",
    "data = []\n",
    "for genre, path in files.items():\n",
    "    counts = extract_gender_counts(path)\n",
    "    data.append({\n",
    "        \"Genere testuale\": genre,\n",
    "        \"F\": counts.get(\"F\", 0),\n",
    "        \"M\": counts.get(\"M\", 0),\n",
    "        \"Totale\": counts.get(\"F\", 0) + counts.get(\"M\", 0)\n",
    "    })"
   ]
  },
  {
   "cell_type": "code",
   "execution_count": 5,
   "id": "9703dfa9-b7d2-4f0a-b688-68d3c17f1a2a",
   "metadata": {},
   "outputs": [],
   "source": [
    "df = pd.DataFrame(data)\n",
    "df[\"%F\"] = (df[\"F\"] / df[\"Totale\"] * 100).round(2)\n",
    "df[\"%M\"] = (df[\"M\"] / df[\"Totale\"] * 100).round(2)"
   ]
  },
  {
   "cell_type": "code",
   "execution_count": 6,
   "id": "123d68a1-0823-4327-8603-c6fc4e126654",
   "metadata": {},
   "outputs": [
    {
     "data": {
      "text/html": [
       "<div>\n",
       "<style scoped>\n",
       "    .dataframe tbody tr th:only-of-type {\n",
       "        vertical-align: middle;\n",
       "    }\n",
       "\n",
       "    .dataframe tbody tr th {\n",
       "        vertical-align: top;\n",
       "    }\n",
       "\n",
       "    .dataframe thead th {\n",
       "        text-align: right;\n",
       "    }\n",
       "</style>\n",
       "<table border=\"1\" class=\"dataframe\">\n",
       "  <thead>\n",
       "    <tr style=\"text-align: right;\">\n",
       "      <th></th>\n",
       "      <th>Genere testuale</th>\n",
       "      <th>F</th>\n",
       "      <th>M</th>\n",
       "      <th>Totale</th>\n",
       "      <th>%F</th>\n",
       "      <th>%M</th>\n",
       "    </tr>\n",
       "  </thead>\n",
       "  <tbody>\n",
       "    <tr>\n",
       "      <th>0</th>\n",
       "      <td>Children</td>\n",
       "      <td>100</td>\n",
       "      <td>100</td>\n",
       "      <td>200</td>\n",
       "      <td>50.0</td>\n",
       "      <td>50.0</td>\n",
       "    </tr>\n",
       "    <tr>\n",
       "      <th>1</th>\n",
       "      <td>Diary</td>\n",
       "      <td>100</td>\n",
       "      <td>100</td>\n",
       "      <td>200</td>\n",
       "      <td>50.0</td>\n",
       "      <td>50.0</td>\n",
       "    </tr>\n",
       "    <tr>\n",
       "      <th>2</th>\n",
       "      <td>Journalism</td>\n",
       "      <td>100</td>\n",
       "      <td>100</td>\n",
       "      <td>200</td>\n",
       "      <td>50.0</td>\n",
       "      <td>50.0</td>\n",
       "    </tr>\n",
       "    <tr>\n",
       "      <th>3</th>\n",
       "      <td>Twitter</td>\n",
       "      <td>3000</td>\n",
       "      <td>3000</td>\n",
       "      <td>6000</td>\n",
       "      <td>50.0</td>\n",
       "      <td>50.0</td>\n",
       "    </tr>\n",
       "  </tbody>\n",
       "</table>\n",
       "</div>"
      ],
      "text/plain": [
       "  Genere testuale     F     M  Totale    %F    %M\n",
       "0        Children   100   100     200  50.0  50.0\n",
       "1           Diary   100   100     200  50.0  50.0\n",
       "2      Journalism   100   100     200  50.0  50.0\n",
       "3         Twitter  3000  3000    6000  50.0  50.0"
      ]
     },
     "execution_count": 6,
     "metadata": {},
     "output_type": "execute_result"
    }
   ],
   "source": [
    "df.sort_values(\"Genere testuale\", inplace=True)\n",
    "df.reset_index(drop=True, inplace=True)\n",
    "df"
   ]
  },
  {
   "cell_type": "markdown",
   "id": "ec68a37c-3232-4980-9bdb-bc5e2fdef8af",
   "metadata": {},
   "source": [
    "### Lunghezza dei testi"
   ]
  },
  {
   "cell_type": "code",
   "execution_count": 9,
   "id": "faa2cd64-6210-4320-b94c-75ba370e1976",
   "metadata": {},
   "outputs": [],
   "source": [
    "# Estrazione testi <doc> da ciascun file\n",
    "def extract_text_lengths(file_path):\n",
    "    with open(file_path, \"r\", encoding=\"utf-8\") as f:\n",
    "        content = f.read()\n",
    "        matches = re.findall(r'<doc id=\"\\d+\" genre=\"\\w+\" gender=\"\\w\">([\\s\\S]*?)</doc>', content)\n",
    "        lengths = []\n",
    "        for text in matches:\n",
    "            text = text.strip()\n",
    "            num_chars = len(text)\n",
    "            num_words = len(text.split())\n",
    "            num_sentences = len(re.findall(r\"[.!?]+\", text))\n",
    "            lengths.append((num_words, num_chars, num_sentences))\n",
    "        return lengths"
   ]
  },
  {
   "cell_type": "code",
   "execution_count": 11,
   "id": "2121f5f3-032a-48de-8c2d-ac942e3f4d58",
   "metadata": {},
   "outputs": [
    {
     "data": {
      "text/html": [
       "<div>\n",
       "<style scoped>\n",
       "    .dataframe tbody tr th:only-of-type {\n",
       "        vertical-align: middle;\n",
       "    }\n",
       "\n",
       "    .dataframe tbody tr th {\n",
       "        vertical-align: top;\n",
       "    }\n",
       "\n",
       "    .dataframe thead th {\n",
       "        text-align: right;\n",
       "    }\n",
       "</style>\n",
       "<table border=\"1\" class=\"dataframe\">\n",
       "  <thead>\n",
       "    <tr style=\"text-align: right;\">\n",
       "      <th></th>\n",
       "      <th>Genere testuale</th>\n",
       "      <th>Media parole</th>\n",
       "      <th>Varianza parole</th>\n",
       "      <th>Media caratteri</th>\n",
       "      <th>Varianza caratteri</th>\n",
       "      <th>Media frasi</th>\n",
       "      <th>Varianza frasi</th>\n",
       "      <th>Numero testi</th>\n",
       "    </tr>\n",
       "  </thead>\n",
       "  <tbody>\n",
       "    <tr>\n",
       "      <th>0</th>\n",
       "      <td>Children</td>\n",
       "      <td>329.54</td>\n",
       "      <td>31181.90</td>\n",
       "      <td>1903.24</td>\n",
       "      <td>1083110.28</td>\n",
       "      <td>16.86</td>\n",
       "      <td>139.22</td>\n",
       "      <td>200</td>\n",
       "    </tr>\n",
       "    <tr>\n",
       "      <th>1</th>\n",
       "      <td>Diary</td>\n",
       "      <td>413.88</td>\n",
       "      <td>102623.12</td>\n",
       "      <td>2469.52</td>\n",
       "      <td>3642663.30</td>\n",
       "      <td>22.10</td>\n",
       "      <td>268.64</td>\n",
       "      <td>200</td>\n",
       "    </tr>\n",
       "    <tr>\n",
       "      <th>2</th>\n",
       "      <td>Journalism</td>\n",
       "      <td>565.85</td>\n",
       "      <td>40740.54</td>\n",
       "      <td>3549.89</td>\n",
       "      <td>1642115.61</td>\n",
       "      <td>26.71</td>\n",
       "      <td>141.56</td>\n",
       "      <td>200</td>\n",
       "    </tr>\n",
       "    <tr>\n",
       "      <th>3</th>\n",
       "      <td>Twitter</td>\n",
       "      <td>16.90</td>\n",
       "      <td>24.79</td>\n",
       "      <td>117.57</td>\n",
       "      <td>1553.33</td>\n",
       "      <td>1.62</td>\n",
       "      <td>1.65</td>\n",
       "      <td>6000</td>\n",
       "    </tr>\n",
       "  </tbody>\n",
       "</table>\n",
       "</div>"
      ],
      "text/plain": [
       "  Genere testuale  Media parole  Varianza parole  Media caratteri  \\\n",
       "0        Children        329.54         31181.90          1903.24   \n",
       "1           Diary        413.88        102623.12          2469.52   \n",
       "2      Journalism        565.85         40740.54          3549.89   \n",
       "3         Twitter         16.90            24.79           117.57   \n",
       "\n",
       "   Varianza caratteri  Media frasi  Varianza frasi  Numero testi  \n",
       "0          1083110.28        16.86          139.22           200  \n",
       "1          3642663.30        22.10          268.64           200  \n",
       "2          1642115.61        26.71          141.56           200  \n",
       "3             1553.33         1.62            1.65          6000  "
      ]
     },
     "execution_count": 11,
     "metadata": {},
     "output_type": "execute_result"
    }
   ],
   "source": [
    "# Calcolo lunghezza media e varianza\n",
    "results = []\n",
    "\n",
    "for genre, path in files.items():\n",
    "    lengths = extract_text_lengths(path)\n",
    "    if not lengths:\n",
    "        continue\n",
    "    word_lengths = [w for w, c, s in lengths]\n",
    "    char_lengths = [c for w, c, s in lengths]\n",
    "    sentence_counts = [s for w, c, s in lengths]\n",
    "\n",
    "    results.append({\n",
    "        \"Genere testuale\": genre,\n",
    "        \"Media parole\": round(pd.Series(word_lengths).mean(), 2),\n",
    "        \"Varianza parole\": round(pd.Series(word_lengths).var(), 2),\n",
    "        \"Media caratteri\": round(pd.Series(char_lengths).mean(), 2),\n",
    "        \"Varianza caratteri\": round(pd.Series(char_lengths).var(), 2),\n",
    "        \"Media frasi\": round(pd.Series(sentence_counts).mean(), 2),\n",
    "        \"Varianza frasi\": round(pd.Series(sentence_counts).var(), 2),\n",
    "        \"Numero testi\": len(lengths)\n",
    "    })\n",
    "\n",
    "df_lunghezze_frasi = pd.DataFrame(results).sort_values(\"Genere testuale\").reset_index(drop=True)\n",
    "df_lunghezze_frasi"
   ]
  },
  {
   "cell_type": "markdown",
   "id": "d4506e99-babc-4079-baeb-3b6e497d4df1",
   "metadata": {},
   "source": [
    "## Analisi Stanza: distribuzione di aggettivi e verbi con genere morfologico per autore (F/M) e genere testuale\n",
    "\n",
    "Analisi morfosintattica dei testi GxG (escluso YouTube) per confrontare l'uso di aggettivi e verbi con genere grammaticale (maschile o femminile) tra autori di genere F e M, per ciascun genere testuale.\n",
    "\n",
    "- Per ciascun documento vengono estratte UPOS + feature morfosintattiche\n",
    "- Filtrati solo gli aggettivi e i verbi con accordo di genere\n",
    "- Contate le occorrenze per ciascun genere testuale"
   ]
  },
  {
   "cell_type": "code",
   "execution_count": null,
   "id": "fe219dca-7f14-4a92-82f1-832a4383dcbd",
   "metadata": {},
   "outputs": [],
   "source": [
    "import stanza\n",
    "from tqdm import tqdm"
   ]
  },
  {
   "cell_type": "code",
   "execution_count": null,
   "id": "e79907fb-0501-4407-af36-a6e5ea3833a0",
   "metadata": {},
   "outputs": [],
   "source": [
    "stanza.download(\"it\")\n",
    "nlp = stanza.Pipeline(lang=\"it\", processors=\"tokenize,mwt,pos,lemma,depparse\", use_gpu=False)"
   ]
  },
  {
   "cell_type": "code",
   "execution_count": null,
   "id": "c826b61f-ed5d-4aa0-9824-a6188bfdb599",
   "metadata": {},
   "outputs": [],
   "source": [
    "# Analizza tutti i testi e raccoglie conteggi ADJ/VERB con Gender per autori F e M\n",
    "counts = defaultdict(lambda: {\"F\": 0, \"M\": 0})\n",
    "\n",
    "for genre, path in files.items():\n",
    "    with open(path, \"r\", encoding=\"utf-8\") as f:\n",
    "        content = f.read()\n",
    "        matches = re.findall(r'<doc id=\"\\d+\" genre=\"\\w+\" gender=\"(F|M)\">([\\s\\S]*?)</doc>', content)\n",
    "\n",
    "    for gender, text in tqdm(matches, desc=genre):\n",
    "        doc = nlp(text.strip())\n",
    "        for sent in doc.sentences:\n",
    "            for word in sent.words:\n",
    "                feats = word.feats if word.feats else \"\"\n",
    "                if word.upos in [\"ADJ\", \"VERB\"] and (\"Gender=Fem\" in feats or \"Gender=Masc\" in feats): #<-- selezione su accordo di genere\n",
    "                    key = (genre, word.upos)\n",
    "                    counts[key][gender] += 1"
   ]
  },
  {
   "cell_type": "code",
   "execution_count": null,
   "id": "fc7c1219-88ba-4f46-ad82-793c839d5c62",
   "metadata": {},
   "outputs": [],
   "source": [
    "# Trasforma in DataFrame\n",
    "rows = []\n",
    "for (genre, pos), d in counts.items():\n",
    "    F = d[\"F\"]\n",
    "    M = d[\"M\"]\n",
    "    tot = F + M\n",
    "    rows.append({\n",
    "        \"Genere testuale\": genre,\n",
    "        \"Categoria\": pos,\n",
    "        \"F\": F,\n",
    "        \"M\": M,\n",
    "        \"Totale\": tot,\n",
    "        \"%F\": round(F / tot * 100, 1) if tot > 0 else 0.0,\n",
    "        \"%M\": round(M / tot * 100, 1) if tot > 0 else 0.0\n",
    "    })"
   ]
  },
  {
   "cell_type": "code",
   "execution_count": null,
   "id": "867e08f7-e178-4e5e-b8c5-664742e5ff0d",
   "metadata": {},
   "outputs": [],
   "source": [
    "df = pd.DataFrame(rows).sort_values([\"Genere testuale\", \"Categoria\"]).reset_index(drop=True)\n",
    "df"
   ]
  },
  {
   "cell_type": "markdown",
   "id": "63af6634-6548-4b32-b8db-7d2415c93f4f",
   "metadata": {},
   "source": [
    "| Genere testuale | Categoria |   F   |   M   | Totale |  %F  |  %M  |\n",
    "|-----------------|-----------|-------|-------|--------|------|------|\n",
    "| Children        | ADJ       | 1625  | 1210  |  2835  | 57.3 | 42.7 |\n",
    "| Children        | VERB      | 1134  | 1022  |  2156  | 52.6 | 47.4 |\n",
    "| Diary           | ADJ       | 1958  | 2153  |  4111  | 47.6 | 52.4 |\n",
    "| Diary           | VERB      | 1261  | 1163  |  2424  | 52.0 | 48.0 |\n",
    "| Journalism      | ADJ       | 2579  | 2911  |  5490  | 47.0 | 53.0 |\n",
    "| Journalism      | VERB      | 1831  | 1967  |  3798  | 48.2 | 51.8 |\n",
    "| Twitter         | ADJ       | 1721  | 1803  |  3524  | 48.8 | 51.2 |\n",
    "| Twitter         | VERB      | 1015  | 1230  |  2245  | 45.2 | 54.8 |"
   ]
  },
  {
   "cell_type": "markdown",
   "id": "6d9bebe8-3b29-49b0-8a37-a0c17198789b",
   "metadata": {},
   "source": [
    "La tabella mostra il numero di aggettivi (ADJ) e verbi (VERB) con marcatura di genere morfologico, prodotti da autori F e M in ciascun genere testuale. Le colonne %F e %M indicano la distribuzione relativa."
   ]
  }
 ],
 "metadata": {
  "kernelspec": {
   "display_name": "Python 3 (ipykernel)",
   "language": "python",
   "name": "python3"
  },
  "language_info": {
   "codemirror_mode": {
    "name": "ipython",
    "version": 3
   },
   "file_extension": ".py",
   "mimetype": "text/x-python",
   "name": "python",
   "nbconvert_exporter": "python",
   "pygments_lexer": "ipython3",
   "version": "3.13.1"
  }
 },
 "nbformat": 4,
 "nbformat_minor": 5
}
