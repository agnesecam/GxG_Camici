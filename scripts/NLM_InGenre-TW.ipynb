{
 "cells": [
  {
   "cell_type": "markdown",
   "id": "211b3008-182e-4603-b393-cc3237862a25",
   "metadata": {},
   "source": [
    "# Fase 4 - NLM (in-genre classification)\n",
    "\n",
    "Dopo aver scelto un Neural Language Model tra quelli visti a lezione, condurre un processo di fine-tuning per 5 epoche. Riportare i seguenti risultati:\n",
    "- riportare le curve di loss di training e di validation;\n",
    "- per ogni epoca valutare il sistema sul validation set;\n",
    "- alla fine dell’ultima epoca, riportare la valutazione del sistema sul test set ufficiale."
   ]
  },
  {
   "cell_type": "markdown",
   "id": "5f202beb-5550-4af3-82ec-ca2252727425",
   "metadata": {},
   "source": [
    "Dal task GxG Evalita 2018:\n",
    "\n",
    "\"Given a (collection of) text(s) from a specific genre, the gender of the author has to be predicted. The task is cast as a binary classification task, with gender represented as F (female) or M (male). Gender prediction will be done in two ways: \n",
    "\n",
    "1. **using a model which has been trained on the same genre**\n",
    "2. using a model which has been trained on anything but that genre.\"\n",
    "\n",
    "In questo file utilizzeremo un modello allenato sullo stesso genere su cui poi verrà testato."
   ]
  },
  {
   "cell_type": "markdown",
   "id": "cb016f4d-b91a-43ed-b7ec-acd004130e28",
   "metadata": {},
   "source": [
    "## Installazione e importazione librerie NLP"
   ]
  },
  {
   "cell_type": "code",
   "execution_count": 1,
   "id": "f469164b-6aef-4414-9cbf-81a1d2b4b687",
   "metadata": {},
   "outputs": [
    {
     "name": "stdout",
     "output_type": "stream",
     "text": [
      "Requirement already satisfied: datasets in c:\\users\\agnes\\appdata\\local\\programs\\python\\python313\\lib\\site-packages (3.5.0)\n",
      "Requirement already satisfied: filelock in c:\\users\\agnes\\appdata\\local\\programs\\python\\python313\\lib\\site-packages (from datasets) (3.17.0)\n",
      "Requirement already satisfied: numpy>=1.17 in c:\\users\\agnes\\appdata\\local\\programs\\python\\python313\\lib\\site-packages (from datasets) (2.2.2)\n",
      "Requirement already satisfied: pyarrow>=15.0.0 in c:\\users\\agnes\\appdata\\local\\programs\\python\\python313\\lib\\site-packages (from datasets) (19.0.1)\n",
      "Requirement already satisfied: dill<0.3.9,>=0.3.0 in c:\\users\\agnes\\appdata\\local\\programs\\python\\python313\\lib\\site-packages (from datasets) (0.3.8)\n",
      "Requirement already satisfied: pandas in c:\\users\\agnes\\appdata\\local\\programs\\python\\python313\\lib\\site-packages (from datasets) (2.2.3)\n",
      "Requirement already satisfied: requests>=2.32.2 in c:\\users\\agnes\\appdata\\local\\programs\\python\\python313\\lib\\site-packages (from datasets) (2.32.3)\n",
      "Requirement already satisfied: tqdm>=4.66.3 in c:\\users\\agnes\\appdata\\local\\programs\\python\\python313\\lib\\site-packages (from datasets) (4.67.1)\n",
      "Requirement already satisfied: xxhash in c:\\users\\agnes\\appdata\\local\\programs\\python\\python313\\lib\\site-packages (from datasets) (3.5.0)\n",
      "Requirement already satisfied: multiprocess<0.70.17 in c:\\users\\agnes\\appdata\\local\\programs\\python\\python313\\lib\\site-packages (from datasets) (0.70.16)\n",
      "Requirement already satisfied: fsspec<=2024.12.0,>=2023.1.0 in c:\\users\\agnes\\appdata\\local\\programs\\python\\python313\\lib\\site-packages (from fsspec[http]<=2024.12.0,>=2023.1.0->datasets) (2024.12.0)\n",
      "Requirement already satisfied: aiohttp in c:\\users\\agnes\\appdata\\local\\programs\\python\\python313\\lib\\site-packages (from datasets) (3.11.16)\n",
      "Requirement already satisfied: huggingface-hub>=0.24.0 in c:\\users\\agnes\\appdata\\local\\programs\\python\\python313\\lib\\site-packages (from datasets) (0.30.1)\n",
      "Requirement already satisfied: packaging in c:\\users\\agnes\\appdata\\roaming\\python\\python313\\site-packages (from datasets) (24.2)\n",
      "Requirement already satisfied: pyyaml>=5.1 in c:\\users\\agnes\\appdata\\local\\programs\\python\\python313\\lib\\site-packages (from datasets) (6.0.2)\n",
      "Requirement already satisfied: aiohappyeyeballs>=2.3.0 in c:\\users\\agnes\\appdata\\local\\programs\\python\\python313\\lib\\site-packages (from aiohttp->datasets) (2.6.1)\n",
      "Requirement already satisfied: aiosignal>=1.1.2 in c:\\users\\agnes\\appdata\\local\\programs\\python\\python313\\lib\\site-packages (from aiohttp->datasets) (1.3.2)\n",
      "Requirement already satisfied: attrs>=17.3.0 in c:\\users\\agnes\\appdata\\local\\programs\\python\\python313\\lib\\site-packages (from aiohttp->datasets) (24.3.0)\n",
      "Requirement already satisfied: frozenlist>=1.1.1 in c:\\users\\agnes\\appdata\\local\\programs\\python\\python313\\lib\\site-packages (from aiohttp->datasets) (1.5.0)\n",
      "Requirement already satisfied: multidict<7.0,>=4.5 in c:\\users\\agnes\\appdata\\local\\programs\\python\\python313\\lib\\site-packages (from aiohttp->datasets) (6.3.1)\n",
      "Requirement already satisfied: propcache>=0.2.0 in c:\\users\\agnes\\appdata\\local\\programs\\python\\python313\\lib\\site-packages (from aiohttp->datasets) (0.3.1)\n",
      "Requirement already satisfied: yarl<2.0,>=1.17.0 in c:\\users\\agnes\\appdata\\local\\programs\\python\\python313\\lib\\site-packages (from aiohttp->datasets) (1.18.3)\n",
      "Requirement already satisfied: typing-extensions>=3.7.4.3 in c:\\users\\agnes\\appdata\\local\\programs\\python\\python313\\lib\\site-packages (from huggingface-hub>=0.24.0->datasets) (4.12.2)\n",
      "Requirement already satisfied: charset-normalizer<4,>=2 in c:\\users\\agnes\\appdata\\local\\programs\\python\\python313\\lib\\site-packages (from requests>=2.32.2->datasets) (3.4.1)\n",
      "Requirement already satisfied: idna<4,>=2.5 in c:\\users\\agnes\\appdata\\local\\programs\\python\\python313\\lib\\site-packages (from requests>=2.32.2->datasets) (3.10)\n",
      "Requirement already satisfied: urllib3<3,>=1.21.1 in c:\\users\\agnes\\appdata\\local\\programs\\python\\python313\\lib\\site-packages (from requests>=2.32.2->datasets) (2.3.0)\n",
      "Requirement already satisfied: certifi>=2017.4.17 in c:\\users\\agnes\\appdata\\local\\programs\\python\\python313\\lib\\site-packages (from requests>=2.32.2->datasets) (2024.12.14)\n",
      "Requirement already satisfied: colorama in c:\\users\\agnes\\appdata\\roaming\\python\\python313\\site-packages (from tqdm>=4.66.3->datasets) (0.4.6)\n",
      "Requirement already satisfied: python-dateutil>=2.8.2 in c:\\users\\agnes\\appdata\\roaming\\python\\python313\\site-packages (from pandas->datasets) (2.9.0.post0)\n",
      "Requirement already satisfied: pytz>=2020.1 in c:\\users\\agnes\\appdata\\local\\programs\\python\\python313\\lib\\site-packages (from pandas->datasets) (2024.2)\n",
      "Requirement already satisfied: tzdata>=2022.7 in c:\\users\\agnes\\appdata\\local\\programs\\python\\python313\\lib\\site-packages (from pandas->datasets) (2025.1)\n",
      "Requirement already satisfied: six>=1.5 in c:\\users\\agnes\\appdata\\roaming\\python\\python313\\site-packages (from python-dateutil>=2.8.2->pandas->datasets) (1.17.0)\n"
     ]
    },
    {
     "name": "stderr",
     "output_type": "stream",
     "text": [
      "\n",
      "[notice] A new release of pip is available: 24.3.1 -> 25.1.1\n",
      "[notice] To update, run: python.exe -m pip install --upgrade pip\n"
     ]
    },
    {
     "name": "stdout",
     "output_type": "stream",
     "text": [
      "Requirement already satisfied: evaluate in c:\\users\\agnes\\appdata\\local\\programs\\python\\python313\\lib\\site-packages (0.4.3)\n",
      "Requirement already satisfied: datasets>=2.0.0 in c:\\users\\agnes\\appdata\\local\\programs\\python\\python313\\lib\\site-packages (from evaluate) (3.5.0)\n",
      "Requirement already satisfied: numpy>=1.17 in c:\\users\\agnes\\appdata\\local\\programs\\python\\python313\\lib\\site-packages (from evaluate) (2.2.2)\n",
      "Requirement already satisfied: dill in c:\\users\\agnes\\appdata\\local\\programs\\python\\python313\\lib\\site-packages (from evaluate) (0.3.8)\n",
      "Requirement already satisfied: pandas in c:\\users\\agnes\\appdata\\local\\programs\\python\\python313\\lib\\site-packages (from evaluate) (2.2.3)\n",
      "Requirement already satisfied: requests>=2.19.0 in c:\\users\\agnes\\appdata\\local\\programs\\python\\python313\\lib\\site-packages (from evaluate) (2.32.3)\n",
      "Requirement already satisfied: tqdm>=4.62.1 in c:\\users\\agnes\\appdata\\local\\programs\\python\\python313\\lib\\site-packages (from evaluate) (4.67.1)\n",
      "Requirement already satisfied: xxhash in c:\\users\\agnes\\appdata\\local\\programs\\python\\python313\\lib\\site-packages (from evaluate) (3.5.0)\n",
      "Requirement already satisfied: multiprocess in c:\\users\\agnes\\appdata\\local\\programs\\python\\python313\\lib\\site-packages (from evaluate) (0.70.16)\n",
      "Requirement already satisfied: fsspec>=2021.05.0 in c:\\users\\agnes\\appdata\\local\\programs\\python\\python313\\lib\\site-packages (from fsspec[http]>=2021.05.0->evaluate) (2024.12.0)\n",
      "Requirement already satisfied: huggingface-hub>=0.7.0 in c:\\users\\agnes\\appdata\\local\\programs\\python\\python313\\lib\\site-packages (from evaluate) (0.30.1)\n",
      "Requirement already satisfied: packaging in c:\\users\\agnes\\appdata\\roaming\\python\\python313\\site-packages (from evaluate) (24.2)\n",
      "Requirement already satisfied: filelock in c:\\users\\agnes\\appdata\\local\\programs\\python\\python313\\lib\\site-packages (from datasets>=2.0.0->evaluate) (3.17.0)\n",
      "Requirement already satisfied: pyarrow>=15.0.0 in c:\\users\\agnes\\appdata\\local\\programs\\python\\python313\\lib\\site-packages (from datasets>=2.0.0->evaluate) (19.0.1)\n",
      "Requirement already satisfied: aiohttp in c:\\users\\agnes\\appdata\\local\\programs\\python\\python313\\lib\\site-packages (from datasets>=2.0.0->evaluate) (3.11.16)\n",
      "Requirement already satisfied: pyyaml>=5.1 in c:\\users\\agnes\\appdata\\local\\programs\\python\\python313\\lib\\site-packages (from datasets>=2.0.0->evaluate) (6.0.2)\n",
      "Requirement already satisfied: typing-extensions>=3.7.4.3 in c:\\users\\agnes\\appdata\\local\\programs\\python\\python313\\lib\\site-packages (from huggingface-hub>=0.7.0->evaluate) (4.12.2)\n",
      "Requirement already satisfied: charset-normalizer<4,>=2 in c:\\users\\agnes\\appdata\\local\\programs\\python\\python313\\lib\\site-packages (from requests>=2.19.0->evaluate) (3.4.1)\n",
      "Requirement already satisfied: idna<4,>=2.5 in c:\\users\\agnes\\appdata\\local\\programs\\python\\python313\\lib\\site-packages (from requests>=2.19.0->evaluate) (3.10)\n",
      "Requirement already satisfied: urllib3<3,>=1.21.1 in c:\\users\\agnes\\appdata\\local\\programs\\python\\python313\\lib\\site-packages (from requests>=2.19.0->evaluate) (2.3.0)\n",
      "Requirement already satisfied: certifi>=2017.4.17 in c:\\users\\agnes\\appdata\\local\\programs\\python\\python313\\lib\\site-packages (from requests>=2.19.0->evaluate) (2024.12.14)\n",
      "Requirement already satisfied: colorama in c:\\users\\agnes\\appdata\\roaming\\python\\python313\\site-packages (from tqdm>=4.62.1->evaluate) (0.4.6)\n",
      "Requirement already satisfied: python-dateutil>=2.8.2 in c:\\users\\agnes\\appdata\\roaming\\python\\python313\\site-packages (from pandas->evaluate) (2.9.0.post0)\n",
      "Requirement already satisfied: pytz>=2020.1 in c:\\users\\agnes\\appdata\\local\\programs\\python\\python313\\lib\\site-packages (from pandas->evaluate) (2024.2)\n",
      "Requirement already satisfied: tzdata>=2022.7 in c:\\users\\agnes\\appdata\\local\\programs\\python\\python313\\lib\\site-packages (from pandas->evaluate) (2025.1)\n",
      "Requirement already satisfied: aiohappyeyeballs>=2.3.0 in c:\\users\\agnes\\appdata\\local\\programs\\python\\python313\\lib\\site-packages (from aiohttp->datasets>=2.0.0->evaluate) (2.6.1)\n",
      "Requirement already satisfied: aiosignal>=1.1.2 in c:\\users\\agnes\\appdata\\local\\programs\\python\\python313\\lib\\site-packages (from aiohttp->datasets>=2.0.0->evaluate) (1.3.2)\n",
      "Requirement already satisfied: attrs>=17.3.0 in c:\\users\\agnes\\appdata\\local\\programs\\python\\python313\\lib\\site-packages (from aiohttp->datasets>=2.0.0->evaluate) (24.3.0)\n",
      "Requirement already satisfied: frozenlist>=1.1.1 in c:\\users\\agnes\\appdata\\local\\programs\\python\\python313\\lib\\site-packages (from aiohttp->datasets>=2.0.0->evaluate) (1.5.0)\n",
      "Requirement already satisfied: multidict<7.0,>=4.5 in c:\\users\\agnes\\appdata\\local\\programs\\python\\python313\\lib\\site-packages (from aiohttp->datasets>=2.0.0->evaluate) (6.3.1)\n",
      "Requirement already satisfied: propcache>=0.2.0 in c:\\users\\agnes\\appdata\\local\\programs\\python\\python313\\lib\\site-packages (from aiohttp->datasets>=2.0.0->evaluate) (0.3.1)\n",
      "Requirement already satisfied: yarl<2.0,>=1.17.0 in c:\\users\\agnes\\appdata\\local\\programs\\python\\python313\\lib\\site-packages (from aiohttp->datasets>=2.0.0->evaluate) (1.18.3)\n",
      "Requirement already satisfied: six>=1.5 in c:\\users\\agnes\\appdata\\roaming\\python\\python313\\site-packages (from python-dateutil>=2.8.2->pandas->evaluate) (1.17.0)\n"
     ]
    },
    {
     "name": "stderr",
     "output_type": "stream",
     "text": [
      "\n",
      "[notice] A new release of pip is available: 24.3.1 -> 25.1.1\n",
      "[notice] To update, run: python.exe -m pip install --upgrade pip\n"
     ]
    },
    {
     "name": "stdout",
     "output_type": "stream",
     "text": [
      "Requirement already satisfied: transformers in c:\\users\\agnes\\appdata\\local\\programs\\python\\python313\\lib\\site-packages (4.50.3)\n",
      "Requirement already satisfied: filelock in c:\\users\\agnes\\appdata\\local\\programs\\python\\python313\\lib\\site-packages (from transformers) (3.17.0)\n",
      "Requirement already satisfied: huggingface-hub<1.0,>=0.26.0 in c:\\users\\agnes\\appdata\\local\\programs\\python\\python313\\lib\\site-packages (from transformers) (0.30.1)\n",
      "Requirement already satisfied: numpy>=1.17 in c:\\users\\agnes\\appdata\\local\\programs\\python\\python313\\lib\\site-packages (from transformers) (2.2.2)\n",
      "Requirement already satisfied: packaging>=20.0 in c:\\users\\agnes\\appdata\\roaming\\python\\python313\\site-packages (from transformers) (24.2)\n",
      "Requirement already satisfied: pyyaml>=5.1 in c:\\users\\agnes\\appdata\\local\\programs\\python\\python313\\lib\\site-packages (from transformers) (6.0.2)\n",
      "Requirement already satisfied: regex!=2019.12.17 in c:\\users\\agnes\\appdata\\local\\programs\\python\\python313\\lib\\site-packages (from transformers) (2024.11.6)\n",
      "Requirement already satisfied: requests in c:\\users\\agnes\\appdata\\local\\programs\\python\\python313\\lib\\site-packages (from transformers) (2.32.3)\n",
      "Requirement already satisfied: tokenizers<0.22,>=0.21 in c:\\users\\agnes\\appdata\\local\\programs\\python\\python313\\lib\\site-packages (from transformers) (0.21.1)\n",
      "Requirement already satisfied: safetensors>=0.4.3 in c:\\users\\agnes\\appdata\\local\\programs\\python\\python313\\lib\\site-packages (from transformers) (0.5.3)\n",
      "Requirement already satisfied: tqdm>=4.27 in c:\\users\\agnes\\appdata\\local\\programs\\python\\python313\\lib\\site-packages (from transformers) (4.67.1)\n",
      "Requirement already satisfied: fsspec>=2023.5.0 in c:\\users\\agnes\\appdata\\local\\programs\\python\\python313\\lib\\site-packages (from huggingface-hub<1.0,>=0.26.0->transformers) (2024.12.0)\n",
      "Requirement already satisfied: typing-extensions>=3.7.4.3 in c:\\users\\agnes\\appdata\\local\\programs\\python\\python313\\lib\\site-packages (from huggingface-hub<1.0,>=0.26.0->transformers) (4.12.2)\n",
      "Requirement already satisfied: colorama in c:\\users\\agnes\\appdata\\roaming\\python\\python313\\site-packages (from tqdm>=4.27->transformers) (0.4.6)\n",
      "Requirement already satisfied: charset-normalizer<4,>=2 in c:\\users\\agnes\\appdata\\local\\programs\\python\\python313\\lib\\site-packages (from requests->transformers) (3.4.1)\n",
      "Requirement already satisfied: idna<4,>=2.5 in c:\\users\\agnes\\appdata\\local\\programs\\python\\python313\\lib\\site-packages (from requests->transformers) (3.10)\n",
      "Requirement already satisfied: urllib3<3,>=1.21.1 in c:\\users\\agnes\\appdata\\local\\programs\\python\\python313\\lib\\site-packages (from requests->transformers) (2.3.0)\n",
      "Requirement already satisfied: certifi>=2017.4.17 in c:\\users\\agnes\\appdata\\local\\programs\\python\\python313\\lib\\site-packages (from requests->transformers) (2024.12.14)\n"
     ]
    },
    {
     "name": "stderr",
     "output_type": "stream",
     "text": [
      "\n",
      "[notice] A new release of pip is available: 24.3.1 -> 25.1.1\n",
      "[notice] To update, run: python.exe -m pip install --upgrade pip\n"
     ]
    },
    {
     "name": "stdout",
     "output_type": "stream",
     "text": [
      "Requirement already satisfied: accelerate in c:\\users\\agnes\\appdata\\local\\programs\\python\\python313\\lib\\site-packages (1.6.0)\n",
      "Requirement already satisfied: numpy<3.0.0,>=1.17 in c:\\users\\agnes\\appdata\\local\\programs\\python\\python313\\lib\\site-packages (from accelerate) (2.2.2)\n",
      "Requirement already satisfied: packaging>=20.0 in c:\\users\\agnes\\appdata\\roaming\\python\\python313\\site-packages (from accelerate) (24.2)\n",
      "Requirement already satisfied: psutil in c:\\users\\agnes\\appdata\\roaming\\python\\python313\\site-packages (from accelerate) (6.1.1)\n",
      "Requirement already satisfied: pyyaml in c:\\users\\agnes\\appdata\\local\\programs\\python\\python313\\lib\\site-packages (from accelerate) (6.0.2)\n",
      "Requirement already satisfied: torch>=2.0.0 in c:\\users\\agnes\\appdata\\local\\programs\\python\\python313\\lib\\site-packages (from accelerate) (2.6.0)\n",
      "Requirement already satisfied: huggingface-hub>=0.21.0 in c:\\users\\agnes\\appdata\\local\\programs\\python\\python313\\lib\\site-packages (from accelerate) (0.30.1)\n",
      "Requirement already satisfied: safetensors>=0.4.3 in c:\\users\\agnes\\appdata\\local\\programs\\python\\python313\\lib\\site-packages (from accelerate) (0.5.3)\n",
      "Requirement already satisfied: filelock in c:\\users\\agnes\\appdata\\local\\programs\\python\\python313\\lib\\site-packages (from huggingface-hub>=0.21.0->accelerate) (3.17.0)\n",
      "Requirement already satisfied: fsspec>=2023.5.0 in c:\\users\\agnes\\appdata\\local\\programs\\python\\python313\\lib\\site-packages (from huggingface-hub>=0.21.0->accelerate) (2024.12.0)\n",
      "Requirement already satisfied: requests in c:\\users\\agnes\\appdata\\local\\programs\\python\\python313\\lib\\site-packages (from huggingface-hub>=0.21.0->accelerate) (2.32.3)\n",
      "Requirement already satisfied: tqdm>=4.42.1 in c:\\users\\agnes\\appdata\\local\\programs\\python\\python313\\lib\\site-packages (from huggingface-hub>=0.21.0->accelerate) (4.67.1)\n",
      "Requirement already satisfied: typing-extensions>=3.7.4.3 in c:\\users\\agnes\\appdata\\local\\programs\\python\\python313\\lib\\site-packages (from huggingface-hub>=0.21.0->accelerate) (4.12.2)\n",
      "Requirement already satisfied: networkx in c:\\users\\agnes\\appdata\\local\\programs\\python\\python313\\lib\\site-packages (from torch>=2.0.0->accelerate) (3.4.2)\n",
      "Requirement already satisfied: jinja2 in c:\\users\\agnes\\appdata\\local\\programs\\python\\python313\\lib\\site-packages (from torch>=2.0.0->accelerate) (3.1.5)\n",
      "Requirement already satisfied: setuptools in c:\\users\\agnes\\appdata\\local\\programs\\python\\python313\\lib\\site-packages (from torch>=2.0.0->accelerate) (75.8.0)\n",
      "Requirement already satisfied: sympy==1.13.1 in c:\\users\\agnes\\appdata\\local\\programs\\python\\python313\\lib\\site-packages (from torch>=2.0.0->accelerate) (1.13.1)\n",
      "Requirement already satisfied: mpmath<1.4,>=1.1.0 in c:\\users\\agnes\\appdata\\local\\programs\\python\\python313\\lib\\site-packages (from sympy==1.13.1->torch>=2.0.0->accelerate) (1.3.0)\n",
      "Requirement already satisfied: colorama in c:\\users\\agnes\\appdata\\roaming\\python\\python313\\site-packages (from tqdm>=4.42.1->huggingface-hub>=0.21.0->accelerate) (0.4.6)\n",
      "Requirement already satisfied: MarkupSafe>=2.0 in c:\\users\\agnes\\appdata\\local\\programs\\python\\python313\\lib\\site-packages (from jinja2->torch>=2.0.0->accelerate) (3.0.2)\n",
      "Requirement already satisfied: charset-normalizer<4,>=2 in c:\\users\\agnes\\appdata\\local\\programs\\python\\python313\\lib\\site-packages (from requests->huggingface-hub>=0.21.0->accelerate) (3.4.1)\n",
      "Requirement already satisfied: idna<4,>=2.5 in c:\\users\\agnes\\appdata\\local\\programs\\python\\python313\\lib\\site-packages (from requests->huggingface-hub>=0.21.0->accelerate) (3.10)\n",
      "Requirement already satisfied: urllib3<3,>=1.21.1 in c:\\users\\agnes\\appdata\\local\\programs\\python\\python313\\lib\\site-packages (from requests->huggingface-hub>=0.21.0->accelerate) (2.3.0)\n",
      "Requirement already satisfied: certifi>=2017.4.17 in c:\\users\\agnes\\appdata\\local\\programs\\python\\python313\\lib\\site-packages (from requests->huggingface-hub>=0.21.0->accelerate) (2024.12.14)\n"
     ]
    },
    {
     "name": "stderr",
     "output_type": "stream",
     "text": [
      "\n",
      "[notice] A new release of pip is available: 24.3.1 -> 25.1.1\n",
      "[notice] To update, run: python.exe -m pip install --upgrade pip\n"
     ]
    },
    {
     "name": "stdout",
     "output_type": "stream",
     "text": [
      "Requirement already satisfied: seaborn in c:\\users\\agnes\\appdata\\local\\programs\\python\\python313\\lib\\site-packages (0.13.2)\n",
      "Requirement already satisfied: numpy!=1.24.0,>=1.20 in c:\\users\\agnes\\appdata\\local\\programs\\python\\python313\\lib\\site-packages (from seaborn) (2.2.2)\n",
      "Requirement already satisfied: pandas>=1.2 in c:\\users\\agnes\\appdata\\local\\programs\\python\\python313\\lib\\site-packages (from seaborn) (2.2.3)\n",
      "Requirement already satisfied: matplotlib!=3.6.1,>=3.4 in c:\\users\\agnes\\appdata\\local\\programs\\python\\python313\\lib\\site-packages (from seaborn) (3.10.0)\n",
      "Requirement already satisfied: contourpy>=1.0.1 in c:\\users\\agnes\\appdata\\local\\programs\\python\\python313\\lib\\site-packages (from matplotlib!=3.6.1,>=3.4->seaborn) (1.3.1)\n",
      "Requirement already satisfied: cycler>=0.10 in c:\\users\\agnes\\appdata\\local\\programs\\python\\python313\\lib\\site-packages (from matplotlib!=3.6.1,>=3.4->seaborn) (0.12.1)\n",
      "Requirement already satisfied: fonttools>=4.22.0 in c:\\users\\agnes\\appdata\\local\\programs\\python\\python313\\lib\\site-packages (from matplotlib!=3.6.1,>=3.4->seaborn) (4.55.5)\n",
      "Requirement already satisfied: kiwisolver>=1.3.1 in c:\\users\\agnes\\appdata\\local\\programs\\python\\python313\\lib\\site-packages (from matplotlib!=3.6.1,>=3.4->seaborn) (1.4.8)\n",
      "Requirement already satisfied: packaging>=20.0 in c:\\users\\agnes\\appdata\\roaming\\python\\python313\\site-packages (from matplotlib!=3.6.1,>=3.4->seaborn) (24.2)\n",
      "Requirement already satisfied: pillow>=8 in c:\\users\\agnes\\appdata\\local\\programs\\python\\python313\\lib\\site-packages (from matplotlib!=3.6.1,>=3.4->seaborn) (11.1.0)\n",
      "Requirement already satisfied: pyparsing>=2.3.1 in c:\\users\\agnes\\appdata\\local\\programs\\python\\python313\\lib\\site-packages (from matplotlib!=3.6.1,>=3.4->seaborn) (3.2.1)\n",
      "Requirement already satisfied: python-dateutil>=2.7 in c:\\users\\agnes\\appdata\\roaming\\python\\python313\\site-packages (from matplotlib!=3.6.1,>=3.4->seaborn) (2.9.0.post0)\n",
      "Requirement already satisfied: pytz>=2020.1 in c:\\users\\agnes\\appdata\\local\\programs\\python\\python313\\lib\\site-packages (from pandas>=1.2->seaborn) (2024.2)\n",
      "Requirement already satisfied: tzdata>=2022.7 in c:\\users\\agnes\\appdata\\local\\programs\\python\\python313\\lib\\site-packages (from pandas>=1.2->seaborn) (2025.1)\n",
      "Requirement already satisfied: six>=1.5 in c:\\users\\agnes\\appdata\\roaming\\python\\python313\\site-packages (from python-dateutil>=2.7->matplotlib!=3.6.1,>=3.4->seaborn) (1.17.0)\n"
     ]
    },
    {
     "name": "stderr",
     "output_type": "stream",
     "text": [
      "\n",
      "[notice] A new release of pip is available: 24.3.1 -> 25.1.1\n",
      "[notice] To update, run: python.exe -m pip install --upgrade pip\n"
     ]
    }
   ],
   "source": [
    "# Accesso dataset NLP standard (es. GLUE, IMDb, ecc.)\n",
    "!pip install datasets\n",
    "# Metriche valutazione\n",
    "! pip install evaluate\n",
    "# Libreria di HuggingFace per usare modelli preaddestrati (es. BERT, GPT)\n",
    "! pip install transformers\n",
    "# Ottimizzo l'uso di GPU/CPU nel training\n",
    "! pip install accelerate\n",
    "\n",
    "!pip install seaborn"
   ]
  },
  {
   "cell_type": "code",
   "execution_count": 2,
   "id": "7417b899-0b72-41e7-b948-bf125bc43d21",
   "metadata": {},
   "outputs": [],
   "source": [
    "import os\n",
    "import numpy as np\n",
    "import pandas as pd\n",
    "import datasets\n",
    "import evaluate\n",
    "import seaborn as sns\n",
    "from sklearn.metrics import classification_report\n",
    "from sklearn.metrics import ConfusionMatrixDisplay\n",
    "from transformers import AutoTokenizer\n",
    "from transformers import AutoModelForSequenceClassification, TrainingArguments, Trainer"
   ]
  },
  {
   "cell_type": "markdown",
   "id": "1946131c-da16-48d1-933a-15374bc41b34",
   "metadata": {},
   "source": [
    "## Caricamento dei dati"
   ]
  },
  {
   "cell_type": "code",
   "execution_count": 3,
   "id": "0af338fd-af32-4198-8965-9a3284f72847",
   "metadata": {},
   "outputs": [],
   "source": [
    "train_data = []\n",
    "test_data = []\n",
    "labels = []\n",
    "genres = ['twitter']"
   ]
  },
  {
   "cell_type": "code",
   "execution_count": 4,
   "id": "7622174d-028f-4c13-a567-71ba2e9cd3b0",
   "metadata": {},
   "outputs": [],
   "source": [
    "# Mappa genre → nome file .gold\n",
    "genre_to_gold = {\n",
    "    #'children': 'test_CH.gold',\n",
    "    #'diary': 'test_DI.gold',\n",
    "    #'journalism': 'test_JO.gold',\n",
    "    'twitter': 'test_TW.gold'\n",
    "}"
   ]
  },
  {
   "cell_type": "code",
   "execution_count": 6,
   "id": "f47aed54-78a1-43d9-8d2d-82bea2f05b5d",
   "metadata": {},
   "outputs": [],
   "source": [
    "# Carico i file .gold in un dizionario {genre: {id: label}}\n",
    "gold_labels = {}\n",
    "for genre, gold_file in genre_to_gold.items():\n",
    "    gold_path = f\"../data/dataset_originale/gold/{gold_file}\"\n",
    "    gold_dict = {}\n",
    "\n",
    "    with open(gold_path, 'r', encoding='utf-8') as f:\n",
    "        for line in f:\n",
    "            parts = line.strip().split()\n",
    "            if len(parts) == 2:\n",
    "                doc_id, gender = parts\n",
    "                gold_dict[doc_id] = gender\n",
    "\n",
    "    gold_labels[genre] = gold_dict"
   ]
  },
  {
   "cell_type": "code",
   "execution_count": 7,
   "id": "21724ec8-bd51-4903-83f6-81162baacfec",
   "metadata": {},
   "outputs": [],
   "source": [
    "# Parsing dei file txt\n",
    "for genre in genres:\n",
    "    data_folder = f\"../data/profiling_input/{genre}/\"\n",
    "    documents = os.listdir(data_folder)\n",
    "\n",
    "    # OBIETTIVO: ottenere il genre del documento\n",
    "    # stringa originale --> training#112#children#F.conllu\n",
    "    # rstrip('.txt') --> training#112#children#F.txt → training#112#children#F\n",
    "    # .split('#') --> training#112#children#F → ['training', '112', 'children', 'F']\n",
    "    # [2] --> ['training', '112', 'children', 'F'] → 'children'\n",
    "    # [3] --> ['training', '112', 'children', 'F'] → 'F'\n",
    "    # assegno alla variabile label il valore del sesso dell'autore\n",
    "    \n",
    "    for document in documents:\n",
    "        parts = document.rstrip('.txt').split('#')\n",
    "        \n",
    "        if len(parts) != 4: continue # Salta file con nome non conforme al formato usato\n",
    "        \n",
    "        type_document = parts[0] # training o test\n",
    "        doc_id = parts[1]        # ID doc\n",
    "        genre_check = parts[2]   # genere doc (per debug)\n",
    "        gender = None            # sesso autore\n",
    "\n",
    "        if type_document == \"training\":\n",
    "            gender = parts[3]\n",
    "        else: \n",
    "            gender = gold_labels[genre].get(doc_id)\n",
    "\n",
    "        if gender is None or gender == 'unknown':\n",
    "            continue  # ignora test senza etichetta valida\n",
    "\n",
    "        if gender not in labels:\n",
    "            labels.append(gender)\n",
    "\n",
    "        # training: etichetta nota (da filename)\n",
    "        # test: etichetta assegnata solo per valutare le prestazioni, non per l'addestramento!\n",
    "        # se è un file di test (test#112#genre#unknown.txt), il gender non è presente nel nome del file, quindi lo prendi dalla corrispondenza tramite la chiave ID con il gold set\n",
    "\n",
    "        with open(os.path.join(data_folder, document), 'r', encoding='utf-8') as file:\n",
    "            text = file.read()\n",
    "\n",
    "        input_instance = {}\n",
    "        input_instance[\"id\"] = document\n",
    "        input_instance[\"sentence\"] = text\n",
    "        input_instance[\"label\"] = gender  # predizione del genere M/F\n",
    "\n",
    "        if type_document == \"training\":\n",
    "            train_data.append(input_instance)\n",
    "        else:\n",
    "            test_data.append(input_instance)\n",
    "\n",
    "str_to_int = {label: idx for idx, label in enumerate(labels)}"
   ]
  },
  {
   "cell_type": "code",
   "execution_count": 8,
   "id": "e62a6797-af27-4158-a3ea-dedce20e8975",
   "metadata": {},
   "outputs": [
    {
     "name": "stdout",
     "output_type": "stream",
     "text": [
      "FILE CARICATI CORRETTAMENTE!\n",
      "Totale file in train: 6000\n",
      "Totale file in test: 152\n",
      "Label da predirre: ['M', 'F']\n",
      "\n",
      "Primi 10 file nel training set:\n",
      " - ../data/profiling_input/twitter/training#1#twitter#M.txt\n",
      " - ../data/clean/twitter/training#1#twitter#M.txt\n",
      " - ../data/profiling_input/twitter/training#10#twitter#F.txt\n",
      " - ../data/clean/twitter/training#10#twitter#F.txt\n",
      " - ../data/profiling_input/twitter/training#100#twitter#M.txt\n",
      " - ../data/clean/twitter/training#100#twitter#M.txt\n",
      " - ../data/profiling_input/twitter/training#1000#twitter#M.txt\n",
      " - ../data/clean/twitter/training#1000#twitter#M.txt\n",
      " - ../data/profiling_input/twitter/training#1001#twitter#M.txt\n",
      " - ../data/clean/twitter/training#1001#twitter#M.txt\n",
      " - ../data/profiling_input/twitter/training#1002#twitter#M.txt\n",
      " - ../data/clean/twitter/training#1002#twitter#M.txt\n",
      " - ../data/profiling_input/twitter/training#1003#twitter#M.txt\n",
      " - ../data/clean/twitter/training#1003#twitter#M.txt\n",
      " - ../data/profiling_input/twitter/training#1004#twitter#M.txt\n",
      " - ../data/clean/twitter/training#1004#twitter#M.txt\n",
      " - ../data/profiling_input/twitter/training#1005#twitter#M.txt\n",
      " - ../data/clean/twitter/training#1005#twitter#M.txt\n",
      " - ../data/profiling_input/twitter/training#1006#twitter#M.txt\n",
      " - ../data/clean/twitter/training#1006#twitter#M.txt\n",
      "\n",
      "Primi 10 file nel test set:\n",
      " - ../data/profiling_input/twitter/test#4667#twitter#unknown.txt\n",
      " - ../data/clean/twitter/test#4667#twitter#unknown.txt\n",
      " - ../data/profiling_input/twitter/test#4679#twitter#unknown.txt\n",
      " - ../data/clean/twitter/test#4679#twitter#unknown.txt\n",
      " - ../data/profiling_input/twitter/test#4684#twitter#unknown.txt\n",
      " - ../data/clean/twitter/test#4684#twitter#unknown.txt\n",
      " - ../data/profiling_input/twitter/test#4696#twitter#unknown.txt\n",
      " - ../data/clean/twitter/test#4696#twitter#unknown.txt\n",
      " - ../data/profiling_input/twitter/test#4700#twitter#unknown.txt\n",
      " - ../data/clean/twitter/test#4700#twitter#unknown.txt\n",
      " - ../data/profiling_input/twitter/test#4708#twitter#unknown.txt\n",
      " - ../data/clean/twitter/test#4708#twitter#unknown.txt\n",
      " - ../data/profiling_input/twitter/test#4719#twitter#unknown.txt\n",
      " - ../data/clean/twitter/test#4719#twitter#unknown.txt\n",
      " - ../data/profiling_input/twitter/test#4726#twitter#unknown.txt\n",
      " - ../data/clean/twitter/test#4726#twitter#unknown.txt\n",
      " - ../data/profiling_input/twitter/test#4751#twitter#unknown.txt\n",
      " - ../data/clean/twitter/test#4751#twitter#unknown.txt\n",
      " - ../data/profiling_input/twitter/test#4758#twitter#unknown.txt\n",
      " - ../data/clean/twitter/test#4758#twitter#unknown.txt\n"
     ]
    }
   ],
   "source": [
    "# Stampa di controllo\n",
    "print(\"FILE CARICATI CORRETTAMENTE!\")\n",
    "print(f\"Totale file in train: {len(train_data)}\")\n",
    "print(f\"Totale file in test: {len(test_data)}\")\n",
    "print(\"Label da predirre:\", labels)\n",
    "\n",
    "\n",
    "print(\"\\nPrimi 10 file nel training set:\")\n",
    "for item in train_data[:10]:\n",
    "    print(\" -\", os.path.join(data_folder, item[\"id\"]))\n",
    "    print(\" -\", f\"../data/clean/{genre}/\" + item[\"id\"])\n",
    "\n",
    "\n",
    "print(\"\\nPrimi 10 file nel test set:\")\n",
    "for item in test_data[:10]:\n",
    "    print(\" -\", os.path.join(data_folder, item[\"id\"]))\n",
    "    print(\" -\", f\"../data/clean/{genre}/\" + item[\"id\"])"
   ]
  },
  {
   "cell_type": "markdown",
   "id": "0d500580-db82-47ac-887b-3faaf03daf12",
   "metadata": {},
   "source": [
    "## Conversione e split dei dataset in formato HuggingFace"
   ]
  },
  {
   "cell_type": "code",
   "execution_count": 9,
   "id": "f2307b04-c908-4b3a-a0e1-e1c99336c49c",
   "metadata": {},
   "outputs": [
    {
     "name": "stdout",
     "output_type": "stream",
     "text": [
      "Dataset({\n",
      "    features: ['id', 'sentence', 'label'],\n",
      "    num_rows: 4800\n",
      "})\n",
      "\n",
      "Esempio di testo: Ora Renzi dovrà rendere conto di certo scandali ai propri elettori. Ah, non ha avuto elettori? Ops... #RenzieBoschiACasa\n",
      "\n",
      "Esempio di label: M\n",
      "\n",
      "Dimensione del training set: (4800, 3)\n",
      "Dimensione del development set: (1200, 3)\n",
      "Dimensione del test set: (152, 3)\n"
     ]
    }
   ],
   "source": [
    "# 1. Conversione da lista dizionari a dataset HuggingFace\n",
    "train = datasets.Dataset.from_pandas(pd.DataFrame(data=train_data))\n",
    "test = datasets.Dataset.from_pandas(pd.DataFrame(data=test_data))\n",
    "\n",
    "# 2. Split del training set in train/dev\n",
    "train_dev = train.train_test_split(test_size=0.2) # Io ho scelto 80/20 invece che 0.1 come il prof\n",
    "train = train_dev[\"train\"]\n",
    "dev = train_dev[\"test\"]\n",
    "\n",
    "# 3. Stampa di controllo\n",
    "print(train)\n",
    "print()\n",
    "print(\"Esempio di testo:\", train['sentence'][2])\n",
    "print()\n",
    "print(\"Esempio di label:\", train['label'][2])\n",
    "print()\n",
    "\n",
    "# Shape dei dati\n",
    "print(\"Dimensione del training set:\", train.shape)\n",
    "print(\"Dimensione del development set:\", dev.shape)\n",
    "print(\"Dimensione del test set:\", test.shape)\n",
    "\n",
    "# In twitter ci sono 12000 file, 6000 training e 152 test, verranno divisi 4800 training, 1200 dev e 152 test"
   ]
  },
  {
   "cell_type": "markdown",
   "id": "85648d3e-6a73-421f-ba7c-c4fb22609069",
   "metadata": {},
   "source": [
    "### Qualcosa non va!\n",
    "Nella cartella di Twitter ci sono 12000 documenti, di cui 6000 contenenti la parola \"test\" nella prima parte del nome.\n",
    "La dimensione del test set, tuttavia, è minima: 152 documenti (su 6000).\n",
    "Faccio alcuni test per capire cosa è successo.\n",
    "\n",
    "Ipotesi:\n",
    "- Non tutti i file hanno un nome nel formato \"corretto\" (test#1#twitter#unknown.txt)\n",
    "- Nel file test_TW.gold ci sono solo 152 ID\n",
    "- I nomi dei file .txt di test hanno ID come '00321', mentre il file .gold ha ID come '321' (senza zeri iniziali), oppure viceversa\n",
    "- I file .txt di test non sono gli stessi del file .gold\n",
    "- ..."
   ]
  },
  {
   "cell_type": "code",
   "execution_count": 11,
   "id": "9549d034-9ed6-4ea3-95c2-7df24f77930e",
   "metadata": {},
   "outputs": [
    {
     "name": "stdout",
     "output_type": "stream",
     "text": [
      "File con formato corretto: 12000\n",
      "Tutti i file hanno un nome nel formato richiesto\n"
     ]
    }
   ],
   "source": [
    "# Controllo del formato corretto del nome dei file .txt\n",
    "genre = 'twitter'\n",
    "data_folder = f\"../data/profiling_input/{genre}/\"\n",
    "documents = os.listdir(data_folder)\n",
    "\n",
    "n_valid_format = 0\n",
    "for doc in documents:\n",
    "    parts = doc.rstrip('.txt').split('#')\n",
    "    if len(parts) == 4:\n",
    "        n_valid_format += 1\n",
    "\n",
    "print(f\"File con formato corretto: {n_valid_format}\")\n",
    "if n_valid_format == 12000:\n",
    "    print(\"Tutti i file hanno un nome nel formato richiesto\")"
   ]
  },
  {
   "cell_type": "code",
   "execution_count": 14,
   "id": "a20a3ce0-a8b1-4f8a-8bbe-ee69a8abb799",
   "metadata": {},
   "outputs": [
    {
     "name": "stdout",
     "output_type": "stream",
     "text": [
      "File .gold:        6000\n",
      "File .txt di test: 6000\n",
      "File .txt di test effettivamente utilizzabili: 152\n"
     ]
    }
   ],
   "source": [
    "# Carica tutti i file .txt nella cartella clean/twitter\n",
    "files_present = os.listdir(\"../data/profiling_input/twitter/\")\n",
    "present_ids = set(doc.split('#')[1] for doc in files_present if doc.startswith(\"test#\"))\n",
    "\n",
    "# Carica gli ID dal file .gold\n",
    "with open(\"../data/dataset_originale/gold/test_TW.gold\", encoding='utf-8') as f:\n",
    "    gold_ids = set(line.strip().split()[0] for line in f)\n",
    "\n",
    "# ID presenti in entrambi\n",
    "matching_ids = present_ids & gold_ids\n",
    "\n",
    "print(f\"File .gold:        {len(gold_ids)}\")\n",
    "print(f\"File .txt di test: {len(present_ids)}\")\n",
    "print(f\"File .txt di test effettivamente utilizzabili: {len(matching_ids)}\")"
   ]
  },
  {
   "cell_type": "code",
   "execution_count": 16,
   "id": "d18cd79c-449a-497e-8d77-e8519b73a61e",
   "metadata": {},
   "outputs": [
    {
     "name": "stdout",
     "output_type": "stream",
     "text": [
      "ID del file .gold: 6000\n",
      "ID dei file .txt di test: 6000\n",
      "Matching : 152\n",
      "\n",
      "Mancano nei file .txt di test: 5848 \n",
      "Esempi: ['1', '10', '100', '1000', '1001', '1002', '1003', '1004', '1005', '1006']\n",
      "\n",
      "Extra nei file .txt di test (mancano nel .gold): 5848 \n",
      "Esempi: ['10000', '10007', '10008', '10010', '10011', '10013', '10016', '10025', '10029', '10034']\n"
     ]
    }
   ],
   "source": [
    "# ID test nella cartella (normalizzati)\n",
    "present_ids = set(str(int(doc.split('#')[1])) for doc in os.listdir(\"../data/profiling_input/twitter/\") if doc.startswith(\"test#\"))\n",
    "\n",
    "# ID presenti nel .gold\n",
    "with open(\"../data/dataset_originale/gold/test_TW.gold\", encoding='utf-8') as f:\n",
    "    gold_ids = set(line.strip().split()[0] for line in f)\n",
    "\n",
    "# Differenze\n",
    "missing_in_clean = gold_ids - present_ids\n",
    "extra_in_clean = present_ids - gold_ids\n",
    "\n",
    "print(f\"ID del file .gold: {len(gold_ids)}\")\n",
    "print(f\"ID dei file .txt di test: {len(present_ids)}\")\n",
    "print(f\"Matching : {len(gold_ids & present_ids)}\")\n",
    "print(f\"\\nMancano nei file .txt di test: {len(missing_in_clean)} \\nEsempi: {sorted(list(missing_in_clean))[:10]}\")\n",
    "print(f\"\\nExtra nei file .txt di test (mancano nel .gold): {len(extra_in_clean)} \\nEsempi: {sorted(list(extra_in_clean))[:10]}\")"
   ]
  },
  {
   "cell_type": "markdown",
   "id": "1d9b54d8-7c57-4b26-ad9c-67f0f753ff9e",
   "metadata": {},
   "source": [
    "È stato verificato che file .txt di test non sono quelli che corrispondono al .gold, per questo motivo sono passati soltanto 152 file nel test set.\n",
    "Come soluzione ho deciso di creare una sottocartella all'interno di ../data/original/twitter/ contenente solo i file corrispondenti a quelli nel .gold.\n",
    "\n",
    "**Step**:\n",
    "1. Leggere gli ID dal file .gold (test_TW.gold)\n",
    "2. Cercare i file corrispondenti nella cartella ../data/original/twitter/\n",
    "3. Copiare solo i file che hanno ID presenti nel .gold dentro una nuova cartella, ad esempio ../data/clean/twitter_gold/"
   ]
  },
  {
   "cell_type": "markdown",
   "id": "0b78a254-d17c-40bb-b55b-1e1a7f35e0f4",
   "metadata": {},
   "source": [
    "### Script per usare gli stessi testi del .gold"
   ]
  },
  {
   "cell_type": "code",
   "execution_count": 17,
   "id": "04a4002a-4fa5-4fa4-8877-ce132da0b4a4",
   "metadata": {},
   "outputs": [
    {
     "name": "stdout",
     "output_type": "stream",
     "text": [
      "ID attesi dal .gold: 6000\n",
      "\n",
      "File copiati in ../data/profiling_input/twitter_matching_gold/: 152\n",
      "File presenti ma NON richiesti nel .gold: 5848\n",
      "Cartella contenente i file .txt aventi l'ID presente nel file .gold creata al path ../data/profiling_input/twitter_matching_gold/\n"
     ]
    }
   ],
   "source": [
    "import shutil\n",
    "\n",
    "# Percorsi\n",
    "source_folder = \"../data/profiling_input/twitter/\"\n",
    "target_folder = \"../data/profiling_input/twitter_matching_gold/\"\n",
    "gold_file = \"../data/dataset_originale/gold/test_TW.gold\"\n",
    "\n",
    "# Crea la cartella di destinazione se non esiste\n",
    "os.makedirs(target_folder, exist_ok=True)\n",
    "\n",
    "# Leggi tutti gli ID dal .gold\n",
    "with open(gold_file, 'r', encoding='utf-8') as f:\n",
    "    gold_ids = set(line.strip().split()[0] for line in f)\n",
    "\n",
    "print(f\"ID attesi dal .gold: {len(gold_ids)}\")\n",
    "\n",
    "# Conta i file copiati\n",
    "copied = 0\n",
    "missing = []\n",
    "\n",
    "# Cicla su tutti i file nella cartella originale\n",
    "for filename in os.listdir(source_folder):\n",
    "    if filename.startswith(\"test#\") and filename.endswith(\".txt\"):\n",
    "        parts = filename.rstrip('.txt').split('#')\n",
    "        if len(parts) != 4:\n",
    "            continue\n",
    "        file_id = str(int(parts[1]))  # Normalizza (rimuove zeri iniziali)\n",
    "\n",
    "        if file_id in gold_ids:\n",
    "            shutil.copy(os.path.join(source_folder, filename),\n",
    "                        os.path.join(target_folder, filename))\n",
    "            copied += 1\n",
    "        else:\n",
    "            missing.append(file_id)\n",
    "\n",
    "print(f\"\\nFile copiati in {target_folder}: {copied}\")\n",
    "print(f\"File presenti ma NON richiesti nel .gold: {len(missing)}\")\n",
    "print(f\"Cartella contenente i file .txt aventi l'ID presente nel file .gold creata al path {target_folder}\")"
   ]
  },
  {
   "cell_type": "code",
   "execution_count": 18,
   "id": "9092aa3b-e60a-42c8-a2d4-4bbf4bf7a057",
   "metadata": {},
   "outputs": [],
   "source": [
    "# Ricarico SOLO il test set corretto da twitter_gold/\n",
    "test_data = []\n",
    "test_folder = \"../data/profiling_input/twitter_matching_gold/\"\n",
    "documents = os.listdir(test_folder)\n",
    "\n",
    "for document in documents:\n",
    "    parts = document.rstrip('.txt').split('#')\n",
    "    if len(parts) != 4:\n",
    "        continue\n",
    "\n",
    "    doc_id = str(int(parts[1]))  # normalizza\n",
    "    gender = gold_labels['twitter'].get(doc_id)\n",
    "\n",
    "    if gender is None or gender == 'unknown':\n",
    "        continue\n",
    "\n",
    "    with open(os.path.join(test_folder, document), 'r', encoding='utf-8') as file:\n",
    "        text = file.read()\n",
    "\n",
    "    test_data.append({\n",
    "        \"id\": document,\n",
    "        \"sentence\": text,\n",
    "        \"label\": gender\n",
    "    })\n",
    "\n",
    "# Ricreo il Dataset HuggingFace per il test\n",
    "test = datasets.Dataset.from_pandas(pd.DataFrame(data=test_data))"
   ]
  },
  {
   "cell_type": "markdown",
   "id": "f0c64a33-e172-4792-a9e4-d51a201c5426",
   "metadata": {},
   "source": [
    "## Caricamento del NLM"
   ]
  },
  {
   "cell_type": "code",
   "execution_count": 19,
   "id": "8cdbb0c7-c02b-4370-bde5-94bb9571105f",
   "metadata": {},
   "outputs": [
    {
     "name": "stderr",
     "output_type": "stream",
     "text": [
      "Some weights of BertForSequenceClassification were not initialized from the model checkpoint at dbmdz/bert-base-italian-cased and are newly initialized: ['classifier.bias', 'classifier.weight']\n",
      "You should probably TRAIN this model on a down-stream task to be able to use it for predictions and inference.\n"
     ]
    }
   ],
   "source": [
    "# Scelgo il modello di BERT addestrato sull'italiano con distinzione maiuscole/minuscole (ok perché è sensibile allo stile linguistico e devo fare author profiling)\n",
    "model_name = 'dbmdz/bert-base-italian-cased'\n",
    "\n",
    "# Carico il modello\n",
    "model = AutoModelForSequenceClassification.from_pretrained(model_name, num_labels=len(labels))\n",
    "\n",
    "# Carico il tokenizzatore\n",
    "tokenizer = AutoTokenizer.from_pretrained(model_name)"
   ]
  },
  {
   "cell_type": "markdown",
   "id": "c83f96f8-d13a-4fb1-a48c-c7a4399f3a01",
   "metadata": {},
   "source": [
    "## Preprocessing dei dati"
   ]
  },
  {
   "cell_type": "code",
   "execution_count": 21,
   "id": "1769c578-9812-4dd0-be23-95a4fdf943b2",
   "metadata": {},
   "outputs": [
    {
     "data": {
      "text/plain": [
       "{'input_ids': [102, 804, 206, 15240, 11047, 116, 120, 786, 103], 'token_type_ids': [0, 0, 0, 0, 0, 0, 0, 0, 0], 'attention_mask': [1, 1, 1, 1, 1, 1, 1, 1, 1]}"
      ]
     },
     "execution_count": 21,
     "metadata": {},
     "output_type": "execute_result"
    }
   ],
   "source": [
    "tokenizer(train[\"sentence\"][0], padding=True, truncation=True, max_length=512)\n",
    "\n",
    "# Avrò un dizionario di questo tipo:\n",
    "# {\n",
    "#   'input_ids': [102, 4759, 543, ..., 103], # ogni numero corrisponde a un token del vocabolario di BERT, 102 inizio 103 fine del testo\n",
    "#   'token_type_ids': [0, 0, 0, ..., 0],     # serve solo per i task con due frasi, non è il nostro caso quindi tutti 0\n",
    "#   'attention_mask': [1, 1, 1, ..., 1]      # indica quali sono i padding con 0\n",
    "# }"
   ]
  },
  {
   "cell_type": "markdown",
   "id": "987d46e6-5614-4edc-8a72-1dbbf5fb982d",
   "metadata": {},
   "source": [
    "### Tokenizzazione dei dati"
   ]
  },
  {
   "cell_type": "code",
   "execution_count": 22,
   "id": "443ee761-a0c2-4ea7-8d3b-e3031e2c27bc",
   "metadata": {},
   "outputs": [
    {
     "data": {
      "application/vnd.jupyter.widget-view+json": {
       "model_id": "a303d8cfb03a47a58815f248e5c4ec60",
       "version_major": 2,
       "version_minor": 0
      },
      "text/plain": [
       "Map:   0%|          | 0/4800 [00:00<?, ? examples/s]"
      ]
     },
     "metadata": {},
     "output_type": "display_data"
    },
    {
     "data": {
      "application/vnd.jupyter.widget-view+json": {
       "model_id": "106eb90fbd0548cda7ac6125bd87b3fe",
       "version_major": 2,
       "version_minor": 0
      },
      "text/plain": [
       "Map:   0%|          | 0/1200 [00:00<?, ? examples/s]"
      ]
     },
     "metadata": {},
     "output_type": "display_data"
    },
    {
     "data": {
      "application/vnd.jupyter.widget-view+json": {
       "model_id": "3ee82a672ce448e890eb640692364371",
       "version_major": 2,
       "version_minor": 0
      },
      "text/plain": [
       "Map:   0%|          | 0/152 [00:00<?, ? examples/s]"
      ]
     },
     "metadata": {},
     "output_type": "display_data"
    }
   ],
   "source": [
    "# Funzione che applica la tokenizzazione ai dati di training, dev e test\n",
    "# Tokenizza i testi (sentence) -> input_ids e attention_mask\n",
    "# Converte le etichette 'M' / 'F' in numeri usando str_to_int, es. {'M': 0, 'F': 1}\n",
    "\n",
    "def tokenize(batch):\n",
    "    tokens = tokenizer(batch['sentence'], padding=True, truncation=True, max_length=512)\n",
    "    tokens['label'] = [str_to_int[label] for label in batch[\"label\"]]\n",
    "    return tokens\n",
    "\n",
    "train = train.map(tokenize, batched=True) # Elabora più esempi alla volta <- batched=True\n",
    "dev = dev.map(tokenize, batched=True)\n",
    "test = test.map(tokenize, batched=True)\n",
    "\n",
    "# Conversione dei dataset in tensori PyTorch (serve per usarli con Trainer o modelli HuggingFace)\n",
    "train.set_format('torch', columns=['input_ids', 'attention_mask', 'label'])\n",
    "dev.set_format('torch', columns=['input_ids', 'attention_mask', 'label'])\n",
    "test.set_format('torch', columns=['input_ids', 'attention_mask', 'label'])"
   ]
  },
  {
   "cell_type": "markdown",
   "id": "fd8a8ecf-ea47-4da3-99a7-7e88b5a0b1e2",
   "metadata": {},
   "source": [
    "## Addestramento del modello BERT\n",
    "Per procedere con l'addestramento definiamo:\n",
    "\n",
    "- **Training arguments**: gli argomenti di addestramento (e.g. *numero di epoche/step, learning rate, batch_size, logging/saving strategy*, etc.);\n",
    "- **Metrica**: metrica di addestramento, per valutare le performance del modello in fase di evaluation;\n",
    "- **Trainer**: oggetto della libreria Transformers che processa tutti gli argomenti e, tramite il metodo .train() fa partire l'addestramento."
   ]
  },
  {
   "cell_type": "markdown",
   "id": "2f46c621-d476-4c83-9b33-f5bbaec4f1aa",
   "metadata": {},
   "source": [
    "### Training arguments"
   ]
  },
  {
   "cell_type": "code",
   "execution_count": 23,
   "id": "a98e492e-e691-4fe0-88d9-0a57d9c7f45d",
   "metadata": {},
   "outputs": [
    {
     "name": "stderr",
     "output_type": "stream",
     "text": [
      "C:\\Users\\agnes\\AppData\\Local\\Programs\\Python\\Python313\\Lib\\site-packages\\transformers\\training_args.py:1611: FutureWarning: `evaluation_strategy` is deprecated and will be removed in version 4.46 of 🤗 Transformers. Use `eval_strategy` instead\n",
      "  warnings.warn(\n"
     ]
    }
   ],
   "source": [
    "# Trainer\n",
    "\n",
    "num_epochs = 5\n",
    "\n",
    "training_args = TrainingArguments(\n",
    "    f\"output_BERT-cased/{genre}\",          # directory per salvare il modello\n",
    "    evaluation_strategy = \"epoch\",         # valuta su dev ad ogni epoca\n",
    "    logging_strategy = \"epoch\",            # log automatico a fine epoca\n",
    "    save_strategy = \"epoch\",               # salva modello a ogni epoca\n",
    "    logging_steps=10,                      # log ogni 10 batch (utile solo se logging=\"steps\")\n",
    "    learning_rate=2e-5,                    # learning rate standard per BERT\n",
    "    per_device_train_batch_size=8,         # batch size per GPU/CPU\n",
    "    per_device_eval_batch_size=8,\n",
    "    num_train_epochs=num_epochs,           # numero di epoche\n",
    "    weight_decay=0.01,                     # regolarizzazione\n",
    "    load_best_model_at_end=True            # carica il miglior modello (valutato su dev)\n",
    ")"
   ]
  },
  {
   "cell_type": "markdown",
   "id": "c13cc851-73a9-44e2-b3aa-6eec9582e75d",
   "metadata": {},
   "source": [
    "### Metrica\n",
    "Definiamo una funzione compute_metrics che prende input le predictions del modello e:\n",
    "- applica un argmax alle predictions;\n",
    "- calcola l'F-Score fra le predictions e le true labels."
   ]
  },
  {
   "cell_type": "code",
   "execution_count": 24,
   "id": "a4a33865-f3bd-49b0-8467-feb564490cdf",
   "metadata": {},
   "outputs": [],
   "source": [
    "def compute_metrics(eval_pred):\n",
    "  f1_metric = evaluate.load(\"f1\") # carico la metrica evaluate di HuggingFace\n",
    "  predictions, labels = eval_pred  # è una tupla (logits, labels), fornita automaticamente dal Trainer.\n",
    "  predictions = np.argmax(predictions, axis=1) # prende la classe più probabile (0 o 1) per ogni esempio\n",
    "\n",
    "  return f1_metric.compute(predictions=predictions, references=labels, average=\"weighted\") # calcola l'F1-score pesato, adatto anche a classi sbilanciate\n",
    "    \n",
    "# average=\"weighted\" perché...\n",
    "# - Classi meno frequenti (es. M o F) contano proporzionalmente nel calcolo dell'F1\n",
    "# - È più robusto di macro o micro se hai uno sbilanciamento."
   ]
  },
  {
   "cell_type": "code",
   "execution_count": 25,
   "id": "19a7948c-c1c0-4ccc-81fd-b37f2ea6fed6",
   "metadata": {},
   "outputs": [
    {
     "name": "stdout",
     "output_type": "stream",
     "text": [
      "Training set size: 4800\n",
      "Dev set size: 1200\n"
     ]
    }
   ],
   "source": [
    "# Controllo di debug prima di avviare il training \n",
    "print(\"Training set size:\", len(train))\n",
    "print(\"Dev set size:\", len(dev))"
   ]
  },
  {
   "cell_type": "markdown",
   "id": "cc9a9321-b1a3-41c1-8d0d-1bdb52581995",
   "metadata": {},
   "source": [
    "### Trainer\n",
    "A seguito della fase di training, con trainer.save_model() specifichiamo dover voler salvare il modello."
   ]
  },
  {
   "cell_type": "code",
   "execution_count": 26,
   "id": "0f4764b5-2a22-417b-8619-7eea7106a834",
   "metadata": {},
   "outputs": [
    {
     "name": "stderr",
     "output_type": "stream",
     "text": [
      "C:\\Users\\agnes\\AppData\\Local\\Temp\\ipykernel_592\\1283563509.py:1: FutureWarning: `tokenizer` is deprecated and will be removed in version 5.0.0 for `Trainer.__init__`. Use `processing_class` instead.\n",
      "  trainer = Trainer(\n"
     ]
    },
    {
     "data": {
      "text/html": [
       "\n",
       "    <div>\n",
       "      \n",
       "      <progress value='3000' max='3000' style='width:300px; height:20px; vertical-align: middle;'></progress>\n",
       "      [3000/3000 6:05:19, Epoch 5/5]\n",
       "    </div>\n",
       "    <table border=\"1\" class=\"dataframe\">\n",
       "  <thead>\n",
       " <tr style=\"text-align: left;\">\n",
       "      <th>Epoch</th>\n",
       "      <th>Training Loss</th>\n",
       "      <th>Validation Loss</th>\n",
       "      <th>F1</th>\n",
       "    </tr>\n",
       "  </thead>\n",
       "  <tbody>\n",
       "    <tr>\n",
       "      <td>1</td>\n",
       "      <td>0.627200</td>\n",
       "      <td>0.614605</td>\n",
       "      <td>0.690475</td>\n",
       "    </tr>\n",
       "    <tr>\n",
       "      <td>2</td>\n",
       "      <td>0.461700</td>\n",
       "      <td>0.518351</td>\n",
       "      <td>0.747963</td>\n",
       "    </tr>\n",
       "    <tr>\n",
       "      <td>3</td>\n",
       "      <td>0.322800</td>\n",
       "      <td>0.647933</td>\n",
       "      <td>0.748337</td>\n",
       "    </tr>\n",
       "    <tr>\n",
       "      <td>4</td>\n",
       "      <td>0.201300</td>\n",
       "      <td>1.088970</td>\n",
       "      <td>0.740506</td>\n",
       "    </tr>\n",
       "    <tr>\n",
       "      <td>5</td>\n",
       "      <td>0.118600</td>\n",
       "      <td>1.349419</td>\n",
       "      <td>0.746362</td>\n",
       "    </tr>\n",
       "  </tbody>\n",
       "</table><p>"
      ],
      "text/plain": [
       "<IPython.core.display.HTML object>"
      ]
     },
     "metadata": {},
     "output_type": "display_data"
    }
   ],
   "source": [
    "trainer = Trainer(\n",
    "    model,\n",
    "    training_args,\n",
    "    train_dataset=train,\n",
    "    eval_dataset=dev,\n",
    "    tokenizer=tokenizer,\n",
    "    compute_metrics=compute_metrics\n",
    ")\n",
    "\n",
    "trainer.train()\n",
    "trainer.save_model(f\"/output_BERT-cased/{genre}/\")"
   ]
  },
  {
   "cell_type": "markdown",
   "id": "255be22c-579e-4bd4-b294-6d82c48ef771",
   "metadata": {},
   "source": [
    "## Evaluation del modello\n",
    "\n",
    "Dopo aver addestrato il modello, si passa alla fase di evaluation. Nello specifico, vogliamo:\n",
    "- visualizzare l'andamento della loss sul dataset di training e di evaluation;\n",
    "- calcolare le performance del modello sul dataset di test."
   ]
  },
  {
   "cell_type": "markdown",
   "id": "37e5b186-3e56-4c59-a8b7-eb6651a33eec",
   "metadata": {},
   "source": [
    "### Monitoraggio della loss"
   ]
  },
  {
   "cell_type": "code",
   "execution_count": 27,
   "id": "dac0a349-ca2d-4a36-a146-b6db4bc3d253",
   "metadata": {},
   "outputs": [
    {
     "name": "stderr",
     "output_type": "stream",
     "text": [
      "C:\\Users\\agnes\\AppData\\Local\\Temp\\ipykernel_592\\3703003683.py:12: FutureWarning: The behavior of DataFrame concatenation with empty or all-NA entries is deprecated. In a future version, this will no longer exclude empty or all-NA columns when determining the result dtypes. To retain the old behavior, exclude the relevant entries before the concat operation.\n",
      "  df = pd.concat([df, log_df], ignore_index=True)\n"
     ]
    },
    {
     "data": {
      "text/plain": [
       "<Axes: xlabel='Epoch', ylabel='Loss'>"
      ]
     },
     "execution_count": 27,
     "metadata": {},
     "output_type": "execute_result"
    },
    {
     "data": {
      "image/png": "[encoded data removed]",
      "text/plain": [
       "<Figure size 640x480 with 1 Axes>"
      ]
     },
     "metadata": {},
     "output_type": "display_data"
    }
   ],
   "source": [
    "log_history = trainer.state.log_history\n",
    "\n",
    "# Creo dataframe pandas per memorizzare le loss di training/evaluation e poi mostrare graficamente le curve\n",
    "df = pd.DataFrame(columns=[\"Epoch\", \"Loss\", \"Training/Validation\"])\n",
    "\n",
    "for log_data in log_history:\n",
    "  epoch = int(log_data[\"epoch\"])\n",
    "  if \"loss\" in log_data.keys():\n",
    "    loss = log_data[\"loss\"]\n",
    "\n",
    "    log_df = pd.DataFrame({\"Epoch\": [epoch], \"Loss\": [loss], \"Training/Validation\": [\"Training\"]})\n",
    "    df = pd.concat([df, log_df], ignore_index=True)\n",
    "  if \"eval_loss\" in log_data.keys():\n",
    "    loss = log_data[\"eval_loss\"]\n",
    "    log_df = pd.DataFrame({\"Epoch\": [epoch], \"Loss\": [loss], \"Training/Validation\": [\"Validation\"]})\n",
    "    df = pd.concat([df, log_df], ignore_index=True)\n",
    "\n",
    "# Lineplot della loss\n",
    "sns.lineplot(data=df, x=\"Epoch\", y=\"Loss\", hue=\"Training/Validation\")"
   ]
  },
  {
   "cell_type": "markdown",
   "id": "d9cb60a8-8069-4640-aa2e-438b6803d2a6",
   "metadata": {},
   "source": [
    "## Calcolo performance sul test set\n",
    "Applicando il metodo .predict() sul nostro test set, otteniamo come output le prediction del modello, assieme alle metriche di valutazione (e.g. weighted F1)"
   ]
  },
  {
   "cell_type": "code",
   "execution_count": 28,
   "id": "6a249088-675a-44a4-b07b-89b63116a85e",
   "metadata": {},
   "outputs": [
    {
     "data": {
      "text/html": [],
      "text/plain": [
       "<IPython.core.display.HTML object>"
      ]
     },
     "metadata": {},
     "output_type": "display_data"
    },
    {
     "name": "stdout",
     "output_type": "stream",
     "text": [
      "PredictionOutput(predictions=array([[ 1.0250838 , -1.7567036 ],\n",
      "       [ 0.23139599, -0.8283898 ],\n",
      "       [ 0.28432366, -0.97591865],\n",
      "       [ 0.56560874, -1.2060876 ],\n",
      "       [-1.0036857 ,  0.32509112],\n",
      "       [ 0.31437138, -0.9978574 ],\n",
      "       [ 0.46635717, -0.9372255 ],\n",
      "       [-1.8600208 ,  1.659846  ],\n",
      "       [-0.34707868,  0.35997424],\n",
      "       [-0.06853206, -0.40764272],\n",
      "       [-0.47693336,  0.0604444 ],\n",
      "       [-0.15520418, -0.24224696],\n",
      "       [-0.39838216, -0.1806488 ],\n",
      "       [-1.9843421 ,  1.8308979 ],\n",
      "       [ 0.22194834, -0.73011804],\n",
      "       [-0.5143939 ,  0.06200587],\n",
      "       [-1.9106708 ,  1.7728812 ],\n",
      "       [-0.5278764 , -0.08497374],\n",
      "       [-1.0935317 ,  0.91488355],\n",
      "       [-0.3605963 , -0.14902812],\n",
      "       [-0.06486994, -0.3764259 ],\n",
      "       [ 0.40496024, -1.1813178 ],\n",
      "       [-2.0810032 ,  2.1103868 ],\n",
      "       [-0.03712238, -0.56138813],\n",
      "       [ 0.17060176, -0.8602098 ],\n",
      "       [-1.8232193 ,  1.5382751 ],\n",
      "       [-1.7206162 ,  1.7602438 ],\n",
      "       [-1.1605973 ,  0.9931931 ],\n",
      "       [-2.1067984 ,  1.85544   ],\n",
      "       [-0.2755295 , -0.31808043],\n",
      "       [ 0.33599818, -0.85198027],\n",
      "       [-0.34844342,  0.25269443],\n",
      "       [-1.2285876 ,  0.87850493],\n",
      "       [-1.8467826 ,  1.693467  ],\n",
      "       [-0.49733773, -0.04880862],\n",
      "       [-0.44281784, -0.17504337],\n",
      "       [-1.377762  ,  1.0414002 ],\n",
      "       [-0.9774019 ,  0.49165627],\n",
      "       [-1.2043095 ,  1.1546507 ],\n",
      "       [-0.8561608 ,  0.31857258],\n",
      "       [-1.4745109 ,  1.181395  ],\n",
      "       [-0.8176444 ,  0.51704323],\n",
      "       [-1.4675481 ,  1.3864093 ],\n",
      "       [-0.3333365 ,  0.09343588],\n",
      "       [-0.77342814,  0.11437276],\n",
      "       [-1.5256273 ,  1.2951262 ],\n",
      "       [-2.058025  ,  1.8487267 ],\n",
      "       [-1.9649174 ,  1.8733116 ],\n",
      "       [-0.14073305, -0.22226982],\n",
      "       [-0.79721767,  0.33003828],\n",
      "       [-0.13657503, -0.41110948],\n",
      "       [-0.78889805,  0.51042503],\n",
      "       [ 0.4262228 , -1.1479659 ],\n",
      "       [ 0.34062877, -1.2956724 ],\n",
      "       [-0.7697351 ,  0.20806044],\n",
      "       [-0.87033147,  0.42733222],\n",
      "       [ 0.2878117 , -1.2418675 ],\n",
      "       [-0.01659697, -0.7406354 ],\n",
      "       [ 0.392636  , -1.0737994 ],\n",
      "       [-0.27824074, -0.30650148],\n",
      "       [-0.29019076, -0.09207548],\n",
      "       [ 0.07718582, -0.6501891 ],\n",
      "       [-2.2245479 ,  2.4776504 ],\n",
      "       [-2.2130547 ,  2.3139577 ],\n",
      "       [-1.9703124 ,  2.0948873 ],\n",
      "       [-2.2648077 ,  2.3715403 ],\n",
      "       [-2.1912642 ,  2.3114228 ],\n",
      "       [-2.018603  ,  2.3973641 ],\n",
      "       [-2.0078866 ,  1.9437749 ],\n",
      "       [-2.0793848 ,  2.2962399 ],\n",
      "       [-2.2013228 ,  2.2268324 ],\n",
      "       [-1.9342095 ,  2.240962  ],\n",
      "       [-2.1716626 ,  2.311164  ],\n",
      "       [-2.0073054 ,  2.0533085 ],\n",
      "       [-2.1928105 ,  2.4023137 ],\n",
      "       [-1.4798607 ,  1.647129  ],\n",
      "       [-2.2127786 ,  2.5460572 ],\n",
      "       [-2.1540895 ,  2.193915  ],\n",
      "       [-2.054203  ,  2.1963534 ],\n",
      "       [-2.1834326 ,  2.250267  ],\n",
      "       [-2.1355476 ,  2.0947886 ],\n",
      "       [-2.3355083 ,  2.485394  ],\n",
      "       [-1.95139   ,  2.233318  ],\n",
      "       [-2.1310558 ,  2.4220734 ],\n",
      "       [-2.2321596 ,  2.4293473 ],\n",
      "       [-2.1880405 ,  2.3229532 ],\n",
      "       [-2.1522305 ,  2.2797687 ],\n",
      "       [-1.6490303 ,  2.0576954 ],\n",
      "       [-2.090129  ,  2.2924404 ],\n",
      "       [-2.090572  ,  2.2836888 ],\n",
      "       [-2.1531081 ,  2.250872  ],\n",
      "       [-2.3221269 ,  2.5364985 ],\n",
      "       [-2.1833224 ,  2.2813592 ],\n",
      "       [-1.8574975 ,  1.8053656 ],\n",
      "       [-2.2912583 ,  2.529223  ],\n",
      "       [-2.078261  ,  2.2539244 ],\n",
      "       [-2.16198   ,  2.3857563 ],\n",
      "       [-1.863265  ,  1.7578226 ],\n",
      "       [-1.9399145 ,  2.1529016 ],\n",
      "       [-1.0794663 ,  0.9011296 ],\n",
      "       [-1.962889  ,  2.160275  ],\n",
      "       [-2.2060118 ,  2.35103   ],\n",
      "       [-1.8058743 ,  2.1471245 ],\n",
      "       [-2.1338596 ,  2.3859031 ],\n",
      "       [-2.2798524 ,  2.4932199 ],\n",
      "       [-1.932874  ,  2.0222983 ],\n",
      "       [-2.2014186 ,  2.3120408 ],\n",
      "       [-2.290195  ,  2.49291   ],\n",
      "       [-1.9734346 ,  2.0085325 ],\n",
      "       [-2.1109278 ,  2.2604399 ],\n",
      "       [-2.0549088 ,  2.2419436 ],\n",
      "       [-2.2056506 ,  2.3750558 ],\n",
      "       [-2.3609173 ,  2.4279718 ],\n",
      "       [-2.2156925 ,  2.3692648 ],\n",
      "       [-2.1843247 ,  2.3218899 ],\n",
      "       [-1.7602849 ,  1.9874663 ],\n",
      "       [-2.336362  ,  2.500144  ],\n",
      "       [-2.3715448 ,  2.5251117 ],\n",
      "       [-2.2818365 ,  2.2784624 ],\n",
      "       [-1.8318214 ,  2.093899  ],\n",
      "       [-2.2623174 ,  2.5134237 ],\n",
      "       [-1.8981144 ,  2.2867947 ],\n",
      "       [-1.4543886 ,  1.4864802 ],\n",
      "       [-2.109326  ,  2.207275  ],\n",
      "       [-1.4004734 ,  1.6529143 ],\n",
      "       [-1.9166996 ,  2.0258265 ],\n",
      "       [-2.0979571 ,  2.0128164 ],\n",
      "       [-1.5829929 ,  1.7812971 ],\n",
      "       [-2.0744793 ,  2.2803338 ],\n",
      "       [-1.7455629 ,  2.0548265 ],\n",
      "       [-2.3258836 ,  2.4388604 ],\n",
      "       [-1.9099615 ,  1.9776642 ],\n",
      "       [-1.9450119 ,  2.0349498 ],\n",
      "       [-2.218506  ,  2.4587328 ],\n",
      "       [-2.1203406 ,  2.2635953 ],\n",
      "       [-2.100429  ,  2.2723927 ],\n",
      "       [-2.3284822 ,  2.5304174 ],\n",
      "       [-1.6890321 ,  1.9975655 ],\n",
      "       [-2.052249  ,  2.2122478 ],\n",
      "       [-2.1973982 ,  2.2218845 ],\n",
      "       [-2.296268  ,  2.3808742 ],\n",
      "       [-2.3393352 ,  2.4159563 ],\n",
      "       [-2.118968  ,  2.052308  ],\n",
      "       [-2.2030368 ,  2.427862  ],\n",
      "       [-2.137077  ,  2.1954925 ],\n",
      "       [-1.7177784 ,  1.2970524 ],\n",
      "       [-1.1030607 ,  0.65534353],\n",
      "       [-2.1154075 ,  2.2833738 ],\n",
      "       [-0.45481896,  0.12634858],\n",
      "       [-1.6248384 ,  1.7679752 ],\n",
      "       [-1.8828758 ,  2.0232382 ],\n",
      "       [-1.5324886 ,  1.834997  ]], dtype=float32), label_ids=array([0, 0, 0, 1, 0, 0, 0, 1, 1, 0, 1, 1, 1, 1, 0, 0, 0, 0, 0, 1, 0, 0,\n",
      "       0, 1, 0, 0, 1, 0, 1, 0, 1, 1, 0, 1, 1, 0, 0, 0, 0, 1, 0, 0, 0, 0,\n",
      "       1, 0, 1, 1, 0, 1, 1, 1, 0, 0, 0, 1, 0, 0, 1, 1, 0, 1, 1, 1, 0, 0,\n",
      "       0, 0, 1, 0, 1, 0, 0, 1, 1, 0, 0, 1, 0, 0, 1, 1, 1, 0, 1, 0, 0, 1,\n",
      "       0, 1, 0, 0, 1, 0, 1, 0, 0, 0, 1, 0, 0, 1, 0, 1, 1, 0, 1, 1, 1, 0,\n",
      "       0, 0, 0, 0, 0, 0, 1, 1, 0, 0, 0, 0, 0, 0, 0, 1, 0, 0, 0, 0, 1, 1,\n",
      "       0, 1, 1, 1, 1, 1, 1, 1, 1, 0, 0, 0, 0, 1, 0, 1, 1, 0, 0, 1]), metrics={'test_loss': 1.796531081199646, 'test_f1': 0.417597785950663, 'test_runtime': 25.8924, 'test_samples_per_second': 5.87, 'test_steps_per_second': 0.734})\n"
     ]
    }
   ],
   "source": [
    "output_predictions = trainer.predict(test)\n",
    "print(output_predictions)"
   ]
  },
  {
   "cell_type": "code",
   "execution_count": 29,
   "id": "5ef2206b-0345-48b6-8f09-e3d37f1b4e11",
   "metadata": {},
   "outputs": [
    {
     "name": "stdout",
     "output_type": "stream",
     "text": [
      "Classification Report:\n",
      "              precision    recall  f1-score   support\n",
      "\n",
      "           0       0.67      0.18      0.29        87\n",
      "           1       0.45      0.88      0.59        65\n",
      "\n",
      "    accuracy                           0.48       152\n",
      "   macro avg       0.56      0.53      0.44       152\n",
      "weighted avg       0.57      0.48      0.42       152\n",
      "\n",
      "\n",
      "Confusion Matrix:\n",
      "<sklearn.metrics._plot.confusion_matrix.ConfusionMatrixDisplay object at 0x000001B3853638C0>\n"
     ]
    },
    {
     "data": {
      "image/png": "[encoded data removed]",
      "text/plain": [
       "<Figure size 640x480 with 2 Axes>"
      ]
     },
     "metadata": {},
     "output_type": "display_data"
    }
   ],
   "source": [
    "y_test = test[\"label\"].tolist()\n",
    "y_pred = np.argmax(output_predictions.predictions, axis=1)\n",
    "\n",
    "report = classification_report(y_test, y_pred)\n",
    "cm = ConfusionMatrixDisplay.from_predictions(y_test, y_pred, xticks_rotation='vertical', cmap='Blues')\n",
    "\n",
    "print(\"Classification Report:\")\n",
    "print(report)\n",
    "print()\n",
    "\n",
    "print(\"Confusion Matrix:\")\n",
    "print(cm)"
   ]
  }
 ],
 "metadata": {
  "kernelspec": {
   "display_name": "Python 3 (ipykernel)",
   "language": "python",
   "name": "python3"
  },
  "language_info": {
   "codemirror_mode": {
    "name": "ipython",
    "version": 3
   },
   "file_extension": ".py",
   "mimetype": "text/x-python",
   "name": "python",
   "nbconvert_exporter": "python",
   "pygments_lexer": "ipython3",
   "version": "3.13.1"
  }
 },
 "nbformat": 4,
 "nbformat_minor": 5
}
