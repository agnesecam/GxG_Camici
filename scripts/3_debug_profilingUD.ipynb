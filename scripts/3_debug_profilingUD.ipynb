{
 "cells": [
  {
   "cell_type": "code",
   "execution_count": 17,
   "id": "d49c7723-329f-4cce-9b55-bf0b812de51a",
   "metadata": {
    "scrolled": true
   },
   "outputs": [],
   "source": [
    "import os\n",
    "import unicodedata\n",
    "\n",
    "genre = \"children\"\n",
    "input_dir = f\"../data/profiling_input/{genre}\"\n",
    "\n",
    "def has_control_chars(text):\n",
    "    for c in text:\n",
    "        category = unicodedata.category(c)\n",
    "        if category.startswith(\"C\") and c not in (\"\\n\", \"\\t\", \"\\r\"):\n",
    "            return True\n",
    "    return False\n",
    "\n",
    "for fname in sorted(os.listdir(input_dir)):\n",
    "    if not fname.endswith(\".txt\"):\n",
    "        continue\n",
    "\n",
    "    path = os.path.join(input_dir, fname)\n",
    "    with open(path, \"r\", encoding=\"utf-8\") as f:\n",
    "        text = f.read()\n",
    "\n",
    "    if has_control_chars(text):\n",
    "        print(f\"[CONTROL CHAR FOUND] {fname}\")"
   ]
  },
  {
   "cell_type": "markdown",
   "id": "580ca603-38ed-4c55-baa0-11d8e2d642ae",
   "metadata": {},
   "source": [
    "[CONTROL CHAR FOUND] test#172#children#unknown.txt"
   ]
  },
  {
   "cell_type": "code",
   "execution_count": null,
   "id": "a3801c31-284e-42a6-b5b4-a3cb0178e202",
   "metadata": {},
   "outputs": [],
   "source": [
    "import os\n",
    "import unicodedata\n",
    "\n",
    "genre = \"youtube\"\n",
    "input_dir = f\"../data/profiling_input/{genre}\"\n",
    "\n",
    "def has_control_chars(text):\n",
    "    for c in text:\n",
    "        category = unicodedata.category(c)\n",
    "        if category.startswith(\"C\") and c not in (\"\\n\", \"\\t\", \"\\r\"):\n",
    "            return True\n",
    "    return False\n",
    "\n",
    "for fname in sorted(os.listdir(input_dir)):\n",
    "    if not fname.endswith(\".txt\"):\n",
    "        continue\n",
    "\n",
    "    path = os.path.join(input_dir, fname)\n",
    "    with open(path, \"r\", encoding=\"utf-8\") as f:\n",
    "        text = f.read()\n",
    "\n",
    "    if has_control_chars(text):\n",
    "        print(f\"[CONTROL CHAR FOUND] {fname}\")\n"
   ]
  },
  {
   "cell_type": "markdown",
   "id": "9e782268-231c-4648-a201-ff3be25ffce5",
   "metadata": {},
   "source": [
    "[CONTROL CHAR FOUND] test#1690#youtube#unknown.txt\n",
    "\n",
    "[CONTROL CHAR FOUND] test#5461#youtube#unknown.txt\n",
    "\n",
    "[CONTROL CHAR FOUND] test#6170#youtube#unknown.txt\n",
    "\n",
    "[CONTROL CHAR FOUND] test#8387#youtube#unknown.txt\n",
    "\n",
    "[CONTROL CHAR FOUND] test#8388#youtube#unknown.txt\n",
    "\n",
    "Cancellandoli non si risolve il problema"
   ]
  }
 ],
 "metadata": {
  "kernelspec": {
   "display_name": "Python 3 (ipykernel)",
   "language": "python",
   "name": "python3"
  },
  "language_info": {
   "codemirror_mode": {
    "name": "ipython",
    "version": 3
   },
   "file_extension": ".py",
   "mimetype": "text/x-python",
   "name": "python",
   "nbconvert_exporter": "python",
   "pygments_lexer": "ipython3",
   "version": "3.13.1"
  }
 },
 "nbformat": 4,
 "nbformat_minor": 5
}
