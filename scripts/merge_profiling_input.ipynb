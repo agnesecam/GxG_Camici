{
 "cells": [
  {
   "cell_type": "code",
   "execution_count": null,
   "id": "b69fb79f-5724-4b97-bd85-69e3a22d3461",
   "metadata": {},
   "outputs": [],
   "source": [
    "import os\n",
    "import shutil\n",
    "\n",
    "# Percorsi base\n",
    "base_dir = \"../data/texts_from_docs/\"\n",
    "train_dir = os.path.join(base_dir, \"training_texts\")\n",
    "test_dir = os.path.join(base_dir, \"test_texts\")\n",
    "merged_dir = \"../data/profiling__input\"  # cartella sorella, non dentro texts_from_docs\n",
    "\n",
    "# Generi\n",
    "genres = [\"children\", \"diary\", \"journalism\", \"twitter\", \"youtube\"]\n",
    "\n",
    "# Crea directory profiling__input/{genere}\n",
    "for genre in genres:\n",
    "    genre_dir = os.path.join(merged_dir, genre)\n",
    "    os.makedirs(genre_dir, exist_ok=True)\n",
    "\n",
    "    # Percorsi sorgente\n",
    "    src_train = os.path.join(train_dir, genre)\n",
    "    src_test = os.path.join(test_dir, genre)\n",
    "\n",
    "    # Copia file di training\n",
    "    for filename in os.listdir(src_train):\n",
    "        src_path = os.path.join(src_train, filename)\n",
    "        dst_path = os.path.join(genre_dir, filename)\n",
    "        shutil.copyfile(src_path, dst_path)\n",
    "\n",
    "    # Copia file di test\n",
    "    for filename in os.listdir(src_test):\n",
    "        src_path = os.path.join(src_test, filename)\n",
    "        dst_path = os.path.join(genre_dir, filename)\n",
    "        shutil.copyfile(src_path, dst_path)\n",
    "\n",
    "print(\"✅ Cartella '../data/profiling__input' creata e popolata con i file unificati.\")\n"
   ]
  }
 ],
 "metadata": {
  "kernelspec": {
   "display_name": "Python 3 (ipykernel)",
   "language": "python",
   "name": "python3"
  },
  "language_info": {
   "codemirror_mode": {
    "name": "ipython",
    "version": 3
   },
   "file_extension": ".py",
   "mimetype": "text/x-python",
   "name": "python",
   "nbconvert_exporter": "python",
   "pygments_lexer": "ipython3",
   "version": "3.13.1"
  }
 },
 "nbformat": 4,
 "nbformat_minor": 5
}
