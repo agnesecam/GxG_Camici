{
 "cells": [
  {
   "cell_type": "markdown",
   "id": "ec26c0c3-c176-49f4-9e0e-749c0e40b545",
   "metadata": {},
   "source": [
    "# Fase 3 - SVM con embeddings ItWac 32 (in-genre classification)\n",
    "Sviluppare un classificatore basato su SVM lineari che prende in input una rappresentazione del testo costruita attraverso l’uso dei word embedding (http://www.italianlp.it/resources/italian-word-embeddings/). Riportare i seguenti risultati:\n",
    "- testare diverse rappresentazioni del testo che variano rispetto al modo di combinare gli embedding delle singole parole e/o rispetto alle categorie grammaticali delle paroleprese in considerazione. Valutare i diversi sistemi con un processo di 5-fold cross validation condotto sul training set;\n",
    "- valutazione sul test set ufficiale del miglior sistema rispetto ai risultati ottenuti con il processo di 5-fold cross validation del punto sopra."
   ]
  },
  {
   "cell_type": "markdown",
   "id": "95301bdf-9ef1-4e27-8488-50cd6f4379a4",
   "metadata": {},
   "source": [
    "Dal task GxG Evalita 2018:\n",
    "\n",
    "\"Given a (collection of) text(s) from a specific genre, the gender of the author has to be predicted. The task is cast as a binary classification task, with gender represented as F (female) or M (male). Gender prediction will be done in two ways: \n",
    "\n",
    "1. **using a model which has been trained on the same genre**\n",
    "2. using a model which has been trained on anything but that genre.\"\n",
    "\n",
    "In questo file utilizzeremo un modello allenato sullo stesso genere su cui poi verrà testato."
   ]
  },
  {
   "cell_type": "code",
   "execution_count": 1,
   "id": "d0095ef1-100f-49a0-b199-6a63675a78bf",
   "metadata": {},
   "outputs": [],
   "source": [
    "import os\n",
    "import numpy as np\n",
    "import pandas as pd\n",
    "from sklearn.svm import LinearSVC\n",
    "from sklearn.model_selection import cross_val_score, StratifiedKFold\n",
    "from sklearn.metrics import accuracy_score, confusion_matrix, classification_report, ConfusionMatrixDisplay\n",
    "from tqdm import tqdm\n",
    "import matplotlib.pyplot as plt"
   ]
  },
  {
   "cell_type": "code",
   "execution_count": 2,
   "id": "f8179d85",
   "metadata": {},
   "outputs": [],
   "source": [
    "def load_word_embeddings(src_path):\n",
    "    embeddings = dict()\n",
    "    with open(src_path, 'r', encoding='utf-8') as f:\n",
    "        for line in f:\n",
    "            line = line.strip().split('\\t')\n",
    "            word = line[0]\n",
    "            embedding = [float(comp) for comp in line[1:]]\n",
    "            embeddings[word] = np.asarray(embedding)\n",
    "    return embeddings\n",
    "\n",
    "def load_conllu_file(file_path):\n",
    "    with open(file_path, 'r', encoding='utf-8') as f:\n",
    "        lines = f.readlines()\n",
    "    tokens, pos_tags = [], []\n",
    "    for line in lines:\n",
    "        if line.startswith('#') or line.strip() == '':\n",
    "            continue\n",
    "        parts = line.strip().split('\\t')\n",
    "        if '-' in parts[0] or '.' in parts[0]:\n",
    "            continue\n",
    "        tokens.append(parts[1].lower())\n",
    "        pos_tags.append(parts[3])\n",
    "    return tokens, pos_tags\n",
    "\n",
    "def get_label_from_filename(filename):\n",
    "    return filename.split('#')[-1].split('.')[0]\n",
    "\n",
    "def represent_text(tokens, model, pos_tags=None, allowed_pos=None, strategy='mean'):\n",
    "    vectors = []\n",
    "    for token, pos in zip(tokens, pos_tags):\n",
    "        if allowed_pos and pos not in allowed_pos:\n",
    "            continue\n",
    "        if token in model:\n",
    "            vectors.append(model[token])\n",
    "    if not vectors:\n",
    "        return np.zeros(next(iter(model.values())).shape[0])\n",
    "    vectors = np.array(vectors)\n",
    "    if strategy == 'mean':\n",
    "        return np.mean(vectors, axis=0)\n",
    "    elif strategy == 'max':\n",
    "        return np.max(vectors, axis=0)\n",
    "    else:\n",
    "        raise ValueError(f\"Unknown strategy: {strategy}\")"
   ]
  },
  {
   "cell_type": "markdown",
   "id": "3d6ecf18-8707-4855-b05c-a055b38d4a6c",
   "metadata": {},
   "source": [
    "## Caricamento dei word embeddings"
   ]
  },
  {
   "cell_type": "code",
   "execution_count": 3,
   "id": "5af0537d",
   "metadata": {},
   "outputs": [],
   "source": [
    "dim = 32\n",
    "embeddings_path = f'../../data/embeddings/itwac{dim}.txt'\n",
    "embeddings = load_word_embeddings(embeddings_path)"
   ]
  },
  {
   "cell_type": "markdown",
   "id": "0d9fb6cc-d5bc-4f1e-bee0-1768dee13fe3",
   "metadata": {},
   "source": [
    "## Caricamento dei file di train, test e gold"
   ]
  },
  {
   "cell_type": "code",
   "execution_count": 4,
   "id": "b1ca6cb3",
   "metadata": {},
   "outputs": [],
   "source": [
    "genre = \"twitter\"\n",
    "genre_abbr = \"TW\"\n",
    "\n",
    "train_folder = f\"../../data/profiling_output/{genre}/linguistic_annotation/{genre}/\"\n",
    "test_folder = f\"../../data/profiling_output/{genre}/linguistic_annotation/{genre}/\"\n",
    "\n",
    "gold_path = f\"../../data/dataset_originale/gold/test_{genre_abbr}.gold\"\n",
    "gold_df = pd.read_csv(gold_path, sep=\"\\t\", header=None, names=[\"id\", \"gender\"])\n",
    "gold_dict = dict(zip(gold_df[\"id\"].astype(str), gold_df[\"gender\"]))"
   ]
  },
  {
   "cell_type": "markdown",
   "id": "64beef5b-cf5e-4697-9569-24f4450fca14",
   "metadata": {},
   "source": [
    "## Definizione delle strategie di rappresentazione"
   ]
  },
  {
   "cell_type": "code",
   "execution_count": 5,
   "id": "aea9ce84",
   "metadata": {},
   "outputs": [],
   "source": [
    "pos_map = {\n",
    "    \"all\": None,\n",
    "    \"verb\": {\"VERB\"},\n",
    "    \"noun_adj\": {\"NOUN\", \"ADJ\"}\n",
    "}\n",
    "\n",
    "strategies = [\n",
    "    (\"mean_all\",    {\"agg\": \"mean\", \"filter\": \"all\"}),\n",
    "    (\"mean_verb\",   {\"agg\": \"mean\", \"filter\": \"verb\"}),\n",
    "    (\"mean_noun_adj\", {\"agg\": \"mean\", \"filter\": \"noun_adj\"}),\n",
    "    (\"max_all\",     {\"agg\": \"max\", \"filter\": \"all\"}),\n",
    "    (\"max_verb\",    {\"agg\": \"max\", \"filter\": \"verb\"}),\n",
    "    (\"max_noun_adj\",{\"agg\": \"max\", \"filter\": \"noun_adj\"})\n",
    "]"
   ]
  },
  {
   "cell_type": "markdown",
   "id": "76908909-b23c-45bf-95cf-4464f8cff001",
   "metadata": {},
   "source": [
    "## 5-fold cross validation su tutte le strategie"
   ]
  },
  {
   "cell_type": "code",
   "execution_count": 6,
   "id": "cabef830",
   "metadata": {},
   "outputs": [
    {
     "name": "stdout",
     "output_type": "stream",
     "text": [
      "[mean_all] mean CV accuracy: 0.5862 ([0.59166667 0.52833333 0.52416667 0.6775     0.60916667])\n",
      "[mean_verb] mean CV accuracy: 0.5225 ([0.5425     0.355      0.48       0.61333333 0.62166667])\n",
      "[mean_noun_adj] mean CV accuracy: 0.5977 ([0.5925     0.60666667 0.53083333 0.63333333 0.625     ])\n",
      "[max_all] mean CV accuracy: 0.5598 ([0.55916667 0.50333333 0.50166667 0.6375     0.5975    ])\n",
      "[max_verb] mean CV accuracy: 0.4768 ([0.51166667 0.36916667 0.41416667 0.53666667 0.5525    ])\n",
      "[max_noun_adj] mean CV accuracy: 0.5917 ([0.58416667 0.58083333 0.56       0.64083333 0.5925    ])\n"
     ]
    }
   ],
   "source": [
    "cv_results = []\n",
    "cv_scores_dict = {}\n",
    "\n",
    "train_files = [f for f in os.listdir(train_folder) if f.startswith(\"training\")]\n",
    "train_labels = [get_label_from_filename(f) for f in train_files]\n",
    "\n",
    "for strat_name, strat_params in strategies:\n",
    "    agg = strat_params[\"agg\"]\n",
    "    pos_filter = pos_map[strat_params[\"filter\"]]\n",
    "    \n",
    "    X = []\n",
    "    y = []\n",
    "    for filename in train_files:\n",
    "        label = get_label_from_filename(filename)\n",
    "        tokens, pos_tags = load_conllu_file(os.path.join(train_folder, filename))\n",
    "        vector = represent_text(tokens, embeddings, pos_tags, pos_filter, agg)\n",
    "        X.append(vector)\n",
    "        y.append(label)\n",
    "    X = np.vstack(X)\n",
    "    y = np.array(y)\n",
    "    \n",
    "    clf = LinearSVC(random_state=0, max_iter=5000)\n",
    "    scores = cross_val_score(clf, X, y, cv=5)\n",
    "    mean_cv = scores.mean()\n",
    "    \n",
    "    cv_results.append({\n",
    "        \"strategy\": strat_name,\n",
    "        \"mean_cv\": mean_cv,\n",
    "        \"scores\": scores\n",
    "    })\n",
    "    cv_scores_dict[strat_name] = scores\n",
    "    \n",
    "    print(f\"[{strat_name}] mean CV accuracy: {mean_cv:.4f} ({scores})\")\n"
   ]
  },
  {
   "cell_type": "markdown",
   "id": "d773f7b8-9037-45e5-a2b1-e42d5e84a1e8",
   "metadata": {},
   "source": [
    "## Selezione della strategia migliore"
   ]
  },
  {
   "cell_type": "code",
   "execution_count": 7,
   "id": "bf2c02be",
   "metadata": {},
   "outputs": [
    {
     "name": "stdout",
     "output_type": "stream",
     "text": [
      "\n",
      "Strategia migliore: mean_noun_adj (mean CV = 0.5977)\n"
     ]
    }
   ],
   "source": [
    "best_result = max(cv_results, key=lambda d: d[\"mean_cv\"])\n",
    "best_strategy = best_result[\"strategy\"]\n",
    "print(f\"\\nStrategia migliore: {best_strategy} (mean CV = {best_result['mean_cv']:.4f})\")"
   ]
  },
  {
   "cell_type": "markdown",
   "id": "9f7cee99-c9cb-4ec7-9327-59b6a2434b26",
   "metadata": {},
   "source": [
    "## Preparazione dati con la strategia migliore (train e test)"
   ]
  },
  {
   "cell_type": "code",
   "execution_count": 8,
   "id": "56d277fd",
   "metadata": {},
   "outputs": [],
   "source": [
    "best_params = dict(strategies)[best_strategy]\n",
    "agg = best_params[\"agg\"]\n",
    "pos_filter = pos_map[best_params[\"filter\"]]\n",
    "\n",
    "X_train = []\n",
    "y_train = []\n",
    "for filename in train_files:\n",
    "    label = get_label_from_filename(filename)\n",
    "    tokens, pos_tags = load_conllu_file(os.path.join(train_folder, filename))\n",
    "    vector = represent_text(tokens, embeddings, pos_tags, pos_filter, agg)\n",
    "    X_train.append(vector)\n",
    "    y_train.append(label)\n",
    "X_train = np.vstack(X_train)\n",
    "y_train = np.array(y_train)\n",
    "\n",
    "test_files = [f for f in os.listdir(test_folder) if f.startswith(\"test\")] # (1) vengono usati solo i file i cui ID sono presenti nel file test_TW.gold,\n",
    "X_test = []\n",
    "y_test = []\n",
    "test_ids = []\n",
    "for filename in test_files:\n",
    "    file_id = filename.split('#')[1]\n",
    "    tokens, pos_tags = load_conllu_file(os.path.join(test_folder, filename))\n",
    "    vector = represent_text(tokens, embeddings, pos_tags, pos_filter, agg)\n",
    "    X_test.append(vector)\n",
    "    test_ids.append(file_id)\n",
    "    y_test.append(gold_dict.get(file_id, \"UNK\")) # (1) tutti gli altri file vengono ignorati o etichettati con \"UNK\" ma non inclusi nel test finale.\n",
    "X_test = np.vstack(X_test)\n",
    "y_test = np.array(y_test)"
   ]
  },
  {
   "cell_type": "markdown",
   "id": "f8fdf677-dcdb-44c8-a6be-278b8e543e8d",
   "metadata": {},
   "source": [
    "## Addestramento e valutazione sul test set"
   ]
  },
  {
   "cell_type": "code",
   "execution_count": 9,
   "id": "23f7d153",
   "metadata": {},
   "outputs": [
    {
     "name": "stdout",
     "output_type": "stream",
     "text": [
      "\n",
      "Accuracy sul test set con la strategia migliore (mean_noun_adj): 0.4605\n",
      "\n",
      "Confusion matrix (F/M):\n",
      " [[40 25]\n",
      " [57 30]]\n",
      "\n",
      "Classification report:\n",
      "              precision    recall  f1-score   support\n",
      "\n",
      "           F     0.4124    0.6154    0.4938        65\n",
      "           M     0.5455    0.3448    0.4225        87\n",
      "\n",
      "    accuracy                         0.4605       152\n",
      "   macro avg     0.4789    0.4801    0.4582       152\n",
      "weighted avg     0.4885    0.4605    0.4530       152\n",
      "\n"
     ]
    },
    {
     "data": {
      "image/png": "[encoded data removed]",
      "text/plain": [
       "<Figure size 640x480 with 2 Axes>"
      ]
     },
     "metadata": {},
     "output_type": "display_data"
    }
   ],
   "source": [
    "mask = np.isin(y_test, [\"M\", \"F\"])\n",
    "X_test_filtered = X_test[mask]\n",
    "y_test_filtered = y_test[mask]\n",
    "test_ids_filtered = np.array(test_ids)[mask]\n",
    "\n",
    "clf = LinearSVC(random_state=0, max_iter=5000)\n",
    "clf.fit(X_train, y_train)\n",
    "\n",
    "y_pred = clf.predict(X_test_filtered)\n",
    "\n",
    "test_acc = accuracy_score(y_test_filtered, y_pred)\n",
    "print(f\"\\nAccuracy sul test set con la strategia migliore ({best_strategy}): {test_acc:.4f}\")\n",
    "\n",
    "cm = confusion_matrix(y_test_filtered, y_pred, labels=[\"F\", \"M\"])\n",
    "print(\"\\nConfusion matrix (F/M):\\n\", cm)\n",
    "\n",
    "print(\"\\nClassification report:\")\n",
    "print(classification_report(y_test_filtered, y_pred, digits=4))\n",
    "\n",
    "disp = ConfusionMatrixDisplay(confusion_matrix=cm, display_labels=[\"F\", \"M\"])\n",
    "disp.plot(cmap=\"Blues\")\n",
    "plt.title(f\"{genre.capitalize()} - {best_strategy} - Test set\")\n",
    "plt.grid(False)\n",
    "plt.tight_layout()\n",
    "plt.show()\n"
   ]
  },
  {
   "cell_type": "markdown",
   "id": "81f60664-d18d-4210-b8f7-ac7ada9bc05c",
   "metadata": {},
   "source": [
    "## Confronto con dummy classifier"
   ]
  },
  {
   "cell_type": "code",
   "execution_count": 10,
   "id": "92cafaae-fa60-45f3-a600-ce8527691eed",
   "metadata": {},
   "outputs": [
    {
     "name": "stdout",
     "output_type": "stream",
     "text": [
      "Accuracy Dummy: 0.4276315789473684\n",
      "Confusion Matrix:\n",
      " [[65  0]\n",
      " [87  0]]\n",
      "Classification Report:\n",
      "               precision    recall  f1-score   support\n",
      "\n",
      "           F       0.43      1.00      0.60        65\n",
      "           M       0.00      0.00      0.00        87\n",
      "\n",
      "    accuracy                           0.43       152\n",
      "   macro avg       0.21      0.50      0.30       152\n",
      "weighted avg       0.18      0.43      0.26       152\n",
      "\n"
     ]
    },
    {
     "name": "stderr",
     "output_type": "stream",
     "text": [
      "C:\\Users\\agnes\\AppData\\Local\\Programs\\Python\\Python313\\Lib\\site-packages\\sklearn\\metrics\\_classification.py:1565: UndefinedMetricWarning: Precision is ill-defined and being set to 0.0 in labels with no predicted samples. Use `zero_division` parameter to control this behavior.\n",
      "  _warn_prf(average, modifier, f\"{metric.capitalize()} is\", len(result))\n",
      "C:\\Users\\agnes\\AppData\\Local\\Programs\\Python\\Python313\\Lib\\site-packages\\sklearn\\metrics\\_classification.py:1565: UndefinedMetricWarning: Precision is ill-defined and being set to 0.0 in labels with no predicted samples. Use `zero_division` parameter to control this behavior.\n",
      "  _warn_prf(average, modifier, f\"{metric.capitalize()} is\", len(result))\n",
      "C:\\Users\\agnes\\AppData\\Local\\Programs\\Python\\Python313\\Lib\\site-packages\\sklearn\\metrics\\_classification.py:1565: UndefinedMetricWarning: Precision is ill-defined and being set to 0.0 in labels with no predicted samples. Use `zero_division` parameter to control this behavior.\n",
      "  _warn_prf(average, modifier, f\"{metric.capitalize()} is\", len(result))\n"
     ]
    }
   ],
   "source": [
    "from sklearn.dummy import DummyClassifier\n",
    "\n",
    "# Addestramento\n",
    "dummy = DummyClassifier(strategy=\"most_frequent\")\n",
    "dummy.fit(X_train, y_train)\n",
    "\n",
    "# Valutazione\n",
    "y_dummy_pred = dummy.predict(X_test_filtered)\n",
    "from sklearn.metrics import accuracy_score, confusion_matrix, classification_report\n",
    "print(\"Accuracy Dummy:\", accuracy_score(y_test_filtered, y_dummy_pred))\n",
    "print(\"Confusion Matrix:\\n\", confusion_matrix(y_test_filtered, y_dummy_pred))\n",
    "print(\"Classification Report:\\n\", classification_report(y_test_filtered, y_dummy_pred))"
   ]
  }
 ],
 "metadata": {
  "kernelspec": {
   "display_name": "Python 3 (ipykernel)",
   "language": "python",
   "name": "python3"
  },
  "language_info": {
   "codemirror_mode": {
    "name": "ipython",
    "version": 3
   },
   "file_extension": ".py",
   "mimetype": "text/x-python",
   "name": "python",
   "nbconvert_exporter": "python",
   "pygments_lexer": "ipython3",
   "version": "3.13.1"
  }
 },
 "nbformat": 4,
 "nbformat_minor": 5
}
