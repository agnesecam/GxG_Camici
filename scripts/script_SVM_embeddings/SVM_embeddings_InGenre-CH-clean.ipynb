{
 "cells": [
  {
   "cell_type": "markdown",
   "id": "ec26c0c3-c176-49f4-9e0e-749c0e40b545",
   "metadata": {},
   "source": [
    "# Fase 3 - SVM con embeddings ItWac 32 (in-genre classification)\n",
    "Sviluppare un classificatore basato su SVM lineari che prende in input una rappresentazione del testo costruita attraverso l’uso dei word embedding (http://www.italianlp.it/resources/italian-word-embeddings/). Riportare i seguenti risultati:\n",
    "- testare diverse rappresentazioni del testo che variano rispetto al modo di combinare gli embedding delle singole parole e/o rispetto alle categorie grammaticali delle paroleprese in considerazione. Valutare i diversi sistemi con un processo di 5-fold cross validation condotto sul training set;\n",
    "- valutazione sul test set ufficiale del miglior sistema rispetto ai risultati ottenuti con il processo di 5-fold cross validation del punto sopra."
   ]
  },
  {
   "cell_type": "markdown",
   "id": "95301bdf-9ef1-4e27-8488-50cd6f4379a4",
   "metadata": {},
   "source": [
    "Dal task GxG Evalita 2018:\n",
    "\n",
    "\"Given a (collection of) text(s) from a specific genre, the gender of the author has to be predicted. The task is cast as a binary classification task, with gender represented as F (female) or M (male). Gender prediction will be done in two ways: \n",
    "\n",
    "1. **using a model which has been trained on the same genre**\n",
    "2. using a model which has been trained on anything but that genre.\"\n",
    "\n",
    "In questo file utilizzeremo un modello allenato sullo stesso genere su cui poi verrà testato."
   ]
  },
  {
   "cell_type": "code",
   "execution_count": null,
   "id": "d0095ef1-100f-49a0-b199-6a63675a78bf",
   "metadata": {},
   "outputs": [],
   "source": [
    "import os\n",
    "import numpy as np\n",
    "import pandas as pd\n",
    "from sklearn.svm import LinearSVC\n",
    "from sklearn.model_selection import cross_val_score, StratifiedKFold\n",
    "from sklearn.metrics import accuracy_score, confusion_matrix, classification_report, ConfusionMatrixDisplay\n",
    "from tqdm import tqdm\n",
    "import matplotlib.pyplot as plt"
   ]
  },
  {
   "cell_type": "code",
   "execution_count": 2,
   "id": "f8179d85",
   "metadata": {},
   "outputs": [],
   "source": [
    "def load_word_embeddings(src_path):\n",
    "    embeddings = dict()\n",
    "    with open(src_path, 'r', encoding='utf-8') as f:\n",
    "        for line in f:\n",
    "            line = line.strip().split('\\t')\n",
    "            word = line[0]\n",
    "            embedding = [float(comp) for comp in line[1:]]\n",
    "            embeddings[word] = np.asarray(embedding)\n",
    "    return embeddings\n",
    "\n",
    "def load_conllu_file(file_path):\n",
    "    with open(file_path, 'r', encoding='utf-8') as f:\n",
    "        lines = f.readlines()\n",
    "    tokens, pos_tags = [], []\n",
    "    for line in lines:\n",
    "        if line.startswith('#') or line.strip() == '':\n",
    "            continue\n",
    "        parts = line.strip().split('\\t')\n",
    "        if '-' in parts[0] or '.' in parts[0]:\n",
    "            continue\n",
    "        tokens.append(parts[1].lower())\n",
    "        pos_tags.append(parts[3])\n",
    "    return tokens, pos_tags\n",
    "\n",
    "def get_label_from_filename(filename):\n",
    "    return filename.split('#')[-1].split('.')[0]\n",
    "\n",
    "def represent_text(tokens, model, pos_tags=None, allowed_pos=None, strategy='mean'):\n",
    "    vectors = []\n",
    "    for token, pos in zip(tokens, pos_tags):\n",
    "        if allowed_pos and pos not in allowed_pos:\n",
    "            continue\n",
    "        if token in model:\n",
    "            vectors.append(model[token])\n",
    "    if not vectors:\n",
    "        return np.zeros(next(iter(model.values())).shape[0])\n",
    "    vectors = np.array(vectors)\n",
    "    if strategy == 'mean':\n",
    "        return np.mean(vectors, axis=0)\n",
    "    elif strategy == 'max':\n",
    "        return np.max(vectors, axis=0)\n",
    "    else:\n",
    "        raise ValueError(f\"Unknown strategy: {strategy}\")"
   ]
  },
  {
   "cell_type": "markdown",
   "id": "3d6ecf18-8707-4855-b05c-a055b38d4a6c",
   "metadata": {},
   "source": [
    "## Caricamento dei word embeddings"
   ]
  },
  {
   "cell_type": "code",
   "execution_count": 4,
   "id": "5af0537d",
   "metadata": {},
   "outputs": [],
   "source": [
    "dim = 32\n",
    "embeddings_path = f'../../data/embeddings/itwac{dim}.txt'\n",
    "embeddings = load_word_embeddings(embeddings_path)"
   ]
  },
  {
   "cell_type": "markdown",
   "id": "0d9fb6cc-d5bc-4f1e-bee0-1768dee13fe3",
   "metadata": {},
   "source": [
    "### Caricamento dei file di train, test e gold"
   ]
  },
  {
   "cell_type": "code",
   "execution_count": 5,
   "id": "b1ca6cb3",
   "metadata": {},
   "outputs": [],
   "source": [
    "genre = \"children\"\n",
    "genre_abbr = \"CH\"\n",
    "\n",
    "train_folder = f\"../../data/profiling_output/{genre}/linguistic_annotation/{genre}/\"\n",
    "test_folder = f\"../../data/profiling_output/{genre}/linguistic_annotation/{genre}/\"\n",
    "\n",
    "gold_path = f\"../../data/dataset_originale/gold/test_{genre_abbr}.gold\"\n",
    "gold_df = pd.read_csv(gold_path, sep=\"\\t\", header=None, names=[\"id\", \"gender\"])\n",
    "gold_dict = dict(zip(gold_df[\"id\"].astype(str), gold_df[\"gender\"]))"
   ]
  },
  {
   "cell_type": "markdown",
   "id": "64beef5b-cf5e-4697-9569-24f4450fca14",
   "metadata": {},
   "source": [
    "## Definizione delle strategie di rappresentazione"
   ]
  },
  {
   "cell_type": "code",
   "execution_count": 12,
   "id": "aea9ce84",
   "metadata": {},
   "outputs": [],
   "source": [
    "pos_map = {\n",
    "    \"all\": None,\n",
    "    \"verb\": {\"VERB\"},\n",
    "    \"noun_adj\": {\"NOUN\", \"ADJ\"}\n",
    "}\n",
    "\n",
    "strategies = [\n",
    "    (\"mean_all\",    {\"agg\": \"mean\", \"filter\": \"all\"}),\n",
    "    (\"mean_verb\",   {\"agg\": \"mean\", \"filter\": \"verb\"}),\n",
    "    (\"mean_noun_adj\", {\"agg\": \"mean\", \"filter\": \"noun_adj\"}),\n",
    "    (\"max_all\",     {\"agg\": \"max\", \"filter\": \"all\"}),\n",
    "    (\"max_verb\",    {\"agg\": \"max\", \"filter\": \"verb\"}),\n",
    "    (\"max_noun_adj\",{\"agg\": \"max\", \"filter\": \"noun_adj\"})\n",
    "]"
   ]
  },
  {
   "cell_type": "markdown",
   "id": "76908909-b23c-45bf-95cf-4464f8cff001",
   "metadata": {},
   "source": [
    "## 5-fold cross validation su tutte le strategie"
   ]
  },
  {
   "cell_type": "code",
   "execution_count": 7,
   "id": "cabef830",
   "metadata": {},
   "outputs": [
    {
     "name": "stdout",
     "output_type": "stream",
     "text": [
      "[mean_all] mean CV accuracy: 0.5600 ([0.525 0.5   0.55  0.6   0.625])\n",
      "[mean_verb] mean CV accuracy: 0.5600 ([0.575 0.575 0.6   0.45  0.6  ])\n",
      "[mean_noun_adj] mean CV accuracy: 0.6200 ([0.55 0.6  0.7  0.65 0.6 ])\n",
      "[max_all] mean CV accuracy: 0.6150 ([0.6   0.575 0.625 0.65  0.625])\n",
      "[max_verb] mean CV accuracy: 0.4850 ([0.475 0.45  0.5   0.5   0.5  ])\n",
      "[max_noun_adj] mean CV accuracy: 0.5500 ([0.575 0.475 0.575 0.625 0.5  ])\n"
     ]
    }
   ],
   "source": [
    "cv_results = []\n",
    "cv_scores_dict = {}\n",
    "\n",
    "train_files = [f for f in os.listdir(train_folder) if f.startswith(\"training\")]\n",
    "train_labels = [get_label_from_filename(f) for f in train_files]\n",
    "\n",
    "for strat_name, strat_params in strategies:\n",
    "    agg = strat_params[\"agg\"]\n",
    "    pos_filter = pos_map[strat_params[\"filter\"]]\n",
    "    \n",
    "    X = []\n",
    "    y = []\n",
    "    for filename in train_files:\n",
    "        label = get_label_from_filename(filename)\n",
    "        tokens, pos_tags = load_conllu_file(os.path.join(train_folder, filename))\n",
    "        vector = represent_text(tokens, embeddings, pos_tags, pos_filter, agg)\n",
    "        X.append(vector)\n",
    "        y.append(label)\n",
    "    X = np.vstack(X)\n",
    "    y = np.array(y)\n",
    "    \n",
    "    clf = LinearSVC(random_state=0, max_iter=5000)\n",
    "    scores = cross_val_score(clf, X, y, cv=5)\n",
    "    mean_cv = scores.mean()\n",
    "    \n",
    "    cv_results.append({\n",
    "        \"strategy\": strat_name,\n",
    "        \"mean_cv\": mean_cv,\n",
    "        \"scores\": scores\n",
    "    })\n",
    "    cv_scores_dict[strat_name] = scores\n",
    "    \n",
    "    print(f\"[{strat_name}] mean CV accuracy: {mean_cv:.4f} ({scores})\")\n"
   ]
  },
  {
   "cell_type": "markdown",
   "id": "d773f7b8-9037-45e5-a2b1-e42d5e84a1e8",
   "metadata": {},
   "source": [
    "## Selezione della strategia migliore"
   ]
  },
  {
   "cell_type": "code",
   "execution_count": 8,
   "id": "bf2c02be",
   "metadata": {},
   "outputs": [
    {
     "name": "stdout",
     "output_type": "stream",
     "text": [
      "\n",
      "Strategia migliore: mean_noun_adj (mean CV = 0.6200)\n"
     ]
    }
   ],
   "source": [
    "best_result = max(cv_results, key=lambda d: d[\"mean_cv\"])\n",
    "best_strategy = best_result[\"strategy\"]\n",
    "print(f\"\\nStrategia migliore: {best_strategy} (mean CV = {best_result['mean_cv']:.4f})\")\n"
   ]
  },
  {
   "cell_type": "markdown",
   "id": "9f7cee99-c9cb-4ec7-9327-59b6a2434b26",
   "metadata": {},
   "source": [
    "## Preparazione dati con la strategia migliore (train e test)"
   ]
  },
  {
   "cell_type": "code",
   "execution_count": 9,
   "id": "56d277fd",
   "metadata": {},
   "outputs": [],
   "source": [
    "best_params = dict(strategies)[best_strategy]\n",
    "agg = best_params[\"agg\"]\n",
    "pos_filter = pos_map[best_params[\"filter\"]]\n",
    "\n",
    "X_train = []\n",
    "y_train = []\n",
    "for filename in train_files:\n",
    "    label = get_label_from_filename(filename)\n",
    "    tokens, pos_tags = load_conllu_file(os.path.join(train_folder, filename))\n",
    "    vector = represent_text(tokens, embeddings, pos_tags, pos_filter, agg)\n",
    "    X_train.append(vector)\n",
    "    y_train.append(label)\n",
    "X_train = np.vstack(X_train)\n",
    "y_train = np.array(y_train)\n",
    "\n",
    "test_files = [f for f in os.listdir(test_folder) if f.startswith(\"test\")]\n",
    "X_test = []\n",
    "y_test = []\n",
    "test_ids = []\n",
    "for filename in test_files:\n",
    "    file_id = filename.split('#')[1]\n",
    "    tokens, pos_tags = load_conllu_file(os.path.join(test_folder, filename))\n",
    "    vector = represent_text(tokens, embeddings, pos_tags, pos_filter, agg)\n",
    "    X_test.append(vector)\n",
    "    test_ids.append(file_id)\n",
    "    y_test.append(gold_dict.get(file_id, \"UNK\"))\n",
    "X_test = np.vstack(X_test)\n",
    "y_test = np.array(y_test)"
   ]
  },
  {
   "cell_type": "markdown",
   "id": "f8fdf677-dcdb-44c8-a6be-278b8e543e8d",
   "metadata": {},
   "source": [
    "## Addestramento e valutazione sul test set"
   ]
  },
  {
   "cell_type": "code",
   "execution_count": 10,
   "id": "23f7d153",
   "metadata": {},
   "outputs": [
    {
     "name": "stdout",
     "output_type": "stream",
     "text": [
      "\n",
      "Accuracy sul test set con la strategia migliore (mean_noun_adj): 0.5427\n",
      "\n",
      "Confusion matrix (F/M):\n",
      " [[51 49]\n",
      " [42 57]]\n",
      "\n",
      "Classification report:\n",
      "              precision    recall  f1-score   support\n",
      "\n",
      "           F     0.5484    0.5100    0.5285       100\n",
      "           M     0.5377    0.5758    0.5561        99\n",
      "\n",
      "    accuracy                         0.5427       199\n",
      "   macro avg     0.5431    0.5429    0.5423       199\n",
      "weighted avg     0.5431    0.5427    0.5422       199\n",
      "\n"
     ]
    },
    {
     "data": {
      "image/png": "[encoded data removed]",
      "text/plain": [
       "<Figure size 640x480 with 2 Axes>"
      ]
     },
     "metadata": {},
     "output_type": "display_data"
    }
   ],
   "source": [
    "mask = np.isin(y_test, [\"M\", \"F\"])\n",
    "X_test_filtered = X_test[mask]\n",
    "y_test_filtered = y_test[mask]\n",
    "test_ids_filtered = np.array(test_ids)[mask]\n",
    "\n",
    "clf = LinearSVC(random_state=0, max_iter=5000)\n",
    "clf.fit(X_train, y_train)\n",
    "\n",
    "y_pred = clf.predict(X_test_filtered)\n",
    "\n",
    "test_acc = accuracy_score(y_test_filtered, y_pred)\n",
    "print(f\"\\nAccuracy sul test set con la strategia migliore ({best_strategy}): {test_acc:.4f}\")\n",
    "\n",
    "cm = confusion_matrix(y_test_filtered, y_pred, labels=[\"F\", \"M\"])\n",
    "print(\"\\nConfusion matrix (F/M):\\n\", cm)\n",
    "\n",
    "print(\"\\nClassification report:\")\n",
    "print(classification_report(y_test_filtered, y_pred, digits=4))\n",
    "\n",
    "disp = ConfusionMatrixDisplay(confusion_matrix=cm, display_labels=[\"F\", \"M\"])\n",
    "disp.plot(cmap=\"Blues\")\n",
    "plt.title(f\"{genre.capitalize()} - {best_strategy} - Test set\")\n",
    "plt.grid(False)\n",
    "plt.tight_layout()\n",
    "plt.show()\n"
   ]
  }
 ],
 "metadata": {
  "kernelspec": {
   "display_name": "Python 3 (ipykernel)",
   "language": "python",
   "name": "python3"
  },
  "language_info": {
   "codemirror_mode": {
    "name": "ipython",
    "version": 3
   },
   "file_extension": ".py",
   "mimetype": "text/x-python",
   "name": "python",
   "nbconvert_exporter": "python",
   "pygments_lexer": "ipython3",
   "version": "3.13.1"
  }
 },
 "nbformat": 4,
 "nbformat_minor": 5
}
